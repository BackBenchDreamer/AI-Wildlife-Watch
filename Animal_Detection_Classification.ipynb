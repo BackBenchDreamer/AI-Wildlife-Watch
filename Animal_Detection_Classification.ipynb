{
  "nbformat": 4,
  "nbformat_minor": 0,
  "metadata": {
    "colab": {
      "provenance": [],
      "gpuType": "T4",
      "include_colab_link": true
    },
    "kernelspec": {
      "name": "python3",
      "display_name": "Python 3"
    },
    "language_info": {
      "name": "python"
    },
    "accelerator": "GPU"
  },
  "cells": [
    {
      "cell_type": "markdown",
      "metadata": {
        "id": "view-in-github",
        "colab_type": "text"
      },
      "source": [
        "<a href=\"https://colab.research.google.com/github/BackBenchDreamer/Safari-Sentinel/blob/main/Animal_Detection_Classification.ipynb\" target=\"_parent\"><img src=\"https://colab.research.google.com/assets/colab-badge.svg\" alt=\"Open In Colab\"/></a>"
      ]
    },
    {
      "cell_type": "code",
      "source": [
        "#Drive link for the dataset:\n",
        "https://drive.google.com/drive/folders/1pUyWXwjUcRgvEFtw3kYYffUTD8AWlVQA?usp=sharing"
      ],
      "metadata": {
        "id": "Po0bUGUAPl1Z"
      },
      "execution_count": null,
      "outputs": []
    },
    {
      "cell_type": "code",
      "source": [
        "from google.colab import drive\n",
        "drive.mount('/content/drive')"
      ],
      "metadata": {
        "id": "yYCK8J_rTM1s"
      },
      "execution_count": null,
      "outputs": []
    },
    {
      "cell_type": "code",
      "execution_count": null,
      "metadata": {
        "id": "HifTPtfXId3s",
        "colab": {
          "base_uri": "https://localhost:8080/"
        },
        "outputId": "a30cfdbb-7560-4c4d-e2f6-a320bc4f6208"
      },
      "outputs": [
        {
          "output_type": "stream",
          "name": "stdout",
          "text": [
            "Drive already mounted at /content/gdrive; to attempt to forcibly remount, call drive.mount(\"/content/gdrive\", force_remount=True).\n"
          ]
        }
      ],
      "source": [
        "#Mounting google drive\n",
        "from google.colab import drive\n",
        "drive.mount('/content/gdrive')\n"
      ]
    },
    {
      "cell_type": "code",
      "source": [
        "#Installing ultralytics library.\n",
        "!pip install ultralytics -q"
      ],
      "metadata": {
        "id": "fmn8AwSThh_9",
        "colab": {
          "base_uri": "https://localhost:8080/"
        },
        "outputId": "3adcaecf-a357-485c-9b8a-c9e58206dd12"
      },
      "execution_count": null,
      "outputs": [
        {
          "output_type": "stream",
          "name": "stdout",
          "text": [
            "\u001b[?25l     \u001b[90m━━━━━━━━━━━━━━━━━━━━━━━━━━━━━━━━━━━━━━━━\u001b[0m \u001b[32m0.0/663.2 kB\u001b[0m \u001b[31m?\u001b[0m eta \u001b[36m-:--:--\u001b[0m\r\u001b[2K     \u001b[91m━━━━━━━━━━\u001b[0m\u001b[91m╸\u001b[0m\u001b[90m━━━━━━━━━━━━━━━━━━━━━━━━━━━━━\u001b[0m \u001b[32m174.1/663.2 kB\u001b[0m \u001b[31m5.2 MB/s\u001b[0m eta \u001b[36m0:00:01\u001b[0m\r\u001b[2K     \u001b[91m━━━━━━━━━━━━━━━━━━━━━━━━━━━━━━━━━━━━━\u001b[0m\u001b[91m╸\u001b[0m\u001b[90m━━\u001b[0m \u001b[32m624.6/663.2 kB\u001b[0m \u001b[31m9.2 MB/s\u001b[0m eta \u001b[36m0:00:01\u001b[0m\r\u001b[2K     \u001b[90m━━━━━━━━━━━━━━━━━━━━━━━━━━━━━━━━━━━━━━━━\u001b[0m \u001b[32m663.2/663.2 kB\u001b[0m \u001b[31m8.1 MB/s\u001b[0m eta \u001b[36m0:00:00\u001b[0m\n",
            "\u001b[?25h"
          ]
        }
      ]
    },
    {
      "cell_type": "code",
      "source": [
        "#Importing YOLO from library ultralyrics\n",
        "from ultralytics import YOLO"
      ],
      "metadata": {
        "id": "4Pe8oRV5hpuf"
      },
      "execution_count": null,
      "outputs": []
    },
    {
      "cell_type": "code",
      "source": [
        "#using the yolov8m.pt from YOLO\n",
        "model=YOLO(\"yolov8m.pt\")"
      ],
      "metadata": {
        "id": "ncTmvL2dhwPm",
        "outputId": "ce430637-34dd-45ce-af8c-ce2d39ef38ec",
        "colab": {
          "base_uri": "https://localhost:8080/"
        }
      },
      "execution_count": null,
      "outputs": [
        {
          "output_type": "stream",
          "name": "stdout",
          "text": [
            "Downloading https://github.com/ultralytics/assets/releases/download/v0.0.0/yolov8m.pt to 'yolov8m.pt'...\n"
          ]
        },
        {
          "output_type": "stream",
          "name": "stderr",
          "text": [
            "100%|██████████| 49.7M/49.7M [00:00<00:00, 139MB/s]\n"
          ]
        }
      ]
    },
    {
      "cell_type": "code",
      "source": [
        "model.train(data='/content/gdrive/MyDrive/data_sets/Dataset_2/config1.yaml',epochs=50) #training the model on custom dataset"
      ],
      "metadata": {
        "colab": {
          "base_uri": "https://localhost:8080/"
        },
        "id": "Hnp5kO8giRIm",
        "outputId": "c51a7595-7b1c-4a1a-9fba-11878a826421"
      },
      "execution_count": null,
      "outputs": [
        {
          "metadata": {
            "tags": null
          },
          "name": "stdout",
          "output_type": "stream",
          "text": [
            "Ultralytics YOLOv8.0.231 🚀 Python-3.10.12 torch-2.1.0+cu121 CUDA:0 (Tesla T4, 15102MiB)\n",
            "\u001b[34m\u001b[1mengine/trainer: \u001b[0mtask=detect, mode=train, model=yolov8m.pt, data=/content/gdrive/MyDrive/data_sets/Dataset_2/config1.yaml, epochs=50, time=None, patience=50, batch=16, imgsz=640, save=True, save_period=-1, cache=False, device=None, workers=8, project=None, name=train, exist_ok=False, pretrained=True, optimizer=auto, verbose=True, seed=0, deterministic=True, single_cls=False, rect=False, cos_lr=False, close_mosaic=10, resume=False, amp=True, fraction=1.0, profile=False, freeze=None, overlap_mask=True, mask_ratio=4, dropout=0.0, val=True, split=val, save_json=False, save_hybrid=False, conf=None, iou=0.7, max_det=300, half=False, dnn=False, plots=True, source=None, vid_stride=1, stream_buffer=False, visualize=False, augment=False, agnostic_nms=False, classes=None, retina_masks=False, embed=None, show=False, save_frames=False, save_txt=False, save_conf=False, save_crop=False, show_labels=True, show_conf=True, show_boxes=True, line_width=None, format=torchscript, keras=False, optimize=False, int8=False, dynamic=False, simplify=False, opset=None, workspace=4, nms=False, lr0=0.01, lrf=0.01, momentum=0.937, weight_decay=0.0005, warmup_epochs=3.0, warmup_momentum=0.8, warmup_bias_lr=0.1, box=7.5, cls=0.5, dfl=1.5, pose=12.0, kobj=1.0, label_smoothing=0.0, nbs=64, hsv_h=0.015, hsv_s=0.7, hsv_v=0.4, degrees=0.0, translate=0.1, scale=0.5, shear=0.0, perspective=0.0, flipud=0.0, fliplr=0.5, mosaic=1.0, mixup=0.0, copy_paste=0.0, cfg=None, tracker=botsort.yaml, save_dir=runs/detect/train\n",
            "Overriding model.yaml nc=80 with nc=10\n",
            "\n",
            "                   from  n    params  module                                       arguments                     \n",
            "  0                  -1  1      1392  ultralytics.nn.modules.conv.Conv             [3, 48, 3, 2]                 \n",
            "  1                  -1  1     41664  ultralytics.nn.modules.conv.Conv             [48, 96, 3, 2]                \n",
            "  2                  -1  2    111360  ultralytics.nn.modules.block.C2f             [96, 96, 2, True]             \n",
            "  3                  -1  1    166272  ultralytics.nn.modules.conv.Conv             [96, 192, 3, 2]               \n",
            "  4                  -1  4    813312  ultralytics.nn.modules.block.C2f             [192, 192, 4, True]           \n",
            "  5                  -1  1    664320  ultralytics.nn.modules.conv.Conv             [192, 384, 3, 2]              \n",
            "  6                  -1  4   3248640  ultralytics.nn.modules.block.C2f             [384, 384, 4, True]           \n",
            "  7                  -1  1   1991808  ultralytics.nn.modules.conv.Conv             [384, 576, 3, 2]              \n",
            "  8                  -1  2   3985920  ultralytics.nn.modules.block.C2f             [576, 576, 2, True]           \n",
            "  9                  -1  1    831168  ultralytics.nn.modules.block.SPPF            [576, 576, 5]                 \n",
            " 10                  -1  1         0  torch.nn.modules.upsampling.Upsample         [None, 2, 'nearest']          \n",
            " 11             [-1, 6]  1         0  ultralytics.nn.modules.conv.Concat           [1]                           \n",
            " 12                  -1  2   1993728  ultralytics.nn.modules.block.C2f             [960, 384, 2]                 \n",
            " 13                  -1  1         0  torch.nn.modules.upsampling.Upsample         [None, 2, 'nearest']          \n",
            " 14             [-1, 4]  1         0  ultralytics.nn.modules.conv.Concat           [1]                           \n",
            " 15                  -1  2    517632  ultralytics.nn.modules.block.C2f             [576, 192, 2]                 \n",
            " 16                  -1  1    332160  ultralytics.nn.modules.conv.Conv             [192, 192, 3, 2]              \n",
            " 17            [-1, 12]  1         0  ultralytics.nn.modules.conv.Concat           [1]                           \n",
            " 18                  -1  2   1846272  ultralytics.nn.modules.block.C2f             [576, 384, 2]                 \n",
            " 19                  -1  1   1327872  ultralytics.nn.modules.conv.Conv             [384, 384, 3, 2]              \n",
            " 20             [-1, 9]  1         0  ultralytics.nn.modules.conv.Concat           [1]                           \n",
            " 21                  -1  2   4207104  ultralytics.nn.modules.block.C2f             [960, 576, 2]                 \n",
            " 22        [15, 18, 21]  1   3781486  ultralytics.nn.modules.head.Detect           [10, [192, 384, 576]]         \n",
            "Model summary: 295 layers, 25862110 parameters, 25862094 gradients, 79.1 GFLOPs\n",
            "\n",
            "Transferred 469/475 items from pretrained weights\n",
            "\u001b[34m\u001b[1mTensorBoard: \u001b[0mStart with 'tensorboard --logdir runs/detect/train', view at http://localhost:6006/\n",
            "Freezing layer 'model.22.dfl.conv.weight'\n",
            "\u001b[34m\u001b[1mAMP: \u001b[0mrunning Automatic Mixed Precision (AMP) checks with YOLOv8n...\n",
            "\u001b[34m\u001b[1mAMP: \u001b[0mchecks passed ✅\n"
          ]
        },
        {
          "metadata": {
            "tags": null
          },
          "name": "stderr",
          "output_type": "stream",
          "text": [
            "\u001b[34m\u001b[1mtrain: \u001b[0mScanning /content/gdrive/My Drive/data_sets/Dataset_2/data/labels/train.cache... 1803 images, 0 backgrounds, 0 corrupt: 100%|██████████| 1803/1803 [00:00<?, ?it/s]"
          ]
        },
        {
          "metadata": {
            "tags": null
          },
          "name": "stdout",
          "output_type": "stream",
          "text": [
            "\u001b[34m\u001b[1mtrain: \u001b[0mWARNING ⚠️ /content/gdrive/My Drive/data_sets/Dataset_2/data/images/train/326b9a3496142b2e.jpg: 1 duplicate labels removed\n",
            "\u001b[34m\u001b[1malbumentations: \u001b[0mBlur(p=0.01, blur_limit=(3, 7)), MedianBlur(p=0.01, blur_limit=(3, 7)), ToGray(p=0.01), CLAHE(p=0.01, clip_limit=(1, 4.0), tile_grid_size=(8, 8))\n"
          ]
        },
        {
          "metadata": {
            "tags": null
          },
          "name": "stderr",
          "output_type": "stream",
          "text": [
            "\n",
            "\u001b[34m\u001b[1mval: \u001b[0mScanning /content/gdrive/My Drive/data_sets/Dataset_2/data/labels/val.cache... 574 images, 10 backgrounds, 0 corrupt: 100%|██████████| 584/584 [00:00<?, ?it/s]\n"
          ]
        },
        {
          "metadata": {
            "tags": null
          },
          "name": "stdout",
          "output_type": "stream",
          "text": [
            "Plotting labels to runs/detect/train/labels.jpg... \n",
            "\u001b[34m\u001b[1moptimizer:\u001b[0m 'optimizer=auto' found, ignoring 'lr0=0.01' and 'momentum=0.937' and determining best 'optimizer', 'lr0' and 'momentum' automatically... \n",
            "\u001b[34m\u001b[1moptimizer:\u001b[0m AdamW(lr=0.000714, momentum=0.9) with parameter groups 77 weight(decay=0.0), 84 weight(decay=0.0005), 83 bias(decay=0.0)\n",
            "50 epochs...\n",
            "\n",
            "      Epoch    GPU_mem   box_loss   cls_loss   dfl_loss  Instances       Size\n"
          ]
        },
        {
          "metadata": {
            "tags": null
          },
          "name": "stderr",
          "output_type": "stream",
          "text": [
            "       1/50      6.96G     0.6824      1.972      1.224         29        640: 100%|██████████| 113/113 [01:22<00:00,  1.36it/s]\n",
            "                 Class     Images  Instances      Box(P          R      mAP50  mAP50-95): 100%|██████████| 19/19 [00:16<00:00,  1.13it/s]\n"
          ]
        },
        {
          "metadata": {
            "tags": null
          },
          "name": "stdout",
          "output_type": "stream",
          "text": [
            "                   all        584        679      0.545      0.539      0.524      0.357\n",
            "\n",
            "      Epoch    GPU_mem   box_loss   cls_loss   dfl_loss  Instances       Size\n"
          ]
        },
        {
          "metadata": {
            "tags": null
          },
          "name": "stderr",
          "output_type": "stream",
          "text": [
            "       2/50      7.53G     0.8879      1.656      1.353         34        640: 100%|██████████| 113/113 [01:19<00:00,  1.42it/s]\n",
            "                 Class     Images  Instances      Box(P          R      mAP50  mAP50-95): 100%|██████████| 19/19 [00:14<00:00,  1.28it/s]\n"
          ]
        },
        {
          "metadata": {
            "tags": null
          },
          "name": "stdout",
          "output_type": "stream",
          "text": [
            "                   all        584        679       0.52      0.324      0.373      0.222\n",
            "\n",
            "      Epoch    GPU_mem   box_loss   cls_loss   dfl_loss  Instances       Size\n"
          ]
        },
        {
          "metadata": {
            "tags": null
          },
          "name": "stderr",
          "output_type": "stream",
          "text": [
            "       3/50      7.51G     0.9799      1.703      1.421         29        640: 100%|██████████| 113/113 [01:19<00:00,  1.43it/s]\n",
            "                 Class     Images  Instances      Box(P          R      mAP50  mAP50-95): 100%|██████████| 19/19 [00:13<00:00,  1.36it/s]\n"
          ]
        },
        {
          "metadata": {
            "tags": null
          },
          "name": "stdout",
          "output_type": "stream",
          "text": [
            "                   all        584        679      0.342       0.35      0.242      0.129\n",
            "\n",
            "      Epoch    GPU_mem   box_loss   cls_loss   dfl_loss  Instances       Size\n"
          ]
        },
        {
          "metadata": {
            "tags": null
          },
          "name": "stderr",
          "output_type": "stream",
          "text": [
            "       4/50      7.53G      1.006      1.725      1.444         29        640: 100%|██████████| 113/113 [01:19<00:00,  1.43it/s]\n",
            "                 Class     Images  Instances      Box(P          R      mAP50  mAP50-95): 100%|██████████| 19/19 [00:17<00:00,  1.10it/s]\n"
          ]
        },
        {
          "metadata": {
            "tags": null
          },
          "name": "stdout",
          "output_type": "stream",
          "text": [
            "                   all        584        679      0.456      0.451      0.384      0.222\n",
            "\n",
            "      Epoch    GPU_mem   box_loss   cls_loss   dfl_loss  Instances       Size\n"
          ]
        },
        {
          "metadata": {
            "tags": null
          },
          "name": "stderr",
          "output_type": "stream",
          "text": [
            "       5/50      7.53G     0.9606      1.612      1.411         34        640: 100%|██████████| 113/113 [01:18<00:00,  1.45it/s]\n",
            "                 Class     Images  Instances      Box(P          R      mAP50  mAP50-95): 100%|██████████| 19/19 [00:14<00:00,  1.30it/s]\n"
          ]
        },
        {
          "metadata": {
            "tags": null
          },
          "name": "stdout",
          "output_type": "stream",
          "text": [
            "                   all        584        679      0.582      0.565      0.527      0.354\n",
            "\n",
            "      Epoch    GPU_mem   box_loss   cls_loss   dfl_loss  Instances       Size\n"
          ]
        },
        {
          "metadata": {
            "tags": null
          },
          "name": "stderr",
          "output_type": "stream",
          "text": [
            "       6/50      7.55G     0.9151      1.474       1.38         35        640: 100%|██████████| 113/113 [01:18<00:00,  1.44it/s]\n",
            "                 Class     Images  Instances      Box(P          R      mAP50  mAP50-95): 100%|██████████| 19/19 [00:14<00:00,  1.28it/s]\n"
          ]
        },
        {
          "metadata": {
            "tags": null
          },
          "name": "stdout",
          "output_type": "stream",
          "text": [
            "                   all        584        679      0.573      0.477      0.458      0.297\n",
            "\n",
            "      Epoch    GPU_mem   box_loss   cls_loss   dfl_loss  Instances       Size\n"
          ]
        },
        {
          "metadata": {
            "tags": null
          },
          "name": "stderr",
          "output_type": "stream",
          "text": [
            "       7/50      7.55G     0.8907      1.432      1.349         32        640: 100%|██████████| 113/113 [01:17<00:00,  1.45it/s]\n",
            "                 Class     Images  Instances      Box(P          R      mAP50  mAP50-95): 100%|██████████| 19/19 [00:14<00:00,  1.31it/s]\n"
          ]
        },
        {
          "metadata": {
            "tags": null
          },
          "name": "stdout",
          "output_type": "stream",
          "text": [
            "                   all        584        679      0.552      0.534      0.553      0.387\n",
            "\n",
            "      Epoch    GPU_mem   box_loss   cls_loss   dfl_loss  Instances       Size\n"
          ]
        },
        {
          "metadata": {
            "tags": null
          },
          "name": "stderr",
          "output_type": "stream",
          "text": [
            "       8/50      7.51G     0.8421      1.333      1.318         26        640: 100%|██████████| 113/113 [01:17<00:00,  1.47it/s]\n",
            "                 Class     Images  Instances      Box(P          R      mAP50  mAP50-95): 100%|██████████| 19/19 [00:14<00:00,  1.29it/s]"
          ]
        },
        {
          "metadata": {
            "tags": null
          },
          "name": "stdout",
          "output_type": "stream",
          "text": [
            "                   all        584        679      0.604      0.554      0.544      0.385\n"
          ]
        },
        {
          "metadata": {
            "tags": null
          },
          "name": "stderr",
          "output_type": "stream",
          "text": [
            "\n"
          ]
        },
        {
          "metadata": {
            "tags": null
          },
          "name": "stdout",
          "output_type": "stream",
          "text": [
            "\n",
            "      Epoch    GPU_mem   box_loss   cls_loss   dfl_loss  Instances       Size\n"
          ]
        },
        {
          "metadata": {
            "tags": null
          },
          "name": "stderr",
          "output_type": "stream",
          "text": [
            "       9/50      7.54G      0.832      1.298      1.307         30        640: 100%|██████████| 113/113 [01:18<00:00,  1.44it/s]\n",
            "                 Class     Images  Instances      Box(P          R      mAP50  mAP50-95): 100%|██████████| 19/19 [00:14<00:00,  1.31it/s]"
          ]
        },
        {
          "metadata": {
            "tags": null
          },
          "name": "stdout",
          "output_type": "stream",
          "text": [
            "                   all        584        679      0.593       0.59      0.602      0.422\n"
          ]
        },
        {
          "metadata": {
            "tags": null
          },
          "name": "stderr",
          "output_type": "stream",
          "text": [
            "\n"
          ]
        },
        {
          "metadata": {
            "tags": null
          },
          "name": "stdout",
          "output_type": "stream",
          "text": [
            "\n",
            "      Epoch    GPU_mem   box_loss   cls_loss   dfl_loss  Instances       Size\n"
          ]
        },
        {
          "metadata": {
            "tags": null
          },
          "name": "stderr",
          "output_type": "stream",
          "text": [
            "      10/50      7.55G     0.8076      1.238      1.297         33        640: 100%|██████████| 113/113 [01:18<00:00,  1.44it/s]\n",
            "                 Class     Images  Instances      Box(P          R      mAP50  mAP50-95): 100%|██████████| 19/19 [00:14<00:00,  1.28it/s]\n"
          ]
        },
        {
          "metadata": {
            "tags": null
          },
          "name": "stdout",
          "output_type": "stream",
          "text": [
            "                   all        584        679      0.659      0.626      0.641      0.461\n",
            "\n",
            "      Epoch    GPU_mem   box_loss   cls_loss   dfl_loss  Instances       Size\n"
          ]
        },
        {
          "metadata": {
            "tags": null
          },
          "name": "stderr",
          "output_type": "stream",
          "text": [
            "      11/50      7.57G     0.7833      1.193      1.274         31        640: 100%|██████████| 113/113 [01:20<00:00,  1.40it/s]\n",
            "                 Class     Images  Instances      Box(P          R      mAP50  mAP50-95): 100%|██████████| 19/19 [00:13<00:00,  1.39it/s]"
          ]
        },
        {
          "metadata": {
            "tags": null
          },
          "name": "stdout",
          "output_type": "stream",
          "text": [
            "                   all        584        679      0.517      0.572      0.591      0.419\n"
          ]
        },
        {
          "metadata": {
            "tags": null
          },
          "name": "stderr",
          "output_type": "stream",
          "text": [
            "\n"
          ]
        },
        {
          "metadata": {
            "tags": null
          },
          "name": "stdout",
          "output_type": "stream",
          "text": [
            "\n",
            "      Epoch    GPU_mem   box_loss   cls_loss   dfl_loss  Instances       Size\n"
          ]
        },
        {
          "metadata": {
            "tags": null
          },
          "name": "stderr",
          "output_type": "stream",
          "text": [
            "      12/50      7.52G     0.7858      1.126      1.277         44        640: 100%|██████████| 113/113 [01:18<00:00,  1.44it/s]\n",
            "                 Class     Images  Instances      Box(P          R      mAP50  mAP50-95): 100%|██████████| 19/19 [00:14<00:00,  1.28it/s]\n"
          ]
        },
        {
          "metadata": {
            "tags": null
          },
          "name": "stdout",
          "output_type": "stream",
          "text": [
            "                   all        584        679      0.634      0.641      0.655      0.478\n",
            "\n",
            "      Epoch    GPU_mem   box_loss   cls_loss   dfl_loss  Instances       Size\n"
          ]
        },
        {
          "metadata": {
            "tags": null
          },
          "name": "stderr",
          "output_type": "stream",
          "text": [
            "      13/50      7.53G     0.7281      1.079       1.23         31        640: 100%|██████████| 113/113 [01:18<00:00,  1.45it/s]\n",
            "                 Class     Images  Instances      Box(P          R      mAP50  mAP50-95): 100%|██████████| 19/19 [00:14<00:00,  1.28it/s]"
          ]
        },
        {
          "metadata": {
            "tags": null
          },
          "name": "stdout",
          "output_type": "stream",
          "text": [
            "                   all        584        679      0.762      0.658      0.716      0.537\n"
          ]
        },
        {
          "metadata": {
            "tags": null
          },
          "name": "stderr",
          "output_type": "stream",
          "text": [
            "\n"
          ]
        },
        {
          "metadata": {
            "tags": null
          },
          "name": "stdout",
          "output_type": "stream",
          "text": [
            "\n",
            "      Epoch    GPU_mem   box_loss   cls_loss   dfl_loss  Instances       Size\n"
          ]
        },
        {
          "metadata": {
            "tags": null
          },
          "name": "stderr",
          "output_type": "stream",
          "text": [
            "      14/50      7.53G     0.7396      1.071      1.228         31        640: 100%|██████████| 113/113 [01:16<00:00,  1.48it/s]\n",
            "                 Class     Images  Instances      Box(P          R      mAP50  mAP50-95): 100%|██████████| 19/19 [00:14<00:00,  1.34it/s]"
          ]
        },
        {
          "metadata": {
            "tags": null
          },
          "name": "stdout",
          "output_type": "stream",
          "text": [
            "                   all        584        679      0.678      0.669      0.689      0.524\n"
          ]
        },
        {
          "metadata": {
            "tags": null
          },
          "name": "stderr",
          "output_type": "stream",
          "text": [
            "\n"
          ]
        },
        {
          "metadata": {
            "tags": null
          },
          "name": "stdout",
          "output_type": "stream",
          "text": [
            "\n",
            "      Epoch    GPU_mem   box_loss   cls_loss   dfl_loss  Instances       Size\n"
          ]
        },
        {
          "metadata": {
            "tags": null
          },
          "name": "stderr",
          "output_type": "stream",
          "text": [
            "      15/50      7.53G     0.7353      1.037      1.244         28        640: 100%|██████████| 113/113 [01:15<00:00,  1.50it/s]\n",
            "                 Class     Images  Instances      Box(P          R      mAP50  mAP50-95): 100%|██████████| 19/19 [00:14<00:00,  1.34it/s]"
          ]
        },
        {
          "metadata": {
            "tags": null
          },
          "name": "stdout",
          "output_type": "stream",
          "text": [
            "                   all        584        679      0.667      0.639      0.676      0.507\n"
          ]
        },
        {
          "metadata": {
            "tags": null
          },
          "name": "stderr",
          "output_type": "stream",
          "text": [
            "\n"
          ]
        },
        {
          "metadata": {
            "tags": null
          },
          "name": "stdout",
          "output_type": "stream",
          "text": [
            "\n",
            "      Epoch    GPU_mem   box_loss   cls_loss   dfl_loss  Instances       Size\n"
          ]
        },
        {
          "metadata": {
            "tags": null
          },
          "name": "stderr",
          "output_type": "stream",
          "text": [
            "      16/50      7.51G     0.7121      1.035      1.224         41        640: 100%|██████████| 113/113 [01:15<00:00,  1.51it/s]\n",
            "                 Class     Images  Instances      Box(P          R      mAP50  mAP50-95): 100%|██████████| 19/19 [00:13<00:00,  1.36it/s]"
          ]
        },
        {
          "metadata": {
            "tags": null
          },
          "name": "stdout",
          "output_type": "stream",
          "text": [
            "                   all        584        679      0.737      0.685      0.745      0.575\n"
          ]
        },
        {
          "metadata": {
            "tags": null
          },
          "name": "stderr",
          "output_type": "stream",
          "text": [
            "\n"
          ]
        },
        {
          "metadata": {
            "tags": null
          },
          "name": "stdout",
          "output_type": "stream",
          "text": [
            "\n",
            "      Epoch    GPU_mem   box_loss   cls_loss   dfl_loss  Instances       Size\n"
          ]
        },
        {
          "metadata": {
            "tags": null
          },
          "name": "stderr",
          "output_type": "stream",
          "text": [
            "      17/50      7.54G     0.6799     0.9628      1.204         33        640: 100%|██████████| 113/113 [01:17<00:00,  1.45it/s]\n",
            "                 Class     Images  Instances      Box(P          R      mAP50  mAP50-95): 100%|██████████| 19/19 [00:13<00:00,  1.40it/s]"
          ]
        },
        {
          "metadata": {
            "tags": null
          },
          "name": "stdout",
          "output_type": "stream",
          "text": [
            "                   all        584        679      0.684      0.639      0.723       0.56\n"
          ]
        },
        {
          "metadata": {
            "tags": null
          },
          "name": "stderr",
          "output_type": "stream",
          "text": [
            "\n"
          ]
        },
        {
          "metadata": {
            "tags": null
          },
          "name": "stdout",
          "output_type": "stream",
          "text": [
            "\n",
            "      Epoch    GPU_mem   box_loss   cls_loss   dfl_loss  Instances       Size\n"
          ]
        },
        {
          "metadata": {
            "tags": null
          },
          "name": "stderr",
          "output_type": "stream",
          "text": [
            "      18/50      7.53G     0.6855     0.9169      1.207         36        640: 100%|██████████| 113/113 [01:15<00:00,  1.50it/s]\n",
            "                 Class     Images  Instances      Box(P          R      mAP50  mAP50-95): 100%|██████████| 19/19 [00:13<00:00,  1.38it/s]"
          ]
        },
        {
          "metadata": {
            "tags": null
          },
          "name": "stdout",
          "output_type": "stream",
          "text": [
            "                   all        584        679      0.712      0.732       0.76      0.581\n"
          ]
        },
        {
          "metadata": {
            "tags": null
          },
          "name": "stderr",
          "output_type": "stream",
          "text": [
            "\n"
          ]
        },
        {
          "metadata": {
            "tags": null
          },
          "name": "stdout",
          "output_type": "stream",
          "text": [
            "\n",
            "      Epoch    GPU_mem   box_loss   cls_loss   dfl_loss  Instances       Size\n"
          ]
        },
        {
          "output_type": "stream",
          "name": "stderr",
          "text": [
            "      19/50      7.54G     0.6871     0.9318      1.204         36        640: 100%|██████████| 113/113 [01:15<00:00,  1.50it/s]\n",
            "                 Class     Images  Instances      Box(P          R      mAP50  mAP50-95): 100%|██████████| 19/19 [00:13<00:00,  1.40it/s]"
          ]
        },
        {
          "output_type": "stream",
          "name": "stdout",
          "text": [
            "                   all        584        679      0.718      0.735       0.75      0.582\n"
          ]
        },
        {
          "output_type": "stream",
          "name": "stderr",
          "text": [
            "\n"
          ]
        },
        {
          "output_type": "stream",
          "name": "stdout",
          "text": [
            "\n",
            "      Epoch    GPU_mem   box_loss   cls_loss   dfl_loss  Instances       Size\n"
          ]
        },
        {
          "output_type": "stream",
          "name": "stderr",
          "text": [
            "      20/50      7.52G     0.6692     0.8959      1.205         33        640: 100%|██████████| 113/113 [01:15<00:00,  1.50it/s]\n",
            "                 Class     Images  Instances      Box(P          R      mAP50  mAP50-95): 100%|██████████| 19/19 [00:14<00:00,  1.35it/s]\n"
          ]
        },
        {
          "output_type": "stream",
          "name": "stdout",
          "text": [
            "                   all        584        679      0.713      0.681      0.732      0.573\n",
            "\n",
            "      Epoch    GPU_mem   box_loss   cls_loss   dfl_loss  Instances       Size\n"
          ]
        },
        {
          "output_type": "stream",
          "name": "stderr",
          "text": [
            "      21/50      7.55G     0.6544     0.8883      1.179         27        640: 100%|██████████| 113/113 [01:15<00:00,  1.51it/s]\n",
            "                 Class     Images  Instances      Box(P          R      mAP50  mAP50-95): 100%|██████████| 19/19 [00:13<00:00,  1.36it/s]\n"
          ]
        },
        {
          "output_type": "stream",
          "name": "stdout",
          "text": [
            "                   all        584        679      0.777      0.725       0.76      0.595\n",
            "\n",
            "      Epoch    GPU_mem   box_loss   cls_loss   dfl_loss  Instances       Size\n"
          ]
        },
        {
          "output_type": "stream",
          "name": "stderr",
          "text": [
            "      22/50      7.53G     0.6467     0.8444      1.175         39        640: 100%|██████████| 113/113 [01:15<00:00,  1.51it/s]\n",
            "                 Class     Images  Instances      Box(P          R      mAP50  mAP50-95): 100%|██████████| 19/19 [00:13<00:00,  1.40it/s]"
          ]
        },
        {
          "output_type": "stream",
          "name": "stdout",
          "text": [
            "                   all        584        679      0.763      0.667      0.744      0.574\n"
          ]
        },
        {
          "output_type": "stream",
          "name": "stderr",
          "text": [
            "\n"
          ]
        },
        {
          "output_type": "stream",
          "name": "stdout",
          "text": [
            "\n",
            "      Epoch    GPU_mem   box_loss   cls_loss   dfl_loss  Instances       Size\n"
          ]
        },
        {
          "output_type": "stream",
          "name": "stderr",
          "text": [
            "      23/50      7.54G     0.6433     0.8546      1.174         25        640: 100%|██████████| 113/113 [01:15<00:00,  1.49it/s]\n",
            "                 Class     Images  Instances      Box(P          R      mAP50  mAP50-95): 100%|██████████| 19/19 [00:14<00:00,  1.34it/s]"
          ]
        },
        {
          "output_type": "stream",
          "name": "stdout",
          "text": [
            "                   all        584        679       0.78      0.733        0.8      0.637\n"
          ]
        },
        {
          "output_type": "stream",
          "name": "stderr",
          "text": [
            "\n"
          ]
        },
        {
          "output_type": "stream",
          "name": "stdout",
          "text": [
            "\n",
            "      Epoch    GPU_mem   box_loss   cls_loss   dfl_loss  Instances       Size\n"
          ]
        },
        {
          "output_type": "stream",
          "name": "stderr",
          "text": [
            "      24/50       7.5G     0.6288     0.7975      1.167         28        640: 100%|██████████| 113/113 [01:17<00:00,  1.45it/s]\n",
            "                 Class     Images  Instances      Box(P          R      mAP50  mAP50-95): 100%|██████████| 19/19 [00:14<00:00,  1.36it/s]"
          ]
        },
        {
          "output_type": "stream",
          "name": "stdout",
          "text": [
            "                   all        584        679      0.661      0.718      0.718      0.572\n"
          ]
        },
        {
          "output_type": "stream",
          "name": "stderr",
          "text": [
            "\n"
          ]
        },
        {
          "output_type": "stream",
          "name": "stdout",
          "text": [
            "\n",
            "      Epoch    GPU_mem   box_loss   cls_loss   dfl_loss  Instances       Size\n"
          ]
        },
        {
          "output_type": "stream",
          "name": "stderr",
          "text": [
            "      25/50      7.53G     0.6298     0.7947       1.16         39        640: 100%|██████████| 113/113 [01:15<00:00,  1.49it/s]\n",
            "                 Class     Images  Instances      Box(P          R      mAP50  mAP50-95): 100%|██████████| 19/19 [00:14<00:00,  1.34it/s]"
          ]
        },
        {
          "output_type": "stream",
          "name": "stdout",
          "text": [
            "                   all        584        679      0.735      0.729      0.762      0.617\n"
          ]
        },
        {
          "output_type": "stream",
          "name": "stderr",
          "text": [
            "\n"
          ]
        },
        {
          "output_type": "stream",
          "name": "stdout",
          "text": [
            "\n",
            "      Epoch    GPU_mem   box_loss   cls_loss   dfl_loss  Instances       Size\n"
          ]
        },
        {
          "output_type": "stream",
          "name": "stderr",
          "text": [
            "      26/50      7.54G     0.5969     0.7425      1.138         29        640: 100%|██████████| 113/113 [01:14<00:00,  1.51it/s]\n",
            "                 Class     Images  Instances      Box(P          R      mAP50  mAP50-95): 100%|██████████| 19/19 [00:13<00:00,  1.36it/s]\n"
          ]
        },
        {
          "output_type": "stream",
          "name": "stdout",
          "text": [
            "                   all        584        679      0.786      0.752      0.804      0.652\n",
            "\n",
            "      Epoch    GPU_mem   box_loss   cls_loss   dfl_loss  Instances       Size\n"
          ]
        },
        {
          "output_type": "stream",
          "name": "stderr",
          "text": [
            "      27/50      7.54G     0.6136     0.7594      1.155         35        640: 100%|██████████| 113/113 [01:16<00:00,  1.49it/s]\n",
            "                 Class     Images  Instances      Box(P          R      mAP50  mAP50-95): 100%|██████████| 19/19 [00:13<00:00,  1.37it/s]"
          ]
        },
        {
          "output_type": "stream",
          "name": "stdout",
          "text": [
            "                   all        584        679      0.755       0.73      0.803      0.659\n"
          ]
        },
        {
          "output_type": "stream",
          "name": "stderr",
          "text": [
            "\n"
          ]
        },
        {
          "output_type": "stream",
          "name": "stdout",
          "text": [
            "\n",
            "      Epoch    GPU_mem   box_loss   cls_loss   dfl_loss  Instances       Size\n"
          ]
        },
        {
          "output_type": "stream",
          "name": "stderr",
          "text": [
            "      28/50      7.53G     0.5862     0.7367      1.143         33        640: 100%|██████████| 113/113 [01:15<00:00,  1.50it/s]\n",
            "                 Class     Images  Instances      Box(P          R      mAP50  mAP50-95): 100%|██████████| 19/19 [00:14<00:00,  1.35it/s]\n"
          ]
        },
        {
          "output_type": "stream",
          "name": "stdout",
          "text": [
            "                   all        584        679      0.764      0.734      0.791      0.663\n",
            "\n",
            "      Epoch    GPU_mem   box_loss   cls_loss   dfl_loss  Instances       Size\n"
          ]
        },
        {
          "output_type": "stream",
          "name": "stderr",
          "text": [
            "      29/50      7.54G     0.5852     0.7084       1.13         33        640: 100%|██████████| 113/113 [01:15<00:00,  1.50it/s]\n",
            "                 Class     Images  Instances      Box(P          R      mAP50  mAP50-95): 100%|██████████| 19/19 [00:13<00:00,  1.42it/s]\n"
          ]
        },
        {
          "output_type": "stream",
          "name": "stdout",
          "text": [
            "                   all        584        679      0.804      0.755      0.816       0.68\n",
            "\n",
            "      Epoch    GPU_mem   box_loss   cls_loss   dfl_loss  Instances       Size\n"
          ]
        },
        {
          "output_type": "stream",
          "name": "stderr",
          "text": [
            "      30/50      7.55G     0.5871     0.6984      1.128         27        640: 100%|██████████| 113/113 [01:17<00:00,  1.46it/s]\n",
            "                 Class     Images  Instances      Box(P          R      mAP50  mAP50-95): 100%|██████████| 19/19 [00:13<00:00,  1.37it/s]"
          ]
        },
        {
          "output_type": "stream",
          "name": "stdout",
          "text": [
            "                   all        584        679      0.823      0.738      0.818      0.682\n"
          ]
        },
        {
          "output_type": "stream",
          "name": "stderr",
          "text": [
            "\n"
          ]
        },
        {
          "output_type": "stream",
          "name": "stdout",
          "text": [
            "\n",
            "      Epoch    GPU_mem   box_loss   cls_loss   dfl_loss  Instances       Size\n"
          ]
        },
        {
          "output_type": "stream",
          "name": "stderr",
          "text": [
            "      31/50      7.55G     0.5659      0.666      1.119         37        640: 100%|██████████| 113/113 [01:14<00:00,  1.51it/s]\n",
            "                 Class     Images  Instances      Box(P          R      mAP50  mAP50-95): 100%|██████████| 19/19 [00:14<00:00,  1.33it/s]"
          ]
        },
        {
          "output_type": "stream",
          "name": "stdout",
          "text": [
            "                   all        584        679      0.791      0.753      0.812      0.676\n"
          ]
        },
        {
          "output_type": "stream",
          "name": "stderr",
          "text": [
            "\n"
          ]
        },
        {
          "output_type": "stream",
          "name": "stdout",
          "text": [
            "\n",
            "      Epoch    GPU_mem   box_loss   cls_loss   dfl_loss  Instances       Size\n"
          ]
        },
        {
          "output_type": "stream",
          "name": "stderr",
          "text": [
            "      32/50      7.51G     0.5683     0.6589      1.123         38        640: 100%|██████████| 113/113 [01:15<00:00,  1.50it/s]\n",
            "                 Class     Images  Instances      Box(P          R      mAP50  mAP50-95): 100%|██████████| 19/19 [00:14<00:00,  1.33it/s]"
          ]
        },
        {
          "output_type": "stream",
          "name": "stdout",
          "text": [
            "                   all        584        679      0.765      0.771      0.799      0.656\n"
          ]
        },
        {
          "output_type": "stream",
          "name": "stderr",
          "text": [
            "\n"
          ]
        },
        {
          "output_type": "stream",
          "name": "stdout",
          "text": [
            "\n",
            "      Epoch    GPU_mem   box_loss   cls_loss   dfl_loss  Instances       Size\n"
          ]
        },
        {
          "output_type": "stream",
          "name": "stderr",
          "text": [
            "      33/50      7.53G     0.5631     0.6614      1.115         31        640: 100%|██████████| 113/113 [01:14<00:00,  1.51it/s]\n",
            "                 Class     Images  Instances      Box(P          R      mAP50  mAP50-95): 100%|██████████| 19/19 [00:13<00:00,  1.39it/s]"
          ]
        },
        {
          "output_type": "stream",
          "name": "stdout",
          "text": [
            "                   all        584        679      0.812      0.739      0.803      0.669\n"
          ]
        },
        {
          "output_type": "stream",
          "name": "stderr",
          "text": [
            "\n"
          ]
        },
        {
          "output_type": "stream",
          "name": "stdout",
          "text": [
            "\n",
            "      Epoch    GPU_mem   box_loss   cls_loss   dfl_loss  Instances       Size\n"
          ]
        },
        {
          "output_type": "stream",
          "name": "stderr",
          "text": [
            "      34/50      7.53G     0.5409     0.6278      1.105         30        640: 100%|██████████| 113/113 [01:13<00:00,  1.53it/s]\n",
            "                 Class     Images  Instances      Box(P          R      mAP50  mAP50-95): 100%|██████████| 19/19 [00:13<00:00,  1.37it/s]\n"
          ]
        },
        {
          "output_type": "stream",
          "name": "stdout",
          "text": [
            "                   all        584        679      0.787      0.743      0.827      0.676\n",
            "\n",
            "      Epoch    GPU_mem   box_loss   cls_loss   dfl_loss  Instances       Size\n"
          ]
        },
        {
          "output_type": "stream",
          "name": "stderr",
          "text": [
            "      35/50      7.52G     0.5455     0.6219      1.105         34        640: 100%|██████████| 113/113 [01:13<00:00,  1.53it/s]\n",
            "                 Class     Images  Instances      Box(P          R      mAP50  mAP50-95): 100%|██████████| 19/19 [00:14<00:00,  1.33it/s]\n"
          ]
        },
        {
          "output_type": "stream",
          "name": "stdout",
          "text": [
            "                   all        584        679      0.834      0.729       0.82      0.695\n",
            "\n",
            "      Epoch    GPU_mem   box_loss   cls_loss   dfl_loss  Instances       Size\n"
          ]
        },
        {
          "output_type": "stream",
          "name": "stderr",
          "text": [
            "      36/50      7.51G     0.5382     0.5895      1.099         28        640: 100%|██████████| 113/113 [01:12<00:00,  1.55it/s]\n",
            "                 Class     Images  Instances      Box(P          R      mAP50  mAP50-95): 100%|██████████| 19/19 [00:14<00:00,  1.35it/s]\n"
          ]
        },
        {
          "output_type": "stream",
          "name": "stdout",
          "text": [
            "                   all        584        679      0.799      0.718      0.796      0.667\n",
            "\n",
            "      Epoch    GPU_mem   box_loss   cls_loss   dfl_loss  Instances       Size\n"
          ]
        },
        {
          "output_type": "stream",
          "name": "stderr",
          "text": [
            "      37/50      7.53G     0.5374      0.599      1.097         32        640: 100%|██████████| 113/113 [01:16<00:00,  1.48it/s]\n",
            "                 Class     Images  Instances      Box(P          R      mAP50  mAP50-95): 100%|██████████| 19/19 [00:13<00:00,  1.37it/s]\n"
          ]
        },
        {
          "output_type": "stream",
          "name": "stdout",
          "text": [
            "                   all        584        679      0.822      0.772      0.827      0.698\n",
            "\n",
            "      Epoch    GPU_mem   box_loss   cls_loss   dfl_loss  Instances       Size\n"
          ]
        },
        {
          "output_type": "stream",
          "name": "stderr",
          "text": [
            "      38/50      7.52G     0.5308     0.5876        1.1         22        640: 100%|██████████| 113/113 [01:14<00:00,  1.51it/s]\n",
            "                 Class     Images  Instances      Box(P          R      mAP50  mAP50-95): 100%|██████████| 19/19 [00:13<00:00,  1.36it/s]"
          ]
        },
        {
          "output_type": "stream",
          "name": "stdout",
          "text": [
            "                   all        584        679      0.752      0.814      0.807      0.683\n"
          ]
        },
        {
          "output_type": "stream",
          "name": "stderr",
          "text": [
            "\n"
          ]
        },
        {
          "output_type": "stream",
          "name": "stdout",
          "text": [
            "\n",
            "      Epoch    GPU_mem   box_loss   cls_loss   dfl_loss  Instances       Size\n"
          ]
        },
        {
          "output_type": "stream",
          "name": "stderr",
          "text": [
            "      39/50      7.53G     0.5027     0.5502      1.081         23        640: 100%|██████████| 113/113 [01:13<00:00,  1.54it/s]\n",
            "                 Class     Images  Instances      Box(P          R      mAP50  mAP50-95): 100%|██████████| 19/19 [00:13<00:00,  1.36it/s]"
          ]
        },
        {
          "output_type": "stream",
          "name": "stdout",
          "text": [
            "                   all        584        679      0.846      0.763       0.83      0.708\n"
          ]
        },
        {
          "output_type": "stream",
          "name": "stderr",
          "text": [
            "\n"
          ]
        },
        {
          "output_type": "stream",
          "name": "stdout",
          "text": [
            "\n",
            "      Epoch    GPU_mem   box_loss   cls_loss   dfl_loss  Instances       Size\n"
          ]
        },
        {
          "output_type": "stream",
          "name": "stderr",
          "text": [
            "      40/50      7.52G     0.5105      0.556      1.088         23        640: 100%|██████████| 113/113 [01:14<00:00,  1.51it/s]\n",
            "                 Class     Images  Instances      Box(P          R      mAP50  mAP50-95): 100%|██████████| 19/19 [00:13<00:00,  1.37it/s]"
          ]
        },
        {
          "output_type": "stream",
          "name": "stdout",
          "text": [
            "                   all        584        679      0.814      0.744      0.815      0.687\n"
          ]
        },
        {
          "output_type": "stream",
          "name": "stderr",
          "text": [
            "\n"
          ]
        },
        {
          "output_type": "stream",
          "name": "stdout",
          "text": [
            "Closing dataloader mosaic\n",
            "\u001b[34m\u001b[1malbumentations: \u001b[0mBlur(p=0.01, blur_limit=(3, 7)), MedianBlur(p=0.01, blur_limit=(3, 7)), ToGray(p=0.01), CLAHE(p=0.01, clip_limit=(1, 4.0), tile_grid_size=(8, 8))\n",
            "\n",
            "      Epoch    GPU_mem   box_loss   cls_loss   dfl_loss  Instances       Size\n"
          ]
        },
        {
          "output_type": "stream",
          "name": "stderr",
          "text": [
            "      41/50      7.53G     0.3885     0.3735      1.003         13        640: 100%|██████████| 113/113 [01:13<00:00,  1.54it/s]\n",
            "                 Class     Images  Instances      Box(P          R      mAP50  mAP50-95): 100%|██████████| 19/19 [00:13<00:00,  1.37it/s]"
          ]
        },
        {
          "output_type": "stream",
          "name": "stdout",
          "text": [
            "                   all        584        679      0.798      0.786      0.828      0.693\n"
          ]
        },
        {
          "output_type": "stream",
          "name": "stderr",
          "text": [
            "\n"
          ]
        },
        {
          "output_type": "stream",
          "name": "stdout",
          "text": [
            "\n",
            "      Epoch    GPU_mem   box_loss   cls_loss   dfl_loss  Instances       Size\n"
          ]
        },
        {
          "output_type": "stream",
          "name": "stderr",
          "text": [
            "      42/50      7.52G      0.376     0.3295     0.9808         14        640: 100%|██████████| 113/113 [01:12<00:00,  1.57it/s]\n",
            "                 Class     Images  Instances      Box(P          R      mAP50  mAP50-95): 100%|██████████| 19/19 [00:13<00:00,  1.38it/s]"
          ]
        },
        {
          "output_type": "stream",
          "name": "stdout",
          "text": [
            "                   all        584        679      0.802      0.806      0.821      0.685\n"
          ]
        },
        {
          "output_type": "stream",
          "name": "stderr",
          "text": [
            "\n"
          ]
        },
        {
          "output_type": "stream",
          "name": "stdout",
          "text": [
            "\n",
            "      Epoch    GPU_mem   box_loss   cls_loss   dfl_loss  Instances       Size\n"
          ]
        },
        {
          "output_type": "stream",
          "name": "stderr",
          "text": [
            "      43/50      7.55G     0.3677     0.3243     0.9789         11        640: 100%|██████████| 113/113 [01:12<00:00,  1.56it/s]\n",
            "                 Class     Images  Instances      Box(P          R      mAP50  mAP50-95): 100%|██████████| 19/19 [00:13<00:00,  1.38it/s]"
          ]
        },
        {
          "output_type": "stream",
          "name": "stdout",
          "text": [
            "                   all        584        679      0.813      0.774      0.825      0.703\n"
          ]
        },
        {
          "output_type": "stream",
          "name": "stderr",
          "text": [
            "\n"
          ]
        },
        {
          "output_type": "stream",
          "name": "stdout",
          "text": [
            "\n",
            "      Epoch    GPU_mem   box_loss   cls_loss   dfl_loss  Instances       Size\n"
          ]
        },
        {
          "output_type": "stream",
          "name": "stderr",
          "text": [
            "      44/50      7.51G     0.3496     0.2825     0.9696         12        640: 100%|██████████| 113/113 [01:13<00:00,  1.53it/s]\n",
            "                 Class     Images  Instances      Box(P          R      mAP50  mAP50-95): 100%|██████████| 19/19 [00:13<00:00,  1.42it/s]"
          ]
        },
        {
          "output_type": "stream",
          "name": "stdout",
          "text": [
            "                   all        584        679      0.848       0.77      0.835      0.708\n"
          ]
        },
        {
          "output_type": "stream",
          "name": "stderr",
          "text": [
            "\n"
          ]
        },
        {
          "output_type": "stream",
          "name": "stdout",
          "text": [
            "\n",
            "      Epoch    GPU_mem   box_loss   cls_loss   dfl_loss  Instances       Size\n"
          ]
        },
        {
          "output_type": "stream",
          "name": "stderr",
          "text": [
            "      45/50      7.54G     0.3452     0.2725     0.9614         14        640: 100%|██████████| 113/113 [01:11<00:00,  1.59it/s]\n",
            "                 Class     Images  Instances      Box(P          R      mAP50  mAP50-95): 100%|██████████| 19/19 [00:13<00:00,  1.42it/s]"
          ]
        },
        {
          "output_type": "stream",
          "name": "stdout",
          "text": [
            "                   all        584        679       0.83      0.792      0.842      0.725\n"
          ]
        },
        {
          "output_type": "stream",
          "name": "stderr",
          "text": [
            "\n"
          ]
        },
        {
          "output_type": "stream",
          "name": "stdout",
          "text": [
            "\n",
            "      Epoch    GPU_mem   box_loss   cls_loss   dfl_loss  Instances       Size\n"
          ]
        },
        {
          "output_type": "stream",
          "name": "stderr",
          "text": [
            "      46/50      7.53G     0.3293     0.2675     0.9449         12        640: 100%|██████████| 113/113 [01:12<00:00,  1.57it/s]\n",
            "                 Class     Images  Instances      Box(P          R      mAP50  mAP50-95): 100%|██████████| 19/19 [00:13<00:00,  1.38it/s]"
          ]
        },
        {
          "output_type": "stream",
          "name": "stdout",
          "text": [
            "                   all        584        679      0.819      0.801      0.845      0.728\n"
          ]
        },
        {
          "output_type": "stream",
          "name": "stderr",
          "text": [
            "\n"
          ]
        },
        {
          "output_type": "stream",
          "name": "stdout",
          "text": [
            "\n",
            "      Epoch    GPU_mem   box_loss   cls_loss   dfl_loss  Instances       Size\n"
          ]
        },
        {
          "output_type": "stream",
          "name": "stderr",
          "text": [
            "      47/50      7.55G     0.3319     0.2542     0.9508         11        640: 100%|██████████| 113/113 [01:13<00:00,  1.54it/s]\n",
            "                 Class     Images  Instances      Box(P          R      mAP50  mAP50-95): 100%|██████████| 19/19 [00:13<00:00,  1.37it/s]"
          ]
        },
        {
          "output_type": "stream",
          "name": "stdout",
          "text": [
            "                   all        584        679      0.854       0.77      0.846      0.726\n"
          ]
        },
        {
          "output_type": "stream",
          "name": "stderr",
          "text": [
            "\n"
          ]
        },
        {
          "output_type": "stream",
          "name": "stdout",
          "text": [
            "\n",
            "      Epoch    GPU_mem   box_loss   cls_loss   dfl_loss  Instances       Size\n"
          ]
        },
        {
          "output_type": "stream",
          "name": "stderr",
          "text": [
            "      48/50      7.51G     0.3166     0.2413     0.9311         11        640: 100%|██████████| 113/113 [01:11<00:00,  1.58it/s]\n",
            "                 Class     Images  Instances      Box(P          R      mAP50  mAP50-95): 100%|██████████| 19/19 [00:13<00:00,  1.42it/s]"
          ]
        },
        {
          "output_type": "stream",
          "name": "stdout",
          "text": [
            "                   all        584        679      0.809      0.818      0.839      0.721\n"
          ]
        },
        {
          "output_type": "stream",
          "name": "stderr",
          "text": [
            "\n"
          ]
        },
        {
          "output_type": "stream",
          "name": "stdout",
          "text": [
            "\n",
            "      Epoch    GPU_mem   box_loss   cls_loss   dfl_loss  Instances       Size\n"
          ]
        },
        {
          "output_type": "stream",
          "name": "stderr",
          "text": [
            "      49/50      7.52G     0.3116      0.228     0.9257         12        640: 100%|██████████| 113/113 [01:10<00:00,  1.60it/s]\n",
            "                 Class     Images  Instances      Box(P          R      mAP50  mAP50-95): 100%|██████████| 19/19 [00:13<00:00,  1.42it/s]\n"
          ]
        },
        {
          "output_type": "stream",
          "name": "stdout",
          "text": [
            "                   all        584        679      0.854      0.782      0.844      0.725\n",
            "\n",
            "      Epoch    GPU_mem   box_loss   cls_loss   dfl_loss  Instances       Size\n"
          ]
        },
        {
          "output_type": "stream",
          "name": "stderr",
          "text": [
            "      50/50      7.54G     0.3151     0.2289     0.9415         13        640: 100%|██████████| 113/113 [01:14<00:00,  1.52it/s]\n",
            "                 Class     Images  Instances      Box(P          R      mAP50  mAP50-95): 100%|██████████| 19/19 [00:13<00:00,  1.39it/s]\n"
          ]
        },
        {
          "output_type": "stream",
          "name": "stdout",
          "text": [
            "                   all        584        679       0.86      0.766      0.839      0.723\n",
            "\n",
            "50 epochs completed in 1.452 hours.\n",
            "Optimizer stripped from runs/detect/train/weights/last.pt, 52.0MB\n",
            "Optimizer stripped from runs/detect/train/weights/best.pt, 52.0MB\n",
            "\n",
            "Validating runs/detect/train/weights/best.pt...\n",
            "Ultralytics YOLOv8.0.231 🚀 Python-3.10.12 torch-2.1.0+cu121 CUDA:0 (Tesla T4, 15102MiB)\n",
            "Model summary (fused): 218 layers, 25845550 parameters, 0 gradients, 78.7 GFLOPs\n"
          ]
        },
        {
          "output_type": "stream",
          "name": "stderr",
          "text": [
            "                 Class     Images  Instances      Box(P          R      mAP50  mAP50-95): 100%|██████████| 19/19 [00:15<00:00,  1.24it/s]\n"
          ]
        },
        {
          "output_type": "stream",
          "name": "stdout",
          "text": [
            "                   all        584        679      0.819      0.801      0.845      0.729\n",
            "                  Bear        584         42      0.753      0.595      0.698      0.569\n",
            "            Brown bear        584         44      0.719      0.818      0.847      0.801\n",
            "                 Camel        584         38      0.719      0.684      0.678      0.574\n",
            "               Cheetah        584         39      0.916      0.838      0.901      0.773\n",
            "             Crocodile        584         81      0.912      0.895      0.937      0.766\n",
            "                  Deer        584        235      0.945      0.791      0.893      0.749\n",
            "              Elephant        584         39      0.611      0.744      0.768       0.62\n",
            "               Giraffe        584         31        0.8      0.935       0.89      0.777\n",
            "                 Tiger        584         26      0.855      0.846      0.899      0.823\n",
            "                  Lion        584        104      0.955      0.865      0.941      0.839\n",
            "Speed: 0.3ms preprocess, 7.4ms inference, 0.0ms loss, 2.8ms postprocess per image\n",
            "Results saved to \u001b[1mruns/detect/train\u001b[0m\n"
          ]
        },
        {
          "output_type": "execute_result",
          "data": {
            "text/plain": [
              "ultralytics.utils.metrics.DetMetrics object with attributes:\n",
              "\n",
              "ap_class_index: array([0, 1, 2, 3, 4, 5, 6, 7, 8, 9])\n",
              "box: ultralytics.utils.metrics.Metric object\n",
              "confusion_matrix: <ultralytics.utils.metrics.ConfusionMatrix object at 0x7ee43506f700>\n",
              "curves: ['Precision-Recall(B)', 'F1-Confidence(B)', 'Precision-Confidence(B)', 'Recall-Confidence(B)']\n",
              "curves_results: [[array([          0,    0.001001,    0.002002,    0.003003,    0.004004,    0.005005,    0.006006,    0.007007,    0.008008,    0.009009,     0.01001,    0.011011,    0.012012,    0.013013,    0.014014,    0.015015,    0.016016,    0.017017,    0.018018,    0.019019,     0.02002,    0.021021,    0.022022,    0.023023,\n",
              "          0.024024,    0.025025,    0.026026,    0.027027,    0.028028,    0.029029,     0.03003,    0.031031,    0.032032,    0.033033,    0.034034,    0.035035,    0.036036,    0.037037,    0.038038,    0.039039,     0.04004,    0.041041,    0.042042,    0.043043,    0.044044,    0.045045,    0.046046,    0.047047,\n",
              "          0.048048,    0.049049,     0.05005,    0.051051,    0.052052,    0.053053,    0.054054,    0.055055,    0.056056,    0.057057,    0.058058,    0.059059,     0.06006,    0.061061,    0.062062,    0.063063,    0.064064,    0.065065,    0.066066,    0.067067,    0.068068,    0.069069,     0.07007,    0.071071,\n",
              "          0.072072,    0.073073,    0.074074,    0.075075,    0.076076,    0.077077,    0.078078,    0.079079,     0.08008,    0.081081,    0.082082,    0.083083,    0.084084,    0.085085,    0.086086,    0.087087,    0.088088,    0.089089,     0.09009,    0.091091,    0.092092,    0.093093,    0.094094,    0.095095,\n",
              "          0.096096,    0.097097,    0.098098,    0.099099,      0.1001,      0.1011,      0.1021,      0.1031,      0.1041,     0.10511,     0.10611,     0.10711,     0.10811,     0.10911,     0.11011,     0.11111,     0.11211,     0.11311,     0.11411,     0.11512,     0.11612,     0.11712,     0.11812,     0.11912,\n",
              "           0.12012,     0.12112,     0.12212,     0.12312,     0.12412,     0.12513,     0.12613,     0.12713,     0.12813,     0.12913,     0.13013,     0.13113,     0.13213,     0.13313,     0.13413,     0.13514,     0.13614,     0.13714,     0.13814,     0.13914,     0.14014,     0.14114,     0.14214,     0.14314,\n",
              "           0.14414,     0.14515,     0.14615,     0.14715,     0.14815,     0.14915,     0.15015,     0.15115,     0.15215,     0.15315,     0.15415,     0.15516,     0.15616,     0.15716,     0.15816,     0.15916,     0.16016,     0.16116,     0.16216,     0.16316,     0.16416,     0.16517,     0.16617,     0.16717,\n",
              "           0.16817,     0.16917,     0.17017,     0.17117,     0.17217,     0.17317,     0.17417,     0.17518,     0.17618,     0.17718,     0.17818,     0.17918,     0.18018,     0.18118,     0.18218,     0.18318,     0.18418,     0.18519,     0.18619,     0.18719,     0.18819,     0.18919,     0.19019,     0.19119,\n",
              "           0.19219,     0.19319,     0.19419,      0.1952,      0.1962,      0.1972,      0.1982,      0.1992,      0.2002,      0.2012,      0.2022,      0.2032,      0.2042,     0.20521,     0.20621,     0.20721,     0.20821,     0.20921,     0.21021,     0.21121,     0.21221,     0.21321,     0.21421,     0.21522,\n",
              "           0.21622,     0.21722,     0.21822,     0.21922,     0.22022,     0.22122,     0.22222,     0.22322,     0.22422,     0.22523,     0.22623,     0.22723,     0.22823,     0.22923,     0.23023,     0.23123,     0.23223,     0.23323,     0.23423,     0.23524,     0.23624,     0.23724,     0.23824,     0.23924,\n",
              "           0.24024,     0.24124,     0.24224,     0.24324,     0.24424,     0.24525,     0.24625,     0.24725,     0.24825,     0.24925,     0.25025,     0.25125,     0.25225,     0.25325,     0.25425,     0.25526,     0.25626,     0.25726,     0.25826,     0.25926,     0.26026,     0.26126,     0.26226,     0.26326,\n",
              "           0.26426,     0.26527,     0.26627,     0.26727,     0.26827,     0.26927,     0.27027,     0.27127,     0.27227,     0.27327,     0.27427,     0.27528,     0.27628,     0.27728,     0.27828,     0.27928,     0.28028,     0.28128,     0.28228,     0.28328,     0.28428,     0.28529,     0.28629,     0.28729,\n",
              "           0.28829,     0.28929,     0.29029,     0.29129,     0.29229,     0.29329,     0.29429,      0.2953,      0.2963,      0.2973,      0.2983,      0.2993,      0.3003,      0.3013,      0.3023,      0.3033,      0.3043,     0.30531,     0.30631,     0.30731,     0.30831,     0.30931,     0.31031,     0.31131,\n",
              "           0.31231,     0.31331,     0.31431,     0.31532,     0.31632,     0.31732,     0.31832,     0.31932,     0.32032,     0.32132,     0.32232,     0.32332,     0.32432,     0.32533,     0.32633,     0.32733,     0.32833,     0.32933,     0.33033,     0.33133,     0.33233,     0.33333,     0.33433,     0.33534,\n",
              "           0.33634,     0.33734,     0.33834,     0.33934,     0.34034,     0.34134,     0.34234,     0.34334,     0.34434,     0.34535,     0.34635,     0.34735,     0.34835,     0.34935,     0.35035,     0.35135,     0.35235,     0.35335,     0.35435,     0.35536,     0.35636,     0.35736,     0.35836,     0.35936,\n",
              "           0.36036,     0.36136,     0.36236,     0.36336,     0.36436,     0.36537,     0.36637,     0.36737,     0.36837,     0.36937,     0.37037,     0.37137,     0.37237,     0.37337,     0.37437,     0.37538,     0.37638,     0.37738,     0.37838,     0.37938,     0.38038,     0.38138,     0.38238,     0.38338,\n",
              "           0.38438,     0.38539,     0.38639,     0.38739,     0.38839,     0.38939,     0.39039,     0.39139,     0.39239,     0.39339,     0.39439,      0.3954,      0.3964,      0.3974,      0.3984,      0.3994,      0.4004,      0.4014,      0.4024,      0.4034,      0.4044,     0.40541,     0.40641,     0.40741,\n",
              "           0.40841,     0.40941,     0.41041,     0.41141,     0.41241,     0.41341,     0.41441,     0.41542,     0.41642,     0.41742,     0.41842,     0.41942,     0.42042,     0.42142,     0.42242,     0.42342,     0.42442,     0.42543,     0.42643,     0.42743,     0.42843,     0.42943,     0.43043,     0.43143,\n",
              "           0.43243,     0.43343,     0.43443,     0.43544,     0.43644,     0.43744,     0.43844,     0.43944,     0.44044,     0.44144,     0.44244,     0.44344,     0.44444,     0.44545,     0.44645,     0.44745,     0.44845,     0.44945,     0.45045,     0.45145,     0.45245,     0.45345,     0.45445,     0.45546,\n",
              "           0.45646,     0.45746,     0.45846,     0.45946,     0.46046,     0.46146,     0.46246,     0.46346,     0.46446,     0.46547,     0.46647,     0.46747,     0.46847,     0.46947,     0.47047,     0.47147,     0.47247,     0.47347,     0.47447,     0.47548,     0.47648,     0.47748,     0.47848,     0.47948,\n",
              "           0.48048,     0.48148,     0.48248,     0.48348,     0.48448,     0.48549,     0.48649,     0.48749,     0.48849,     0.48949,     0.49049,     0.49149,     0.49249,     0.49349,     0.49449,      0.4955,      0.4965,      0.4975,      0.4985,      0.4995,      0.5005,      0.5015,      0.5025,      0.5035,\n",
              "            0.5045,     0.50551,     0.50651,     0.50751,     0.50851,     0.50951,     0.51051,     0.51151,     0.51251,     0.51351,     0.51451,     0.51552,     0.51652,     0.51752,     0.51852,     0.51952,     0.52052,     0.52152,     0.52252,     0.52352,     0.52452,     0.52553,     0.52653,     0.52753,\n",
              "           0.52853,     0.52953,     0.53053,     0.53153,     0.53253,     0.53353,     0.53453,     0.53554,     0.53654,     0.53754,     0.53854,     0.53954,     0.54054,     0.54154,     0.54254,     0.54354,     0.54454,     0.54555,     0.54655,     0.54755,     0.54855,     0.54955,     0.55055,     0.55155,\n",
              "           0.55255,     0.55355,     0.55455,     0.55556,     0.55656,     0.55756,     0.55856,     0.55956,     0.56056,     0.56156,     0.56256,     0.56356,     0.56456,     0.56557,     0.56657,     0.56757,     0.56857,     0.56957,     0.57057,     0.57157,     0.57257,     0.57357,     0.57457,     0.57558,\n",
              "           0.57658,     0.57758,     0.57858,     0.57958,     0.58058,     0.58158,     0.58258,     0.58358,     0.58458,     0.58559,     0.58659,     0.58759,     0.58859,     0.58959,     0.59059,     0.59159,     0.59259,     0.59359,     0.59459,      0.5956,      0.5966,      0.5976,      0.5986,      0.5996,\n",
              "            0.6006,      0.6016,      0.6026,      0.6036,      0.6046,     0.60561,     0.60661,     0.60761,     0.60861,     0.60961,     0.61061,     0.61161,     0.61261,     0.61361,     0.61461,     0.61562,     0.61662,     0.61762,     0.61862,     0.61962,     0.62062,     0.62162,     0.62262,     0.62362,\n",
              "           0.62462,     0.62563,     0.62663,     0.62763,     0.62863,     0.62963,     0.63063,     0.63163,     0.63263,     0.63363,     0.63463,     0.63564,     0.63664,     0.63764,     0.63864,     0.63964,     0.64064,     0.64164,     0.64264,     0.64364,     0.64464,     0.64565,     0.64665,     0.64765,\n",
              "           0.64865,     0.64965,     0.65065,     0.65165,     0.65265,     0.65365,     0.65465,     0.65566,     0.65666,     0.65766,     0.65866,     0.65966,     0.66066,     0.66166,     0.66266,     0.66366,     0.66466,     0.66567,     0.66667,     0.66767,     0.66867,     0.66967,     0.67067,     0.67167,\n",
              "           0.67267,     0.67367,     0.67467,     0.67568,     0.67668,     0.67768,     0.67868,     0.67968,     0.68068,     0.68168,     0.68268,     0.68368,     0.68468,     0.68569,     0.68669,     0.68769,     0.68869,     0.68969,     0.69069,     0.69169,     0.69269,     0.69369,     0.69469,      0.6957,\n",
              "            0.6967,      0.6977,      0.6987,      0.6997,      0.7007,      0.7017,      0.7027,      0.7037,      0.7047,     0.70571,     0.70671,     0.70771,     0.70871,     0.70971,     0.71071,     0.71171,     0.71271,     0.71371,     0.71471,     0.71572,     0.71672,     0.71772,     0.71872,     0.71972,\n",
              "           0.72072,     0.72172,     0.72272,     0.72372,     0.72472,     0.72573,     0.72673,     0.72773,     0.72873,     0.72973,     0.73073,     0.73173,     0.73273,     0.73373,     0.73473,     0.73574,     0.73674,     0.73774,     0.73874,     0.73974,     0.74074,     0.74174,     0.74274,     0.74374,\n",
              "           0.74474,     0.74575,     0.74675,     0.74775,     0.74875,     0.74975,     0.75075,     0.75175,     0.75275,     0.75375,     0.75475,     0.75576,     0.75676,     0.75776,     0.75876,     0.75976,     0.76076,     0.76176,     0.76276,     0.76376,     0.76476,     0.76577,     0.76677,     0.76777,\n",
              "           0.76877,     0.76977,     0.77077,     0.77177,     0.77277,     0.77377,     0.77477,     0.77578,     0.77678,     0.77778,     0.77878,     0.77978,     0.78078,     0.78178,     0.78278,     0.78378,     0.78478,     0.78579,     0.78679,     0.78779,     0.78879,     0.78979,     0.79079,     0.79179,\n",
              "           0.79279,     0.79379,     0.79479,      0.7958,      0.7968,      0.7978,      0.7988,      0.7998,      0.8008,      0.8018,      0.8028,      0.8038,      0.8048,     0.80581,     0.80681,     0.80781,     0.80881,     0.80981,     0.81081,     0.81181,     0.81281,     0.81381,     0.81481,     0.81582,\n",
              "           0.81682,     0.81782,     0.81882,     0.81982,     0.82082,     0.82182,     0.82282,     0.82382,     0.82482,     0.82583,     0.82683,     0.82783,     0.82883,     0.82983,     0.83083,     0.83183,     0.83283,     0.83383,     0.83483,     0.83584,     0.83684,     0.83784,     0.83884,     0.83984,\n",
              "           0.84084,     0.84184,     0.84284,     0.84384,     0.84484,     0.84585,     0.84685,     0.84785,     0.84885,     0.84985,     0.85085,     0.85185,     0.85285,     0.85385,     0.85485,     0.85586,     0.85686,     0.85786,     0.85886,     0.85986,     0.86086,     0.86186,     0.86286,     0.86386,\n",
              "           0.86486,     0.86587,     0.86687,     0.86787,     0.86887,     0.86987,     0.87087,     0.87187,     0.87287,     0.87387,     0.87487,     0.87588,     0.87688,     0.87788,     0.87888,     0.87988,     0.88088,     0.88188,     0.88288,     0.88388,     0.88488,     0.88589,     0.88689,     0.88789,\n",
              "           0.88889,     0.88989,     0.89089,     0.89189,     0.89289,     0.89389,     0.89489,      0.8959,      0.8969,      0.8979,      0.8989,      0.8999,      0.9009,      0.9019,      0.9029,      0.9039,      0.9049,     0.90591,     0.90691,     0.90791,     0.90891,     0.90991,     0.91091,     0.91191,\n",
              "           0.91291,     0.91391,     0.91491,     0.91592,     0.91692,     0.91792,     0.91892,     0.91992,     0.92092,     0.92192,     0.92292,     0.92392,     0.92492,     0.92593,     0.92693,     0.92793,     0.92893,     0.92993,     0.93093,     0.93193,     0.93293,     0.93393,     0.93493,     0.93594,\n",
              "           0.93694,     0.93794,     0.93894,     0.93994,     0.94094,     0.94194,     0.94294,     0.94394,     0.94494,     0.94595,     0.94695,     0.94795,     0.94895,     0.94995,     0.95095,     0.95195,     0.95295,     0.95395,     0.95495,     0.95596,     0.95696,     0.95796,     0.95896,     0.95996,\n",
              "           0.96096,     0.96196,     0.96296,     0.96396,     0.96496,     0.96597,     0.96697,     0.96797,     0.96897,     0.96997,     0.97097,     0.97197,     0.97297,     0.97397,     0.97497,     0.97598,     0.97698,     0.97798,     0.97898,     0.97998,     0.98098,     0.98198,     0.98298,     0.98398,\n",
              "           0.98498,     0.98599,     0.98699,     0.98799,     0.98899,     0.98999,     0.99099,     0.99199,     0.99299,     0.99399,     0.99499,       0.996,       0.997,       0.998,       0.999,           1]), array([[          1,           1,           1, ...,    0.008624,    0.004312,           0],\n",
              "       [          1,           1,           1, ...,   0.0095847,   0.0047924,           0],\n",
              "       [          1,           1,           1, ...,   0.0024967,   0.0012484,           0],\n",
              "       ...,\n",
              "       [          1,           1,           1, ...,   0.0077902,   0.0038951,           0],\n",
              "       [          1,           1,           1, ...,   0.0060808,   0.0030404,           0],\n",
              "       [          1,           1,           1, ...,    0.015088,   0.0075438,           0]]), 'Recall', 'Precision'], [array([          0,    0.001001,    0.002002,    0.003003,    0.004004,    0.005005,    0.006006,    0.007007,    0.008008,    0.009009,     0.01001,    0.011011,    0.012012,    0.013013,    0.014014,    0.015015,    0.016016,    0.017017,    0.018018,    0.019019,     0.02002,    0.021021,    0.022022,    0.023023,\n",
              "          0.024024,    0.025025,    0.026026,    0.027027,    0.028028,    0.029029,     0.03003,    0.031031,    0.032032,    0.033033,    0.034034,    0.035035,    0.036036,    0.037037,    0.038038,    0.039039,     0.04004,    0.041041,    0.042042,    0.043043,    0.044044,    0.045045,    0.046046,    0.047047,\n",
              "          0.048048,    0.049049,     0.05005,    0.051051,    0.052052,    0.053053,    0.054054,    0.055055,    0.056056,    0.057057,    0.058058,    0.059059,     0.06006,    0.061061,    0.062062,    0.063063,    0.064064,    0.065065,    0.066066,    0.067067,    0.068068,    0.069069,     0.07007,    0.071071,\n",
              "          0.072072,    0.073073,    0.074074,    0.075075,    0.076076,    0.077077,    0.078078,    0.079079,     0.08008,    0.081081,    0.082082,    0.083083,    0.084084,    0.085085,    0.086086,    0.087087,    0.088088,    0.089089,     0.09009,    0.091091,    0.092092,    0.093093,    0.094094,    0.095095,\n",
              "          0.096096,    0.097097,    0.098098,    0.099099,      0.1001,      0.1011,      0.1021,      0.1031,      0.1041,     0.10511,     0.10611,     0.10711,     0.10811,     0.10911,     0.11011,     0.11111,     0.11211,     0.11311,     0.11411,     0.11512,     0.11612,     0.11712,     0.11812,     0.11912,\n",
              "           0.12012,     0.12112,     0.12212,     0.12312,     0.12412,     0.12513,     0.12613,     0.12713,     0.12813,     0.12913,     0.13013,     0.13113,     0.13213,     0.13313,     0.13413,     0.13514,     0.13614,     0.13714,     0.13814,     0.13914,     0.14014,     0.14114,     0.14214,     0.14314,\n",
              "           0.14414,     0.14515,     0.14615,     0.14715,     0.14815,     0.14915,     0.15015,     0.15115,     0.15215,     0.15315,     0.15415,     0.15516,     0.15616,     0.15716,     0.15816,     0.15916,     0.16016,     0.16116,     0.16216,     0.16316,     0.16416,     0.16517,     0.16617,     0.16717,\n",
              "           0.16817,     0.16917,     0.17017,     0.17117,     0.17217,     0.17317,     0.17417,     0.17518,     0.17618,     0.17718,     0.17818,     0.17918,     0.18018,     0.18118,     0.18218,     0.18318,     0.18418,     0.18519,     0.18619,     0.18719,     0.18819,     0.18919,     0.19019,     0.19119,\n",
              "           0.19219,     0.19319,     0.19419,      0.1952,      0.1962,      0.1972,      0.1982,      0.1992,      0.2002,      0.2012,      0.2022,      0.2032,      0.2042,     0.20521,     0.20621,     0.20721,     0.20821,     0.20921,     0.21021,     0.21121,     0.21221,     0.21321,     0.21421,     0.21522,\n",
              "           0.21622,     0.21722,     0.21822,     0.21922,     0.22022,     0.22122,     0.22222,     0.22322,     0.22422,     0.22523,     0.22623,     0.22723,     0.22823,     0.22923,     0.23023,     0.23123,     0.23223,     0.23323,     0.23423,     0.23524,     0.23624,     0.23724,     0.23824,     0.23924,\n",
              "           0.24024,     0.24124,     0.24224,     0.24324,     0.24424,     0.24525,     0.24625,     0.24725,     0.24825,     0.24925,     0.25025,     0.25125,     0.25225,     0.25325,     0.25425,     0.25526,     0.25626,     0.25726,     0.25826,     0.25926,     0.26026,     0.26126,     0.26226,     0.26326,\n",
              "           0.26426,     0.26527,     0.26627,     0.26727,     0.26827,     0.26927,     0.27027,     0.27127,     0.27227,     0.27327,     0.27427,     0.27528,     0.27628,     0.27728,     0.27828,     0.27928,     0.28028,     0.28128,     0.28228,     0.28328,     0.28428,     0.28529,     0.28629,     0.28729,\n",
              "           0.28829,     0.28929,     0.29029,     0.29129,     0.29229,     0.29329,     0.29429,      0.2953,      0.2963,      0.2973,      0.2983,      0.2993,      0.3003,      0.3013,      0.3023,      0.3033,      0.3043,     0.30531,     0.30631,     0.30731,     0.30831,     0.30931,     0.31031,     0.31131,\n",
              "           0.31231,     0.31331,     0.31431,     0.31532,     0.31632,     0.31732,     0.31832,     0.31932,     0.32032,     0.32132,     0.32232,     0.32332,     0.32432,     0.32533,     0.32633,     0.32733,     0.32833,     0.32933,     0.33033,     0.33133,     0.33233,     0.33333,     0.33433,     0.33534,\n",
              "           0.33634,     0.33734,     0.33834,     0.33934,     0.34034,     0.34134,     0.34234,     0.34334,     0.34434,     0.34535,     0.34635,     0.34735,     0.34835,     0.34935,     0.35035,     0.35135,     0.35235,     0.35335,     0.35435,     0.35536,     0.35636,     0.35736,     0.35836,     0.35936,\n",
              "           0.36036,     0.36136,     0.36236,     0.36336,     0.36436,     0.36537,     0.36637,     0.36737,     0.36837,     0.36937,     0.37037,     0.37137,     0.37237,     0.37337,     0.37437,     0.37538,     0.37638,     0.37738,     0.37838,     0.37938,     0.38038,     0.38138,     0.38238,     0.38338,\n",
              "           0.38438,     0.38539,     0.38639,     0.38739,     0.38839,     0.38939,     0.39039,     0.39139,     0.39239,     0.39339,     0.39439,      0.3954,      0.3964,      0.3974,      0.3984,      0.3994,      0.4004,      0.4014,      0.4024,      0.4034,      0.4044,     0.40541,     0.40641,     0.40741,\n",
              "           0.40841,     0.40941,     0.41041,     0.41141,     0.41241,     0.41341,     0.41441,     0.41542,     0.41642,     0.41742,     0.41842,     0.41942,     0.42042,     0.42142,     0.42242,     0.42342,     0.42442,     0.42543,     0.42643,     0.42743,     0.42843,     0.42943,     0.43043,     0.43143,\n",
              "           0.43243,     0.43343,     0.43443,     0.43544,     0.43644,     0.43744,     0.43844,     0.43944,     0.44044,     0.44144,     0.44244,     0.44344,     0.44444,     0.44545,     0.44645,     0.44745,     0.44845,     0.44945,     0.45045,     0.45145,     0.45245,     0.45345,     0.45445,     0.45546,\n",
              "           0.45646,     0.45746,     0.45846,     0.45946,     0.46046,     0.46146,     0.46246,     0.46346,     0.46446,     0.46547,     0.46647,     0.46747,     0.46847,     0.46947,     0.47047,     0.47147,     0.47247,     0.47347,     0.47447,     0.47548,     0.47648,     0.47748,     0.47848,     0.47948,\n",
              "           0.48048,     0.48148,     0.48248,     0.48348,     0.48448,     0.48549,     0.48649,     0.48749,     0.48849,     0.48949,     0.49049,     0.49149,     0.49249,     0.49349,     0.49449,      0.4955,      0.4965,      0.4975,      0.4985,      0.4995,      0.5005,      0.5015,      0.5025,      0.5035,\n",
              "            0.5045,     0.50551,     0.50651,     0.50751,     0.50851,     0.50951,     0.51051,     0.51151,     0.51251,     0.51351,     0.51451,     0.51552,     0.51652,     0.51752,     0.51852,     0.51952,     0.52052,     0.52152,     0.52252,     0.52352,     0.52452,     0.52553,     0.52653,     0.52753,\n",
              "           0.52853,     0.52953,     0.53053,     0.53153,     0.53253,     0.53353,     0.53453,     0.53554,     0.53654,     0.53754,     0.53854,     0.53954,     0.54054,     0.54154,     0.54254,     0.54354,     0.54454,     0.54555,     0.54655,     0.54755,     0.54855,     0.54955,     0.55055,     0.55155,\n",
              "           0.55255,     0.55355,     0.55455,     0.55556,     0.55656,     0.55756,     0.55856,     0.55956,     0.56056,     0.56156,     0.56256,     0.56356,     0.56456,     0.56557,     0.56657,     0.56757,     0.56857,     0.56957,     0.57057,     0.57157,     0.57257,     0.57357,     0.57457,     0.57558,\n",
              "           0.57658,     0.57758,     0.57858,     0.57958,     0.58058,     0.58158,     0.58258,     0.58358,     0.58458,     0.58559,     0.58659,     0.58759,     0.58859,     0.58959,     0.59059,     0.59159,     0.59259,     0.59359,     0.59459,      0.5956,      0.5966,      0.5976,      0.5986,      0.5996,\n",
              "            0.6006,      0.6016,      0.6026,      0.6036,      0.6046,     0.60561,     0.60661,     0.60761,     0.60861,     0.60961,     0.61061,     0.61161,     0.61261,     0.61361,     0.61461,     0.61562,     0.61662,     0.61762,     0.61862,     0.61962,     0.62062,     0.62162,     0.62262,     0.62362,\n",
              "           0.62462,     0.62563,     0.62663,     0.62763,     0.62863,     0.62963,     0.63063,     0.63163,     0.63263,     0.63363,     0.63463,     0.63564,     0.63664,     0.63764,     0.63864,     0.63964,     0.64064,     0.64164,     0.64264,     0.64364,     0.64464,     0.64565,     0.64665,     0.64765,\n",
              "           0.64865,     0.64965,     0.65065,     0.65165,     0.65265,     0.65365,     0.65465,     0.65566,     0.65666,     0.65766,     0.65866,     0.65966,     0.66066,     0.66166,     0.66266,     0.66366,     0.66466,     0.66567,     0.66667,     0.66767,     0.66867,     0.66967,     0.67067,     0.67167,\n",
              "           0.67267,     0.67367,     0.67467,     0.67568,     0.67668,     0.67768,     0.67868,     0.67968,     0.68068,     0.68168,     0.68268,     0.68368,     0.68468,     0.68569,     0.68669,     0.68769,     0.68869,     0.68969,     0.69069,     0.69169,     0.69269,     0.69369,     0.69469,      0.6957,\n",
              "            0.6967,      0.6977,      0.6987,      0.6997,      0.7007,      0.7017,      0.7027,      0.7037,      0.7047,     0.70571,     0.70671,     0.70771,     0.70871,     0.70971,     0.71071,     0.71171,     0.71271,     0.71371,     0.71471,     0.71572,     0.71672,     0.71772,     0.71872,     0.71972,\n",
              "           0.72072,     0.72172,     0.72272,     0.72372,     0.72472,     0.72573,     0.72673,     0.72773,     0.72873,     0.72973,     0.73073,     0.73173,     0.73273,     0.73373,     0.73473,     0.73574,     0.73674,     0.73774,     0.73874,     0.73974,     0.74074,     0.74174,     0.74274,     0.74374,\n",
              "           0.74474,     0.74575,     0.74675,     0.74775,     0.74875,     0.74975,     0.75075,     0.75175,     0.75275,     0.75375,     0.75475,     0.75576,     0.75676,     0.75776,     0.75876,     0.75976,     0.76076,     0.76176,     0.76276,     0.76376,     0.76476,     0.76577,     0.76677,     0.76777,\n",
              "           0.76877,     0.76977,     0.77077,     0.77177,     0.77277,     0.77377,     0.77477,     0.77578,     0.77678,     0.77778,     0.77878,     0.77978,     0.78078,     0.78178,     0.78278,     0.78378,     0.78478,     0.78579,     0.78679,     0.78779,     0.78879,     0.78979,     0.79079,     0.79179,\n",
              "           0.79279,     0.79379,     0.79479,      0.7958,      0.7968,      0.7978,      0.7988,      0.7998,      0.8008,      0.8018,      0.8028,      0.8038,      0.8048,     0.80581,     0.80681,     0.80781,     0.80881,     0.80981,     0.81081,     0.81181,     0.81281,     0.81381,     0.81481,     0.81582,\n",
              "           0.81682,     0.81782,     0.81882,     0.81982,     0.82082,     0.82182,     0.82282,     0.82382,     0.82482,     0.82583,     0.82683,     0.82783,     0.82883,     0.82983,     0.83083,     0.83183,     0.83283,     0.83383,     0.83483,     0.83584,     0.83684,     0.83784,     0.83884,     0.83984,\n",
              "           0.84084,     0.84184,     0.84284,     0.84384,     0.84484,     0.84585,     0.84685,     0.84785,     0.84885,     0.84985,     0.85085,     0.85185,     0.85285,     0.85385,     0.85485,     0.85586,     0.85686,     0.85786,     0.85886,     0.85986,     0.86086,     0.86186,     0.86286,     0.86386,\n",
              "           0.86486,     0.86587,     0.86687,     0.86787,     0.86887,     0.86987,     0.87087,     0.87187,     0.87287,     0.87387,     0.87487,     0.87588,     0.87688,     0.87788,     0.87888,     0.87988,     0.88088,     0.88188,     0.88288,     0.88388,     0.88488,     0.88589,     0.88689,     0.88789,\n",
              "           0.88889,     0.88989,     0.89089,     0.89189,     0.89289,     0.89389,     0.89489,      0.8959,      0.8969,      0.8979,      0.8989,      0.8999,      0.9009,      0.9019,      0.9029,      0.9039,      0.9049,     0.90591,     0.90691,     0.90791,     0.90891,     0.90991,     0.91091,     0.91191,\n",
              "           0.91291,     0.91391,     0.91491,     0.91592,     0.91692,     0.91792,     0.91892,     0.91992,     0.92092,     0.92192,     0.92292,     0.92392,     0.92492,     0.92593,     0.92693,     0.92793,     0.92893,     0.92993,     0.93093,     0.93193,     0.93293,     0.93393,     0.93493,     0.93594,\n",
              "           0.93694,     0.93794,     0.93894,     0.93994,     0.94094,     0.94194,     0.94294,     0.94394,     0.94494,     0.94595,     0.94695,     0.94795,     0.94895,     0.94995,     0.95095,     0.95195,     0.95295,     0.95395,     0.95495,     0.95596,     0.95696,     0.95796,     0.95896,     0.95996,\n",
              "           0.96096,     0.96196,     0.96296,     0.96396,     0.96496,     0.96597,     0.96697,     0.96797,     0.96897,     0.96997,     0.97097,     0.97197,     0.97297,     0.97397,     0.97497,     0.97598,     0.97698,     0.97798,     0.97898,     0.97998,     0.98098,     0.98198,     0.98298,     0.98398,\n",
              "           0.98498,     0.98599,     0.98699,     0.98799,     0.98899,     0.98999,     0.99099,     0.99199,     0.99299,     0.99399,     0.99499,       0.996,       0.997,       0.998,       0.999,           1]), array([[    0.33755,     0.33755,     0.38701, ...,           0,           0,           0],\n",
              "       [    0.35443,     0.35443,     0.42404, ...,           0,           0,           0],\n",
              "       [    0.22896,     0.22896,     0.29954, ...,           0,           0,           0],\n",
              "       ...,\n",
              "       [    0.22222,     0.22222,     0.30418, ...,           0,           0,           0],\n",
              "       [    0.20833,     0.20833,      0.2802, ...,           0,           0,           0],\n",
              "       [    0.44543,     0.44543,     0.53947, ...,           0,           0,           0]]), 'Confidence', 'F1'], [array([          0,    0.001001,    0.002002,    0.003003,    0.004004,    0.005005,    0.006006,    0.007007,    0.008008,    0.009009,     0.01001,    0.011011,    0.012012,    0.013013,    0.014014,    0.015015,    0.016016,    0.017017,    0.018018,    0.019019,     0.02002,    0.021021,    0.022022,    0.023023,\n",
              "          0.024024,    0.025025,    0.026026,    0.027027,    0.028028,    0.029029,     0.03003,    0.031031,    0.032032,    0.033033,    0.034034,    0.035035,    0.036036,    0.037037,    0.038038,    0.039039,     0.04004,    0.041041,    0.042042,    0.043043,    0.044044,    0.045045,    0.046046,    0.047047,\n",
              "          0.048048,    0.049049,     0.05005,    0.051051,    0.052052,    0.053053,    0.054054,    0.055055,    0.056056,    0.057057,    0.058058,    0.059059,     0.06006,    0.061061,    0.062062,    0.063063,    0.064064,    0.065065,    0.066066,    0.067067,    0.068068,    0.069069,     0.07007,    0.071071,\n",
              "          0.072072,    0.073073,    0.074074,    0.075075,    0.076076,    0.077077,    0.078078,    0.079079,     0.08008,    0.081081,    0.082082,    0.083083,    0.084084,    0.085085,    0.086086,    0.087087,    0.088088,    0.089089,     0.09009,    0.091091,    0.092092,    0.093093,    0.094094,    0.095095,\n",
              "          0.096096,    0.097097,    0.098098,    0.099099,      0.1001,      0.1011,      0.1021,      0.1031,      0.1041,     0.10511,     0.10611,     0.10711,     0.10811,     0.10911,     0.11011,     0.11111,     0.11211,     0.11311,     0.11411,     0.11512,     0.11612,     0.11712,     0.11812,     0.11912,\n",
              "           0.12012,     0.12112,     0.12212,     0.12312,     0.12412,     0.12513,     0.12613,     0.12713,     0.12813,     0.12913,     0.13013,     0.13113,     0.13213,     0.13313,     0.13413,     0.13514,     0.13614,     0.13714,     0.13814,     0.13914,     0.14014,     0.14114,     0.14214,     0.14314,\n",
              "           0.14414,     0.14515,     0.14615,     0.14715,     0.14815,     0.14915,     0.15015,     0.15115,     0.15215,     0.15315,     0.15415,     0.15516,     0.15616,     0.15716,     0.15816,     0.15916,     0.16016,     0.16116,     0.16216,     0.16316,     0.16416,     0.16517,     0.16617,     0.16717,\n",
              "           0.16817,     0.16917,     0.17017,     0.17117,     0.17217,     0.17317,     0.17417,     0.17518,     0.17618,     0.17718,     0.17818,     0.17918,     0.18018,     0.18118,     0.18218,     0.18318,     0.18418,     0.18519,     0.18619,     0.18719,     0.18819,     0.18919,     0.19019,     0.19119,\n",
              "           0.19219,     0.19319,     0.19419,      0.1952,      0.1962,      0.1972,      0.1982,      0.1992,      0.2002,      0.2012,      0.2022,      0.2032,      0.2042,     0.20521,     0.20621,     0.20721,     0.20821,     0.20921,     0.21021,     0.21121,     0.21221,     0.21321,     0.21421,     0.21522,\n",
              "           0.21622,     0.21722,     0.21822,     0.21922,     0.22022,     0.22122,     0.22222,     0.22322,     0.22422,     0.22523,     0.22623,     0.22723,     0.22823,     0.22923,     0.23023,     0.23123,     0.23223,     0.23323,     0.23423,     0.23524,     0.23624,     0.23724,     0.23824,     0.23924,\n",
              "           0.24024,     0.24124,     0.24224,     0.24324,     0.24424,     0.24525,     0.24625,     0.24725,     0.24825,     0.24925,     0.25025,     0.25125,     0.25225,     0.25325,     0.25425,     0.25526,     0.25626,     0.25726,     0.25826,     0.25926,     0.26026,     0.26126,     0.26226,     0.26326,\n",
              "           0.26426,     0.26527,     0.26627,     0.26727,     0.26827,     0.26927,     0.27027,     0.27127,     0.27227,     0.27327,     0.27427,     0.27528,     0.27628,     0.27728,     0.27828,     0.27928,     0.28028,     0.28128,     0.28228,     0.28328,     0.28428,     0.28529,     0.28629,     0.28729,\n",
              "           0.28829,     0.28929,     0.29029,     0.29129,     0.29229,     0.29329,     0.29429,      0.2953,      0.2963,      0.2973,      0.2983,      0.2993,      0.3003,      0.3013,      0.3023,      0.3033,      0.3043,     0.30531,     0.30631,     0.30731,     0.30831,     0.30931,     0.31031,     0.31131,\n",
              "           0.31231,     0.31331,     0.31431,     0.31532,     0.31632,     0.31732,     0.31832,     0.31932,     0.32032,     0.32132,     0.32232,     0.32332,     0.32432,     0.32533,     0.32633,     0.32733,     0.32833,     0.32933,     0.33033,     0.33133,     0.33233,     0.33333,     0.33433,     0.33534,\n",
              "           0.33634,     0.33734,     0.33834,     0.33934,     0.34034,     0.34134,     0.34234,     0.34334,     0.34434,     0.34535,     0.34635,     0.34735,     0.34835,     0.34935,     0.35035,     0.35135,     0.35235,     0.35335,     0.35435,     0.35536,     0.35636,     0.35736,     0.35836,     0.35936,\n",
              "           0.36036,     0.36136,     0.36236,     0.36336,     0.36436,     0.36537,     0.36637,     0.36737,     0.36837,     0.36937,     0.37037,     0.37137,     0.37237,     0.37337,     0.37437,     0.37538,     0.37638,     0.37738,     0.37838,     0.37938,     0.38038,     0.38138,     0.38238,     0.38338,\n",
              "           0.38438,     0.38539,     0.38639,     0.38739,     0.38839,     0.38939,     0.39039,     0.39139,     0.39239,     0.39339,     0.39439,      0.3954,      0.3964,      0.3974,      0.3984,      0.3994,      0.4004,      0.4014,      0.4024,      0.4034,      0.4044,     0.40541,     0.40641,     0.40741,\n",
              "           0.40841,     0.40941,     0.41041,     0.41141,     0.41241,     0.41341,     0.41441,     0.41542,     0.41642,     0.41742,     0.41842,     0.41942,     0.42042,     0.42142,     0.42242,     0.42342,     0.42442,     0.42543,     0.42643,     0.42743,     0.42843,     0.42943,     0.43043,     0.43143,\n",
              "           0.43243,     0.43343,     0.43443,     0.43544,     0.43644,     0.43744,     0.43844,     0.43944,     0.44044,     0.44144,     0.44244,     0.44344,     0.44444,     0.44545,     0.44645,     0.44745,     0.44845,     0.44945,     0.45045,     0.45145,     0.45245,     0.45345,     0.45445,     0.45546,\n",
              "           0.45646,     0.45746,     0.45846,     0.45946,     0.46046,     0.46146,     0.46246,     0.46346,     0.46446,     0.46547,     0.46647,     0.46747,     0.46847,     0.46947,     0.47047,     0.47147,     0.47247,     0.47347,     0.47447,     0.47548,     0.47648,     0.47748,     0.47848,     0.47948,\n",
              "           0.48048,     0.48148,     0.48248,     0.48348,     0.48448,     0.48549,     0.48649,     0.48749,     0.48849,     0.48949,     0.49049,     0.49149,     0.49249,     0.49349,     0.49449,      0.4955,      0.4965,      0.4975,      0.4985,      0.4995,      0.5005,      0.5015,      0.5025,      0.5035,\n",
              "            0.5045,     0.50551,     0.50651,     0.50751,     0.50851,     0.50951,     0.51051,     0.51151,     0.51251,     0.51351,     0.51451,     0.51552,     0.51652,     0.51752,     0.51852,     0.51952,     0.52052,     0.52152,     0.52252,     0.52352,     0.52452,     0.52553,     0.52653,     0.52753,\n",
              "           0.52853,     0.52953,     0.53053,     0.53153,     0.53253,     0.53353,     0.53453,     0.53554,     0.53654,     0.53754,     0.53854,     0.53954,     0.54054,     0.54154,     0.54254,     0.54354,     0.54454,     0.54555,     0.54655,     0.54755,     0.54855,     0.54955,     0.55055,     0.55155,\n",
              "           0.55255,     0.55355,     0.55455,     0.55556,     0.55656,     0.55756,     0.55856,     0.55956,     0.56056,     0.56156,     0.56256,     0.56356,     0.56456,     0.56557,     0.56657,     0.56757,     0.56857,     0.56957,     0.57057,     0.57157,     0.57257,     0.57357,     0.57457,     0.57558,\n",
              "           0.57658,     0.57758,     0.57858,     0.57958,     0.58058,     0.58158,     0.58258,     0.58358,     0.58458,     0.58559,     0.58659,     0.58759,     0.58859,     0.58959,     0.59059,     0.59159,     0.59259,     0.59359,     0.59459,      0.5956,      0.5966,      0.5976,      0.5986,      0.5996,\n",
              "            0.6006,      0.6016,      0.6026,      0.6036,      0.6046,     0.60561,     0.60661,     0.60761,     0.60861,     0.60961,     0.61061,     0.61161,     0.61261,     0.61361,     0.61461,     0.61562,     0.61662,     0.61762,     0.61862,     0.61962,     0.62062,     0.62162,     0.62262,     0.62362,\n",
              "           0.62462,     0.62563,     0.62663,     0.62763,     0.62863,     0.62963,     0.63063,     0.63163,     0.63263,     0.63363,     0.63463,     0.63564,     0.63664,     0.63764,     0.63864,     0.63964,     0.64064,     0.64164,     0.64264,     0.64364,     0.64464,     0.64565,     0.64665,     0.64765,\n",
              "           0.64865,     0.64965,     0.65065,     0.65165,     0.65265,     0.65365,     0.65465,     0.65566,     0.65666,     0.65766,     0.65866,     0.65966,     0.66066,     0.66166,     0.66266,     0.66366,     0.66466,     0.66567,     0.66667,     0.66767,     0.66867,     0.66967,     0.67067,     0.67167,\n",
              "           0.67267,     0.67367,     0.67467,     0.67568,     0.67668,     0.67768,     0.67868,     0.67968,     0.68068,     0.68168,     0.68268,     0.68368,     0.68468,     0.68569,     0.68669,     0.68769,     0.68869,     0.68969,     0.69069,     0.69169,     0.69269,     0.69369,     0.69469,      0.6957,\n",
              "            0.6967,      0.6977,      0.6987,      0.6997,      0.7007,      0.7017,      0.7027,      0.7037,      0.7047,     0.70571,     0.70671,     0.70771,     0.70871,     0.70971,     0.71071,     0.71171,     0.71271,     0.71371,     0.71471,     0.71572,     0.71672,     0.71772,     0.71872,     0.71972,\n",
              "           0.72072,     0.72172,     0.72272,     0.72372,     0.72472,     0.72573,     0.72673,     0.72773,     0.72873,     0.72973,     0.73073,     0.73173,     0.73273,     0.73373,     0.73473,     0.73574,     0.73674,     0.73774,     0.73874,     0.73974,     0.74074,     0.74174,     0.74274,     0.74374,\n",
              "           0.74474,     0.74575,     0.74675,     0.74775,     0.74875,     0.74975,     0.75075,     0.75175,     0.75275,     0.75375,     0.75475,     0.75576,     0.75676,     0.75776,     0.75876,     0.75976,     0.76076,     0.76176,     0.76276,     0.76376,     0.76476,     0.76577,     0.76677,     0.76777,\n",
              "           0.76877,     0.76977,     0.77077,     0.77177,     0.77277,     0.77377,     0.77477,     0.77578,     0.77678,     0.77778,     0.77878,     0.77978,     0.78078,     0.78178,     0.78278,     0.78378,     0.78478,     0.78579,     0.78679,     0.78779,     0.78879,     0.78979,     0.79079,     0.79179,\n",
              "           0.79279,     0.79379,     0.79479,      0.7958,      0.7968,      0.7978,      0.7988,      0.7998,      0.8008,      0.8018,      0.8028,      0.8038,      0.8048,     0.80581,     0.80681,     0.80781,     0.80881,     0.80981,     0.81081,     0.81181,     0.81281,     0.81381,     0.81481,     0.81582,\n",
              "           0.81682,     0.81782,     0.81882,     0.81982,     0.82082,     0.82182,     0.82282,     0.82382,     0.82482,     0.82583,     0.82683,     0.82783,     0.82883,     0.82983,     0.83083,     0.83183,     0.83283,     0.83383,     0.83483,     0.83584,     0.83684,     0.83784,     0.83884,     0.83984,\n",
              "           0.84084,     0.84184,     0.84284,     0.84384,     0.84484,     0.84585,     0.84685,     0.84785,     0.84885,     0.84985,     0.85085,     0.85185,     0.85285,     0.85385,     0.85485,     0.85586,     0.85686,     0.85786,     0.85886,     0.85986,     0.86086,     0.86186,     0.86286,     0.86386,\n",
              "           0.86486,     0.86587,     0.86687,     0.86787,     0.86887,     0.86987,     0.87087,     0.87187,     0.87287,     0.87387,     0.87487,     0.87588,     0.87688,     0.87788,     0.87888,     0.87988,     0.88088,     0.88188,     0.88288,     0.88388,     0.88488,     0.88589,     0.88689,     0.88789,\n",
              "           0.88889,     0.88989,     0.89089,     0.89189,     0.89289,     0.89389,     0.89489,      0.8959,      0.8969,      0.8979,      0.8989,      0.8999,      0.9009,      0.9019,      0.9029,      0.9039,      0.9049,     0.90591,     0.90691,     0.90791,     0.90891,     0.90991,     0.91091,     0.91191,\n",
              "           0.91291,     0.91391,     0.91491,     0.91592,     0.91692,     0.91792,     0.91892,     0.91992,     0.92092,     0.92192,     0.92292,     0.92392,     0.92492,     0.92593,     0.92693,     0.92793,     0.92893,     0.92993,     0.93093,     0.93193,     0.93293,     0.93393,     0.93493,     0.93594,\n",
              "           0.93694,     0.93794,     0.93894,     0.93994,     0.94094,     0.94194,     0.94294,     0.94394,     0.94494,     0.94595,     0.94695,     0.94795,     0.94895,     0.94995,     0.95095,     0.95195,     0.95295,     0.95395,     0.95495,     0.95596,     0.95696,     0.95796,     0.95896,     0.95996,\n",
              "           0.96096,     0.96196,     0.96296,     0.96396,     0.96496,     0.96597,     0.96697,     0.96797,     0.96897,     0.96997,     0.97097,     0.97197,     0.97297,     0.97397,     0.97497,     0.97598,     0.97698,     0.97798,     0.97898,     0.97998,     0.98098,     0.98198,     0.98298,     0.98398,\n",
              "           0.98498,     0.98599,     0.98699,     0.98799,     0.98899,     0.98999,     0.99099,     0.99199,     0.99299,     0.99399,     0.99499,       0.996,       0.997,       0.998,       0.999,           1]), array([[    0.20513,     0.20513,     0.24798, ...,           1,           1,           1],\n",
              "       [    0.21762,     0.21762,     0.27256, ...,           1,           1,           1],\n",
              "       [    0.13127,     0.13127,     0.17988, ...,           1,           1,           1],\n",
              "       ...,\n",
              "       [    0.12552,     0.12552,     0.18045, ...,           1,           1,           1],\n",
              "       [    0.11682,     0.11682,     0.16399, ...,           1,           1,           1],\n",
              "       [    0.28986,     0.28986,      0.3749, ...,           1,           1,           1]]), 'Confidence', 'Precision'], [array([          0,    0.001001,    0.002002,    0.003003,    0.004004,    0.005005,    0.006006,    0.007007,    0.008008,    0.009009,     0.01001,    0.011011,    0.012012,    0.013013,    0.014014,    0.015015,    0.016016,    0.017017,    0.018018,    0.019019,     0.02002,    0.021021,    0.022022,    0.023023,\n",
              "          0.024024,    0.025025,    0.026026,    0.027027,    0.028028,    0.029029,     0.03003,    0.031031,    0.032032,    0.033033,    0.034034,    0.035035,    0.036036,    0.037037,    0.038038,    0.039039,     0.04004,    0.041041,    0.042042,    0.043043,    0.044044,    0.045045,    0.046046,    0.047047,\n",
              "          0.048048,    0.049049,     0.05005,    0.051051,    0.052052,    0.053053,    0.054054,    0.055055,    0.056056,    0.057057,    0.058058,    0.059059,     0.06006,    0.061061,    0.062062,    0.063063,    0.064064,    0.065065,    0.066066,    0.067067,    0.068068,    0.069069,     0.07007,    0.071071,\n",
              "          0.072072,    0.073073,    0.074074,    0.075075,    0.076076,    0.077077,    0.078078,    0.079079,     0.08008,    0.081081,    0.082082,    0.083083,    0.084084,    0.085085,    0.086086,    0.087087,    0.088088,    0.089089,     0.09009,    0.091091,    0.092092,    0.093093,    0.094094,    0.095095,\n",
              "          0.096096,    0.097097,    0.098098,    0.099099,      0.1001,      0.1011,      0.1021,      0.1031,      0.1041,     0.10511,     0.10611,     0.10711,     0.10811,     0.10911,     0.11011,     0.11111,     0.11211,     0.11311,     0.11411,     0.11512,     0.11612,     0.11712,     0.11812,     0.11912,\n",
              "           0.12012,     0.12112,     0.12212,     0.12312,     0.12412,     0.12513,     0.12613,     0.12713,     0.12813,     0.12913,     0.13013,     0.13113,     0.13213,     0.13313,     0.13413,     0.13514,     0.13614,     0.13714,     0.13814,     0.13914,     0.14014,     0.14114,     0.14214,     0.14314,\n",
              "           0.14414,     0.14515,     0.14615,     0.14715,     0.14815,     0.14915,     0.15015,     0.15115,     0.15215,     0.15315,     0.15415,     0.15516,     0.15616,     0.15716,     0.15816,     0.15916,     0.16016,     0.16116,     0.16216,     0.16316,     0.16416,     0.16517,     0.16617,     0.16717,\n",
              "           0.16817,     0.16917,     0.17017,     0.17117,     0.17217,     0.17317,     0.17417,     0.17518,     0.17618,     0.17718,     0.17818,     0.17918,     0.18018,     0.18118,     0.18218,     0.18318,     0.18418,     0.18519,     0.18619,     0.18719,     0.18819,     0.18919,     0.19019,     0.19119,\n",
              "           0.19219,     0.19319,     0.19419,      0.1952,      0.1962,      0.1972,      0.1982,      0.1992,      0.2002,      0.2012,      0.2022,      0.2032,      0.2042,     0.20521,     0.20621,     0.20721,     0.20821,     0.20921,     0.21021,     0.21121,     0.21221,     0.21321,     0.21421,     0.21522,\n",
              "           0.21622,     0.21722,     0.21822,     0.21922,     0.22022,     0.22122,     0.22222,     0.22322,     0.22422,     0.22523,     0.22623,     0.22723,     0.22823,     0.22923,     0.23023,     0.23123,     0.23223,     0.23323,     0.23423,     0.23524,     0.23624,     0.23724,     0.23824,     0.23924,\n",
              "           0.24024,     0.24124,     0.24224,     0.24324,     0.24424,     0.24525,     0.24625,     0.24725,     0.24825,     0.24925,     0.25025,     0.25125,     0.25225,     0.25325,     0.25425,     0.25526,     0.25626,     0.25726,     0.25826,     0.25926,     0.26026,     0.26126,     0.26226,     0.26326,\n",
              "           0.26426,     0.26527,     0.26627,     0.26727,     0.26827,     0.26927,     0.27027,     0.27127,     0.27227,     0.27327,     0.27427,     0.27528,     0.27628,     0.27728,     0.27828,     0.27928,     0.28028,     0.28128,     0.28228,     0.28328,     0.28428,     0.28529,     0.28629,     0.28729,\n",
              "           0.28829,     0.28929,     0.29029,     0.29129,     0.29229,     0.29329,     0.29429,      0.2953,      0.2963,      0.2973,      0.2983,      0.2993,      0.3003,      0.3013,      0.3023,      0.3033,      0.3043,     0.30531,     0.30631,     0.30731,     0.30831,     0.30931,     0.31031,     0.31131,\n",
              "           0.31231,     0.31331,     0.31431,     0.31532,     0.31632,     0.31732,     0.31832,     0.31932,     0.32032,     0.32132,     0.32232,     0.32332,     0.32432,     0.32533,     0.32633,     0.32733,     0.32833,     0.32933,     0.33033,     0.33133,     0.33233,     0.33333,     0.33433,     0.33534,\n",
              "           0.33634,     0.33734,     0.33834,     0.33934,     0.34034,     0.34134,     0.34234,     0.34334,     0.34434,     0.34535,     0.34635,     0.34735,     0.34835,     0.34935,     0.35035,     0.35135,     0.35235,     0.35335,     0.35435,     0.35536,     0.35636,     0.35736,     0.35836,     0.35936,\n",
              "           0.36036,     0.36136,     0.36236,     0.36336,     0.36436,     0.36537,     0.36637,     0.36737,     0.36837,     0.36937,     0.37037,     0.37137,     0.37237,     0.37337,     0.37437,     0.37538,     0.37638,     0.37738,     0.37838,     0.37938,     0.38038,     0.38138,     0.38238,     0.38338,\n",
              "           0.38438,     0.38539,     0.38639,     0.38739,     0.38839,     0.38939,     0.39039,     0.39139,     0.39239,     0.39339,     0.39439,      0.3954,      0.3964,      0.3974,      0.3984,      0.3994,      0.4004,      0.4014,      0.4024,      0.4034,      0.4044,     0.40541,     0.40641,     0.40741,\n",
              "           0.40841,     0.40941,     0.41041,     0.41141,     0.41241,     0.41341,     0.41441,     0.41542,     0.41642,     0.41742,     0.41842,     0.41942,     0.42042,     0.42142,     0.42242,     0.42342,     0.42442,     0.42543,     0.42643,     0.42743,     0.42843,     0.42943,     0.43043,     0.43143,\n",
              "           0.43243,     0.43343,     0.43443,     0.43544,     0.43644,     0.43744,     0.43844,     0.43944,     0.44044,     0.44144,     0.44244,     0.44344,     0.44444,     0.44545,     0.44645,     0.44745,     0.44845,     0.44945,     0.45045,     0.45145,     0.45245,     0.45345,     0.45445,     0.45546,\n",
              "           0.45646,     0.45746,     0.45846,     0.45946,     0.46046,     0.46146,     0.46246,     0.46346,     0.46446,     0.46547,     0.46647,     0.46747,     0.46847,     0.46947,     0.47047,     0.47147,     0.47247,     0.47347,     0.47447,     0.47548,     0.47648,     0.47748,     0.47848,     0.47948,\n",
              "           0.48048,     0.48148,     0.48248,     0.48348,     0.48448,     0.48549,     0.48649,     0.48749,     0.48849,     0.48949,     0.49049,     0.49149,     0.49249,     0.49349,     0.49449,      0.4955,      0.4965,      0.4975,      0.4985,      0.4995,      0.5005,      0.5015,      0.5025,      0.5035,\n",
              "            0.5045,     0.50551,     0.50651,     0.50751,     0.50851,     0.50951,     0.51051,     0.51151,     0.51251,     0.51351,     0.51451,     0.51552,     0.51652,     0.51752,     0.51852,     0.51952,     0.52052,     0.52152,     0.52252,     0.52352,     0.52452,     0.52553,     0.52653,     0.52753,\n",
              "           0.52853,     0.52953,     0.53053,     0.53153,     0.53253,     0.53353,     0.53453,     0.53554,     0.53654,     0.53754,     0.53854,     0.53954,     0.54054,     0.54154,     0.54254,     0.54354,     0.54454,     0.54555,     0.54655,     0.54755,     0.54855,     0.54955,     0.55055,     0.55155,\n",
              "           0.55255,     0.55355,     0.55455,     0.55556,     0.55656,     0.55756,     0.55856,     0.55956,     0.56056,     0.56156,     0.56256,     0.56356,     0.56456,     0.56557,     0.56657,     0.56757,     0.56857,     0.56957,     0.57057,     0.57157,     0.57257,     0.57357,     0.57457,     0.57558,\n",
              "           0.57658,     0.57758,     0.57858,     0.57958,     0.58058,     0.58158,     0.58258,     0.58358,     0.58458,     0.58559,     0.58659,     0.58759,     0.58859,     0.58959,     0.59059,     0.59159,     0.59259,     0.59359,     0.59459,      0.5956,      0.5966,      0.5976,      0.5986,      0.5996,\n",
              "            0.6006,      0.6016,      0.6026,      0.6036,      0.6046,     0.60561,     0.60661,     0.60761,     0.60861,     0.60961,     0.61061,     0.61161,     0.61261,     0.61361,     0.61461,     0.61562,     0.61662,     0.61762,     0.61862,     0.61962,     0.62062,     0.62162,     0.62262,     0.62362,\n",
              "           0.62462,     0.62563,     0.62663,     0.62763,     0.62863,     0.62963,     0.63063,     0.63163,     0.63263,     0.63363,     0.63463,     0.63564,     0.63664,     0.63764,     0.63864,     0.63964,     0.64064,     0.64164,     0.64264,     0.64364,     0.64464,     0.64565,     0.64665,     0.64765,\n",
              "           0.64865,     0.64965,     0.65065,     0.65165,     0.65265,     0.65365,     0.65465,     0.65566,     0.65666,     0.65766,     0.65866,     0.65966,     0.66066,     0.66166,     0.66266,     0.66366,     0.66466,     0.66567,     0.66667,     0.66767,     0.66867,     0.66967,     0.67067,     0.67167,\n",
              "           0.67267,     0.67367,     0.67467,     0.67568,     0.67668,     0.67768,     0.67868,     0.67968,     0.68068,     0.68168,     0.68268,     0.68368,     0.68468,     0.68569,     0.68669,     0.68769,     0.68869,     0.68969,     0.69069,     0.69169,     0.69269,     0.69369,     0.69469,      0.6957,\n",
              "            0.6967,      0.6977,      0.6987,      0.6997,      0.7007,      0.7017,      0.7027,      0.7037,      0.7047,     0.70571,     0.70671,     0.70771,     0.70871,     0.70971,     0.71071,     0.71171,     0.71271,     0.71371,     0.71471,     0.71572,     0.71672,     0.71772,     0.71872,     0.71972,\n",
              "           0.72072,     0.72172,     0.72272,     0.72372,     0.72472,     0.72573,     0.72673,     0.72773,     0.72873,     0.72973,     0.73073,     0.73173,     0.73273,     0.73373,     0.73473,     0.73574,     0.73674,     0.73774,     0.73874,     0.73974,     0.74074,     0.74174,     0.74274,     0.74374,\n",
              "           0.74474,     0.74575,     0.74675,     0.74775,     0.74875,     0.74975,     0.75075,     0.75175,     0.75275,     0.75375,     0.75475,     0.75576,     0.75676,     0.75776,     0.75876,     0.75976,     0.76076,     0.76176,     0.76276,     0.76376,     0.76476,     0.76577,     0.76677,     0.76777,\n",
              "           0.76877,     0.76977,     0.77077,     0.77177,     0.77277,     0.77377,     0.77477,     0.77578,     0.77678,     0.77778,     0.77878,     0.77978,     0.78078,     0.78178,     0.78278,     0.78378,     0.78478,     0.78579,     0.78679,     0.78779,     0.78879,     0.78979,     0.79079,     0.79179,\n",
              "           0.79279,     0.79379,     0.79479,      0.7958,      0.7968,      0.7978,      0.7988,      0.7998,      0.8008,      0.8018,      0.8028,      0.8038,      0.8048,     0.80581,     0.80681,     0.80781,     0.80881,     0.80981,     0.81081,     0.81181,     0.81281,     0.81381,     0.81481,     0.81582,\n",
              "           0.81682,     0.81782,     0.81882,     0.81982,     0.82082,     0.82182,     0.82282,     0.82382,     0.82482,     0.82583,     0.82683,     0.82783,     0.82883,     0.82983,     0.83083,     0.83183,     0.83283,     0.83383,     0.83483,     0.83584,     0.83684,     0.83784,     0.83884,     0.83984,\n",
              "           0.84084,     0.84184,     0.84284,     0.84384,     0.84484,     0.84585,     0.84685,     0.84785,     0.84885,     0.84985,     0.85085,     0.85185,     0.85285,     0.85385,     0.85485,     0.85586,     0.85686,     0.85786,     0.85886,     0.85986,     0.86086,     0.86186,     0.86286,     0.86386,\n",
              "           0.86486,     0.86587,     0.86687,     0.86787,     0.86887,     0.86987,     0.87087,     0.87187,     0.87287,     0.87387,     0.87487,     0.87588,     0.87688,     0.87788,     0.87888,     0.87988,     0.88088,     0.88188,     0.88288,     0.88388,     0.88488,     0.88589,     0.88689,     0.88789,\n",
              "           0.88889,     0.88989,     0.89089,     0.89189,     0.89289,     0.89389,     0.89489,      0.8959,      0.8969,      0.8979,      0.8989,      0.8999,      0.9009,      0.9019,      0.9029,      0.9039,      0.9049,     0.90591,     0.90691,     0.90791,     0.90891,     0.90991,     0.91091,     0.91191,\n",
              "           0.91291,     0.91391,     0.91491,     0.91592,     0.91692,     0.91792,     0.91892,     0.91992,     0.92092,     0.92192,     0.92292,     0.92392,     0.92492,     0.92593,     0.92693,     0.92793,     0.92893,     0.92993,     0.93093,     0.93193,     0.93293,     0.93393,     0.93493,     0.93594,\n",
              "           0.93694,     0.93794,     0.93894,     0.93994,     0.94094,     0.94194,     0.94294,     0.94394,     0.94494,     0.94595,     0.94695,     0.94795,     0.94895,     0.94995,     0.95095,     0.95195,     0.95295,     0.95395,     0.95495,     0.95596,     0.95696,     0.95796,     0.95896,     0.95996,\n",
              "           0.96096,     0.96196,     0.96296,     0.96396,     0.96496,     0.96597,     0.96697,     0.96797,     0.96897,     0.96997,     0.97097,     0.97197,     0.97297,     0.97397,     0.97497,     0.97598,     0.97698,     0.97798,     0.97898,     0.97998,     0.98098,     0.98198,     0.98298,     0.98398,\n",
              "           0.98498,     0.98599,     0.98699,     0.98799,     0.98899,     0.98999,     0.99099,     0.99199,     0.99299,     0.99399,     0.99499,       0.996,       0.997,       0.998,       0.999,           1]), array([[    0.95238,     0.95238,     0.88095, ...,           0,           0,           0],\n",
              "       [    0.95455,     0.95455,     0.95455, ...,           0,           0,           0],\n",
              "       [    0.89474,     0.89474,     0.89474, ...,           0,           0,           0],\n",
              "       ...,\n",
              "       [    0.96774,     0.96774,     0.96774, ...,           0,           0,           0],\n",
              "       [    0.96154,     0.96154,     0.96154, ...,           0,           0,           0],\n",
              "       [    0.96154,     0.96154,     0.96154, ...,           0,           0,           0]]), 'Confidence', 'Recall']]\n",
              "fitness: 0.7407445315659682\n",
              "keys: ['metrics/precision(B)', 'metrics/recall(B)', 'metrics/mAP50(B)', 'metrics/mAP50-95(B)']\n",
              "maps: array([    0.56933,     0.80066,      0.5738,     0.77307,     0.76621,     0.74925,     0.62048,     0.77714,     0.82259,     0.83892])\n",
              "names: {0: 'Bear', 1: 'Brown bear', 2: 'Camel', 3: 'Cheetah', 4: 'Crocodile', 5: 'Deer', 6: 'Elephant', 7: 'Giraffe', 8: 'Tiger', 9: 'Lion'}\n",
              "plot: True\n",
              "results_dict: {'metrics/precision(B)': 0.8185675271142788, 'metrics/recall(B)': 0.8012399581914333, 'metrics/mAP50(B)': 0.8451401613563542, 'metrics/mAP50-95(B)': 0.7291450171448143, 'fitness': 0.7407445315659682}\n",
              "save_dir: PosixPath('runs/detect/train')\n",
              "speed: {'preprocess': 0.33934720574992977, 'inference': 7.371460329996396, 'loss': 0.0007720026251387922, 'postprocess': 2.790159558596676}\n",
              "task: 'detect'"
            ]
          },
          "metadata": {},
          "execution_count": 17
        }
      ]
    },
    {
      "cell_type": "code",
      "source": [
        "#Now using the trained model\n",
        "infer=YOLO('/content/gdrive/MyDrive/data_sets/Dataset_2/runs/detect/train/weights/best.pt')"
      ],
      "metadata": {
        "id": "f_eQ-afewWoa"
      },
      "execution_count": null,
      "outputs": []
    },
    {
      "cell_type": "code",
      "source": [
        "#Testing the model for a video\n",
        "results=infer.predict('/content/gdrive/MyDrive/data_sets/Dataset_2/Animal_TestVideo.mp4',save=True,stream=True)"
      ],
      "metadata": {
        "id": "LNLyOWC-Bzyi"
      },
      "execution_count": null,
      "outputs": []
    },
    {
      "cell_type": "code",
      "source": [
        "#Classification\n",
        "main_animal=[\"Bears\",\"Brown bears\",\"Camels\",\"Cheetahs\",\"Crocodiles\",\"Deers\",\"Elephants\",\"Giraffes\",\"Tigers\",\"Lions\"]\n",
        "#Retriving the animals detected\n",
        "main_list=[]\n",
        "class_label=[]\n",
        "for r in results:\n",
        "  class_label=r.verbose().split(',')\n",
        "  main_list.extend(class_label)\n",
        "\n",
        "main_list=set(main_list)\n",
        "main_list=list(main_list)\n",
        "\n",
        "\n",
        "def extractName(a_list):\n",
        "    nlist = [' '.join([y for y in x.split(' ') if not y.isdigit()]) for x in a_list if len(x.split(' ')[-1])>0]\n",
        "    rlist = [x+'s' if x[-1] != 's' else x for x in nlist]\n",
        "    rlist=set(rlist)\n",
        "    return list(rlist)\n",
        "animals=extractName(main_list)\n",
        "print(animals)"
      ],
      "metadata": {
        "id": "RgfQT5VHB2MW",
        "colab": {
          "base_uri": "https://localhost:8080/"
        },
        "outputId": "dc67af01-780f-4a68-9c01-4ea956a68103"
      },
      "execution_count": null,
      "outputs": [
        {
          "output_type": "stream",
          "name": "stdout",
          "text": [
            "\n",
            "WARNING ⚠️ NMS time limit 0.550s exceeded\n",
            "video 1/1 (1/2628) /content/gdrive/MyDrive/data_sets/Dataset_2/Animal_TestVideo.mp4: 384x640 4 Elephants, 89.6ms\n",
            "video 1/1 (2/2628) /content/gdrive/MyDrive/data_sets/Dataset_2/Animal_TestVideo.mp4: 384x640 4 Elephants, 25.2ms\n",
            "video 1/1 (3/2628) /content/gdrive/MyDrive/data_sets/Dataset_2/Animal_TestVideo.mp4: 384x640 3 Elephants, 26.2ms\n",
            "video 1/1 (4/2628) /content/gdrive/MyDrive/data_sets/Dataset_2/Animal_TestVideo.mp4: 384x640 4 Elephants, 26.2ms\n",
            "video 1/1 (5/2628) /content/gdrive/MyDrive/data_sets/Dataset_2/Animal_TestVideo.mp4: 384x640 4 Elephants, 26.0ms\n",
            "video 1/1 (6/2628) /content/gdrive/MyDrive/data_sets/Dataset_2/Animal_TestVideo.mp4: 384x640 4 Elephants, 25.2ms\n",
            "video 1/1 (7/2628) /content/gdrive/MyDrive/data_sets/Dataset_2/Animal_TestVideo.mp4: 384x640 4 Elephants, 25.1ms\n",
            "video 1/1 (8/2628) /content/gdrive/MyDrive/data_sets/Dataset_2/Animal_TestVideo.mp4: 384x640 4 Elephants, 25.2ms\n",
            "video 1/1 (9/2628) /content/gdrive/MyDrive/data_sets/Dataset_2/Animal_TestVideo.mp4: 384x640 4 Elephants, 25.4ms\n",
            "video 1/1 (10/2628) /content/gdrive/MyDrive/data_sets/Dataset_2/Animal_TestVideo.mp4: 384x640 4 Elephants, 25.2ms\n",
            "video 1/1 (11/2628) /content/gdrive/MyDrive/data_sets/Dataset_2/Animal_TestVideo.mp4: 384x640 4 Elephants, 25.8ms\n",
            "video 1/1 (12/2628) /content/gdrive/MyDrive/data_sets/Dataset_2/Animal_TestVideo.mp4: 384x640 2 Elephants, 25.3ms\n",
            "video 1/1 (13/2628) /content/gdrive/MyDrive/data_sets/Dataset_2/Animal_TestVideo.mp4: 384x640 3 Elephants, 27.8ms\n",
            "video 1/1 (14/2628) /content/gdrive/MyDrive/data_sets/Dataset_2/Animal_TestVideo.mp4: 384x640 2 Elephants, 25.2ms\n",
            "video 1/1 (15/2628) /content/gdrive/MyDrive/data_sets/Dataset_2/Animal_TestVideo.mp4: 384x640 2 Elephants, 25.2ms\n",
            "video 1/1 (16/2628) /content/gdrive/MyDrive/data_sets/Dataset_2/Animal_TestVideo.mp4: 384x640 2 Elephants, 25.2ms\n",
            "video 1/1 (17/2628) /content/gdrive/MyDrive/data_sets/Dataset_2/Animal_TestVideo.mp4: 384x640 2 Elephants, 29.0ms\n",
            "video 1/1 (18/2628) /content/gdrive/MyDrive/data_sets/Dataset_2/Animal_TestVideo.mp4: 384x640 2 Elephants, 25.2ms\n",
            "video 1/1 (19/2628) /content/gdrive/MyDrive/data_sets/Dataset_2/Animal_TestVideo.mp4: 384x640 2 Elephants, 25.2ms\n",
            "video 1/1 (20/2628) /content/gdrive/MyDrive/data_sets/Dataset_2/Animal_TestVideo.mp4: 384x640 2 Elephants, 25.3ms\n",
            "video 1/1 (21/2628) /content/gdrive/MyDrive/data_sets/Dataset_2/Animal_TestVideo.mp4: 384x640 2 Elephants, 25.2ms\n",
            "video 1/1 (22/2628) /content/gdrive/MyDrive/data_sets/Dataset_2/Animal_TestVideo.mp4: 384x640 4 Elephants, 25.5ms\n",
            "video 1/1 (23/2628) /content/gdrive/MyDrive/data_sets/Dataset_2/Animal_TestVideo.mp4: 384x640 4 Elephants, 26.7ms\n",
            "video 1/1 (24/2628) /content/gdrive/MyDrive/data_sets/Dataset_2/Animal_TestVideo.mp4: 384x640 4 Elephants, 25.2ms\n",
            "video 1/1 (25/2628) /content/gdrive/MyDrive/data_sets/Dataset_2/Animal_TestVideo.mp4: 384x640 4 Elephants, 25.3ms\n",
            "video 1/1 (26/2628) /content/gdrive/MyDrive/data_sets/Dataset_2/Animal_TestVideo.mp4: 384x640 4 Elephants, 25.2ms\n",
            "video 1/1 (27/2628) /content/gdrive/MyDrive/data_sets/Dataset_2/Animal_TestVideo.mp4: 384x640 4 Elephants, 25.2ms\n",
            "video 1/1 (28/2628) /content/gdrive/MyDrive/data_sets/Dataset_2/Animal_TestVideo.mp4: 384x640 4 Elephants, 25.2ms\n",
            "video 1/1 (29/2628) /content/gdrive/MyDrive/data_sets/Dataset_2/Animal_TestVideo.mp4: 384x640 4 Elephants, 26.1ms\n",
            "video 1/1 (30/2628) /content/gdrive/MyDrive/data_sets/Dataset_2/Animal_TestVideo.mp4: 384x640 2 Elephants, 25.2ms\n",
            "video 1/1 (31/2628) /content/gdrive/MyDrive/data_sets/Dataset_2/Animal_TestVideo.mp4: 384x640 2 Elephants, 26.4ms\n",
            "video 1/1 (32/2628) /content/gdrive/MyDrive/data_sets/Dataset_2/Animal_TestVideo.mp4: 384x640 2 Elephants, 25.4ms\n",
            "video 1/1 (33/2628) /content/gdrive/MyDrive/data_sets/Dataset_2/Animal_TestVideo.mp4: 384x640 2 Elephants, 25.7ms\n",
            "video 1/1 (34/2628) /content/gdrive/MyDrive/data_sets/Dataset_2/Animal_TestVideo.mp4: 384x640 2 Elephants, 25.3ms\n",
            "video 1/1 (35/2628) /content/gdrive/MyDrive/data_sets/Dataset_2/Animal_TestVideo.mp4: 384x640 2 Elephants, 25.4ms\n",
            "video 1/1 (36/2628) /content/gdrive/MyDrive/data_sets/Dataset_2/Animal_TestVideo.mp4: 384x640 2 Elephants, 25.6ms\n",
            "video 1/1 (37/2628) /content/gdrive/MyDrive/data_sets/Dataset_2/Animal_TestVideo.mp4: 384x640 2 Elephants, 25.3ms\n",
            "video 1/1 (38/2628) /content/gdrive/MyDrive/data_sets/Dataset_2/Animal_TestVideo.mp4: 384x640 2 Elephants, 25.2ms\n",
            "video 1/1 (39/2628) /content/gdrive/MyDrive/data_sets/Dataset_2/Animal_TestVideo.mp4: 384x640 2 Elephants, 25.2ms\n",
            "video 1/1 (40/2628) /content/gdrive/MyDrive/data_sets/Dataset_2/Animal_TestVideo.mp4: 384x640 2 Elephants, 25.2ms\n",
            "video 1/1 (41/2628) /content/gdrive/MyDrive/data_sets/Dataset_2/Animal_TestVideo.mp4: 384x640 2 Elephants, 25.2ms\n",
            "video 1/1 (42/2628) /content/gdrive/MyDrive/data_sets/Dataset_2/Animal_TestVideo.mp4: 384x640 2 Elephants, 25.2ms\n",
            "video 1/1 (43/2628) /content/gdrive/MyDrive/data_sets/Dataset_2/Animal_TestVideo.mp4: 384x640 2 Elephants, 25.2ms\n",
            "video 1/1 (44/2628) /content/gdrive/MyDrive/data_sets/Dataset_2/Animal_TestVideo.mp4: 384x640 2 Elephants, 25.2ms\n",
            "video 1/1 (45/2628) /content/gdrive/MyDrive/data_sets/Dataset_2/Animal_TestVideo.mp4: 384x640 2 Elephants, 25.2ms\n",
            "video 1/1 (46/2628) /content/gdrive/MyDrive/data_sets/Dataset_2/Animal_TestVideo.mp4: 384x640 2 Elephants, 27.1ms\n",
            "video 1/1 (47/2628) /content/gdrive/MyDrive/data_sets/Dataset_2/Animal_TestVideo.mp4: 384x640 2 Elephants, 25.2ms\n",
            "video 1/1 (48/2628) /content/gdrive/MyDrive/data_sets/Dataset_2/Animal_TestVideo.mp4: 384x640 2 Elephants, 25.2ms\n",
            "video 1/1 (49/2628) /content/gdrive/MyDrive/data_sets/Dataset_2/Animal_TestVideo.mp4: 384x640 2 Elephants, 25.2ms\n",
            "video 1/1 (50/2628) /content/gdrive/MyDrive/data_sets/Dataset_2/Animal_TestVideo.mp4: 384x640 2 Elephants, 25.3ms\n",
            "video 1/1 (51/2628) /content/gdrive/MyDrive/data_sets/Dataset_2/Animal_TestVideo.mp4: 384x640 2 Elephants, 26.2ms\n",
            "video 1/1 (52/2628) /content/gdrive/MyDrive/data_sets/Dataset_2/Animal_TestVideo.mp4: 384x640 2 Elephants, 25.1ms\n",
            "video 1/1 (53/2628) /content/gdrive/MyDrive/data_sets/Dataset_2/Animal_TestVideo.mp4: 384x640 2 Elephants, 25.2ms\n",
            "video 1/1 (54/2628) /content/gdrive/MyDrive/data_sets/Dataset_2/Animal_TestVideo.mp4: 384x640 2 Elephants, 25.1ms\n",
            "video 1/1 (55/2628) /content/gdrive/MyDrive/data_sets/Dataset_2/Animal_TestVideo.mp4: 384x640 2 Elephants, 25.2ms\n",
            "video 1/1 (56/2628) /content/gdrive/MyDrive/data_sets/Dataset_2/Animal_TestVideo.mp4: 384x640 2 Elephants, 25.2ms\n",
            "video 1/1 (57/2628) /content/gdrive/MyDrive/data_sets/Dataset_2/Animal_TestVideo.mp4: 384x640 2 Elephants, 25.3ms\n",
            "video 1/1 (58/2628) /content/gdrive/MyDrive/data_sets/Dataset_2/Animal_TestVideo.mp4: 384x640 2 Elephants, 25.2ms\n",
            "video 1/1 (59/2628) /content/gdrive/MyDrive/data_sets/Dataset_2/Animal_TestVideo.mp4: 384x640 2 Elephants, 25.1ms\n",
            "video 1/1 (60/2628) /content/gdrive/MyDrive/data_sets/Dataset_2/Animal_TestVideo.mp4: 384x640 2 Elephants, 25.4ms\n",
            "video 1/1 (61/2628) /content/gdrive/MyDrive/data_sets/Dataset_2/Animal_TestVideo.mp4: 384x640 2 Elephants, 25.2ms\n",
            "video 1/1 (62/2628) /content/gdrive/MyDrive/data_sets/Dataset_2/Animal_TestVideo.mp4: 384x640 2 Elephants, 25.1ms\n",
            "video 1/1 (63/2628) /content/gdrive/MyDrive/data_sets/Dataset_2/Animal_TestVideo.mp4: 384x640 2 Elephants, 25.2ms\n",
            "video 1/1 (64/2628) /content/gdrive/MyDrive/data_sets/Dataset_2/Animal_TestVideo.mp4: 384x640 2 Elephants, 25.1ms\n",
            "video 1/1 (65/2628) /content/gdrive/MyDrive/data_sets/Dataset_2/Animal_TestVideo.mp4: 384x640 2 Elephants, 25.1ms\n",
            "video 1/1 (66/2628) /content/gdrive/MyDrive/data_sets/Dataset_2/Animal_TestVideo.mp4: 384x640 2 Elephants, 25.1ms\n",
            "video 1/1 (67/2628) /content/gdrive/MyDrive/data_sets/Dataset_2/Animal_TestVideo.mp4: 384x640 2 Elephants, 25.3ms\n",
            "video 1/1 (68/2628) /content/gdrive/MyDrive/data_sets/Dataset_2/Animal_TestVideo.mp4: 384x640 2 Elephants, 27.5ms\n",
            "video 1/1 (69/2628) /content/gdrive/MyDrive/data_sets/Dataset_2/Animal_TestVideo.mp4: 384x640 2 Elephants, 25.2ms\n",
            "video 1/1 (70/2628) /content/gdrive/MyDrive/data_sets/Dataset_2/Animal_TestVideo.mp4: 384x640 2 Elephants, 25.1ms\n",
            "video 1/1 (71/2628) /content/gdrive/MyDrive/data_sets/Dataset_2/Animal_TestVideo.mp4: 384x640 2 Elephants, 25.2ms\n",
            "video 1/1 (72/2628) /content/gdrive/MyDrive/data_sets/Dataset_2/Animal_TestVideo.mp4: 384x640 2 Elephants, 25.1ms\n",
            "video 1/1 (73/2628) /content/gdrive/MyDrive/data_sets/Dataset_2/Animal_TestVideo.mp4: 384x640 2 Elephants, 25.2ms\n",
            "video 1/1 (74/2628) /content/gdrive/MyDrive/data_sets/Dataset_2/Animal_TestVideo.mp4: 384x640 2 Elephants, 25.1ms\n",
            "video 1/1 (75/2628) /content/gdrive/MyDrive/data_sets/Dataset_2/Animal_TestVideo.mp4: 384x640 2 Elephants, 25.1ms\n",
            "video 1/1 (76/2628) /content/gdrive/MyDrive/data_sets/Dataset_2/Animal_TestVideo.mp4: 384x640 2 Elephants, 25.1ms\n",
            "video 1/1 (77/2628) /content/gdrive/MyDrive/data_sets/Dataset_2/Animal_TestVideo.mp4: 384x640 2 Elephants, 25.2ms\n",
            "video 1/1 (78/2628) /content/gdrive/MyDrive/data_sets/Dataset_2/Animal_TestVideo.mp4: 384x640 2 Elephants, 25.2ms\n",
            "video 1/1 (79/2628) /content/gdrive/MyDrive/data_sets/Dataset_2/Animal_TestVideo.mp4: 384x640 2 Elephants, 25.1ms\n",
            "video 1/1 (80/2628) /content/gdrive/MyDrive/data_sets/Dataset_2/Animal_TestVideo.mp4: 384x640 2 Elephants, 25.1ms\n",
            "video 1/1 (81/2628) /content/gdrive/MyDrive/data_sets/Dataset_2/Animal_TestVideo.mp4: 384x640 2 Elephants, 25.2ms\n",
            "video 1/1 (82/2628) /content/gdrive/MyDrive/data_sets/Dataset_2/Animal_TestVideo.mp4: 384x640 2 Elephants, 25.3ms\n",
            "video 1/1 (83/2628) /content/gdrive/MyDrive/data_sets/Dataset_2/Animal_TestVideo.mp4: 384x640 2 Elephants, 25.2ms\n",
            "video 1/1 (84/2628) /content/gdrive/MyDrive/data_sets/Dataset_2/Animal_TestVideo.mp4: 384x640 2 Elephants, 25.2ms\n",
            "video 1/1 (85/2628) /content/gdrive/MyDrive/data_sets/Dataset_2/Animal_TestVideo.mp4: 384x640 2 Elephants, 25.6ms\n",
            "video 1/1 (86/2628) /content/gdrive/MyDrive/data_sets/Dataset_2/Animal_TestVideo.mp4: 384x640 2 Elephants, 25.1ms\n",
            "video 1/1 (87/2628) /content/gdrive/MyDrive/data_sets/Dataset_2/Animal_TestVideo.mp4: 384x640 2 Elephants, 25.2ms\n",
            "video 1/1 (88/2628) /content/gdrive/MyDrive/data_sets/Dataset_2/Animal_TestVideo.mp4: 384x640 2 Elephants, 25.3ms\n",
            "video 1/1 (89/2628) /content/gdrive/MyDrive/data_sets/Dataset_2/Animal_TestVideo.mp4: 384x640 2 Elephants, 25.2ms\n",
            "video 1/1 (90/2628) /content/gdrive/MyDrive/data_sets/Dataset_2/Animal_TestVideo.mp4: 384x640 2 Elephants, 25.2ms\n",
            "video 1/1 (91/2628) /content/gdrive/MyDrive/data_sets/Dataset_2/Animal_TestVideo.mp4: 384x640 2 Elephants, 25.1ms\n",
            "video 1/1 (92/2628) /content/gdrive/MyDrive/data_sets/Dataset_2/Animal_TestVideo.mp4: 384x640 2 Elephants, 25.6ms\n",
            "video 1/1 (93/2628) /content/gdrive/MyDrive/data_sets/Dataset_2/Animal_TestVideo.mp4: 384x640 2 Elephants, 25.1ms\n",
            "video 1/1 (94/2628) /content/gdrive/MyDrive/data_sets/Dataset_2/Animal_TestVideo.mp4: 384x640 2 Elephants, 25.2ms\n",
            "video 1/1 (95/2628) /content/gdrive/MyDrive/data_sets/Dataset_2/Animal_TestVideo.mp4: 384x640 2 Elephants, 25.2ms\n",
            "video 1/1 (96/2628) /content/gdrive/MyDrive/data_sets/Dataset_2/Animal_TestVideo.mp4: 384x640 2 Elephants, 25.1ms\n",
            "video 1/1 (97/2628) /content/gdrive/MyDrive/data_sets/Dataset_2/Animal_TestVideo.mp4: 384x640 2 Elephants, 25.2ms\n",
            "video 1/1 (98/2628) /content/gdrive/MyDrive/data_sets/Dataset_2/Animal_TestVideo.mp4: 384x640 2 Elephants, 25.1ms\n",
            "video 1/1 (99/2628) /content/gdrive/MyDrive/data_sets/Dataset_2/Animal_TestVideo.mp4: 384x640 2 Elephants, 25.4ms\n",
            "video 1/1 (100/2628) /content/gdrive/MyDrive/data_sets/Dataset_2/Animal_TestVideo.mp4: 384x640 2 Elephants, 25.1ms\n",
            "video 1/1 (101/2628) /content/gdrive/MyDrive/data_sets/Dataset_2/Animal_TestVideo.mp4: 384x640 2 Elephants, 25.2ms\n",
            "video 1/1 (102/2628) /content/gdrive/MyDrive/data_sets/Dataset_2/Animal_TestVideo.mp4: 384x640 2 Elephants, 25.2ms\n",
            "video 1/1 (103/2628) /content/gdrive/MyDrive/data_sets/Dataset_2/Animal_TestVideo.mp4: 384x640 2 Elephants, 25.2ms\n",
            "video 1/1 (104/2628) /content/gdrive/MyDrive/data_sets/Dataset_2/Animal_TestVideo.mp4: 384x640 2 Elephants, 25.1ms\n",
            "video 1/1 (105/2628) /content/gdrive/MyDrive/data_sets/Dataset_2/Animal_TestVideo.mp4: 384x640 2 Elephants, 25.3ms\n",
            "video 1/1 (106/2628) /content/gdrive/MyDrive/data_sets/Dataset_2/Animal_TestVideo.mp4: 384x640 2 Elephants, 25.1ms\n",
            "video 1/1 (107/2628) /content/gdrive/MyDrive/data_sets/Dataset_2/Animal_TestVideo.mp4: 384x640 2 Elephants, 25.2ms\n",
            "video 1/1 (108/2628) /content/gdrive/MyDrive/data_sets/Dataset_2/Animal_TestVideo.mp4: 384x640 2 Elephants, 25.2ms\n",
            "video 1/1 (109/2628) /content/gdrive/MyDrive/data_sets/Dataset_2/Animal_TestVideo.mp4: 384x640 2 Elephants, 25.1ms\n",
            "video 1/1 (110/2628) /content/gdrive/MyDrive/data_sets/Dataset_2/Animal_TestVideo.mp4: 384x640 2 Elephants, 25.2ms\n",
            "video 1/1 (111/2628) /content/gdrive/MyDrive/data_sets/Dataset_2/Animal_TestVideo.mp4: 384x640 2 Elephants, 25.1ms\n",
            "video 1/1 (112/2628) /content/gdrive/MyDrive/data_sets/Dataset_2/Animal_TestVideo.mp4: 384x640 2 Elephants, 25.4ms\n",
            "video 1/1 (113/2628) /content/gdrive/MyDrive/data_sets/Dataset_2/Animal_TestVideo.mp4: 384x640 2 Elephants, 25.3ms\n",
            "video 1/1 (114/2628) /content/gdrive/MyDrive/data_sets/Dataset_2/Animal_TestVideo.mp4: 384x640 2 Elephants, 25.2ms\n",
            "video 1/1 (115/2628) /content/gdrive/MyDrive/data_sets/Dataset_2/Animal_TestVideo.mp4: 384x640 3 Elephants, 25.1ms\n",
            "video 1/1 (116/2628) /content/gdrive/MyDrive/data_sets/Dataset_2/Animal_TestVideo.mp4: 384x640 3 Elephants, 25.2ms\n",
            "video 1/1 (117/2628) /content/gdrive/MyDrive/data_sets/Dataset_2/Animal_TestVideo.mp4: 384x640 3 Elephants, 25.1ms\n",
            "video 1/1 (118/2628) /content/gdrive/MyDrive/data_sets/Dataset_2/Animal_TestVideo.mp4: 384x640 3 Elephants, 25.1ms\n",
            "video 1/1 (119/2628) /content/gdrive/MyDrive/data_sets/Dataset_2/Animal_TestVideo.mp4: 384x640 3 Elephants, 25.3ms\n",
            "video 1/1 (120/2628) /content/gdrive/MyDrive/data_sets/Dataset_2/Animal_TestVideo.mp4: 384x640 2 Elephants, 25.1ms\n",
            "video 1/1 (121/2628) /content/gdrive/MyDrive/data_sets/Dataset_2/Animal_TestVideo.mp4: 384x640 2 Elephants, 25.2ms\n",
            "video 1/1 (122/2628) /content/gdrive/MyDrive/data_sets/Dataset_2/Animal_TestVideo.mp4: 384x640 3 Elephants, 25.1ms\n",
            "video 1/1 (123/2628) /content/gdrive/MyDrive/data_sets/Dataset_2/Animal_TestVideo.mp4: 384x640 3 Elephants, 25.2ms\n",
            "video 1/1 (124/2628) /content/gdrive/MyDrive/data_sets/Dataset_2/Animal_TestVideo.mp4: 384x640 2 Elephants, 25.1ms\n",
            "video 1/1 (125/2628) /content/gdrive/MyDrive/data_sets/Dataset_2/Animal_TestVideo.mp4: 384x640 2 Elephants, 25.2ms\n",
            "video 1/1 (126/2628) /content/gdrive/MyDrive/data_sets/Dataset_2/Animal_TestVideo.mp4: 384x640 3 Elephants, 25.2ms\n",
            "video 1/1 (127/2628) /content/gdrive/MyDrive/data_sets/Dataset_2/Animal_TestVideo.mp4: 384x640 2 Elephants, 28.3ms\n",
            "video 1/1 (128/2628) /content/gdrive/MyDrive/data_sets/Dataset_2/Animal_TestVideo.mp4: 384x640 2 Elephants, 25.2ms\n",
            "video 1/1 (129/2628) /content/gdrive/MyDrive/data_sets/Dataset_2/Animal_TestVideo.mp4: 384x640 3 Elephants, 25.9ms\n",
            "video 1/1 (130/2628) /content/gdrive/MyDrive/data_sets/Dataset_2/Animal_TestVideo.mp4: 384x640 3 Elephants, 25.1ms\n",
            "video 1/1 (131/2628) /content/gdrive/MyDrive/data_sets/Dataset_2/Animal_TestVideo.mp4: 384x640 2 Elephants, 25.2ms\n",
            "video 1/1 (132/2628) /content/gdrive/MyDrive/data_sets/Dataset_2/Animal_TestVideo.mp4: 384x640 2 Elephants, 25.4ms\n",
            "video 1/1 (133/2628) /content/gdrive/MyDrive/data_sets/Dataset_2/Animal_TestVideo.mp4: 384x640 2 Elephants, 25.2ms\n",
            "video 1/1 (134/2628) /content/gdrive/MyDrive/data_sets/Dataset_2/Animal_TestVideo.mp4: 384x640 2 Elephants, 25.2ms\n",
            "video 1/1 (135/2628) /content/gdrive/MyDrive/data_sets/Dataset_2/Animal_TestVideo.mp4: 384x640 2 Elephants, 25.2ms\n",
            "video 1/1 (136/2628) /content/gdrive/MyDrive/data_sets/Dataset_2/Animal_TestVideo.mp4: 384x640 3 Elephants, 25.2ms\n",
            "video 1/1 (137/2628) /content/gdrive/MyDrive/data_sets/Dataset_2/Animal_TestVideo.mp4: 384x640 2 Elephants, 25.1ms\n",
            "video 1/1 (138/2628) /content/gdrive/MyDrive/data_sets/Dataset_2/Animal_TestVideo.mp4: 384x640 2 Elephants, 25.1ms\n",
            "video 1/1 (139/2628) /content/gdrive/MyDrive/data_sets/Dataset_2/Animal_TestVideo.mp4: 384x640 3 Elephants, 25.1ms\n",
            "video 1/1 (140/2628) /content/gdrive/MyDrive/data_sets/Dataset_2/Animal_TestVideo.mp4: 384x640 4 Elephants, 25.1ms\n",
            "video 1/1 (141/2628) /content/gdrive/MyDrive/data_sets/Dataset_2/Animal_TestVideo.mp4: 384x640 3 Elephants, 25.1ms\n",
            "video 1/1 (142/2628) /content/gdrive/MyDrive/data_sets/Dataset_2/Animal_TestVideo.mp4: 384x640 4 Elephants, 25.1ms\n",
            "video 1/1 (143/2628) /content/gdrive/MyDrive/data_sets/Dataset_2/Animal_TestVideo.mp4: 384x640 2 Elephants, 25.2ms\n",
            "video 1/1 (144/2628) /content/gdrive/MyDrive/data_sets/Dataset_2/Animal_TestVideo.mp4: 384x640 2 Elephants, 25.1ms\n",
            "video 1/1 (145/2628) /content/gdrive/MyDrive/data_sets/Dataset_2/Animal_TestVideo.mp4: 384x640 2 Elephants, 25.1ms\n",
            "video 1/1 (146/2628) /content/gdrive/MyDrive/data_sets/Dataset_2/Animal_TestVideo.mp4: 384x640 3 Elephants, 25.2ms\n",
            "video 1/1 (147/2628) /content/gdrive/MyDrive/data_sets/Dataset_2/Animal_TestVideo.mp4: 384x640 2 Elephants, 25.1ms\n",
            "video 1/1 (148/2628) /content/gdrive/MyDrive/data_sets/Dataset_2/Animal_TestVideo.mp4: 384x640 1 Elephant, 25.1ms\n",
            "video 1/1 (149/2628) /content/gdrive/MyDrive/data_sets/Dataset_2/Animal_TestVideo.mp4: 384x640 1 Elephant, 25.2ms\n",
            "video 1/1 (150/2628) /content/gdrive/MyDrive/data_sets/Dataset_2/Animal_TestVideo.mp4: 384x640 1 Elephant, 25.2ms\n",
            "video 1/1 (151/2628) /content/gdrive/MyDrive/data_sets/Dataset_2/Animal_TestVideo.mp4: 384x640 1 Elephant, 25.1ms\n",
            "video 1/1 (152/2628) /content/gdrive/MyDrive/data_sets/Dataset_2/Animal_TestVideo.mp4: 384x640 1 Elephant, 25.2ms\n",
            "video 1/1 (153/2628) /content/gdrive/MyDrive/data_sets/Dataset_2/Animal_TestVideo.mp4: 384x640 2 Elephants, 25.1ms\n",
            "video 1/1 (154/2628) /content/gdrive/MyDrive/data_sets/Dataset_2/Animal_TestVideo.mp4: 384x640 2 Elephants, 25.1ms\n",
            "video 1/1 (155/2628) /content/gdrive/MyDrive/data_sets/Dataset_2/Animal_TestVideo.mp4: 384x640 2 Elephants, 25.2ms\n",
            "video 1/1 (156/2628) /content/gdrive/MyDrive/data_sets/Dataset_2/Animal_TestVideo.mp4: 384x640 2 Elephants, 25.3ms\n",
            "video 1/1 (157/2628) /content/gdrive/MyDrive/data_sets/Dataset_2/Animal_TestVideo.mp4: 384x640 2 Elephants, 25.1ms\n",
            "video 1/1 (158/2628) /content/gdrive/MyDrive/data_sets/Dataset_2/Animal_TestVideo.mp4: 384x640 2 Elephants, 25.4ms\n",
            "video 1/1 (159/2628) /content/gdrive/MyDrive/data_sets/Dataset_2/Animal_TestVideo.mp4: 384x640 2 Elephants, 25.2ms\n",
            "video 1/1 (160/2628) /content/gdrive/MyDrive/data_sets/Dataset_2/Animal_TestVideo.mp4: 384x640 2 Elephants, 25.2ms\n",
            "video 1/1 (161/2628) /content/gdrive/MyDrive/data_sets/Dataset_2/Animal_TestVideo.mp4: 384x640 2 Elephants, 25.3ms\n",
            "video 1/1 (162/2628) /content/gdrive/MyDrive/data_sets/Dataset_2/Animal_TestVideo.mp4: 384x640 2 Elephants, 25.1ms\n",
            "video 1/1 (163/2628) /content/gdrive/MyDrive/data_sets/Dataset_2/Animal_TestVideo.mp4: 384x640 2 Elephants, 25.2ms\n",
            "video 1/1 (164/2628) /content/gdrive/MyDrive/data_sets/Dataset_2/Animal_TestVideo.mp4: 384x640 2 Elephants, 25.1ms\n",
            "video 1/1 (165/2628) /content/gdrive/MyDrive/data_sets/Dataset_2/Animal_TestVideo.mp4: 384x640 2 Elephants, 25.1ms\n",
            "video 1/1 (166/2628) /content/gdrive/MyDrive/data_sets/Dataset_2/Animal_TestVideo.mp4: 384x640 2 Elephants, 25.1ms\n",
            "video 1/1 (167/2628) /content/gdrive/MyDrive/data_sets/Dataset_2/Animal_TestVideo.mp4: 384x640 2 Elephants, 25.2ms\n",
            "video 1/1 (168/2628) /content/gdrive/MyDrive/data_sets/Dataset_2/Animal_TestVideo.mp4: 384x640 2 Elephants, 25.2ms\n",
            "video 1/1 (169/2628) /content/gdrive/MyDrive/data_sets/Dataset_2/Animal_TestVideo.mp4: 384x640 2 Elephants, 25.2ms\n",
            "video 1/1 (170/2628) /content/gdrive/MyDrive/data_sets/Dataset_2/Animal_TestVideo.mp4: 384x640 2 Elephants, 25.2ms\n",
            "video 1/1 (171/2628) /content/gdrive/MyDrive/data_sets/Dataset_2/Animal_TestVideo.mp4: 384x640 2 Elephants, 25.2ms\n",
            "video 1/1 (172/2628) /content/gdrive/MyDrive/data_sets/Dataset_2/Animal_TestVideo.mp4: 384x640 2 Elephants, 25.2ms\n",
            "video 1/1 (173/2628) /content/gdrive/MyDrive/data_sets/Dataset_2/Animal_TestVideo.mp4: 384x640 1 Bear, 2 Elephants, 25.3ms\n",
            "video 1/1 (174/2628) /content/gdrive/MyDrive/data_sets/Dataset_2/Animal_TestVideo.mp4: 384x640 1 Bear, 2 Elephants, 25.2ms\n",
            "video 1/1 (175/2628) /content/gdrive/MyDrive/data_sets/Dataset_2/Animal_TestVideo.mp4: 384x640 1 Bear, 3 Elephants, 25.4ms\n",
            "video 1/1 (176/2628) /content/gdrive/MyDrive/data_sets/Dataset_2/Animal_TestVideo.mp4: 384x640 1 Bear, 2 Elephants, 26.7ms\n",
            "video 1/1 (177/2628) /content/gdrive/MyDrive/data_sets/Dataset_2/Animal_TestVideo.mp4: 384x640 2 Elephants, 25.2ms\n",
            "video 1/1 (178/2628) /content/gdrive/MyDrive/data_sets/Dataset_2/Animal_TestVideo.mp4: 384x640 2 Elephants, 25.2ms\n",
            "video 1/1 (179/2628) /content/gdrive/MyDrive/data_sets/Dataset_2/Animal_TestVideo.mp4: 384x640 2 Elephants, 25.2ms\n",
            "video 1/1 (180/2628) /content/gdrive/MyDrive/data_sets/Dataset_2/Animal_TestVideo.mp4: 384x640 3 Elephants, 25.1ms\n",
            "video 1/1 (181/2628) /content/gdrive/MyDrive/data_sets/Dataset_2/Animal_TestVideo.mp4: 384x640 2 Elephants, 25.2ms\n",
            "video 1/1 (182/2628) /content/gdrive/MyDrive/data_sets/Dataset_2/Animal_TestVideo.mp4: 384x640 3 Elephants, 25.2ms\n",
            "video 1/1 (183/2628) /content/gdrive/MyDrive/data_sets/Dataset_2/Animal_TestVideo.mp4: 384x640 3 Elephants, 25.2ms\n",
            "video 1/1 (184/2628) /content/gdrive/MyDrive/data_sets/Dataset_2/Animal_TestVideo.mp4: 384x640 2 Elephants, 25.2ms\n",
            "video 1/1 (185/2628) /content/gdrive/MyDrive/data_sets/Dataset_2/Animal_TestVideo.mp4: 384x640 3 Elephants, 25.2ms\n",
            "video 1/1 (186/2628) /content/gdrive/MyDrive/data_sets/Dataset_2/Animal_TestVideo.mp4: 384x640 3 Elephants, 25.2ms\n",
            "video 1/1 (187/2628) /content/gdrive/MyDrive/data_sets/Dataset_2/Animal_TestVideo.mp4: 384x640 3 Elephants, 25.2ms\n",
            "video 1/1 (188/2628) /content/gdrive/MyDrive/data_sets/Dataset_2/Animal_TestVideo.mp4: 384x640 3 Elephants, 25.2ms\n",
            "video 1/1 (189/2628) /content/gdrive/MyDrive/data_sets/Dataset_2/Animal_TestVideo.mp4: 384x640 3 Elephants, 25.2ms\n",
            "video 1/1 (190/2628) /content/gdrive/MyDrive/data_sets/Dataset_2/Animal_TestVideo.mp4: 384x640 3 Elephants, 25.6ms\n",
            "video 1/1 (191/2628) /content/gdrive/MyDrive/data_sets/Dataset_2/Animal_TestVideo.mp4: 384x640 3 Elephants, 25.2ms\n",
            "video 1/1 (192/2628) /content/gdrive/MyDrive/data_sets/Dataset_2/Animal_TestVideo.mp4: 384x640 3 Elephants, 25.2ms\n",
            "video 1/1 (193/2628) /content/gdrive/MyDrive/data_sets/Dataset_2/Animal_TestVideo.mp4: 384x640 3 Elephants, 25.2ms\n",
            "video 1/1 (194/2628) /content/gdrive/MyDrive/data_sets/Dataset_2/Animal_TestVideo.mp4: 384x640 3 Elephants, 25.2ms\n",
            "video 1/1 (195/2628) /content/gdrive/MyDrive/data_sets/Dataset_2/Animal_TestVideo.mp4: 384x640 3 Elephants, 26.0ms\n",
            "video 1/1 (196/2628) /content/gdrive/MyDrive/data_sets/Dataset_2/Animal_TestVideo.mp4: 384x640 3 Elephants, 25.3ms\n",
            "video 1/1 (197/2628) /content/gdrive/MyDrive/data_sets/Dataset_2/Animal_TestVideo.mp4: 384x640 3 Elephants, 25.2ms\n",
            "video 1/1 (198/2628) /content/gdrive/MyDrive/data_sets/Dataset_2/Animal_TestVideo.mp4: 384x640 2 Elephants, 25.2ms\n",
            "video 1/1 (199/2628) /content/gdrive/MyDrive/data_sets/Dataset_2/Animal_TestVideo.mp4: 384x640 2 Elephants, 25.2ms\n",
            "video 1/1 (200/2628) /content/gdrive/MyDrive/data_sets/Dataset_2/Animal_TestVideo.mp4: 384x640 2 Elephants, 25.3ms\n",
            "video 1/1 (201/2628) /content/gdrive/MyDrive/data_sets/Dataset_2/Animal_TestVideo.mp4: 384x640 2 Elephants, 25.2ms\n",
            "video 1/1 (202/2628) /content/gdrive/MyDrive/data_sets/Dataset_2/Animal_TestVideo.mp4: 384x640 2 Elephants, 25.2ms\n",
            "video 1/1 (203/2628) /content/gdrive/MyDrive/data_sets/Dataset_2/Animal_TestVideo.mp4: 384x640 4 Elephants, 25.2ms\n",
            "video 1/1 (204/2628) /content/gdrive/MyDrive/data_sets/Dataset_2/Animal_TestVideo.mp4: 384x640 2 Elephants, 26.8ms\n",
            "video 1/1 (205/2628) /content/gdrive/MyDrive/data_sets/Dataset_2/Animal_TestVideo.mp4: 384x640 2 Elephants, 25.2ms\n",
            "video 1/1 (206/2628) /content/gdrive/MyDrive/data_sets/Dataset_2/Animal_TestVideo.mp4: 384x640 2 Elephants, 25.3ms\n",
            "video 1/1 (207/2628) /content/gdrive/MyDrive/data_sets/Dataset_2/Animal_TestVideo.mp4: 384x640 2 Elephants, 25.2ms\n",
            "video 1/1 (208/2628) /content/gdrive/MyDrive/data_sets/Dataset_2/Animal_TestVideo.mp4: 384x640 2 Elephants, 25.3ms\n",
            "video 1/1 (209/2628) /content/gdrive/MyDrive/data_sets/Dataset_2/Animal_TestVideo.mp4: 384x640 2 Elephants, 26.5ms\n",
            "video 1/1 (210/2628) /content/gdrive/MyDrive/data_sets/Dataset_2/Animal_TestVideo.mp4: 384x640 2 Elephants, 25.2ms\n",
            "video 1/1 (211/2628) /content/gdrive/MyDrive/data_sets/Dataset_2/Animal_TestVideo.mp4: 384x640 2 Elephants, 25.2ms\n",
            "video 1/1 (212/2628) /content/gdrive/MyDrive/data_sets/Dataset_2/Animal_TestVideo.mp4: 384x640 2 Elephants, 29.3ms\n",
            "video 1/1 (213/2628) /content/gdrive/MyDrive/data_sets/Dataset_2/Animal_TestVideo.mp4: 384x640 2 Elephants, 25.2ms\n",
            "video 1/1 (214/2628) /content/gdrive/MyDrive/data_sets/Dataset_2/Animal_TestVideo.mp4: 384x640 2 Elephants, 25.2ms\n",
            "video 1/1 (215/2628) /content/gdrive/MyDrive/data_sets/Dataset_2/Animal_TestVideo.mp4: 384x640 2 Elephants, 25.2ms\n",
            "video 1/1 (216/2628) /content/gdrive/MyDrive/data_sets/Dataset_2/Animal_TestVideo.mp4: 384x640 2 Elephants, 25.2ms\n",
            "video 1/1 (217/2628) /content/gdrive/MyDrive/data_sets/Dataset_2/Animal_TestVideo.mp4: 384x640 2 Elephants, 25.2ms\n",
            "video 1/1 (218/2628) /content/gdrive/MyDrive/data_sets/Dataset_2/Animal_TestVideo.mp4: 384x640 2 Elephants, 25.2ms\n",
            "video 1/1 (219/2628) /content/gdrive/MyDrive/data_sets/Dataset_2/Animal_TestVideo.mp4: 384x640 2 Elephants, 25.2ms\n",
            "video 1/1 (220/2628) /content/gdrive/MyDrive/data_sets/Dataset_2/Animal_TestVideo.mp4: 384x640 2 Elephants, 25.2ms\n",
            "video 1/1 (221/2628) /content/gdrive/MyDrive/data_sets/Dataset_2/Animal_TestVideo.mp4: 384x640 2 Elephants, 25.3ms\n",
            "video 1/1 (222/2628) /content/gdrive/MyDrive/data_sets/Dataset_2/Animal_TestVideo.mp4: 384x640 2 Elephants, 25.2ms\n",
            "video 1/1 (223/2628) /content/gdrive/MyDrive/data_sets/Dataset_2/Animal_TestVideo.mp4: 384x640 2 Elephants, 25.3ms\n",
            "video 1/1 (224/2628) /content/gdrive/MyDrive/data_sets/Dataset_2/Animal_TestVideo.mp4: 384x640 2 Elephants, 27.1ms\n",
            "video 1/1 (225/2628) /content/gdrive/MyDrive/data_sets/Dataset_2/Animal_TestVideo.mp4: 384x640 2 Elephants, 25.2ms\n",
            "video 1/1 (226/2628) /content/gdrive/MyDrive/data_sets/Dataset_2/Animal_TestVideo.mp4: 384x640 2 Elephants, 26.1ms\n",
            "video 1/1 (227/2628) /content/gdrive/MyDrive/data_sets/Dataset_2/Animal_TestVideo.mp4: 384x640 2 Elephants, 28.4ms\n",
            "video 1/1 (228/2628) /content/gdrive/MyDrive/data_sets/Dataset_2/Animal_TestVideo.mp4: 384x640 2 Elephants, 28.9ms\n",
            "video 1/1 (229/2628) /content/gdrive/MyDrive/data_sets/Dataset_2/Animal_TestVideo.mp4: 384x640 2 Elephants, 25.2ms\n",
            "video 1/1 (230/2628) /content/gdrive/MyDrive/data_sets/Dataset_2/Animal_TestVideo.mp4: 384x640 2 Elephants, 29.6ms\n",
            "video 1/1 (231/2628) /content/gdrive/MyDrive/data_sets/Dataset_2/Animal_TestVideo.mp4: 384x640 2 Elephants, 25.2ms\n",
            "video 1/1 (232/2628) /content/gdrive/MyDrive/data_sets/Dataset_2/Animal_TestVideo.mp4: 384x640 2 Elephants, 25.4ms\n",
            "video 1/1 (233/2628) /content/gdrive/MyDrive/data_sets/Dataset_2/Animal_TestVideo.mp4: 384x640 3 Elephants, 25.6ms\n",
            "video 1/1 (234/2628) /content/gdrive/MyDrive/data_sets/Dataset_2/Animal_TestVideo.mp4: 384x640 2 Elephants, 25.2ms\n",
            "video 1/1 (235/2628) /content/gdrive/MyDrive/data_sets/Dataset_2/Animal_TestVideo.mp4: 384x640 2 Elephants, 25.3ms\n",
            "video 1/1 (236/2628) /content/gdrive/MyDrive/data_sets/Dataset_2/Animal_TestVideo.mp4: 384x640 3 Elephants, 27.0ms\n",
            "video 1/1 (237/2628) /content/gdrive/MyDrive/data_sets/Dataset_2/Animal_TestVideo.mp4: 384x640 3 Elephants, 25.1ms\n",
            "video 1/1 (238/2628) /content/gdrive/MyDrive/data_sets/Dataset_2/Animal_TestVideo.mp4: 384x640 3 Elephants, 25.2ms\n",
            "video 1/1 (239/2628) /content/gdrive/MyDrive/data_sets/Dataset_2/Animal_TestVideo.mp4: 384x640 3 Elephants, 25.2ms\n",
            "video 1/1 (240/2628) /content/gdrive/MyDrive/data_sets/Dataset_2/Animal_TestVideo.mp4: 384x640 3 Elephants, 25.4ms\n",
            "video 1/1 (241/2628) /content/gdrive/MyDrive/data_sets/Dataset_2/Animal_TestVideo.mp4: 384x640 3 Elephants, 26.0ms\n",
            "video 1/1 (242/2628) /content/gdrive/MyDrive/data_sets/Dataset_2/Animal_TestVideo.mp4: 384x640 3 Elephants, 29.2ms\n",
            "video 1/1 (243/2628) /content/gdrive/MyDrive/data_sets/Dataset_2/Animal_TestVideo.mp4: 384x640 2 Elephants, 25.1ms\n",
            "video 1/1 (244/2628) /content/gdrive/MyDrive/data_sets/Dataset_2/Animal_TestVideo.mp4: 384x640 3 Elephants, 25.4ms\n",
            "video 1/1 (245/2628) /content/gdrive/MyDrive/data_sets/Dataset_2/Animal_TestVideo.mp4: 384x640 2 Elephants, 25.2ms\n",
            "video 1/1 (246/2628) /content/gdrive/MyDrive/data_sets/Dataset_2/Animal_TestVideo.mp4: 384x640 2 Elephants, 25.2ms\n",
            "video 1/1 (247/2628) /content/gdrive/MyDrive/data_sets/Dataset_2/Animal_TestVideo.mp4: 384x640 2 Elephants, 25.2ms\n",
            "video 1/1 (248/2628) /content/gdrive/MyDrive/data_sets/Dataset_2/Animal_TestVideo.mp4: 384x640 2 Elephants, 25.6ms\n",
            "video 1/1 (249/2628) /content/gdrive/MyDrive/data_sets/Dataset_2/Animal_TestVideo.mp4: 384x640 3 Elephants, 25.6ms\n",
            "video 1/1 (250/2628) /content/gdrive/MyDrive/data_sets/Dataset_2/Animal_TestVideo.mp4: 384x640 1 Elephant, 25.2ms\n",
            "video 1/1 (251/2628) /content/gdrive/MyDrive/data_sets/Dataset_2/Animal_TestVideo.mp4: 384x640 1 Elephant, 25.1ms\n",
            "video 1/1 (252/2628) /content/gdrive/MyDrive/data_sets/Dataset_2/Animal_TestVideo.mp4: 384x640 2 Elephants, 25.2ms\n",
            "video 1/1 (253/2628) /content/gdrive/MyDrive/data_sets/Dataset_2/Animal_TestVideo.mp4: 384x640 3 Elephants, 25.3ms\n",
            "video 1/1 (254/2628) /content/gdrive/MyDrive/data_sets/Dataset_2/Animal_TestVideo.mp4: 384x640 3 Elephants, 25.1ms\n",
            "video 1/1 (255/2628) /content/gdrive/MyDrive/data_sets/Dataset_2/Animal_TestVideo.mp4: 384x640 2 Elephants, 25.2ms\n",
            "video 1/1 (256/2628) /content/gdrive/MyDrive/data_sets/Dataset_2/Animal_TestVideo.mp4: 384x640 1 Elephant, 25.8ms\n",
            "video 1/1 (257/2628) /content/gdrive/MyDrive/data_sets/Dataset_2/Animal_TestVideo.mp4: 384x640 1 Elephant, 25.2ms\n",
            "video 1/1 (258/2628) /content/gdrive/MyDrive/data_sets/Dataset_2/Animal_TestVideo.mp4: 384x640 2 Elephants, 25.2ms\n",
            "video 1/1 (259/2628) /content/gdrive/MyDrive/data_sets/Dataset_2/Animal_TestVideo.mp4: 384x640 2 Elephants, 25.3ms\n",
            "video 1/1 (260/2628) /content/gdrive/MyDrive/data_sets/Dataset_2/Animal_TestVideo.mp4: 384x640 2 Elephants, 25.3ms\n",
            "video 1/1 (261/2628) /content/gdrive/MyDrive/data_sets/Dataset_2/Animal_TestVideo.mp4: 384x640 2 Elephants, 25.2ms\n",
            "video 1/1 (262/2628) /content/gdrive/MyDrive/data_sets/Dataset_2/Animal_TestVideo.mp4: 384x640 2 Elephants, 25.2ms\n",
            "video 1/1 (263/2628) /content/gdrive/MyDrive/data_sets/Dataset_2/Animal_TestVideo.mp4: 384x640 2 Elephants, 25.2ms\n",
            "video 1/1 (264/2628) /content/gdrive/MyDrive/data_sets/Dataset_2/Animal_TestVideo.mp4: 384x640 2 Elephants, 25.2ms\n",
            "video 1/1 (265/2628) /content/gdrive/MyDrive/data_sets/Dataset_2/Animal_TestVideo.mp4: 384x640 2 Elephants, 25.1ms\n",
            "video 1/1 (266/2628) /content/gdrive/MyDrive/data_sets/Dataset_2/Animal_TestVideo.mp4: 384x640 2 Elephants, 25.2ms\n",
            "video 1/1 (267/2628) /content/gdrive/MyDrive/data_sets/Dataset_2/Animal_TestVideo.mp4: 384x640 2 Elephants, 25.3ms\n",
            "video 1/1 (268/2628) /content/gdrive/MyDrive/data_sets/Dataset_2/Animal_TestVideo.mp4: 384x640 2 Elephants, 25.3ms\n",
            "video 1/1 (269/2628) /content/gdrive/MyDrive/data_sets/Dataset_2/Animal_TestVideo.mp4: 384x640 2 Elephants, 25.2ms\n",
            "video 1/1 (270/2628) /content/gdrive/MyDrive/data_sets/Dataset_2/Animal_TestVideo.mp4: 384x640 2 Elephants, 25.3ms\n",
            "video 1/1 (271/2628) /content/gdrive/MyDrive/data_sets/Dataset_2/Animal_TestVideo.mp4: 384x640 2 Elephants, 25.2ms\n",
            "video 1/1 (272/2628) /content/gdrive/MyDrive/data_sets/Dataset_2/Animal_TestVideo.mp4: 384x640 2 Elephants, 25.2ms\n",
            "video 1/1 (273/2628) /content/gdrive/MyDrive/data_sets/Dataset_2/Animal_TestVideo.mp4: 384x640 2 Elephants, 25.7ms\n",
            "video 1/1 (274/2628) /content/gdrive/MyDrive/data_sets/Dataset_2/Animal_TestVideo.mp4: 384x640 1 Bear, 2 Elephants, 25.2ms\n",
            "video 1/1 (275/2628) /content/gdrive/MyDrive/data_sets/Dataset_2/Animal_TestVideo.mp4: 384x640 2 Elephants, 25.4ms\n",
            "video 1/1 (276/2628) /content/gdrive/MyDrive/data_sets/Dataset_2/Animal_TestVideo.mp4: 384x640 2 Elephants, 25.2ms\n",
            "video 1/1 (277/2628) /content/gdrive/MyDrive/data_sets/Dataset_2/Animal_TestVideo.mp4: 384x640 4 Elephants, 25.2ms\n",
            "video 1/1 (278/2628) /content/gdrive/MyDrive/data_sets/Dataset_2/Animal_TestVideo.mp4: 384x640 2 Elephants, 25.1ms\n",
            "video 1/1 (279/2628) /content/gdrive/MyDrive/data_sets/Dataset_2/Animal_TestVideo.mp4: 384x640 2 Elephants, 25.2ms\n",
            "video 1/1 (280/2628) /content/gdrive/MyDrive/data_sets/Dataset_2/Animal_TestVideo.mp4: 384x640 2 Elephants, 25.1ms\n",
            "video 1/1 (281/2628) /content/gdrive/MyDrive/data_sets/Dataset_2/Animal_TestVideo.mp4: 384x640 1 Elephant, 1 Giraffe, 25.2ms\n",
            "video 1/1 (282/2628) /content/gdrive/MyDrive/data_sets/Dataset_2/Animal_TestVideo.mp4: 384x640 2 Elephants, 1 Giraffe, 25.3ms\n",
            "video 1/1 (283/2628) /content/gdrive/MyDrive/data_sets/Dataset_2/Animal_TestVideo.mp4: 384x640 1 Elephant, 1 Giraffe, 25.2ms\n",
            "video 1/1 (284/2628) /content/gdrive/MyDrive/data_sets/Dataset_2/Animal_TestVideo.mp4: 384x640 1 Bear, 1 Giraffe, 25.1ms\n",
            "video 1/1 (285/2628) /content/gdrive/MyDrive/data_sets/Dataset_2/Animal_TestVideo.mp4: 384x640 1 Elephant, 2 Giraffes, 25.2ms\n",
            "video 1/1 (286/2628) /content/gdrive/MyDrive/data_sets/Dataset_2/Animal_TestVideo.mp4: 384x640 1 Giraffe, 25.1ms\n",
            "video 1/1 (287/2628) /content/gdrive/MyDrive/data_sets/Dataset_2/Animal_TestVideo.mp4: 384x640 1 Giraffe, 25.2ms\n",
            "video 1/1 (288/2628) /content/gdrive/MyDrive/data_sets/Dataset_2/Animal_TestVideo.mp4: 384x640 1 Giraffe, 25.2ms\n",
            "video 1/1 (289/2628) /content/gdrive/MyDrive/data_sets/Dataset_2/Animal_TestVideo.mp4: 384x640 1 Giraffe, 25.2ms\n",
            "video 1/1 (290/2628) /content/gdrive/MyDrive/data_sets/Dataset_2/Animal_TestVideo.mp4: 384x640 1 Giraffe, 25.1ms\n",
            "video 1/1 (291/2628) /content/gdrive/MyDrive/data_sets/Dataset_2/Animal_TestVideo.mp4: 384x640 1 Giraffe, 25.1ms\n",
            "video 1/1 (292/2628) /content/gdrive/MyDrive/data_sets/Dataset_2/Animal_TestVideo.mp4: 384x640 1 Giraffe, 25.2ms\n",
            "video 1/1 (293/2628) /content/gdrive/MyDrive/data_sets/Dataset_2/Animal_TestVideo.mp4: 384x640 1 Giraffe, 25.2ms\n",
            "video 1/1 (294/2628) /content/gdrive/MyDrive/data_sets/Dataset_2/Animal_TestVideo.mp4: 384x640 1 Giraffe, 24.9ms\n",
            "video 1/1 (295/2628) /content/gdrive/MyDrive/data_sets/Dataset_2/Animal_TestVideo.mp4: 384x640 1 Giraffe, 24.6ms\n",
            "video 1/1 (296/2628) /content/gdrive/MyDrive/data_sets/Dataset_2/Animal_TestVideo.mp4: 384x640 1 Giraffe, 24.7ms\n",
            "video 1/1 (297/2628) /content/gdrive/MyDrive/data_sets/Dataset_2/Animal_TestVideo.mp4: 384x640 1 Giraffe, 24.8ms\n",
            "video 1/1 (298/2628) /content/gdrive/MyDrive/data_sets/Dataset_2/Animal_TestVideo.mp4: 384x640 1 Giraffe, 21.4ms\n",
            "video 1/1 (299/2628) /content/gdrive/MyDrive/data_sets/Dataset_2/Animal_TestVideo.mp4: 384x640 1 Giraffe, 21.5ms\n",
            "video 1/1 (300/2628) /content/gdrive/MyDrive/data_sets/Dataset_2/Animal_TestVideo.mp4: 384x640 1 Giraffe, 21.6ms\n",
            "video 1/1 (301/2628) /content/gdrive/MyDrive/data_sets/Dataset_2/Animal_TestVideo.mp4: 384x640 1 Giraffe, 21.4ms\n",
            "video 1/1 (302/2628) /content/gdrive/MyDrive/data_sets/Dataset_2/Animal_TestVideo.mp4: 384x640 1 Giraffe, 21.6ms\n",
            "video 1/1 (303/2628) /content/gdrive/MyDrive/data_sets/Dataset_2/Animal_TestVideo.mp4: 384x640 1 Giraffe, 21.5ms\n",
            "video 1/1 (304/2628) /content/gdrive/MyDrive/data_sets/Dataset_2/Animal_TestVideo.mp4: 384x640 1 Giraffe, 21.4ms\n",
            "video 1/1 (305/2628) /content/gdrive/MyDrive/data_sets/Dataset_2/Animal_TestVideo.mp4: 384x640 1 Giraffe, 20.1ms\n",
            "video 1/1 (306/2628) /content/gdrive/MyDrive/data_sets/Dataset_2/Animal_TestVideo.mp4: 384x640 1 Giraffe, 20.2ms\n",
            "video 1/1 (307/2628) /content/gdrive/MyDrive/data_sets/Dataset_2/Animal_TestVideo.mp4: 384x640 1 Giraffe, 20.0ms\n",
            "video 1/1 (308/2628) /content/gdrive/MyDrive/data_sets/Dataset_2/Animal_TestVideo.mp4: 384x640 1 Giraffe, 20.2ms\n",
            "video 1/1 (309/2628) /content/gdrive/MyDrive/data_sets/Dataset_2/Animal_TestVideo.mp4: 384x640 1 Giraffe, 20.0ms\n",
            "video 1/1 (310/2628) /content/gdrive/MyDrive/data_sets/Dataset_2/Animal_TestVideo.mp4: 384x640 1 Giraffe, 20.0ms\n",
            "video 1/1 (311/2628) /content/gdrive/MyDrive/data_sets/Dataset_2/Animal_TestVideo.mp4: 384x640 1 Giraffe, 19.9ms\n",
            "video 1/1 (312/2628) /content/gdrive/MyDrive/data_sets/Dataset_2/Animal_TestVideo.mp4: 384x640 1 Giraffe, 19.6ms\n",
            "video 1/1 (313/2628) /content/gdrive/MyDrive/data_sets/Dataset_2/Animal_TestVideo.mp4: 384x640 1 Giraffe, 19.6ms\n",
            "video 1/1 (314/2628) /content/gdrive/MyDrive/data_sets/Dataset_2/Animal_TestVideo.mp4: 384x640 1 Giraffe, 19.8ms\n",
            "video 1/1 (315/2628) /content/gdrive/MyDrive/data_sets/Dataset_2/Animal_TestVideo.mp4: 384x640 1 Giraffe, 19.8ms\n",
            "video 1/1 (316/2628) /content/gdrive/MyDrive/data_sets/Dataset_2/Animal_TestVideo.mp4: 384x640 1 Giraffe, 19.7ms\n",
            "video 1/1 (317/2628) /content/gdrive/MyDrive/data_sets/Dataset_2/Animal_TestVideo.mp4: 384x640 1 Giraffe, 19.6ms\n",
            "video 1/1 (318/2628) /content/gdrive/MyDrive/data_sets/Dataset_2/Animal_TestVideo.mp4: 384x640 1 Giraffe, 19.6ms\n",
            "video 1/1 (319/2628) /content/gdrive/MyDrive/data_sets/Dataset_2/Animal_TestVideo.mp4: 384x640 1 Giraffe, 19.8ms\n",
            "video 1/1 (320/2628) /content/gdrive/MyDrive/data_sets/Dataset_2/Animal_TestVideo.mp4: 384x640 1 Giraffe, 19.6ms\n",
            "video 1/1 (321/2628) /content/gdrive/MyDrive/data_sets/Dataset_2/Animal_TestVideo.mp4: 384x640 1 Giraffe, 19.7ms\n",
            "video 1/1 (322/2628) /content/gdrive/MyDrive/data_sets/Dataset_2/Animal_TestVideo.mp4: 384x640 1 Giraffe, 19.6ms\n",
            "video 1/1 (323/2628) /content/gdrive/MyDrive/data_sets/Dataset_2/Animal_TestVideo.mp4: 384x640 1 Giraffe, 19.7ms\n",
            "video 1/1 (324/2628) /content/gdrive/MyDrive/data_sets/Dataset_2/Animal_TestVideo.mp4: 384x640 1 Giraffe, 19.7ms\n",
            "video 1/1 (325/2628) /content/gdrive/MyDrive/data_sets/Dataset_2/Animal_TestVideo.mp4: 384x640 1 Giraffe, 19.6ms\n",
            "video 1/1 (326/2628) /content/gdrive/MyDrive/data_sets/Dataset_2/Animal_TestVideo.mp4: 384x640 1 Giraffe, 19.7ms\n",
            "video 1/1 (327/2628) /content/gdrive/MyDrive/data_sets/Dataset_2/Animal_TestVideo.mp4: 384x640 1 Giraffe, 19.7ms\n",
            "video 1/1 (328/2628) /content/gdrive/MyDrive/data_sets/Dataset_2/Animal_TestVideo.mp4: 384x640 1 Giraffe, 19.7ms\n",
            "video 1/1 (329/2628) /content/gdrive/MyDrive/data_sets/Dataset_2/Animal_TestVideo.mp4: 384x640 1 Giraffe, 19.6ms\n",
            "video 1/1 (330/2628) /content/gdrive/MyDrive/data_sets/Dataset_2/Animal_TestVideo.mp4: 384x640 1 Giraffe, 19.8ms\n",
            "video 1/1 (331/2628) /content/gdrive/MyDrive/data_sets/Dataset_2/Animal_TestVideo.mp4: 384x640 1 Giraffe, 19.7ms\n",
            "video 1/1 (332/2628) /content/gdrive/MyDrive/data_sets/Dataset_2/Animal_TestVideo.mp4: 384x640 1 Giraffe, 19.7ms\n",
            "video 1/1 (333/2628) /content/gdrive/MyDrive/data_sets/Dataset_2/Animal_TestVideo.mp4: 384x640 1 Giraffe, 19.7ms\n",
            "video 1/1 (334/2628) /content/gdrive/MyDrive/data_sets/Dataset_2/Animal_TestVideo.mp4: 384x640 1 Giraffe, 19.6ms\n",
            "video 1/1 (335/2628) /content/gdrive/MyDrive/data_sets/Dataset_2/Animal_TestVideo.mp4: 384x640 1 Giraffe, 19.6ms\n",
            "video 1/1 (336/2628) /content/gdrive/MyDrive/data_sets/Dataset_2/Animal_TestVideo.mp4: 384x640 1 Giraffe, 19.7ms\n",
            "video 1/1 (337/2628) /content/gdrive/MyDrive/data_sets/Dataset_2/Animal_TestVideo.mp4: 384x640 1 Giraffe, 19.7ms\n",
            "video 1/1 (338/2628) /content/gdrive/MyDrive/data_sets/Dataset_2/Animal_TestVideo.mp4: 384x640 1 Giraffe, 19.7ms\n",
            "video 1/1 (339/2628) /content/gdrive/MyDrive/data_sets/Dataset_2/Animal_TestVideo.mp4: 384x640 1 Giraffe, 19.7ms\n",
            "video 1/1 (340/2628) /content/gdrive/MyDrive/data_sets/Dataset_2/Animal_TestVideo.mp4: 384x640 1 Giraffe, 19.8ms\n",
            "video 1/1 (341/2628) /content/gdrive/MyDrive/data_sets/Dataset_2/Animal_TestVideo.mp4: 384x640 1 Giraffe, 19.8ms\n",
            "video 1/1 (342/2628) /content/gdrive/MyDrive/data_sets/Dataset_2/Animal_TestVideo.mp4: 384x640 1 Giraffe, 19.8ms\n",
            "video 1/1 (343/2628) /content/gdrive/MyDrive/data_sets/Dataset_2/Animal_TestVideo.mp4: 384x640 1 Giraffe, 19.9ms\n",
            "video 1/1 (344/2628) /content/gdrive/MyDrive/data_sets/Dataset_2/Animal_TestVideo.mp4: 384x640 1 Giraffe, 20.3ms\n",
            "video 1/1 (345/2628) /content/gdrive/MyDrive/data_sets/Dataset_2/Animal_TestVideo.mp4: 384x640 1 Giraffe, 20.4ms\n",
            "video 1/1 (346/2628) /content/gdrive/MyDrive/data_sets/Dataset_2/Animal_TestVideo.mp4: 384x640 1 Giraffe, 20.3ms\n",
            "video 1/1 (347/2628) /content/gdrive/MyDrive/data_sets/Dataset_2/Animal_TestVideo.mp4: 384x640 1 Giraffe, 20.7ms\n",
            "video 1/1 (348/2628) /content/gdrive/MyDrive/data_sets/Dataset_2/Animal_TestVideo.mp4: 384x640 1 Giraffe, 20.8ms\n",
            "video 1/1 (349/2628) /content/gdrive/MyDrive/data_sets/Dataset_2/Animal_TestVideo.mp4: 384x640 1 Giraffe, 20.8ms\n",
            "video 1/1 (350/2628) /content/gdrive/MyDrive/data_sets/Dataset_2/Animal_TestVideo.mp4: 384x640 1 Giraffe, 22.9ms\n",
            "video 1/1 (351/2628) /content/gdrive/MyDrive/data_sets/Dataset_2/Animal_TestVideo.mp4: 384x640 1 Giraffe, 20.0ms\n",
            "video 1/1 (352/2628) /content/gdrive/MyDrive/data_sets/Dataset_2/Animal_TestVideo.mp4: 384x640 1 Giraffe, 20.1ms\n",
            "video 1/1 (353/2628) /content/gdrive/MyDrive/data_sets/Dataset_2/Animal_TestVideo.mp4: 384x640 1 Giraffe, 20.0ms\n",
            "video 1/1 (354/2628) /content/gdrive/MyDrive/data_sets/Dataset_2/Animal_TestVideo.mp4: 384x640 1 Giraffe, 21.5ms\n",
            "video 1/1 (355/2628) /content/gdrive/MyDrive/data_sets/Dataset_2/Animal_TestVideo.mp4: 384x640 1 Giraffe, 20.0ms\n",
            "video 1/1 (356/2628) /content/gdrive/MyDrive/data_sets/Dataset_2/Animal_TestVideo.mp4: 384x640 1 Giraffe, 20.1ms\n",
            "video 1/1 (357/2628) /content/gdrive/MyDrive/data_sets/Dataset_2/Animal_TestVideo.mp4: 384x640 1 Giraffe, 20.0ms\n",
            "video 1/1 (358/2628) /content/gdrive/MyDrive/data_sets/Dataset_2/Animal_TestVideo.mp4: 384x640 1 Giraffe, 19.9ms\n",
            "video 1/1 (359/2628) /content/gdrive/MyDrive/data_sets/Dataset_2/Animal_TestVideo.mp4: 384x640 1 Giraffe, 19.9ms\n",
            "video 1/1 (360/2628) /content/gdrive/MyDrive/data_sets/Dataset_2/Animal_TestVideo.mp4: 384x640 1 Giraffe, 19.9ms\n",
            "video 1/1 (361/2628) /content/gdrive/MyDrive/data_sets/Dataset_2/Animal_TestVideo.mp4: 384x640 1 Giraffe, 20.0ms\n",
            "video 1/1 (362/2628) /content/gdrive/MyDrive/data_sets/Dataset_2/Animal_TestVideo.mp4: 384x640 1 Giraffe, 20.1ms\n",
            "video 1/1 (363/2628) /content/gdrive/MyDrive/data_sets/Dataset_2/Animal_TestVideo.mp4: 384x640 1 Giraffe, 20.1ms\n",
            "video 1/1 (364/2628) /content/gdrive/MyDrive/data_sets/Dataset_2/Animal_TestVideo.mp4: 384x640 1 Giraffe, 20.8ms\n",
            "video 1/1 (365/2628) /content/gdrive/MyDrive/data_sets/Dataset_2/Animal_TestVideo.mp4: 384x640 1 Giraffe, 20.1ms\n",
            "video 1/1 (366/2628) /content/gdrive/MyDrive/data_sets/Dataset_2/Animal_TestVideo.mp4: 384x640 1 Giraffe, 20.0ms\n",
            "video 1/1 (367/2628) /content/gdrive/MyDrive/data_sets/Dataset_2/Animal_TestVideo.mp4: 384x640 1 Giraffe, 20.0ms\n",
            "video 1/1 (368/2628) /content/gdrive/MyDrive/data_sets/Dataset_2/Animal_TestVideo.mp4: 384x640 1 Giraffe, 20.0ms\n",
            "video 1/1 (369/2628) /content/gdrive/MyDrive/data_sets/Dataset_2/Animal_TestVideo.mp4: 384x640 1 Giraffe, 19.9ms\n",
            "video 1/1 (370/2628) /content/gdrive/MyDrive/data_sets/Dataset_2/Animal_TestVideo.mp4: 384x640 1 Giraffe, 19.9ms\n",
            "video 1/1 (371/2628) /content/gdrive/MyDrive/data_sets/Dataset_2/Animal_TestVideo.mp4: 384x640 1 Giraffe, 20.1ms\n",
            "video 1/1 (372/2628) /content/gdrive/MyDrive/data_sets/Dataset_2/Animal_TestVideo.mp4: 384x640 1 Giraffe, 20.2ms\n",
            "video 1/1 (373/2628) /content/gdrive/MyDrive/data_sets/Dataset_2/Animal_TestVideo.mp4: 384x640 1 Giraffe, 20.2ms\n",
            "video 1/1 (374/2628) /content/gdrive/MyDrive/data_sets/Dataset_2/Animal_TestVideo.mp4: 384x640 1 Giraffe, 20.1ms\n",
            "video 1/1 (375/2628) /content/gdrive/MyDrive/data_sets/Dataset_2/Animal_TestVideo.mp4: 384x640 1 Giraffe, 20.0ms\n",
            "video 1/1 (376/2628) /content/gdrive/MyDrive/data_sets/Dataset_2/Animal_TestVideo.mp4: 384x640 1 Giraffe, 20.2ms\n",
            "video 1/1 (377/2628) /content/gdrive/MyDrive/data_sets/Dataset_2/Animal_TestVideo.mp4: 384x640 1 Giraffe, 20.0ms\n",
            "video 1/1 (378/2628) /content/gdrive/MyDrive/data_sets/Dataset_2/Animal_TestVideo.mp4: 384x640 1 Giraffe, 20.0ms\n",
            "video 1/1 (379/2628) /content/gdrive/MyDrive/data_sets/Dataset_2/Animal_TestVideo.mp4: 384x640 1 Giraffe, 20.0ms\n",
            "video 1/1 (380/2628) /content/gdrive/MyDrive/data_sets/Dataset_2/Animal_TestVideo.mp4: 384x640 1 Giraffe, 20.0ms\n",
            "video 1/1 (381/2628) /content/gdrive/MyDrive/data_sets/Dataset_2/Animal_TestVideo.mp4: 384x640 1 Giraffe, 20.2ms\n",
            "video 1/1 (382/2628) /content/gdrive/MyDrive/data_sets/Dataset_2/Animal_TestVideo.mp4: 384x640 1 Giraffe, 20.1ms\n",
            "video 1/1 (383/2628) /content/gdrive/MyDrive/data_sets/Dataset_2/Animal_TestVideo.mp4: 384x640 1 Giraffe, 20.0ms\n",
            "video 1/1 (384/2628) /content/gdrive/MyDrive/data_sets/Dataset_2/Animal_TestVideo.mp4: 384x640 1 Giraffe, 20.0ms\n",
            "video 1/1 (385/2628) /content/gdrive/MyDrive/data_sets/Dataset_2/Animal_TestVideo.mp4: 384x640 1 Giraffe, 20.4ms\n",
            "video 1/1 (386/2628) /content/gdrive/MyDrive/data_sets/Dataset_2/Animal_TestVideo.mp4: 384x640 1 Giraffe, 20.5ms\n",
            "video 1/1 (387/2628) /content/gdrive/MyDrive/data_sets/Dataset_2/Animal_TestVideo.mp4: 384x640 1 Giraffe, 20.5ms\n",
            "video 1/1 (388/2628) /content/gdrive/MyDrive/data_sets/Dataset_2/Animal_TestVideo.mp4: 384x640 1 Giraffe, 20.8ms\n",
            "video 1/1 (389/2628) /content/gdrive/MyDrive/data_sets/Dataset_2/Animal_TestVideo.mp4: 384x640 1 Giraffe, 20.6ms\n",
            "video 1/1 (390/2628) /content/gdrive/MyDrive/data_sets/Dataset_2/Animal_TestVideo.mp4: 384x640 1 Giraffe, 20.6ms\n",
            "video 1/1 (391/2628) /content/gdrive/MyDrive/data_sets/Dataset_2/Animal_TestVideo.mp4: 384x640 1 Giraffe, 27.5ms\n",
            "video 1/1 (392/2628) /content/gdrive/MyDrive/data_sets/Dataset_2/Animal_TestVideo.mp4: 384x640 1 Giraffe, 20.9ms\n",
            "video 1/1 (393/2628) /content/gdrive/MyDrive/data_sets/Dataset_2/Animal_TestVideo.mp4: 384x640 1 Giraffe, 20.7ms\n",
            "video 1/1 (394/2628) /content/gdrive/MyDrive/data_sets/Dataset_2/Animal_TestVideo.mp4: 384x640 1 Giraffe, 20.7ms\n",
            "video 1/1 (395/2628) /content/gdrive/MyDrive/data_sets/Dataset_2/Animal_TestVideo.mp4: 384x640 1 Giraffe, 20.7ms\n",
            "video 1/1 (396/2628) /content/gdrive/MyDrive/data_sets/Dataset_2/Animal_TestVideo.mp4: 384x640 1 Giraffe, 20.6ms\n",
            "video 1/1 (397/2628) /content/gdrive/MyDrive/data_sets/Dataset_2/Animal_TestVideo.mp4: 384x640 1 Giraffe, 20.6ms\n",
            "video 1/1 (398/2628) /content/gdrive/MyDrive/data_sets/Dataset_2/Animal_TestVideo.mp4: 384x640 1 Giraffe, 20.6ms\n",
            "video 1/1 (399/2628) /content/gdrive/MyDrive/data_sets/Dataset_2/Animal_TestVideo.mp4: 384x640 1 Giraffe, 20.7ms\n",
            "video 1/1 (400/2628) /content/gdrive/MyDrive/data_sets/Dataset_2/Animal_TestVideo.mp4: 384x640 1 Giraffe, 20.8ms\n",
            "video 1/1 (401/2628) /content/gdrive/MyDrive/data_sets/Dataset_2/Animal_TestVideo.mp4: 384x640 1 Giraffe, 20.9ms\n",
            "video 1/1 (402/2628) /content/gdrive/MyDrive/data_sets/Dataset_2/Animal_TestVideo.mp4: 384x640 1 Giraffe, 21.2ms\n",
            "video 1/1 (403/2628) /content/gdrive/MyDrive/data_sets/Dataset_2/Animal_TestVideo.mp4: 384x640 1 Giraffe, 21.3ms\n",
            "video 1/1 (404/2628) /content/gdrive/MyDrive/data_sets/Dataset_2/Animal_TestVideo.mp4: 384x640 1 Giraffe, 21.1ms\n",
            "video 1/1 (405/2628) /content/gdrive/MyDrive/data_sets/Dataset_2/Animal_TestVideo.mp4: 384x640 1 Giraffe, 21.5ms\n",
            "video 1/1 (406/2628) /content/gdrive/MyDrive/data_sets/Dataset_2/Animal_TestVideo.mp4: 384x640 1 Giraffe, 21.5ms\n",
            "video 1/1 (407/2628) /content/gdrive/MyDrive/data_sets/Dataset_2/Animal_TestVideo.mp4: 384x640 1 Giraffe, 21.4ms\n",
            "video 1/1 (408/2628) /content/gdrive/MyDrive/data_sets/Dataset_2/Animal_TestVideo.mp4: 384x640 1 Giraffe, 22.1ms\n",
            "video 1/1 (409/2628) /content/gdrive/MyDrive/data_sets/Dataset_2/Animal_TestVideo.mp4: 384x640 1 Giraffe, 21.8ms\n",
            "video 1/1 (410/2628) /content/gdrive/MyDrive/data_sets/Dataset_2/Animal_TestVideo.mp4: 384x640 1 Giraffe, 22.2ms\n",
            "video 1/1 (411/2628) /content/gdrive/MyDrive/data_sets/Dataset_2/Animal_TestVideo.mp4: 384x640 1 Giraffe, 22.3ms\n",
            "video 1/1 (412/2628) /content/gdrive/MyDrive/data_sets/Dataset_2/Animal_TestVideo.mp4: 384x640 1 Giraffe, 22.3ms\n",
            "video 1/1 (413/2628) /content/gdrive/MyDrive/data_sets/Dataset_2/Animal_TestVideo.mp4: 384x640 1 Giraffe, 22.6ms\n",
            "video 1/1 (414/2628) /content/gdrive/MyDrive/data_sets/Dataset_2/Animal_TestVideo.mp4: 384x640 1 Giraffe, 22.7ms\n",
            "video 1/1 (415/2628) /content/gdrive/MyDrive/data_sets/Dataset_2/Animal_TestVideo.mp4: 384x640 1 Giraffe, 22.7ms\n",
            "video 1/1 (416/2628) /content/gdrive/MyDrive/data_sets/Dataset_2/Animal_TestVideo.mp4: 384x640 1 Giraffe, 23.1ms\n",
            "video 1/1 (417/2628) /content/gdrive/MyDrive/data_sets/Dataset_2/Animal_TestVideo.mp4: 384x640 1 Giraffe, 23.1ms\n",
            "video 1/1 (418/2628) /content/gdrive/MyDrive/data_sets/Dataset_2/Animal_TestVideo.mp4: 384x640 1 Giraffe, 23.7ms\n",
            "video 1/1 (419/2628) /content/gdrive/MyDrive/data_sets/Dataset_2/Animal_TestVideo.mp4: 384x640 1 Giraffe, 23.7ms\n",
            "video 1/1 (420/2628) /content/gdrive/MyDrive/data_sets/Dataset_2/Animal_TestVideo.mp4: 384x640 1 Giraffe, 23.6ms\n",
            "video 1/1 (421/2628) /content/gdrive/MyDrive/data_sets/Dataset_2/Animal_TestVideo.mp4: 384x640 1 Giraffe, 23.6ms\n",
            "video 1/1 (422/2628) /content/gdrive/MyDrive/data_sets/Dataset_2/Animal_TestVideo.mp4: 384x640 1 Giraffe, 23.6ms\n",
            "video 1/1 (423/2628) /content/gdrive/MyDrive/data_sets/Dataset_2/Animal_TestVideo.mp4: 384x640 1 Giraffe, 24.7ms\n",
            "video 1/1 (424/2628) /content/gdrive/MyDrive/data_sets/Dataset_2/Animal_TestVideo.mp4: 384x640 1 Giraffe, 24.6ms\n",
            "video 1/1 (425/2628) /content/gdrive/MyDrive/data_sets/Dataset_2/Animal_TestVideo.mp4: 384x640 1 Giraffe, 25.3ms\n",
            "video 1/1 (426/2628) /content/gdrive/MyDrive/data_sets/Dataset_2/Animal_TestVideo.mp4: 384x640 1 Giraffe, 25.2ms\n",
            "video 1/1 (427/2628) /content/gdrive/MyDrive/data_sets/Dataset_2/Animal_TestVideo.mp4: 384x640 1 Giraffe, 25.3ms\n",
            "video 1/1 (428/2628) /content/gdrive/MyDrive/data_sets/Dataset_2/Animal_TestVideo.mp4: 384x640 1 Giraffe, 25.2ms\n",
            "video 1/1 (429/2628) /content/gdrive/MyDrive/data_sets/Dataset_2/Animal_TestVideo.mp4: 384x640 1 Giraffe, 27.4ms\n",
            "video 1/1 (430/2628) /content/gdrive/MyDrive/data_sets/Dataset_2/Animal_TestVideo.mp4: 384x640 1 Giraffe, 26.2ms\n",
            "video 1/1 (431/2628) /content/gdrive/MyDrive/data_sets/Dataset_2/Animal_TestVideo.mp4: 384x640 1 Giraffe, 28.4ms\n",
            "video 1/1 (432/2628) /content/gdrive/MyDrive/data_sets/Dataset_2/Animal_TestVideo.mp4: 384x640 1 Giraffe, 25.2ms\n",
            "video 1/1 (433/2628) /content/gdrive/MyDrive/data_sets/Dataset_2/Animal_TestVideo.mp4: 384x640 1 Giraffe, 25.2ms\n",
            "video 1/1 (434/2628) /content/gdrive/MyDrive/data_sets/Dataset_2/Animal_TestVideo.mp4: 384x640 1 Giraffe, 25.2ms\n",
            "video 1/1 (435/2628) /content/gdrive/MyDrive/data_sets/Dataset_2/Animal_TestVideo.mp4: 384x640 1 Giraffe, 25.5ms\n",
            "video 1/1 (436/2628) /content/gdrive/MyDrive/data_sets/Dataset_2/Animal_TestVideo.mp4: 384x640 1 Giraffe, 25.2ms\n",
            "video 1/1 (437/2628) /content/gdrive/MyDrive/data_sets/Dataset_2/Animal_TestVideo.mp4: 384x640 1 Giraffe, 25.2ms\n",
            "video 1/1 (438/2628) /content/gdrive/MyDrive/data_sets/Dataset_2/Animal_TestVideo.mp4: 384x640 1 Giraffe, 25.2ms\n",
            "video 1/1 (439/2628) /content/gdrive/MyDrive/data_sets/Dataset_2/Animal_TestVideo.mp4: 384x640 1 Giraffe, 25.5ms\n",
            "video 1/1 (440/2628) /content/gdrive/MyDrive/data_sets/Dataset_2/Animal_TestVideo.mp4: 384x640 1 Giraffe, 25.5ms\n",
            "video 1/1 (441/2628) /content/gdrive/MyDrive/data_sets/Dataset_2/Animal_TestVideo.mp4: 384x640 1 Giraffe, 25.2ms\n",
            "video 1/1 (442/2628) /content/gdrive/MyDrive/data_sets/Dataset_2/Animal_TestVideo.mp4: 384x640 1 Giraffe, 30.2ms\n",
            "video 1/1 (443/2628) /content/gdrive/MyDrive/data_sets/Dataset_2/Animal_TestVideo.mp4: 384x640 1 Giraffe, 26.8ms\n",
            "video 1/1 (444/2628) /content/gdrive/MyDrive/data_sets/Dataset_2/Animal_TestVideo.mp4: 384x640 1 Giraffe, 25.3ms\n",
            "video 1/1 (445/2628) /content/gdrive/MyDrive/data_sets/Dataset_2/Animal_TestVideo.mp4: 384x640 1 Giraffe, 25.2ms\n",
            "video 1/1 (446/2628) /content/gdrive/MyDrive/data_sets/Dataset_2/Animal_TestVideo.mp4: 384x640 1 Giraffe, 25.2ms\n",
            "video 1/1 (447/2628) /content/gdrive/MyDrive/data_sets/Dataset_2/Animal_TestVideo.mp4: 384x640 1 Giraffe, 25.2ms\n",
            "video 1/1 (448/2628) /content/gdrive/MyDrive/data_sets/Dataset_2/Animal_TestVideo.mp4: 384x640 1 Giraffe, 25.2ms\n",
            "video 1/1 (449/2628) /content/gdrive/MyDrive/data_sets/Dataset_2/Animal_TestVideo.mp4: 384x640 1 Giraffe, 25.3ms\n",
            "video 1/1 (450/2628) /content/gdrive/MyDrive/data_sets/Dataset_2/Animal_TestVideo.mp4: 384x640 1 Giraffe, 25.3ms\n",
            "video 1/1 (451/2628) /content/gdrive/MyDrive/data_sets/Dataset_2/Animal_TestVideo.mp4: 384x640 1 Giraffe, 25.3ms\n",
            "video 1/1 (452/2628) /content/gdrive/MyDrive/data_sets/Dataset_2/Animal_TestVideo.mp4: 384x640 1 Giraffe, 25.3ms\n",
            "video 1/1 (453/2628) /content/gdrive/MyDrive/data_sets/Dataset_2/Animal_TestVideo.mp4: 384x640 1 Giraffe, 25.2ms\n",
            "video 1/1 (454/2628) /content/gdrive/MyDrive/data_sets/Dataset_2/Animal_TestVideo.mp4: 384x640 1 Giraffe, 25.2ms\n",
            "video 1/1 (455/2628) /content/gdrive/MyDrive/data_sets/Dataset_2/Animal_TestVideo.mp4: 384x640 1 Giraffe, 25.3ms\n",
            "video 1/1 (456/2628) /content/gdrive/MyDrive/data_sets/Dataset_2/Animal_TestVideo.mp4: 384x640 1 Giraffe, 25.3ms\n",
            "video 1/1 (457/2628) /content/gdrive/MyDrive/data_sets/Dataset_2/Animal_TestVideo.mp4: 384x640 1 Giraffe, 25.2ms\n",
            "video 1/1 (458/2628) /content/gdrive/MyDrive/data_sets/Dataset_2/Animal_TestVideo.mp4: 384x640 1 Giraffe, 25.3ms\n",
            "video 1/1 (459/2628) /content/gdrive/MyDrive/data_sets/Dataset_2/Animal_TestVideo.mp4: 384x640 1 Giraffe, 25.4ms\n",
            "video 1/1 (460/2628) /content/gdrive/MyDrive/data_sets/Dataset_2/Animal_TestVideo.mp4: 384x640 1 Giraffe, 25.2ms\n",
            "video 1/1 (461/2628) /content/gdrive/MyDrive/data_sets/Dataset_2/Animal_TestVideo.mp4: 384x640 1 Giraffe, 25.2ms\n",
            "video 1/1 (462/2628) /content/gdrive/MyDrive/data_sets/Dataset_2/Animal_TestVideo.mp4: 384x640 1 Giraffe, 25.2ms\n",
            "video 1/1 (463/2628) /content/gdrive/MyDrive/data_sets/Dataset_2/Animal_TestVideo.mp4: 384x640 1 Giraffe, 25.4ms\n",
            "video 1/1 (464/2628) /content/gdrive/MyDrive/data_sets/Dataset_2/Animal_TestVideo.mp4: 384x640 1 Giraffe, 25.2ms\n",
            "video 1/1 (465/2628) /content/gdrive/MyDrive/data_sets/Dataset_2/Animal_TestVideo.mp4: 384x640 1 Giraffe, 25.3ms\n",
            "video 1/1 (466/2628) /content/gdrive/MyDrive/data_sets/Dataset_2/Animal_TestVideo.mp4: 384x640 1 Giraffe, 25.3ms\n",
            "video 1/1 (467/2628) /content/gdrive/MyDrive/data_sets/Dataset_2/Animal_TestVideo.mp4: 384x640 1 Giraffe, 25.3ms\n",
            "video 1/1 (468/2628) /content/gdrive/MyDrive/data_sets/Dataset_2/Animal_TestVideo.mp4: 384x640 1 Giraffe, 25.5ms\n",
            "video 1/1 (469/2628) /content/gdrive/MyDrive/data_sets/Dataset_2/Animal_TestVideo.mp4: 384x640 1 Giraffe, 25.5ms\n",
            "video 1/1 (470/2628) /content/gdrive/MyDrive/data_sets/Dataset_2/Animal_TestVideo.mp4: 384x640 1 Giraffe, 25.2ms\n",
            "video 1/1 (471/2628) /content/gdrive/MyDrive/data_sets/Dataset_2/Animal_TestVideo.mp4: 384x640 1 Giraffe, 25.1ms\n",
            "video 1/1 (472/2628) /content/gdrive/MyDrive/data_sets/Dataset_2/Animal_TestVideo.mp4: 384x640 1 Giraffe, 25.2ms\n",
            "video 1/1 (473/2628) /content/gdrive/MyDrive/data_sets/Dataset_2/Animal_TestVideo.mp4: 384x640 1 Giraffe, 25.7ms\n",
            "video 1/1 (474/2628) /content/gdrive/MyDrive/data_sets/Dataset_2/Animal_TestVideo.mp4: 384x640 1 Giraffe, 24.8ms\n",
            "video 1/1 (475/2628) /content/gdrive/MyDrive/data_sets/Dataset_2/Animal_TestVideo.mp4: 384x640 1 Giraffe, 23.1ms\n",
            "video 1/1 (476/2628) /content/gdrive/MyDrive/data_sets/Dataset_2/Animal_TestVideo.mp4: 384x640 1 Giraffe, 23.3ms\n",
            "video 1/1 (477/2628) /content/gdrive/MyDrive/data_sets/Dataset_2/Animal_TestVideo.mp4: 384x640 1 Giraffe, 23.3ms\n",
            "video 1/1 (478/2628) /content/gdrive/MyDrive/data_sets/Dataset_2/Animal_TestVideo.mp4: 384x640 1 Giraffe, 23.3ms\n",
            "video 1/1 (479/2628) /content/gdrive/MyDrive/data_sets/Dataset_2/Animal_TestVideo.mp4: 384x640 1 Giraffe, 23.2ms\n",
            "video 1/1 (480/2628) /content/gdrive/MyDrive/data_sets/Dataset_2/Animal_TestVideo.mp4: 384x640 1 Giraffe, 23.3ms\n",
            "video 1/1 (481/2628) /content/gdrive/MyDrive/data_sets/Dataset_2/Animal_TestVideo.mp4: 384x640 1 Giraffe, 20.4ms\n",
            "video 1/1 (482/2628) /content/gdrive/MyDrive/data_sets/Dataset_2/Animal_TestVideo.mp4: 384x640 1 Giraffe, 20.4ms\n",
            "video 1/1 (483/2628) /content/gdrive/MyDrive/data_sets/Dataset_2/Animal_TestVideo.mp4: 384x640 1 Giraffe, 20.3ms\n",
            "video 1/1 (484/2628) /content/gdrive/MyDrive/data_sets/Dataset_2/Animal_TestVideo.mp4: 384x640 1 Giraffe, 20.3ms\n",
            "video 1/1 (485/2628) /content/gdrive/MyDrive/data_sets/Dataset_2/Animal_TestVideo.mp4: 384x640 1 Giraffe, 20.4ms\n",
            "video 1/1 (486/2628) /content/gdrive/MyDrive/data_sets/Dataset_2/Animal_TestVideo.mp4: 384x640 1 Giraffe, 20.4ms\n",
            "video 1/1 (487/2628) /content/gdrive/MyDrive/data_sets/Dataset_2/Animal_TestVideo.mp4: 384x640 1 Giraffe, 20.3ms\n",
            "video 1/1 (488/2628) /content/gdrive/MyDrive/data_sets/Dataset_2/Animal_TestVideo.mp4: 384x640 1 Giraffe, 20.3ms\n",
            "video 1/1 (489/2628) /content/gdrive/MyDrive/data_sets/Dataset_2/Animal_TestVideo.mp4: 384x640 1 Giraffe, 20.3ms\n",
            "video 1/1 (490/2628) /content/gdrive/MyDrive/data_sets/Dataset_2/Animal_TestVideo.mp4: 384x640 1 Giraffe, 20.4ms\n",
            "video 1/1 (491/2628) /content/gdrive/MyDrive/data_sets/Dataset_2/Animal_TestVideo.mp4: 384x640 1 Giraffe, 20.3ms\n",
            "video 1/1 (492/2628) /content/gdrive/MyDrive/data_sets/Dataset_2/Animal_TestVideo.mp4: 384x640 1 Giraffe, 20.3ms\n",
            "video 1/1 (493/2628) /content/gdrive/MyDrive/data_sets/Dataset_2/Animal_TestVideo.mp4: 384x640 1 Giraffe, 20.3ms\n",
            "video 1/1 (494/2628) /content/gdrive/MyDrive/data_sets/Dataset_2/Animal_TestVideo.mp4: 384x640 1 Giraffe, 20.4ms\n",
            "video 1/1 (495/2628) /content/gdrive/MyDrive/data_sets/Dataset_2/Animal_TestVideo.mp4: 384x640 1 Giraffe, 19.7ms\n",
            "video 1/1 (496/2628) /content/gdrive/MyDrive/data_sets/Dataset_2/Animal_TestVideo.mp4: 384x640 1 Giraffe, 19.7ms\n",
            "video 1/1 (497/2628) /content/gdrive/MyDrive/data_sets/Dataset_2/Animal_TestVideo.mp4: 384x640 1 Giraffe, 19.6ms\n",
            "video 1/1 (498/2628) /content/gdrive/MyDrive/data_sets/Dataset_2/Animal_TestVideo.mp4: 384x640 1 Giraffe, 19.9ms\n",
            "video 1/1 (499/2628) /content/gdrive/MyDrive/data_sets/Dataset_2/Animal_TestVideo.mp4: 384x640 1 Giraffe, 19.7ms\n",
            "video 1/1 (500/2628) /content/gdrive/MyDrive/data_sets/Dataset_2/Animal_TestVideo.mp4: 384x640 1 Giraffe, 19.7ms\n",
            "video 1/1 (501/2628) /content/gdrive/MyDrive/data_sets/Dataset_2/Animal_TestVideo.mp4: 384x640 1 Giraffe, 19.8ms\n",
            "video 1/1 (502/2628) /content/gdrive/MyDrive/data_sets/Dataset_2/Animal_TestVideo.mp4: 384x640 1 Giraffe, 19.7ms\n",
            "video 1/1 (503/2628) /content/gdrive/MyDrive/data_sets/Dataset_2/Animal_TestVideo.mp4: 384x640 1 Giraffe, 19.7ms\n",
            "video 1/1 (504/2628) /content/gdrive/MyDrive/data_sets/Dataset_2/Animal_TestVideo.mp4: 384x640 1 Giraffe, 19.8ms\n",
            "video 1/1 (505/2628) /content/gdrive/MyDrive/data_sets/Dataset_2/Animal_TestVideo.mp4: 384x640 1 Giraffe, 19.7ms\n",
            "video 1/1 (506/2628) /content/gdrive/MyDrive/data_sets/Dataset_2/Animal_TestVideo.mp4: 384x640 1 Giraffe, 19.9ms\n",
            "video 1/1 (507/2628) /content/gdrive/MyDrive/data_sets/Dataset_2/Animal_TestVideo.mp4: 384x640 1 Giraffe, 19.6ms\n",
            "video 1/1 (508/2628) /content/gdrive/MyDrive/data_sets/Dataset_2/Animal_TestVideo.mp4: 384x640 1 Giraffe, 21.4ms\n",
            "video 1/1 (509/2628) /content/gdrive/MyDrive/data_sets/Dataset_2/Animal_TestVideo.mp4: 384x640 1 Giraffe, 19.7ms\n",
            "video 1/1 (510/2628) /content/gdrive/MyDrive/data_sets/Dataset_2/Animal_TestVideo.mp4: 384x640 1 Giraffe, 19.7ms\n",
            "video 1/1 (511/2628) /content/gdrive/MyDrive/data_sets/Dataset_2/Animal_TestVideo.mp4: 384x640 1 Giraffe, 19.7ms\n",
            "video 1/1 (512/2628) /content/gdrive/MyDrive/data_sets/Dataset_2/Animal_TestVideo.mp4: 384x640 1 Giraffe, 19.7ms\n",
            "video 1/1 (513/2628) /content/gdrive/MyDrive/data_sets/Dataset_2/Animal_TestVideo.mp4: 384x640 1 Giraffe, 19.7ms\n",
            "video 1/1 (514/2628) /content/gdrive/MyDrive/data_sets/Dataset_2/Animal_TestVideo.mp4: 384x640 1 Giraffe, 20.9ms\n",
            "video 1/1 (515/2628) /content/gdrive/MyDrive/data_sets/Dataset_2/Animal_TestVideo.mp4: 384x640 1 Giraffe, 19.8ms\n",
            "video 1/1 (516/2628) /content/gdrive/MyDrive/data_sets/Dataset_2/Animal_TestVideo.mp4: 384x640 1 Giraffe, 19.6ms\n",
            "video 1/1 (517/2628) /content/gdrive/MyDrive/data_sets/Dataset_2/Animal_TestVideo.mp4: 384x640 1 Giraffe, 19.6ms\n",
            "video 1/1 (518/2628) /content/gdrive/MyDrive/data_sets/Dataset_2/Animal_TestVideo.mp4: 384x640 1 Giraffe, 19.6ms\n",
            "video 1/1 (519/2628) /content/gdrive/MyDrive/data_sets/Dataset_2/Animal_TestVideo.mp4: 384x640 1 Giraffe, 19.7ms\n",
            "video 1/1 (520/2628) /content/gdrive/MyDrive/data_sets/Dataset_2/Animal_TestVideo.mp4: 384x640 1 Giraffe, 19.7ms\n",
            "video 1/1 (521/2628) /content/gdrive/MyDrive/data_sets/Dataset_2/Animal_TestVideo.mp4: 384x640 1 Giraffe, 19.7ms\n",
            "video 1/1 (522/2628) /content/gdrive/MyDrive/data_sets/Dataset_2/Animal_TestVideo.mp4: 384x640 2 Giraffes, 19.8ms\n",
            "video 1/1 (523/2628) /content/gdrive/MyDrive/data_sets/Dataset_2/Animal_TestVideo.mp4: 384x640 2 Giraffes, 19.6ms\n",
            "video 1/1 (524/2628) /content/gdrive/MyDrive/data_sets/Dataset_2/Animal_TestVideo.mp4: 384x640 2 Giraffes, 19.6ms\n",
            "video 1/1 (525/2628) /content/gdrive/MyDrive/data_sets/Dataset_2/Animal_TestVideo.mp4: 384x640 1 Giraffe, 20.1ms\n",
            "video 1/1 (526/2628) /content/gdrive/MyDrive/data_sets/Dataset_2/Animal_TestVideo.mp4: 384x640 1 Lion, 20.5ms\n",
            "video 1/1 (527/2628) /content/gdrive/MyDrive/data_sets/Dataset_2/Animal_TestVideo.mp4: 384x640 1 Lion, 20.7ms\n",
            "video 1/1 (528/2628) /content/gdrive/MyDrive/data_sets/Dataset_2/Animal_TestVideo.mp4: 384x640 1 Lion, 20.7ms\n",
            "video 1/1 (529/2628) /content/gdrive/MyDrive/data_sets/Dataset_2/Animal_TestVideo.mp4: 384x640 1 Camel, 1 Lion, 20.7ms\n",
            "video 1/1 (530/2628) /content/gdrive/MyDrive/data_sets/Dataset_2/Animal_TestVideo.mp4: 384x640 1 Camel, 1 Lion, 20.7ms\n",
            "video 1/1 (531/2628) /content/gdrive/MyDrive/data_sets/Dataset_2/Animal_TestVideo.mp4: 384x640 1 Lion, 20.7ms\n",
            "video 1/1 (532/2628) /content/gdrive/MyDrive/data_sets/Dataset_2/Animal_TestVideo.mp4: 384x640 1 Lion, 20.7ms\n",
            "video 1/1 (533/2628) /content/gdrive/MyDrive/data_sets/Dataset_2/Animal_TestVideo.mp4: 384x640 1 Lion, 21.1ms\n",
            "video 1/1 (534/2628) /content/gdrive/MyDrive/data_sets/Dataset_2/Animal_TestVideo.mp4: 384x640 1 Lion, 21.1ms\n",
            "video 1/1 (535/2628) /content/gdrive/MyDrive/data_sets/Dataset_2/Animal_TestVideo.mp4: 384x640 1 Lion, 21.0ms\n",
            "video 1/1 (536/2628) /content/gdrive/MyDrive/data_sets/Dataset_2/Animal_TestVideo.mp4: 384x640 1 Lion, 21.1ms\n",
            "video 1/1 (537/2628) /content/gdrive/MyDrive/data_sets/Dataset_2/Animal_TestVideo.mp4: 384x640 1 Lion, 21.1ms\n",
            "video 1/1 (538/2628) /content/gdrive/MyDrive/data_sets/Dataset_2/Animal_TestVideo.mp4: 384x640 1 Lion, 21.1ms\n",
            "video 1/1 (539/2628) /content/gdrive/MyDrive/data_sets/Dataset_2/Animal_TestVideo.mp4: 384x640 1 Lion, 21.3ms\n",
            "video 1/1 (540/2628) /content/gdrive/MyDrive/data_sets/Dataset_2/Animal_TestVideo.mp4: 384x640 1 Lion, 21.5ms\n",
            "video 1/1 (541/2628) /content/gdrive/MyDrive/data_sets/Dataset_2/Animal_TestVideo.mp4: 384x640 1 Lion, 22.3ms\n",
            "video 1/1 (542/2628) /content/gdrive/MyDrive/data_sets/Dataset_2/Animal_TestVideo.mp4: 384x640 1 Lion, 21.5ms\n",
            "video 1/1 (543/2628) /content/gdrive/MyDrive/data_sets/Dataset_2/Animal_TestVideo.mp4: 384x640 1 Lion, 21.5ms\n",
            "video 1/1 (544/2628) /content/gdrive/MyDrive/data_sets/Dataset_2/Animal_TestVideo.mp4: 384x640 1 Lion, 21.4ms\n",
            "video 1/1 (545/2628) /content/gdrive/MyDrive/data_sets/Dataset_2/Animal_TestVideo.mp4: 384x640 1 Lion, 21.4ms\n",
            "video 1/1 (546/2628) /content/gdrive/MyDrive/data_sets/Dataset_2/Animal_TestVideo.mp4: 384x640 1 Lion, 21.9ms\n",
            "video 1/1 (547/2628) /content/gdrive/MyDrive/data_sets/Dataset_2/Animal_TestVideo.mp4: 384x640 1 Lion, 21.8ms\n",
            "video 1/1 (548/2628) /content/gdrive/MyDrive/data_sets/Dataset_2/Animal_TestVideo.mp4: 384x640 1 Lion, 21.8ms\n",
            "video 1/1 (549/2628) /content/gdrive/MyDrive/data_sets/Dataset_2/Animal_TestVideo.mp4: 384x640 1 Lion, 21.8ms\n",
            "video 1/1 (550/2628) /content/gdrive/MyDrive/data_sets/Dataset_2/Animal_TestVideo.mp4: 384x640 1 Lion, 22.0ms\n",
            "video 1/1 (551/2628) /content/gdrive/MyDrive/data_sets/Dataset_2/Animal_TestVideo.mp4: 384x640 1 Lion, 22.0ms\n",
            "video 1/1 (552/2628) /content/gdrive/MyDrive/data_sets/Dataset_2/Animal_TestVideo.mp4: 384x640 1 Lion, 22.1ms\n",
            "video 1/1 (553/2628) /content/gdrive/MyDrive/data_sets/Dataset_2/Animal_TestVideo.mp4: 384x640 1 Lion, 21.9ms\n",
            "video 1/1 (554/2628) /content/gdrive/MyDrive/data_sets/Dataset_2/Animal_TestVideo.mp4: 384x640 1 Lion, 22.0ms\n",
            "video 1/1 (555/2628) /content/gdrive/MyDrive/data_sets/Dataset_2/Animal_TestVideo.mp4: 384x640 1 Lion, 21.8ms\n",
            "video 1/1 (556/2628) /content/gdrive/MyDrive/data_sets/Dataset_2/Animal_TestVideo.mp4: 384x640 1 Lion, 22.3ms\n",
            "video 1/1 (557/2628) /content/gdrive/MyDrive/data_sets/Dataset_2/Animal_TestVideo.mp4: 384x640 1 Lion, 23.2ms\n",
            "video 1/1 (558/2628) /content/gdrive/MyDrive/data_sets/Dataset_2/Animal_TestVideo.mp4: 384x640 1 Lion, 22.7ms\n",
            "video 1/1 (559/2628) /content/gdrive/MyDrive/data_sets/Dataset_2/Animal_TestVideo.mp4: 384x640 1 Lion, 22.2ms\n",
            "video 1/1 (560/2628) /content/gdrive/MyDrive/data_sets/Dataset_2/Animal_TestVideo.mp4: 384x640 1 Lion, 22.2ms\n",
            "video 1/1 (561/2628) /content/gdrive/MyDrive/data_sets/Dataset_2/Animal_TestVideo.mp4: 384x640 1 Lion, 22.2ms\n",
            "video 1/1 (562/2628) /content/gdrive/MyDrive/data_sets/Dataset_2/Animal_TestVideo.mp4: 384x640 1 Lion, 22.3ms\n",
            "video 1/1 (563/2628) /content/gdrive/MyDrive/data_sets/Dataset_2/Animal_TestVideo.mp4: 384x640 1 Lion, 21.9ms\n",
            "video 1/1 (564/2628) /content/gdrive/MyDrive/data_sets/Dataset_2/Animal_TestVideo.mp4: 384x640 1 Lion, 21.9ms\n",
            "video 1/1 (565/2628) /content/gdrive/MyDrive/data_sets/Dataset_2/Animal_TestVideo.mp4: 384x640 1 Lion, 21.8ms\n",
            "video 1/1 (566/2628) /content/gdrive/MyDrive/data_sets/Dataset_2/Animal_TestVideo.mp4: 384x640 1 Lion, 21.8ms\n",
            "video 1/1 (567/2628) /content/gdrive/MyDrive/data_sets/Dataset_2/Animal_TestVideo.mp4: 384x640 1 Lion, 21.9ms\n",
            "video 1/1 (568/2628) /content/gdrive/MyDrive/data_sets/Dataset_2/Animal_TestVideo.mp4: 384x640 1 Lion, 21.8ms\n",
            "video 1/1 (569/2628) /content/gdrive/MyDrive/data_sets/Dataset_2/Animal_TestVideo.mp4: 384x640 1 Lion, 23.6ms\n",
            "video 1/1 (570/2628) /content/gdrive/MyDrive/data_sets/Dataset_2/Animal_TestVideo.mp4: 384x640 1 Lion, 21.8ms\n",
            "video 1/1 (571/2628) /content/gdrive/MyDrive/data_sets/Dataset_2/Animal_TestVideo.mp4: 384x640 1 Lion, 21.8ms\n",
            "video 1/1 (572/2628) /content/gdrive/MyDrive/data_sets/Dataset_2/Animal_TestVideo.mp4: 384x640 1 Lion, 21.8ms\n",
            "video 1/1 (573/2628) /content/gdrive/MyDrive/data_sets/Dataset_2/Animal_TestVideo.mp4: 384x640 1 Lion, 21.9ms\n",
            "video 1/1 (574/2628) /content/gdrive/MyDrive/data_sets/Dataset_2/Animal_TestVideo.mp4: 384x640 1 Lion, 22.0ms\n",
            "video 1/1 (575/2628) /content/gdrive/MyDrive/data_sets/Dataset_2/Animal_TestVideo.mp4: 384x640 1 Lion, 22.1ms\n",
            "video 1/1 (576/2628) /content/gdrive/MyDrive/data_sets/Dataset_2/Animal_TestVideo.mp4: 384x640 1 Lion, 21.8ms\n",
            "video 1/1 (577/2628) /content/gdrive/MyDrive/data_sets/Dataset_2/Animal_TestVideo.mp4: 384x640 1 Lion, 21.8ms\n",
            "video 1/1 (578/2628) /content/gdrive/MyDrive/data_sets/Dataset_2/Animal_TestVideo.mp4: 384x640 1 Lion, 21.8ms\n",
            "video 1/1 (579/2628) /content/gdrive/MyDrive/data_sets/Dataset_2/Animal_TestVideo.mp4: 384x640 1 Lion, 20.8ms\n",
            "video 1/1 (580/2628) /content/gdrive/MyDrive/data_sets/Dataset_2/Animal_TestVideo.mp4: 384x640 1 Lion, 20.8ms\n",
            "video 1/1 (581/2628) /content/gdrive/MyDrive/data_sets/Dataset_2/Animal_TestVideo.mp4: 384x640 1 Lion, 21.3ms\n",
            "video 1/1 (582/2628) /content/gdrive/MyDrive/data_sets/Dataset_2/Animal_TestVideo.mp4: 384x640 1 Lion, 20.8ms\n",
            "video 1/1 (583/2628) /content/gdrive/MyDrive/data_sets/Dataset_2/Animal_TestVideo.mp4: 384x640 1 Lion, 20.7ms\n",
            "video 1/1 (584/2628) /content/gdrive/MyDrive/data_sets/Dataset_2/Animal_TestVideo.mp4: 384x640 1 Lion, 20.8ms\n",
            "video 1/1 (585/2628) /content/gdrive/MyDrive/data_sets/Dataset_2/Animal_TestVideo.mp4: 384x640 1 Lion, 20.9ms\n",
            "video 1/1 (586/2628) /content/gdrive/MyDrive/data_sets/Dataset_2/Animal_TestVideo.mp4: 384x640 1 Lion, 20.7ms\n",
            "video 1/1 (587/2628) /content/gdrive/MyDrive/data_sets/Dataset_2/Animal_TestVideo.mp4: 384x640 1 Lion, 20.7ms\n",
            "video 1/1 (588/2628) /content/gdrive/MyDrive/data_sets/Dataset_2/Animal_TestVideo.mp4: 384x640 1 Lion, 20.9ms\n",
            "video 1/1 (589/2628) /content/gdrive/MyDrive/data_sets/Dataset_2/Animal_TestVideo.mp4: 384x640 1 Lion, 20.8ms\n",
            "video 1/1 (590/2628) /content/gdrive/MyDrive/data_sets/Dataset_2/Animal_TestVideo.mp4: 384x640 1 Lion, 20.7ms\n",
            "video 1/1 (591/2628) /content/gdrive/MyDrive/data_sets/Dataset_2/Animal_TestVideo.mp4: 384x640 1 Lion, 20.8ms\n",
            "video 1/1 (592/2628) /content/gdrive/MyDrive/data_sets/Dataset_2/Animal_TestVideo.mp4: 384x640 1 Lion, 20.8ms\n",
            "video 1/1 (593/2628) /content/gdrive/MyDrive/data_sets/Dataset_2/Animal_TestVideo.mp4: 384x640 1 Lion, 20.8ms\n",
            "video 1/1 (594/2628) /content/gdrive/MyDrive/data_sets/Dataset_2/Animal_TestVideo.mp4: 384x640 1 Lion, 20.8ms\n",
            "video 1/1 (595/2628) /content/gdrive/MyDrive/data_sets/Dataset_2/Animal_TestVideo.mp4: 384x640 1 Lion, 20.8ms\n",
            "video 1/1 (596/2628) /content/gdrive/MyDrive/data_sets/Dataset_2/Animal_TestVideo.mp4: 384x640 1 Lion, 20.8ms\n",
            "video 1/1 (597/2628) /content/gdrive/MyDrive/data_sets/Dataset_2/Animal_TestVideo.mp4: 384x640 1 Lion, 20.9ms\n",
            "video 1/1 (598/2628) /content/gdrive/MyDrive/data_sets/Dataset_2/Animal_TestVideo.mp4: 384x640 1 Lion, 20.8ms\n",
            "video 1/1 (599/2628) /content/gdrive/MyDrive/data_sets/Dataset_2/Animal_TestVideo.mp4: 384x640 1 Lion, 20.7ms\n",
            "video 1/1 (600/2628) /content/gdrive/MyDrive/data_sets/Dataset_2/Animal_TestVideo.mp4: 384x640 1 Lion, 20.7ms\n",
            "video 1/1 (601/2628) /content/gdrive/MyDrive/data_sets/Dataset_2/Animal_TestVideo.mp4: 384x640 1 Lion, 20.9ms\n",
            "video 1/1 (602/2628) /content/gdrive/MyDrive/data_sets/Dataset_2/Animal_TestVideo.mp4: 384x640 1 Lion, 20.7ms\n",
            "video 1/1 (603/2628) /content/gdrive/MyDrive/data_sets/Dataset_2/Animal_TestVideo.mp4: 384x640 1 Lion, 21.4ms\n",
            "video 1/1 (604/2628) /content/gdrive/MyDrive/data_sets/Dataset_2/Animal_TestVideo.mp4: 384x640 1 Lion, 20.7ms\n",
            "video 1/1 (605/2628) /content/gdrive/MyDrive/data_sets/Dataset_2/Animal_TestVideo.mp4: 384x640 1 Lion, 20.7ms\n",
            "video 1/1 (606/2628) /content/gdrive/MyDrive/data_sets/Dataset_2/Animal_TestVideo.mp4: 384x640 1 Lion, 20.8ms\n",
            "video 1/1 (607/2628) /content/gdrive/MyDrive/data_sets/Dataset_2/Animal_TestVideo.mp4: 384x640 1 Lion, 23.4ms\n",
            "video 1/1 (608/2628) /content/gdrive/MyDrive/data_sets/Dataset_2/Animal_TestVideo.mp4: 384x640 1 Lion, 21.2ms\n",
            "video 1/1 (609/2628) /content/gdrive/MyDrive/data_sets/Dataset_2/Animal_TestVideo.mp4: 384x640 1 Lion, 22.0ms\n",
            "video 1/1 (610/2628) /content/gdrive/MyDrive/data_sets/Dataset_2/Animal_TestVideo.mp4: 384x640 1 Lion, 21.9ms\n",
            "video 1/1 (611/2628) /content/gdrive/MyDrive/data_sets/Dataset_2/Animal_TestVideo.mp4: 384x640 1 Lion, 22.0ms\n",
            "video 1/1 (612/2628) /content/gdrive/MyDrive/data_sets/Dataset_2/Animal_TestVideo.mp4: 384x640 1 Lion, 22.0ms\n",
            "video 1/1 (613/2628) /content/gdrive/MyDrive/data_sets/Dataset_2/Animal_TestVideo.mp4: 384x640 1 Lion, 21.8ms\n",
            "video 1/1 (614/2628) /content/gdrive/MyDrive/data_sets/Dataset_2/Animal_TestVideo.mp4: 384x640 1 Lion, 21.8ms\n",
            "video 1/1 (615/2628) /content/gdrive/MyDrive/data_sets/Dataset_2/Animal_TestVideo.mp4: 384x640 1 Lion, 22.2ms\n",
            "video 1/1 (616/2628) /content/gdrive/MyDrive/data_sets/Dataset_2/Animal_TestVideo.mp4: 384x640 1 Lion, 22.8ms\n",
            "video 1/1 (617/2628) /content/gdrive/MyDrive/data_sets/Dataset_2/Animal_TestVideo.mp4: 384x640 1 Lion, 22.5ms\n",
            "video 1/1 (618/2628) /content/gdrive/MyDrive/data_sets/Dataset_2/Animal_TestVideo.mp4: 384x640 1 Lion, 22.4ms\n",
            "video 1/1 (619/2628) /content/gdrive/MyDrive/data_sets/Dataset_2/Animal_TestVideo.mp4: 384x640 1 Lion, 22.2ms\n",
            "video 1/1 (620/2628) /content/gdrive/MyDrive/data_sets/Dataset_2/Animal_TestVideo.mp4: 384x640 1 Lion, 22.2ms\n",
            "video 1/1 (621/2628) /content/gdrive/MyDrive/data_sets/Dataset_2/Animal_TestVideo.mp4: 384x640 1 Lion, 22.5ms\n",
            "video 1/1 (622/2628) /content/gdrive/MyDrive/data_sets/Dataset_2/Animal_TestVideo.mp4: 384x640 1 Lion, 22.3ms\n",
            "video 1/1 (623/2628) /content/gdrive/MyDrive/data_sets/Dataset_2/Animal_TestVideo.mp4: 384x640 1 Lion, 22.2ms\n",
            "video 1/1 (624/2628) /content/gdrive/MyDrive/data_sets/Dataset_2/Animal_TestVideo.mp4: 384x640 1 Lion, 22.4ms\n",
            "video 1/1 (625/2628) /content/gdrive/MyDrive/data_sets/Dataset_2/Animal_TestVideo.mp4: 384x640 1 Lion, 22.9ms\n",
            "video 1/1 (626/2628) /content/gdrive/MyDrive/data_sets/Dataset_2/Animal_TestVideo.mp4: 384x640 1 Lion, 22.8ms\n",
            "video 1/1 (627/2628) /content/gdrive/MyDrive/data_sets/Dataset_2/Animal_TestVideo.mp4: 384x640 1 Lion, 22.7ms\n",
            "video 1/1 (628/2628) /content/gdrive/MyDrive/data_sets/Dataset_2/Animal_TestVideo.mp4: 384x640 1 Lion, 22.8ms\n",
            "video 1/1 (629/2628) /content/gdrive/MyDrive/data_sets/Dataset_2/Animal_TestVideo.mp4: 384x640 1 Lion, 22.7ms\n",
            "video 1/1 (630/2628) /content/gdrive/MyDrive/data_sets/Dataset_2/Animal_TestVideo.mp4: 384x640 1 Lion, 22.8ms\n",
            "video 1/1 (631/2628) /content/gdrive/MyDrive/data_sets/Dataset_2/Animal_TestVideo.mp4: 384x640 1 Lion, 22.8ms\n",
            "video 1/1 (632/2628) /content/gdrive/MyDrive/data_sets/Dataset_2/Animal_TestVideo.mp4: 384x640 1 Lion, 22.2ms\n",
            "video 1/1 (633/2628) /content/gdrive/MyDrive/data_sets/Dataset_2/Animal_TestVideo.mp4: 384x640 1 Lion, 22.2ms\n",
            "video 1/1 (634/2628) /content/gdrive/MyDrive/data_sets/Dataset_2/Animal_TestVideo.mp4: 384x640 1 Lion, 26.0ms\n",
            "video 1/1 (635/2628) /content/gdrive/MyDrive/data_sets/Dataset_2/Animal_TestVideo.mp4: 384x640 1 Lion, 22.3ms\n",
            "video 1/1 (636/2628) /content/gdrive/MyDrive/data_sets/Dataset_2/Animal_TestVideo.mp4: 384x640 1 Lion, 22.8ms\n",
            "video 1/1 (637/2628) /content/gdrive/MyDrive/data_sets/Dataset_2/Animal_TestVideo.mp4: 384x640 1 Lion, 25.0ms\n",
            "video 1/1 (638/2628) /content/gdrive/MyDrive/data_sets/Dataset_2/Animal_TestVideo.mp4: 384x640 1 Lion, 22.2ms\n",
            "video 1/1 (639/2628) /content/gdrive/MyDrive/data_sets/Dataset_2/Animal_TestVideo.mp4: 384x640 1 Lion, 22.3ms\n",
            "video 1/1 (640/2628) /content/gdrive/MyDrive/data_sets/Dataset_2/Animal_TestVideo.mp4: 384x640 1 Lion, 22.2ms\n",
            "video 1/1 (641/2628) /content/gdrive/MyDrive/data_sets/Dataset_2/Animal_TestVideo.mp4: 384x640 1 Lion, 23.5ms\n",
            "video 1/1 (642/2628) /content/gdrive/MyDrive/data_sets/Dataset_2/Animal_TestVideo.mp4: 384x640 1 Camel, 1 Lion, 22.2ms\n",
            "video 1/1 (643/2628) /content/gdrive/MyDrive/data_sets/Dataset_2/Animal_TestVideo.mp4: 384x640 1 Brown bear, 1 Camel, 1 Lion, 22.2ms\n",
            "video 1/1 (644/2628) /content/gdrive/MyDrive/data_sets/Dataset_2/Animal_TestVideo.mp4: 384x640 1 Camel, 1 Lion, 22.2ms\n",
            "video 1/1 (645/2628) /content/gdrive/MyDrive/data_sets/Dataset_2/Animal_TestVideo.mp4: 384x640 1 Camel, 22.2ms\n",
            "video 1/1 (646/2628) /content/gdrive/MyDrive/data_sets/Dataset_2/Animal_TestVideo.mp4: 384x640 1 Camel, 1 Lion, 23.6ms\n",
            "video 1/1 (647/2628) /content/gdrive/MyDrive/data_sets/Dataset_2/Animal_TestVideo.mp4: 384x640 1 Brown bear, 1 Lion, 22.3ms\n",
            "video 1/1 (648/2628) /content/gdrive/MyDrive/data_sets/Dataset_2/Animal_TestVideo.mp4: 384x640 1 Camel, 1 Lion, 22.3ms\n",
            "video 1/1 (649/2628) /content/gdrive/MyDrive/data_sets/Dataset_2/Animal_TestVideo.mp4: 384x640 1 Lion, 22.2ms\n",
            "video 1/1 (650/2628) /content/gdrive/MyDrive/data_sets/Dataset_2/Animal_TestVideo.mp4: 384x640 1 Lion, 22.3ms\n",
            "video 1/1 (651/2628) /content/gdrive/MyDrive/data_sets/Dataset_2/Animal_TestVideo.mp4: 384x640 1 Lion, 22.2ms\n",
            "video 1/1 (652/2628) /content/gdrive/MyDrive/data_sets/Dataset_2/Animal_TestVideo.mp4: 384x640 1 Lion, 22.4ms\n",
            "video 1/1 (653/2628) /content/gdrive/MyDrive/data_sets/Dataset_2/Animal_TestVideo.mp4: 384x640 1 Lion, 22.4ms\n",
            "video 1/1 (654/2628) /content/gdrive/MyDrive/data_sets/Dataset_2/Animal_TestVideo.mp4: 384x640 1 Lion, 22.3ms\n",
            "video 1/1 (655/2628) /content/gdrive/MyDrive/data_sets/Dataset_2/Animal_TestVideo.mp4: 384x640 1 Lion, 25.3ms\n",
            "video 1/1 (656/2628) /content/gdrive/MyDrive/data_sets/Dataset_2/Animal_TestVideo.mp4: 384x640 1 Lion, 25.3ms\n",
            "video 1/1 (657/2628) /content/gdrive/MyDrive/data_sets/Dataset_2/Animal_TestVideo.mp4: 384x640 1 Lion, 25.3ms\n",
            "video 1/1 (658/2628) /content/gdrive/MyDrive/data_sets/Dataset_2/Animal_TestVideo.mp4: 384x640 1 Lion, 28.6ms\n",
            "video 1/1 (659/2628) /content/gdrive/MyDrive/data_sets/Dataset_2/Animal_TestVideo.mp4: 384x640 1 Lion, 26.8ms\n",
            "video 1/1 (660/2628) /content/gdrive/MyDrive/data_sets/Dataset_2/Animal_TestVideo.mp4: 384x640 1 Lion, 25.3ms\n",
            "video 1/1 (661/2628) /content/gdrive/MyDrive/data_sets/Dataset_2/Animal_TestVideo.mp4: 384x640 1 Lion, 25.3ms\n",
            "video 1/1 (662/2628) /content/gdrive/MyDrive/data_sets/Dataset_2/Animal_TestVideo.mp4: 384x640 1 Lion, 25.8ms\n",
            "video 1/1 (663/2628) /content/gdrive/MyDrive/data_sets/Dataset_2/Animal_TestVideo.mp4: 384x640 1 Lion, 25.2ms\n",
            "video 1/1 (664/2628) /content/gdrive/MyDrive/data_sets/Dataset_2/Animal_TestVideo.mp4: 384x640 1 Lion, 25.7ms\n",
            "video 1/1 (665/2628) /content/gdrive/MyDrive/data_sets/Dataset_2/Animal_TestVideo.mp4: 384x640 1 Camel, 1 Lion, 25.4ms\n",
            "video 1/1 (666/2628) /content/gdrive/MyDrive/data_sets/Dataset_2/Animal_TestVideo.mp4: 384x640 1 Lion, 25.2ms\n",
            "video 1/1 (667/2628) /content/gdrive/MyDrive/data_sets/Dataset_2/Animal_TestVideo.mp4: 384x640 1 Lion, 26.1ms\n",
            "video 1/1 (668/2628) /content/gdrive/MyDrive/data_sets/Dataset_2/Animal_TestVideo.mp4: 384x640 1 Lion, 25.2ms\n",
            "video 1/1 (669/2628) /content/gdrive/MyDrive/data_sets/Dataset_2/Animal_TestVideo.mp4: 384x640 1 Lion, 25.3ms\n",
            "video 1/1 (670/2628) /content/gdrive/MyDrive/data_sets/Dataset_2/Animal_TestVideo.mp4: 384x640 1 Lion, 25.2ms\n",
            "video 1/1 (671/2628) /content/gdrive/MyDrive/data_sets/Dataset_2/Animal_TestVideo.mp4: 384x640 1 Lion, 27.2ms\n",
            "video 1/1 (672/2628) /content/gdrive/MyDrive/data_sets/Dataset_2/Animal_TestVideo.mp4: 384x640 1 Lion, 27.0ms\n",
            "video 1/1 (673/2628) /content/gdrive/MyDrive/data_sets/Dataset_2/Animal_TestVideo.mp4: 384x640 1 Lion, 25.2ms\n",
            "video 1/1 (674/2628) /content/gdrive/MyDrive/data_sets/Dataset_2/Animal_TestVideo.mp4: 384x640 1 Lion, 25.3ms\n",
            "video 1/1 (675/2628) /content/gdrive/MyDrive/data_sets/Dataset_2/Animal_TestVideo.mp4: 384x640 1 Lion, 25.2ms\n",
            "video 1/1 (676/2628) /content/gdrive/MyDrive/data_sets/Dataset_2/Animal_TestVideo.mp4: 384x640 1 Lion, 25.2ms\n",
            "video 1/1 (677/2628) /content/gdrive/MyDrive/data_sets/Dataset_2/Animal_TestVideo.mp4: 384x640 1 Lion, 25.3ms\n",
            "video 1/1 (678/2628) /content/gdrive/MyDrive/data_sets/Dataset_2/Animal_TestVideo.mp4: 384x640 1 Lion, 25.3ms\n",
            "video 1/1 (679/2628) /content/gdrive/MyDrive/data_sets/Dataset_2/Animal_TestVideo.mp4: 384x640 1 Lion, 25.3ms\n",
            "video 1/1 (680/2628) /content/gdrive/MyDrive/data_sets/Dataset_2/Animal_TestVideo.mp4: 384x640 1 Lion, 25.2ms\n",
            "video 1/1 (681/2628) /content/gdrive/MyDrive/data_sets/Dataset_2/Animal_TestVideo.mp4: 384x640 1 Lion, 31.0ms\n",
            "video 1/1 (682/2628) /content/gdrive/MyDrive/data_sets/Dataset_2/Animal_TestVideo.mp4: 384x640 1 Lion, 25.3ms\n",
            "video 1/1 (683/2628) /content/gdrive/MyDrive/data_sets/Dataset_2/Animal_TestVideo.mp4: 384x640 1 Lion, 25.2ms\n",
            "video 1/1 (684/2628) /content/gdrive/MyDrive/data_sets/Dataset_2/Animal_TestVideo.mp4: 384x640 1 Lion, 25.2ms\n",
            "video 1/1 (685/2628) /content/gdrive/MyDrive/data_sets/Dataset_2/Animal_TestVideo.mp4: 384x640 1 Lion, 25.3ms\n",
            "video 1/1 (686/2628) /content/gdrive/MyDrive/data_sets/Dataset_2/Animal_TestVideo.mp4: 384x640 1 Lion, 25.2ms\n",
            "video 1/1 (687/2628) /content/gdrive/MyDrive/data_sets/Dataset_2/Animal_TestVideo.mp4: 384x640 1 Lion, 25.3ms\n",
            "video 1/1 (688/2628) /content/gdrive/MyDrive/data_sets/Dataset_2/Animal_TestVideo.mp4: 384x640 1 Lion, 26.6ms\n",
            "video 1/1 (689/2628) /content/gdrive/MyDrive/data_sets/Dataset_2/Animal_TestVideo.mp4: 384x640 1 Lion, 25.2ms\n",
            "video 1/1 (690/2628) /content/gdrive/MyDrive/data_sets/Dataset_2/Animal_TestVideo.mp4: 384x640 1 Lion, 25.5ms\n",
            "video 1/1 (691/2628) /content/gdrive/MyDrive/data_sets/Dataset_2/Animal_TestVideo.mp4: 384x640 1 Lion, 25.1ms\n",
            "video 1/1 (692/2628) /content/gdrive/MyDrive/data_sets/Dataset_2/Animal_TestVideo.mp4: 384x640 1 Lion, 25.3ms\n",
            "video 1/1 (693/2628) /content/gdrive/MyDrive/data_sets/Dataset_2/Animal_TestVideo.mp4: 384x640 1 Lion, 25.2ms\n",
            "video 1/1 (694/2628) /content/gdrive/MyDrive/data_sets/Dataset_2/Animal_TestVideo.mp4: 384x640 1 Lion, 26.7ms\n",
            "video 1/1 (695/2628) /content/gdrive/MyDrive/data_sets/Dataset_2/Animal_TestVideo.mp4: 384x640 1 Lion, 25.2ms\n",
            "video 1/1 (696/2628) /content/gdrive/MyDrive/data_sets/Dataset_2/Animal_TestVideo.mp4: 384x640 1 Brown bear, 1 Lion, 25.1ms\n",
            "video 1/1 (697/2628) /content/gdrive/MyDrive/data_sets/Dataset_2/Animal_TestVideo.mp4: 384x640 1 Brown bear, 1 Lion, 25.2ms\n",
            "video 1/1 (698/2628) /content/gdrive/MyDrive/data_sets/Dataset_2/Animal_TestVideo.mp4: 384x640 1 Brown bear, 1 Lion, 25.2ms\n",
            "video 1/1 (699/2628) /content/gdrive/MyDrive/data_sets/Dataset_2/Animal_TestVideo.mp4: 384x640 1 Brown bear, 1 Lion, 25.2ms\n",
            "video 1/1 (700/2628) /content/gdrive/MyDrive/data_sets/Dataset_2/Animal_TestVideo.mp4: 384x640 1 Brown bear, 1 Lion, 25.1ms\n",
            "video 1/1 (701/2628) /content/gdrive/MyDrive/data_sets/Dataset_2/Animal_TestVideo.mp4: 384x640 1 Lion, 25.2ms\n",
            "video 1/1 (702/2628) /content/gdrive/MyDrive/data_sets/Dataset_2/Animal_TestVideo.mp4: 384x640 1 Lion, 25.2ms\n",
            "video 1/1 (703/2628) /content/gdrive/MyDrive/data_sets/Dataset_2/Animal_TestVideo.mp4: 384x640 1 Lion, 25.2ms\n",
            "video 1/1 (704/2628) /content/gdrive/MyDrive/data_sets/Dataset_2/Animal_TestVideo.mp4: 384x640 1 Lion, 25.2ms\n",
            "video 1/1 (705/2628) /content/gdrive/MyDrive/data_sets/Dataset_2/Animal_TestVideo.mp4: 384x640 1 Lion, 25.2ms\n",
            "video 1/1 (706/2628) /content/gdrive/MyDrive/data_sets/Dataset_2/Animal_TestVideo.mp4: 384x640 1 Lion, 25.1ms\n",
            "video 1/1 (707/2628) /content/gdrive/MyDrive/data_sets/Dataset_2/Animal_TestVideo.mp4: 384x640 1 Lion, 25.4ms\n",
            "video 1/1 (708/2628) /content/gdrive/MyDrive/data_sets/Dataset_2/Animal_TestVideo.mp4: 384x640 1 Lion, 25.2ms\n",
            "video 1/1 (709/2628) /content/gdrive/MyDrive/data_sets/Dataset_2/Animal_TestVideo.mp4: 384x640 1 Lion, 25.1ms\n",
            "video 1/1 (710/2628) /content/gdrive/MyDrive/data_sets/Dataset_2/Animal_TestVideo.mp4: 384x640 1 Lion, 25.1ms\n",
            "video 1/1 (711/2628) /content/gdrive/MyDrive/data_sets/Dataset_2/Animal_TestVideo.mp4: 384x640 1 Lion, 25.2ms\n",
            "video 1/1 (712/2628) /content/gdrive/MyDrive/data_sets/Dataset_2/Animal_TestVideo.mp4: 384x640 1 Lion, 25.2ms\n",
            "video 1/1 (713/2628) /content/gdrive/MyDrive/data_sets/Dataset_2/Animal_TestVideo.mp4: 384x640 1 Lion, 25.1ms\n",
            "video 1/1 (714/2628) /content/gdrive/MyDrive/data_sets/Dataset_2/Animal_TestVideo.mp4: 384x640 1 Lion, 25.2ms\n",
            "video 1/1 (715/2628) /content/gdrive/MyDrive/data_sets/Dataset_2/Animal_TestVideo.mp4: 384x640 1 Lion, 25.2ms\n",
            "video 1/1 (716/2628) /content/gdrive/MyDrive/data_sets/Dataset_2/Animal_TestVideo.mp4: 384x640 1 Lion, 26.0ms\n",
            "video 1/1 (717/2628) /content/gdrive/MyDrive/data_sets/Dataset_2/Animal_TestVideo.mp4: 384x640 1 Lion, 25.1ms\n",
            "video 1/1 (718/2628) /content/gdrive/MyDrive/data_sets/Dataset_2/Animal_TestVideo.mp4: 384x640 1 Lion, 25.2ms\n",
            "video 1/1 (719/2628) /content/gdrive/MyDrive/data_sets/Dataset_2/Animal_TestVideo.mp4: 384x640 1 Lion, 25.2ms\n",
            "video 1/1 (720/2628) /content/gdrive/MyDrive/data_sets/Dataset_2/Animal_TestVideo.mp4: 384x640 1 Lion, 25.4ms\n",
            "video 1/1 (721/2628) /content/gdrive/MyDrive/data_sets/Dataset_2/Animal_TestVideo.mp4: 384x640 1 Lion, 25.1ms\n",
            "video 1/1 (722/2628) /content/gdrive/MyDrive/data_sets/Dataset_2/Animal_TestVideo.mp4: 384x640 1 Lion, 24.9ms\n",
            "video 1/1 (723/2628) /content/gdrive/MyDrive/data_sets/Dataset_2/Animal_TestVideo.mp4: 384x640 1 Lion, 23.1ms\n",
            "video 1/1 (724/2628) /content/gdrive/MyDrive/data_sets/Dataset_2/Animal_TestVideo.mp4: 384x640 1 Lion, 23.1ms\n",
            "video 1/1 (725/2628) /content/gdrive/MyDrive/data_sets/Dataset_2/Animal_TestVideo.mp4: 384x640 1 Lion, 23.1ms\n",
            "video 1/1 (726/2628) /content/gdrive/MyDrive/data_sets/Dataset_2/Animal_TestVideo.mp4: 384x640 1 Lion, 23.1ms\n",
            "video 1/1 (727/2628) /content/gdrive/MyDrive/data_sets/Dataset_2/Animal_TestVideo.mp4: 384x640 1 Lion, 23.2ms\n",
            "video 1/1 (728/2628) /content/gdrive/MyDrive/data_sets/Dataset_2/Animal_TestVideo.mp4: 384x640 1 Lion, 23.1ms\n",
            "video 1/1 (729/2628) /content/gdrive/MyDrive/data_sets/Dataset_2/Animal_TestVideo.mp4: 384x640 1 Lion, 23.1ms\n",
            "video 1/1 (730/2628) /content/gdrive/MyDrive/data_sets/Dataset_2/Animal_TestVideo.mp4: 384x640 1 Lion, 23.1ms\n",
            "video 1/1 (731/2628) /content/gdrive/MyDrive/data_sets/Dataset_2/Animal_TestVideo.mp4: 384x640 1 Brown bear, 1 Lion, 23.2ms\n",
            "video 1/1 (732/2628) /content/gdrive/MyDrive/data_sets/Dataset_2/Animal_TestVideo.mp4: 384x640 1 Lion, 23.2ms\n",
            "video 1/1 (733/2628) /content/gdrive/MyDrive/data_sets/Dataset_2/Animal_TestVideo.mp4: 384x640 1 Lion, 23.2ms\n",
            "video 1/1 (734/2628) /content/gdrive/MyDrive/data_sets/Dataset_2/Animal_TestVideo.mp4: 384x640 1 Brown bear, 1 Lion, 23.2ms\n",
            "video 1/1 (735/2628) /content/gdrive/MyDrive/data_sets/Dataset_2/Animal_TestVideo.mp4: 384x640 1 Lion, 23.1ms\n",
            "video 1/1 (736/2628) /content/gdrive/MyDrive/data_sets/Dataset_2/Animal_TestVideo.mp4: 384x640 1 Brown bear, 1 Lion, 23.2ms\n",
            "video 1/1 (737/2628) /content/gdrive/MyDrive/data_sets/Dataset_2/Animal_TestVideo.mp4: 384x640 1 Lion, 23.1ms\n",
            "video 1/1 (738/2628) /content/gdrive/MyDrive/data_sets/Dataset_2/Animal_TestVideo.mp4: 384x640 1 Lion, 23.1ms\n",
            "video 1/1 (739/2628) /content/gdrive/MyDrive/data_sets/Dataset_2/Animal_TestVideo.mp4: 384x640 1 Lion, 23.1ms\n",
            "video 1/1 (740/2628) /content/gdrive/MyDrive/data_sets/Dataset_2/Animal_TestVideo.mp4: 384x640 1 Brown bear, 1 Lion, 23.1ms\n",
            "video 1/1 (741/2628) /content/gdrive/MyDrive/data_sets/Dataset_2/Animal_TestVideo.mp4: 384x640 1 Lion, 23.1ms\n",
            "video 1/1 (742/2628) /content/gdrive/MyDrive/data_sets/Dataset_2/Animal_TestVideo.mp4: 384x640 1 Lion, 23.1ms\n",
            "video 1/1 (743/2628) /content/gdrive/MyDrive/data_sets/Dataset_2/Animal_TestVideo.mp4: 384x640 1 Brown bear, 1 Lion, 23.2ms\n",
            "video 1/1 (744/2628) /content/gdrive/MyDrive/data_sets/Dataset_2/Animal_TestVideo.mp4: 384x640 1 Lion, 23.2ms\n",
            "video 1/1 (745/2628) /content/gdrive/MyDrive/data_sets/Dataset_2/Animal_TestVideo.mp4: 384x640 1 Lion, 22.2ms\n",
            "video 1/1 (746/2628) /content/gdrive/MyDrive/data_sets/Dataset_2/Animal_TestVideo.mp4: 384x640 1 Lion, 22.2ms\n",
            "video 1/1 (747/2628) /content/gdrive/MyDrive/data_sets/Dataset_2/Animal_TestVideo.mp4: 384x640 1 Brown bear, 1 Lion, 22.4ms\n",
            "video 1/1 (748/2628) /content/gdrive/MyDrive/data_sets/Dataset_2/Animal_TestVideo.mp4: 384x640 1 Brown bear, 1 Lion, 22.2ms\n",
            "video 1/1 (749/2628) /content/gdrive/MyDrive/data_sets/Dataset_2/Animal_TestVideo.mp4: 384x640 1 Lion, 22.3ms\n",
            "video 1/1 (750/2628) /content/gdrive/MyDrive/data_sets/Dataset_2/Animal_TestVideo.mp4: 384x640 1 Lion, 22.2ms\n",
            "video 1/1 (751/2628) /content/gdrive/MyDrive/data_sets/Dataset_2/Animal_TestVideo.mp4: 384x640 1 Lion, 22.3ms\n",
            "video 1/1 (752/2628) /content/gdrive/MyDrive/data_sets/Dataset_2/Animal_TestVideo.mp4: 384x640 1 Lion, 22.4ms\n",
            "video 1/1 (753/2628) /content/gdrive/MyDrive/data_sets/Dataset_2/Animal_TestVideo.mp4: 384x640 1 Lion, 22.2ms\n",
            "video 1/1 (754/2628) /content/gdrive/MyDrive/data_sets/Dataset_2/Animal_TestVideo.mp4: 384x640 1 Lion, 22.2ms\n",
            "video 1/1 (755/2628) /content/gdrive/MyDrive/data_sets/Dataset_2/Animal_TestVideo.mp4: 384x640 1 Lion, 22.2ms\n",
            "video 1/1 (756/2628) /content/gdrive/MyDrive/data_sets/Dataset_2/Animal_TestVideo.mp4: 384x640 1 Brown bear, 1 Lion, 22.3ms\n",
            "video 1/1 (757/2628) /content/gdrive/MyDrive/data_sets/Dataset_2/Animal_TestVideo.mp4: 384x640 1 Lion, 22.2ms\n",
            "video 1/1 (758/2628) /content/gdrive/MyDrive/data_sets/Dataset_2/Animal_TestVideo.mp4: 384x640 1 Lion, 22.2ms\n",
            "video 1/1 (759/2628) /content/gdrive/MyDrive/data_sets/Dataset_2/Animal_TestVideo.mp4: 384x640 1 Brown bear, 1 Lion, 22.2ms\n",
            "video 1/1 (760/2628) /content/gdrive/MyDrive/data_sets/Dataset_2/Animal_TestVideo.mp4: 384x640 1 Brown bear, 1 Lion, 22.3ms\n",
            "video 1/1 (761/2628) /content/gdrive/MyDrive/data_sets/Dataset_2/Animal_TestVideo.mp4: 384x640 1 Brown bear, 1 Lion, 22.2ms\n",
            "video 1/1 (762/2628) /content/gdrive/MyDrive/data_sets/Dataset_2/Animal_TestVideo.mp4: 384x640 1 Brown bear, 1 Lion, 22.8ms\n",
            "video 1/1 (763/2628) /content/gdrive/MyDrive/data_sets/Dataset_2/Animal_TestVideo.mp4: 384x640 1 Brown bear, 1 Lion, 22.4ms\n",
            "video 1/1 (764/2628) /content/gdrive/MyDrive/data_sets/Dataset_2/Animal_TestVideo.mp4: 384x640 1 Brown bear, 1 Lion, 22.3ms\n",
            "video 1/1 (765/2628) /content/gdrive/MyDrive/data_sets/Dataset_2/Animal_TestVideo.mp4: 384x640 1 Brown bear, 22.7ms\n",
            "video 1/1 (766/2628) /content/gdrive/MyDrive/data_sets/Dataset_2/Animal_TestVideo.mp4: 384x640 1 Brown bear, 1 Lion, 22.2ms\n",
            "video 1/1 (767/2628) /content/gdrive/MyDrive/data_sets/Dataset_2/Animal_TestVideo.mp4: 384x640 1 Lion, 22.3ms\n",
            "video 1/1 (768/2628) /content/gdrive/MyDrive/data_sets/Dataset_2/Animal_TestVideo.mp4: 384x640 1 Lion, 22.2ms\n",
            "video 1/1 (769/2628) /content/gdrive/MyDrive/data_sets/Dataset_2/Animal_TestVideo.mp4: 384x640 1 Brown bear, 1 Lion, 22.5ms\n",
            "video 1/1 (770/2628) /content/gdrive/MyDrive/data_sets/Dataset_2/Animal_TestVideo.mp4: 384x640 1 Lion, 22.3ms\n",
            "video 1/1 (771/2628) /content/gdrive/MyDrive/data_sets/Dataset_2/Animal_TestVideo.mp4: 384x640 1 Lion, 22.2ms\n",
            "video 1/1 (772/2628) /content/gdrive/MyDrive/data_sets/Dataset_2/Animal_TestVideo.mp4: 384x640 1 Lion, 22.2ms\n",
            "video 1/1 (773/2628) /content/gdrive/MyDrive/data_sets/Dataset_2/Animal_TestVideo.mp4: 384x640 1 Lion, 22.3ms\n",
            "video 1/1 (774/2628) /content/gdrive/MyDrive/data_sets/Dataset_2/Animal_TestVideo.mp4: 384x640 1 Lion, 22.5ms\n",
            "video 1/1 (775/2628) /content/gdrive/MyDrive/data_sets/Dataset_2/Animal_TestVideo.mp4: 384x640 1 Lion, 22.2ms\n",
            "video 1/1 (776/2628) /content/gdrive/MyDrive/data_sets/Dataset_2/Animal_TestVideo.mp4: 384x640 1 Lion, 22.2ms\n",
            "video 1/1 (777/2628) /content/gdrive/MyDrive/data_sets/Dataset_2/Animal_TestVideo.mp4: 384x640 1 Lion, 22.6ms\n",
            "video 1/1 (778/2628) /content/gdrive/MyDrive/data_sets/Dataset_2/Animal_TestVideo.mp4: 384x640 1 Lion, 22.7ms\n",
            "video 1/1 (779/2628) /content/gdrive/MyDrive/data_sets/Dataset_2/Animal_TestVideo.mp4: 384x640 1 Lion, 22.9ms\n",
            "video 1/1 (780/2628) /content/gdrive/MyDrive/data_sets/Dataset_2/Animal_TestVideo.mp4: 384x640 1 Lion, 22.9ms\n",
            "video 1/1 (781/2628) /content/gdrive/MyDrive/data_sets/Dataset_2/Animal_TestVideo.mp4: 384x640 1 Lion, 22.7ms\n",
            "video 1/1 (782/2628) /content/gdrive/MyDrive/data_sets/Dataset_2/Animal_TestVideo.mp4: 384x640 1 Lion, 22.6ms\n",
            "video 1/1 (783/2628) /content/gdrive/MyDrive/data_sets/Dataset_2/Animal_TestVideo.mp4: 384x640 1 Lion, 23.0ms\n",
            "video 1/1 (784/2628) /content/gdrive/MyDrive/data_sets/Dataset_2/Animal_TestVideo.mp4: 384x640 1 Lion, 23.1ms\n",
            "video 1/1 (785/2628) /content/gdrive/MyDrive/data_sets/Dataset_2/Animal_TestVideo.mp4: 384x640 1 Lion, 23.1ms\n",
            "video 1/1 (786/2628) /content/gdrive/MyDrive/data_sets/Dataset_2/Animal_TestVideo.mp4: 384x640 1 Lion, 23.1ms\n",
            "video 1/1 (787/2628) /content/gdrive/MyDrive/data_sets/Dataset_2/Animal_TestVideo.mp4: 384x640 1 Lion, 23.1ms\n",
            "video 1/1 (788/2628) /content/gdrive/MyDrive/data_sets/Dataset_2/Animal_TestVideo.mp4: 384x640 1 Lion, 23.1ms\n",
            "video 1/1 (789/2628) /content/gdrive/MyDrive/data_sets/Dataset_2/Animal_TestVideo.mp4: 384x640 1 Lion, 23.1ms\n",
            "video 1/1 (790/2628) /content/gdrive/MyDrive/data_sets/Dataset_2/Animal_TestVideo.mp4: 384x640 1 Lion, 23.4ms\n",
            "video 1/1 (791/2628) /content/gdrive/MyDrive/data_sets/Dataset_2/Animal_TestVideo.mp4: 384x640 1 Lion, 23.1ms\n",
            "video 1/1 (792/2628) /content/gdrive/MyDrive/data_sets/Dataset_2/Animal_TestVideo.mp4: 384x640 1 Lion, 23.1ms\n",
            "video 1/1 (793/2628) /content/gdrive/MyDrive/data_sets/Dataset_2/Animal_TestVideo.mp4: 384x640 1 Lion, 23.2ms\n",
            "video 1/1 (794/2628) /content/gdrive/MyDrive/data_sets/Dataset_2/Animal_TestVideo.mp4: 384x640 1 Lion, 23.1ms\n",
            "video 1/1 (795/2628) /content/gdrive/MyDrive/data_sets/Dataset_2/Animal_TestVideo.mp4: 384x640 1 Lion, 23.1ms\n",
            "video 1/1 (796/2628) /content/gdrive/MyDrive/data_sets/Dataset_2/Animal_TestVideo.mp4: 384x640 1 Lion, 23.1ms\n",
            "video 1/1 (797/2628) /content/gdrive/MyDrive/data_sets/Dataset_2/Animal_TestVideo.mp4: 384x640 1 Lion, 23.0ms\n",
            "video 1/1 (798/2628) /content/gdrive/MyDrive/data_sets/Dataset_2/Animal_TestVideo.mp4: 384x640 1 Lion, 23.1ms\n",
            "video 1/1 (799/2628) /content/gdrive/MyDrive/data_sets/Dataset_2/Animal_TestVideo.mp4: 384x640 1 Lion, 23.1ms\n",
            "video 1/1 (800/2628) /content/gdrive/MyDrive/data_sets/Dataset_2/Animal_TestVideo.mp4: 384x640 1 Lion, 23.2ms\n",
            "video 1/1 (801/2628) /content/gdrive/MyDrive/data_sets/Dataset_2/Animal_TestVideo.mp4: 384x640 1 Lion, 23.2ms\n",
            "video 1/1 (802/2628) /content/gdrive/MyDrive/data_sets/Dataset_2/Animal_TestVideo.mp4: 384x640 1 Lion, 23.0ms\n",
            "video 1/1 (803/2628) /content/gdrive/MyDrive/data_sets/Dataset_2/Animal_TestVideo.mp4: 384x640 1 Lion, 23.1ms\n",
            "video 1/1 (804/2628) /content/gdrive/MyDrive/data_sets/Dataset_2/Animal_TestVideo.mp4: 384x640 1 Lion, 23.1ms\n",
            "video 1/1 (805/2628) /content/gdrive/MyDrive/data_sets/Dataset_2/Animal_TestVideo.mp4: 384x640 1 Lion, 23.1ms\n",
            "video 1/1 (806/2628) /content/gdrive/MyDrive/data_sets/Dataset_2/Animal_TestVideo.mp4: 384x640 1 Lion, 23.1ms\n",
            "video 1/1 (807/2628) /content/gdrive/MyDrive/data_sets/Dataset_2/Animal_TestVideo.mp4: 384x640 1 Lion, 23.1ms\n",
            "video 1/1 (808/2628) /content/gdrive/MyDrive/data_sets/Dataset_2/Animal_TestVideo.mp4: 384x640 1 Lion, 23.1ms\n",
            "video 1/1 (809/2628) /content/gdrive/MyDrive/data_sets/Dataset_2/Animal_TestVideo.mp4: 384x640 1 Lion, 23.1ms\n",
            "video 1/1 (810/2628) /content/gdrive/MyDrive/data_sets/Dataset_2/Animal_TestVideo.mp4: 384x640 1 Lion, 23.1ms\n",
            "video 1/1 (811/2628) /content/gdrive/MyDrive/data_sets/Dataset_2/Animal_TestVideo.mp4: 384x640 1 Lion, 25.8ms\n",
            "video 1/1 (812/2628) /content/gdrive/MyDrive/data_sets/Dataset_2/Animal_TestVideo.mp4: 384x640 1 Lion, 21.5ms\n",
            "video 1/1 (813/2628) /content/gdrive/MyDrive/data_sets/Dataset_2/Animal_TestVideo.mp4: 384x640 1 Lion, 21.3ms\n",
            "video 1/1 (814/2628) /content/gdrive/MyDrive/data_sets/Dataset_2/Animal_TestVideo.mp4: 384x640 1 Lion, 21.5ms\n",
            "video 1/1 (815/2628) /content/gdrive/MyDrive/data_sets/Dataset_2/Animal_TestVideo.mp4: 384x640 1 Lion, 23.0ms\n",
            "video 1/1 (816/2628) /content/gdrive/MyDrive/data_sets/Dataset_2/Animal_TestVideo.mp4: 384x640 1 Lion, 21.4ms\n",
            "video 1/1 (817/2628) /content/gdrive/MyDrive/data_sets/Dataset_2/Animal_TestVideo.mp4: 384x640 1 Lion, 21.6ms\n",
            "video 1/1 (818/2628) /content/gdrive/MyDrive/data_sets/Dataset_2/Animal_TestVideo.mp4: 384x640 1 Lion, 21.5ms\n",
            "video 1/1 (819/2628) /content/gdrive/MyDrive/data_sets/Dataset_2/Animal_TestVideo.mp4: 384x640 1 Lion, 21.6ms\n",
            "video 1/1 (820/2628) /content/gdrive/MyDrive/data_sets/Dataset_2/Animal_TestVideo.mp4: 384x640 1 Lion, 21.4ms\n",
            "video 1/1 (821/2628) /content/gdrive/MyDrive/data_sets/Dataset_2/Animal_TestVideo.mp4: 384x640 1 Lion, 21.4ms\n",
            "video 1/1 (822/2628) /content/gdrive/MyDrive/data_sets/Dataset_2/Animal_TestVideo.mp4: 384x640 1 Lion, 22.9ms\n",
            "video 1/1 (823/2628) /content/gdrive/MyDrive/data_sets/Dataset_2/Animal_TestVideo.mp4: 384x640 1 Lion, 21.4ms\n",
            "video 1/1 (824/2628) /content/gdrive/MyDrive/data_sets/Dataset_2/Animal_TestVideo.mp4: 384x640 1 Lion, 21.6ms\n",
            "video 1/1 (825/2628) /content/gdrive/MyDrive/data_sets/Dataset_2/Animal_TestVideo.mp4: 384x640 1 Lion, 21.0ms\n",
            "video 1/1 (826/2628) /content/gdrive/MyDrive/data_sets/Dataset_2/Animal_TestVideo.mp4: 384x640 1 Lion, 21.1ms\n",
            "video 1/1 (827/2628) /content/gdrive/MyDrive/data_sets/Dataset_2/Animal_TestVideo.mp4: 384x640 1 Lion, 21.2ms\n",
            "video 1/1 (828/2628) /content/gdrive/MyDrive/data_sets/Dataset_2/Animal_TestVideo.mp4: 384x640 1 Lion, 21.1ms\n",
            "video 1/1 (829/2628) /content/gdrive/MyDrive/data_sets/Dataset_2/Animal_TestVideo.mp4: 384x640 1 Lion, 21.0ms\n",
            "video 1/1 (830/2628) /content/gdrive/MyDrive/data_sets/Dataset_2/Animal_TestVideo.mp4: 384x640 1 Lion, 21.0ms\n",
            "video 1/1 (831/2628) /content/gdrive/MyDrive/data_sets/Dataset_2/Animal_TestVideo.mp4: 384x640 1 Lion, 21.1ms\n",
            "video 1/1 (832/2628) /content/gdrive/MyDrive/data_sets/Dataset_2/Animal_TestVideo.mp4: 384x640 1 Lion, 21.4ms\n",
            "video 1/1 (833/2628) /content/gdrive/MyDrive/data_sets/Dataset_2/Animal_TestVideo.mp4: 384x640 1 Lion, 21.0ms\n",
            "video 1/1 (834/2628) /content/gdrive/MyDrive/data_sets/Dataset_2/Animal_TestVideo.mp4: 384x640 1 Lion, 21.0ms\n",
            "video 1/1 (835/2628) /content/gdrive/MyDrive/data_sets/Dataset_2/Animal_TestVideo.mp4: 384x640 1 Lion, 21.2ms\n",
            "video 1/1 (836/2628) /content/gdrive/MyDrive/data_sets/Dataset_2/Animal_TestVideo.mp4: 384x640 1 Lion, 21.2ms\n",
            "video 1/1 (837/2628) /content/gdrive/MyDrive/data_sets/Dataset_2/Animal_TestVideo.mp4: 384x640 1 Lion, 21.0ms\n",
            "video 1/1 (838/2628) /content/gdrive/MyDrive/data_sets/Dataset_2/Animal_TestVideo.mp4: 384x640 1 Lion, 21.0ms\n",
            "video 1/1 (839/2628) /content/gdrive/MyDrive/data_sets/Dataset_2/Animal_TestVideo.mp4: 384x640 1 Lion, 21.0ms\n",
            "video 1/1 (840/2628) /content/gdrive/MyDrive/data_sets/Dataset_2/Animal_TestVideo.mp4: 384x640 1 Lion, 21.0ms\n",
            "video 1/1 (841/2628) /content/gdrive/MyDrive/data_sets/Dataset_2/Animal_TestVideo.mp4: 384x640 1 Lion, 21.0ms\n",
            "video 1/1 (842/2628) /content/gdrive/MyDrive/data_sets/Dataset_2/Animal_TestVideo.mp4: 384x640 1 Lion, 21.0ms\n",
            "video 1/1 (843/2628) /content/gdrive/MyDrive/data_sets/Dataset_2/Animal_TestVideo.mp4: 384x640 1 Lion, 21.0ms\n",
            "video 1/1 (844/2628) /content/gdrive/MyDrive/data_sets/Dataset_2/Animal_TestVideo.mp4: 384x640 1 Lion, 21.0ms\n",
            "video 1/1 (845/2628) /content/gdrive/MyDrive/data_sets/Dataset_2/Animal_TestVideo.mp4: 384x640 1 Lion, 21.1ms\n",
            "video 1/1 (846/2628) /content/gdrive/MyDrive/data_sets/Dataset_2/Animal_TestVideo.mp4: 384x640 2 Lions, 21.7ms\n",
            "video 1/1 (847/2628) /content/gdrive/MyDrive/data_sets/Dataset_2/Animal_TestVideo.mp4: 384x640 2 Lions, 21.1ms\n",
            "video 1/1 (848/2628) /content/gdrive/MyDrive/data_sets/Dataset_2/Animal_TestVideo.mp4: 384x640 1 Lion, 21.0ms\n",
            "video 1/1 (849/2628) /content/gdrive/MyDrive/data_sets/Dataset_2/Animal_TestVideo.mp4: 384x640 1 Lion, 21.0ms\n",
            "video 1/1 (850/2628) /content/gdrive/MyDrive/data_sets/Dataset_2/Animal_TestVideo.mp4: 384x640 1 Lion, 21.1ms\n",
            "video 1/1 (851/2628) /content/gdrive/MyDrive/data_sets/Dataset_2/Animal_TestVideo.mp4: 384x640 1 Lion, 20.0ms\n",
            "video 1/1 (852/2628) /content/gdrive/MyDrive/data_sets/Dataset_2/Animal_TestVideo.mp4: 384x640 1 Lion, 20.0ms\n",
            "video 1/1 (853/2628) /content/gdrive/MyDrive/data_sets/Dataset_2/Animal_TestVideo.mp4: 384x640 1 Lion, 20.0ms\n",
            "video 1/1 (854/2628) /content/gdrive/MyDrive/data_sets/Dataset_2/Animal_TestVideo.mp4: 384x640 1 Lion, 20.0ms\n",
            "video 1/1 (855/2628) /content/gdrive/MyDrive/data_sets/Dataset_2/Animal_TestVideo.mp4: 384x640 1 Lion, 20.0ms\n",
            "video 1/1 (856/2628) /content/gdrive/MyDrive/data_sets/Dataset_2/Animal_TestVideo.mp4: 384x640 1 Lion, 20.0ms\n",
            "video 1/1 (857/2628) /content/gdrive/MyDrive/data_sets/Dataset_2/Animal_TestVideo.mp4: 384x640 1 Lion, 20.0ms\n",
            "video 1/1 (858/2628) /content/gdrive/MyDrive/data_sets/Dataset_2/Animal_TestVideo.mp4: 384x640 1 Lion, 20.1ms\n",
            "video 1/1 (859/2628) /content/gdrive/MyDrive/data_sets/Dataset_2/Animal_TestVideo.mp4: 384x640 1 Lion, 20.0ms\n",
            "video 1/1 (860/2628) /content/gdrive/MyDrive/data_sets/Dataset_2/Animal_TestVideo.mp4: 384x640 1 Lion, 20.0ms\n",
            "video 1/1 (861/2628) /content/gdrive/MyDrive/data_sets/Dataset_2/Animal_TestVideo.mp4: 384x640 1 Lion, 22.7ms\n",
            "video 1/1 (862/2628) /content/gdrive/MyDrive/data_sets/Dataset_2/Animal_TestVideo.mp4: 384x640 1 Lion, 20.0ms\n",
            "video 1/1 (863/2628) /content/gdrive/MyDrive/data_sets/Dataset_2/Animal_TestVideo.mp4: 384x640 1 Lion, 20.0ms\n",
            "video 1/1 (864/2628) /content/gdrive/MyDrive/data_sets/Dataset_2/Animal_TestVideo.mp4: 384x640 1 Lion, 20.0ms\n",
            "video 1/1 (865/2628) /content/gdrive/MyDrive/data_sets/Dataset_2/Animal_TestVideo.mp4: 384x640 1 Lion, 20.0ms\n",
            "video 1/1 (866/2628) /content/gdrive/MyDrive/data_sets/Dataset_2/Animal_TestVideo.mp4: 384x640 1 Lion, 20.0ms\n",
            "video 1/1 (867/2628) /content/gdrive/MyDrive/data_sets/Dataset_2/Animal_TestVideo.mp4: 384x640 1 Cheetah, 20.0ms\n",
            "video 1/1 (868/2628) /content/gdrive/MyDrive/data_sets/Dataset_2/Animal_TestVideo.mp4: 384x640 1 Cheetah, 20.0ms\n",
            "video 1/1 (869/2628) /content/gdrive/MyDrive/data_sets/Dataset_2/Animal_TestVideo.mp4: 384x640 1 Cheetah, 20.1ms\n",
            "video 1/1 (870/2628) /content/gdrive/MyDrive/data_sets/Dataset_2/Animal_TestVideo.mp4: 384x640 1 Cheetah, 20.0ms\n",
            "video 1/1 (871/2628) /content/gdrive/MyDrive/data_sets/Dataset_2/Animal_TestVideo.mp4: 384x640 1 Cheetah, 20.0ms\n",
            "video 1/1 (872/2628) /content/gdrive/MyDrive/data_sets/Dataset_2/Animal_TestVideo.mp4: 384x640 1 Cheetah, 20.0ms\n",
            "video 1/1 (873/2628) /content/gdrive/MyDrive/data_sets/Dataset_2/Animal_TestVideo.mp4: 384x640 1 Cheetah, 22.5ms\n",
            "video 1/1 (874/2628) /content/gdrive/MyDrive/data_sets/Dataset_2/Animal_TestVideo.mp4: 384x640 1 Cheetah, 20.0ms\n",
            "video 1/1 (875/2628) /content/gdrive/MyDrive/data_sets/Dataset_2/Animal_TestVideo.mp4: 384x640 1 Cheetah, 25.2ms\n",
            "video 1/1 (876/2628) /content/gdrive/MyDrive/data_sets/Dataset_2/Animal_TestVideo.mp4: 384x640 1 Cheetah, 27.3ms\n",
            "video 1/1 (877/2628) /content/gdrive/MyDrive/data_sets/Dataset_2/Animal_TestVideo.mp4: 384x640 1 Cheetah, 25.3ms\n",
            "video 1/1 (878/2628) /content/gdrive/MyDrive/data_sets/Dataset_2/Animal_TestVideo.mp4: 384x640 1 Cheetah, 25.2ms\n",
            "video 1/1 (879/2628) /content/gdrive/MyDrive/data_sets/Dataset_2/Animal_TestVideo.mp4: 384x640 1 Cheetah, 25.2ms\n",
            "video 1/1 (880/2628) /content/gdrive/MyDrive/data_sets/Dataset_2/Animal_TestVideo.mp4: 384x640 1 Cheetah, 32.8ms\n",
            "video 1/1 (881/2628) /content/gdrive/MyDrive/data_sets/Dataset_2/Animal_TestVideo.mp4: 384x640 1 Cheetah, 25.2ms\n",
            "video 1/1 (882/2628) /content/gdrive/MyDrive/data_sets/Dataset_2/Animal_TestVideo.mp4: 384x640 1 Cheetah, 28.9ms\n",
            "video 1/1 (883/2628) /content/gdrive/MyDrive/data_sets/Dataset_2/Animal_TestVideo.mp4: 384x640 1 Cheetah, 26.9ms\n",
            "video 1/1 (884/2628) /content/gdrive/MyDrive/data_sets/Dataset_2/Animal_TestVideo.mp4: 384x640 1 Cheetah, 25.2ms\n",
            "video 1/1 (885/2628) /content/gdrive/MyDrive/data_sets/Dataset_2/Animal_TestVideo.mp4: 384x640 1 Cheetah, 25.3ms\n",
            "video 1/1 (886/2628) /content/gdrive/MyDrive/data_sets/Dataset_2/Animal_TestVideo.mp4: 384x640 1 Cheetah, 25.2ms\n",
            "video 1/1 (887/2628) /content/gdrive/MyDrive/data_sets/Dataset_2/Animal_TestVideo.mp4: 384x640 1 Cheetah, 25.3ms\n",
            "video 1/1 (888/2628) /content/gdrive/MyDrive/data_sets/Dataset_2/Animal_TestVideo.mp4: 384x640 1 Cheetah, 25.3ms\n",
            "video 1/1 (889/2628) /content/gdrive/MyDrive/data_sets/Dataset_2/Animal_TestVideo.mp4: 384x640 1 Cheetah, 25.2ms\n",
            "video 1/1 (890/2628) /content/gdrive/MyDrive/data_sets/Dataset_2/Animal_TestVideo.mp4: 384x640 1 Cheetah, 25.2ms\n",
            "video 1/1 (891/2628) /content/gdrive/MyDrive/data_sets/Dataset_2/Animal_TestVideo.mp4: 384x640 1 Cheetah, 25.4ms\n",
            "video 1/1 (892/2628) /content/gdrive/MyDrive/data_sets/Dataset_2/Animal_TestVideo.mp4: 384x640 1 Cheetah, 25.2ms\n",
            "video 1/1 (893/2628) /content/gdrive/MyDrive/data_sets/Dataset_2/Animal_TestVideo.mp4: 384x640 1 Cheetah, 25.3ms\n",
            "video 1/1 (894/2628) /content/gdrive/MyDrive/data_sets/Dataset_2/Animal_TestVideo.mp4: 384x640 1 Cheetah, 25.2ms\n",
            "video 1/1 (895/2628) /content/gdrive/MyDrive/data_sets/Dataset_2/Animal_TestVideo.mp4: 384x640 1 Cheetah, 25.2ms\n",
            "video 1/1 (896/2628) /content/gdrive/MyDrive/data_sets/Dataset_2/Animal_TestVideo.mp4: 384x640 1 Cheetah, 25.3ms\n",
            "video 1/1 (897/2628) /content/gdrive/MyDrive/data_sets/Dataset_2/Animal_TestVideo.mp4: 384x640 1 Cheetah, 25.3ms\n",
            "video 1/1 (898/2628) /content/gdrive/MyDrive/data_sets/Dataset_2/Animal_TestVideo.mp4: 384x640 1 Cheetah, 29.7ms\n",
            "video 1/1 (899/2628) /content/gdrive/MyDrive/data_sets/Dataset_2/Animal_TestVideo.mp4: 384x640 1 Cheetah, 25.2ms\n",
            "video 1/1 (900/2628) /content/gdrive/MyDrive/data_sets/Dataset_2/Animal_TestVideo.mp4: 384x640 1 Cheetah, 25.2ms\n",
            "video 1/1 (901/2628) /content/gdrive/MyDrive/data_sets/Dataset_2/Animal_TestVideo.mp4: 384x640 1 Cheetah, 25.3ms\n",
            "video 1/1 (902/2628) /content/gdrive/MyDrive/data_sets/Dataset_2/Animal_TestVideo.mp4: 384x640 1 Cheetah, 25.3ms\n",
            "video 1/1 (903/2628) /content/gdrive/MyDrive/data_sets/Dataset_2/Animal_TestVideo.mp4: 384x640 1 Cheetah, 25.2ms\n",
            "video 1/1 (904/2628) /content/gdrive/MyDrive/data_sets/Dataset_2/Animal_TestVideo.mp4: 384x640 1 Cheetah, 25.2ms\n",
            "video 1/1 (905/2628) /content/gdrive/MyDrive/data_sets/Dataset_2/Animal_TestVideo.mp4: 384x640 1 Cheetah, 25.2ms\n",
            "video 1/1 (906/2628) /content/gdrive/MyDrive/data_sets/Dataset_2/Animal_TestVideo.mp4: 384x640 1 Cheetah, 25.2ms\n",
            "video 1/1 (907/2628) /content/gdrive/MyDrive/data_sets/Dataset_2/Animal_TestVideo.mp4: 384x640 1 Cheetah, 25.4ms\n",
            "video 1/1 (908/2628) /content/gdrive/MyDrive/data_sets/Dataset_2/Animal_TestVideo.mp4: 384x640 1 Cheetah, 25.2ms\n",
            "video 1/1 (909/2628) /content/gdrive/MyDrive/data_sets/Dataset_2/Animal_TestVideo.mp4: 384x640 1 Cheetah, 25.2ms\n",
            "video 1/1 (910/2628) /content/gdrive/MyDrive/data_sets/Dataset_2/Animal_TestVideo.mp4: 384x640 1 Cheetah, 25.2ms\n",
            "video 1/1 (911/2628) /content/gdrive/MyDrive/data_sets/Dataset_2/Animal_TestVideo.mp4: 384x640 1 Cheetah, 26.0ms\n",
            "video 1/1 (912/2628) /content/gdrive/MyDrive/data_sets/Dataset_2/Animal_TestVideo.mp4: 384x640 1 Cheetah, 29.4ms\n",
            "video 1/1 (913/2628) /content/gdrive/MyDrive/data_sets/Dataset_2/Animal_TestVideo.mp4: 384x640 1 Cheetah, 26.4ms\n",
            "video 1/1 (914/2628) /content/gdrive/MyDrive/data_sets/Dataset_2/Animal_TestVideo.mp4: 384x640 1 Cheetah, 25.3ms\n",
            "video 1/1 (915/2628) /content/gdrive/MyDrive/data_sets/Dataset_2/Animal_TestVideo.mp4: 384x640 1 Cheetah, 25.4ms\n",
            "video 1/1 (916/2628) /content/gdrive/MyDrive/data_sets/Dataset_2/Animal_TestVideo.mp4: 384x640 1 Cheetah, 25.3ms\n",
            "video 1/1 (917/2628) /content/gdrive/MyDrive/data_sets/Dataset_2/Animal_TestVideo.mp4: 384x640 1 Cheetah, 25.5ms\n",
            "video 1/1 (918/2628) /content/gdrive/MyDrive/data_sets/Dataset_2/Animal_TestVideo.mp4: 384x640 1 Cheetah, 26.0ms\n",
            "video 1/1 (919/2628) /content/gdrive/MyDrive/data_sets/Dataset_2/Animal_TestVideo.mp4: 384x640 1 Cheetah, 25.2ms\n",
            "video 1/1 (920/2628) /content/gdrive/MyDrive/data_sets/Dataset_2/Animal_TestVideo.mp4: 384x640 1 Cheetah, 25.1ms\n",
            "video 1/1 (921/2628) /content/gdrive/MyDrive/data_sets/Dataset_2/Animal_TestVideo.mp4: 384x640 1 Cheetah, 25.2ms\n",
            "video 1/1 (922/2628) /content/gdrive/MyDrive/data_sets/Dataset_2/Animal_TestVideo.mp4: 384x640 1 Cheetah, 25.1ms\n",
            "video 1/1 (923/2628) /content/gdrive/MyDrive/data_sets/Dataset_2/Animal_TestVideo.mp4: 384x640 1 Cheetah, 24.9ms\n",
            "video 1/1 (924/2628) /content/gdrive/MyDrive/data_sets/Dataset_2/Animal_TestVideo.mp4: 384x640 1 Cheetah, 24.1ms\n",
            "video 1/1 (925/2628) /content/gdrive/MyDrive/data_sets/Dataset_2/Animal_TestVideo.mp4: 384x640 1 Cheetah, 24.1ms\n",
            "video 1/1 (926/2628) /content/gdrive/MyDrive/data_sets/Dataset_2/Animal_TestVideo.mp4: 384x640 1 Cheetah, 24.1ms\n",
            "video 1/1 (927/2628) /content/gdrive/MyDrive/data_sets/Dataset_2/Animal_TestVideo.mp4: 384x640 1 Cheetah, 24.1ms\n",
            "video 1/1 (928/2628) /content/gdrive/MyDrive/data_sets/Dataset_2/Animal_TestVideo.mp4: 384x640 1 Cheetah, 24.1ms\n",
            "video 1/1 (929/2628) /content/gdrive/MyDrive/data_sets/Dataset_2/Animal_TestVideo.mp4: 384x640 1 Cheetah, 24.1ms\n",
            "video 1/1 (930/2628) /content/gdrive/MyDrive/data_sets/Dataset_2/Animal_TestVideo.mp4: 384x640 1 Cheetah, 24.1ms\n",
            "video 1/1 (931/2628) /content/gdrive/MyDrive/data_sets/Dataset_2/Animal_TestVideo.mp4: 384x640 1 Cheetah, 24.1ms\n",
            "video 1/1 (932/2628) /content/gdrive/MyDrive/data_sets/Dataset_2/Animal_TestVideo.mp4: 384x640 1 Cheetah, 24.0ms\n",
            "video 1/1 (933/2628) /content/gdrive/MyDrive/data_sets/Dataset_2/Animal_TestVideo.mp4: 384x640 1 Cheetah, 23.6ms\n",
            "video 1/1 (934/2628) /content/gdrive/MyDrive/data_sets/Dataset_2/Animal_TestVideo.mp4: 384x640 1 Cheetah, 23.6ms\n",
            "video 1/1 (935/2628) /content/gdrive/MyDrive/data_sets/Dataset_2/Animal_TestVideo.mp4: 384x640 1 Cheetah, 23.5ms\n",
            "video 1/1 (936/2628) /content/gdrive/MyDrive/data_sets/Dataset_2/Animal_TestVideo.mp4: 384x640 1 Cheetah, 23.1ms\n",
            "video 1/1 (937/2628) /content/gdrive/MyDrive/data_sets/Dataset_2/Animal_TestVideo.mp4: 384x640 1 Cheetah, 23.1ms\n",
            "video 1/1 (938/2628) /content/gdrive/MyDrive/data_sets/Dataset_2/Animal_TestVideo.mp4: 384x640 1 Cheetah, 23.1ms\n",
            "video 1/1 (939/2628) /content/gdrive/MyDrive/data_sets/Dataset_2/Animal_TestVideo.mp4: 384x640 1 Cheetah, 23.2ms\n",
            "video 1/1 (940/2628) /content/gdrive/MyDrive/data_sets/Dataset_2/Animal_TestVideo.mp4: 384x640 1 Cheetah, 23.1ms\n",
            "video 1/1 (941/2628) /content/gdrive/MyDrive/data_sets/Dataset_2/Animal_TestVideo.mp4: 384x640 1 Cheetah, 23.3ms\n",
            "video 1/1 (942/2628) /content/gdrive/MyDrive/data_sets/Dataset_2/Animal_TestVideo.mp4: 384x640 1 Cheetah, 23.1ms\n",
            "video 1/1 (943/2628) /content/gdrive/MyDrive/data_sets/Dataset_2/Animal_TestVideo.mp4: 384x640 1 Cheetah, 23.1ms\n",
            "video 1/1 (944/2628) /content/gdrive/MyDrive/data_sets/Dataset_2/Animal_TestVideo.mp4: 384x640 1 Cheetah, 23.1ms\n",
            "video 1/1 (945/2628) /content/gdrive/MyDrive/data_sets/Dataset_2/Animal_TestVideo.mp4: 384x640 1 Cheetah, 23.1ms\n",
            "video 1/1 (946/2628) /content/gdrive/MyDrive/data_sets/Dataset_2/Animal_TestVideo.mp4: 384x640 1 Cheetah, 23.3ms\n",
            "video 1/1 (947/2628) /content/gdrive/MyDrive/data_sets/Dataset_2/Animal_TestVideo.mp4: 384x640 1 Cheetah, 23.2ms\n",
            "video 1/1 (948/2628) /content/gdrive/MyDrive/data_sets/Dataset_2/Animal_TestVideo.mp4: 384x640 1 Cheetah, 23.1ms\n",
            "video 1/1 (949/2628) /content/gdrive/MyDrive/data_sets/Dataset_2/Animal_TestVideo.mp4: 384x640 1 Cheetah, 23.1ms\n",
            "video 1/1 (950/2628) /content/gdrive/MyDrive/data_sets/Dataset_2/Animal_TestVideo.mp4: 384x640 1 Cheetah, 23.1ms\n",
            "video 1/1 (951/2628) /content/gdrive/MyDrive/data_sets/Dataset_2/Animal_TestVideo.mp4: 384x640 1 Cheetah, 23.1ms\n",
            "video 1/1 (952/2628) /content/gdrive/MyDrive/data_sets/Dataset_2/Animal_TestVideo.mp4: 384x640 1 Cheetah, 23.1ms\n",
            "video 1/1 (953/2628) /content/gdrive/MyDrive/data_sets/Dataset_2/Animal_TestVideo.mp4: 384x640 1 Cheetah, 23.2ms\n",
            "video 1/1 (954/2628) /content/gdrive/MyDrive/data_sets/Dataset_2/Animal_TestVideo.mp4: 384x640 1 Cheetah, 22.9ms\n",
            "video 1/1 (955/2628) /content/gdrive/MyDrive/data_sets/Dataset_2/Animal_TestVideo.mp4: 384x640 1 Cheetah, 22.7ms\n",
            "video 1/1 (956/2628) /content/gdrive/MyDrive/data_sets/Dataset_2/Animal_TestVideo.mp4: 384x640 1 Cheetah, 27.5ms\n",
            "video 1/1 (957/2628) /content/gdrive/MyDrive/data_sets/Dataset_2/Animal_TestVideo.mp4: 384x640 1 Cheetah, 22.7ms\n",
            "video 1/1 (958/2628) /content/gdrive/MyDrive/data_sets/Dataset_2/Animal_TestVideo.mp4: 384x640 1 Cheetah, 22.4ms\n",
            "video 1/1 (959/2628) /content/gdrive/MyDrive/data_sets/Dataset_2/Animal_TestVideo.mp4: 384x640 1 Cheetah, 22.2ms\n",
            "video 1/1 (960/2628) /content/gdrive/MyDrive/data_sets/Dataset_2/Animal_TestVideo.mp4: 384x640 1 Cheetah, 22.3ms\n",
            "video 1/1 (961/2628) /content/gdrive/MyDrive/data_sets/Dataset_2/Animal_TestVideo.mp4: 384x640 1 Cheetah, 22.2ms\n",
            "video 1/1 (962/2628) /content/gdrive/MyDrive/data_sets/Dataset_2/Animal_TestVideo.mp4: 384x640 1 Cheetah, 22.3ms\n",
            "video 1/1 (963/2628) /content/gdrive/MyDrive/data_sets/Dataset_2/Animal_TestVideo.mp4: 384x640 1 Cheetah, 22.3ms\n",
            "video 1/1 (964/2628) /content/gdrive/MyDrive/data_sets/Dataset_2/Animal_TestVideo.mp4: 384x640 1 Cheetah, 22.2ms\n",
            "video 1/1 (965/2628) /content/gdrive/MyDrive/data_sets/Dataset_2/Animal_TestVideo.mp4: 384x640 1 Cheetah, 22.2ms\n",
            "video 1/1 (966/2628) /content/gdrive/MyDrive/data_sets/Dataset_2/Animal_TestVideo.mp4: 384x640 1 Cheetah, 22.2ms\n",
            "video 1/1 (967/2628) /content/gdrive/MyDrive/data_sets/Dataset_2/Animal_TestVideo.mp4: 384x640 1 Cheetah, 22.2ms\n",
            "video 1/1 (968/2628) /content/gdrive/MyDrive/data_sets/Dataset_2/Animal_TestVideo.mp4: 384x640 1 Cheetah, 22.2ms\n",
            "video 1/1 (969/2628) /content/gdrive/MyDrive/data_sets/Dataset_2/Animal_TestVideo.mp4: 384x640 1 Cheetah, 22.2ms\n",
            "video 1/1 (970/2628) /content/gdrive/MyDrive/data_sets/Dataset_2/Animal_TestVideo.mp4: 384x640 1 Cheetah, 22.2ms\n",
            "video 1/1 (971/2628) /content/gdrive/MyDrive/data_sets/Dataset_2/Animal_TestVideo.mp4: 384x640 1 Cheetah, 22.2ms\n",
            "video 1/1 (972/2628) /content/gdrive/MyDrive/data_sets/Dataset_2/Animal_TestVideo.mp4: 384x640 1 Cheetah, 22.3ms\n",
            "video 1/1 (973/2628) /content/gdrive/MyDrive/data_sets/Dataset_2/Animal_TestVideo.mp4: 384x640 1 Cheetah, 22.2ms\n",
            "video 1/1 (974/2628) /content/gdrive/MyDrive/data_sets/Dataset_2/Animal_TestVideo.mp4: 384x640 1 Cheetah, 22.8ms\n",
            "video 1/1 (975/2628) /content/gdrive/MyDrive/data_sets/Dataset_2/Animal_TestVideo.mp4: 384x640 1 Cheetah, 22.2ms\n",
            "video 1/1 (976/2628) /content/gdrive/MyDrive/data_sets/Dataset_2/Animal_TestVideo.mp4: 384x640 1 Cheetah, 22.2ms\n",
            "video 1/1 (977/2628) /content/gdrive/MyDrive/data_sets/Dataset_2/Animal_TestVideo.mp4: 384x640 1 Cheetah, 22.2ms\n",
            "video 1/1 (978/2628) /content/gdrive/MyDrive/data_sets/Dataset_2/Animal_TestVideo.mp4: 384x640 1 Cheetah, 22.4ms\n",
            "video 1/1 (979/2628) /content/gdrive/MyDrive/data_sets/Dataset_2/Animal_TestVideo.mp4: 384x640 1 Cheetah, 22.2ms\n",
            "video 1/1 (980/2628) /content/gdrive/MyDrive/data_sets/Dataset_2/Animal_TestVideo.mp4: 384x640 1 Cheetah, 22.2ms\n",
            "video 1/1 (981/2628) /content/gdrive/MyDrive/data_sets/Dataset_2/Animal_TestVideo.mp4: 384x640 1 Cheetah, 22.3ms\n",
            "video 1/1 (982/2628) /content/gdrive/MyDrive/data_sets/Dataset_2/Animal_TestVideo.mp4: 384x640 1 Cheetah, 22.2ms\n",
            "video 1/1 (983/2628) /content/gdrive/MyDrive/data_sets/Dataset_2/Animal_TestVideo.mp4: 384x640 1 Cheetah, 22.2ms\n",
            "video 1/1 (984/2628) /content/gdrive/MyDrive/data_sets/Dataset_2/Animal_TestVideo.mp4: 384x640 1 Cheetah, 22.2ms\n",
            "video 1/1 (985/2628) /content/gdrive/MyDrive/data_sets/Dataset_2/Animal_TestVideo.mp4: 384x640 1 Cheetah, 22.9ms\n",
            "video 1/1 (986/2628) /content/gdrive/MyDrive/data_sets/Dataset_2/Animal_TestVideo.mp4: 384x640 1 Cheetah, 22.2ms\n",
            "video 1/1 (987/2628) /content/gdrive/MyDrive/data_sets/Dataset_2/Animal_TestVideo.mp4: 384x640 1 Cheetah, 22.2ms\n",
            "video 1/1 (988/2628) /content/gdrive/MyDrive/data_sets/Dataset_2/Animal_TestVideo.mp4: 384x640 1 Cheetah, 22.2ms\n",
            "video 1/1 (989/2628) /content/gdrive/MyDrive/data_sets/Dataset_2/Animal_TestVideo.mp4: 384x640 1 Cheetah, 22.2ms\n",
            "video 1/1 (990/2628) /content/gdrive/MyDrive/data_sets/Dataset_2/Animal_TestVideo.mp4: 384x640 1 Cheetah, 27.5ms\n",
            "video 1/1 (991/2628) /content/gdrive/MyDrive/data_sets/Dataset_2/Animal_TestVideo.mp4: 384x640 1 Cheetah, 22.3ms\n",
            "video 1/1 (992/2628) /content/gdrive/MyDrive/data_sets/Dataset_2/Animal_TestVideo.mp4: 384x640 1 Cheetah, 22.6ms\n",
            "video 1/1 (993/2628) /content/gdrive/MyDrive/data_sets/Dataset_2/Animal_TestVideo.mp4: 384x640 1 Cheetah, 22.6ms\n",
            "video 1/1 (994/2628) /content/gdrive/MyDrive/data_sets/Dataset_2/Animal_TestVideo.mp4: 384x640 1 Cheetah, 22.7ms\n",
            "video 1/1 (995/2628) /content/gdrive/MyDrive/data_sets/Dataset_2/Animal_TestVideo.mp4: 384x640 1 Cheetah, 23.1ms\n",
            "video 1/1 (996/2628) /content/gdrive/MyDrive/data_sets/Dataset_2/Animal_TestVideo.mp4: 384x640 1 Cheetah, 23.1ms\n",
            "video 1/1 (997/2628) /content/gdrive/MyDrive/data_sets/Dataset_2/Animal_TestVideo.mp4: 384x640 1 Cheetah, 25.9ms\n",
            "video 1/1 (998/2628) /content/gdrive/MyDrive/data_sets/Dataset_2/Animal_TestVideo.mp4: 384x640 1 Cheetah, 23.1ms\n",
            "video 1/1 (999/2628) /content/gdrive/MyDrive/data_sets/Dataset_2/Animal_TestVideo.mp4: 384x640 1 Cheetah, 24.7ms\n",
            "video 1/1 (1000/2628) /content/gdrive/MyDrive/data_sets/Dataset_2/Animal_TestVideo.mp4: 384x640 1 Cheetah, 23.1ms\n",
            "video 1/1 (1001/2628) /content/gdrive/MyDrive/data_sets/Dataset_2/Animal_TestVideo.mp4: 384x640 1 Cheetah, 23.1ms\n",
            "video 1/1 (1002/2628) /content/gdrive/MyDrive/data_sets/Dataset_2/Animal_TestVideo.mp4: 384x640 1 Cheetah, 23.1ms\n",
            "video 1/1 (1003/2628) /content/gdrive/MyDrive/data_sets/Dataset_2/Animal_TestVideo.mp4: 384x640 1 Cheetah, 23.1ms\n",
            "video 1/1 (1004/2628) /content/gdrive/MyDrive/data_sets/Dataset_2/Animal_TestVideo.mp4: 384x640 1 Cheetah, 23.6ms\n",
            "video 1/1 (1005/2628) /content/gdrive/MyDrive/data_sets/Dataset_2/Animal_TestVideo.mp4: 384x640 1 Cheetah, 23.6ms\n",
            "video 1/1 (1006/2628) /content/gdrive/MyDrive/data_sets/Dataset_2/Animal_TestVideo.mp4: 384x640 1 Cheetah, 23.6ms\n",
            "video 1/1 (1007/2628) /content/gdrive/MyDrive/data_sets/Dataset_2/Animal_TestVideo.mp4: 384x640 1 Cheetah, 23.6ms\n",
            "video 1/1 (1008/2628) /content/gdrive/MyDrive/data_sets/Dataset_2/Animal_TestVideo.mp4: 384x640 1 Cheetah, 23.6ms\n",
            "video 1/1 (1009/2628) /content/gdrive/MyDrive/data_sets/Dataset_2/Animal_TestVideo.mp4: 384x640 1 Cheetah, 23.6ms\n",
            "video 1/1 (1010/2628) /content/gdrive/MyDrive/data_sets/Dataset_2/Animal_TestVideo.mp4: 384x640 1 Cheetah, 25.2ms\n",
            "video 1/1 (1011/2628) /content/gdrive/MyDrive/data_sets/Dataset_2/Animal_TestVideo.mp4: 384x640 1 Cheetah, 23.6ms\n",
            "video 1/1 (1012/2628) /content/gdrive/MyDrive/data_sets/Dataset_2/Animal_TestVideo.mp4: 384x640 1 Cheetah, 23.6ms\n",
            "video 1/1 (1013/2628) /content/gdrive/MyDrive/data_sets/Dataset_2/Animal_TestVideo.mp4: 384x640 1 Cheetah, 24.0ms\n",
            "video 1/1 (1014/2628) /content/gdrive/MyDrive/data_sets/Dataset_2/Animal_TestVideo.mp4: 384x640 1 Cheetah, 24.1ms\n",
            "video 1/1 (1015/2628) /content/gdrive/MyDrive/data_sets/Dataset_2/Animal_TestVideo.mp4: 384x640 1 Cheetah, 24.0ms\n",
            "video 1/1 (1016/2628) /content/gdrive/MyDrive/data_sets/Dataset_2/Animal_TestVideo.mp4: 384x640 1 Cheetah, 24.1ms\n",
            "video 1/1 (1017/2628) /content/gdrive/MyDrive/data_sets/Dataset_2/Animal_TestVideo.mp4: 384x640 1 Cheetah, 24.8ms\n",
            "video 1/1 (1018/2628) /content/gdrive/MyDrive/data_sets/Dataset_2/Animal_TestVideo.mp4: 384x640 1 Cheetah, 24.1ms\n",
            "video 1/1 (1019/2628) /content/gdrive/MyDrive/data_sets/Dataset_2/Animal_TestVideo.mp4: 384x640 1 Cheetah, 24.2ms\n",
            "video 1/1 (1020/2628) /content/gdrive/MyDrive/data_sets/Dataset_2/Animal_TestVideo.mp4: 384x640 1 Cheetah, 24.5ms\n",
            "video 1/1 (1021/2628) /content/gdrive/MyDrive/data_sets/Dataset_2/Animal_TestVideo.mp4: 384x640 1 Cheetah, 24.2ms\n",
            "video 1/1 (1022/2628) /content/gdrive/MyDrive/data_sets/Dataset_2/Animal_TestVideo.mp4: 384x640 1 Cheetah, 24.7ms\n",
            "video 1/1 (1023/2628) /content/gdrive/MyDrive/data_sets/Dataset_2/Animal_TestVideo.mp4: 384x640 1 Cheetah, 24.6ms\n",
            "video 1/1 (1024/2628) /content/gdrive/MyDrive/data_sets/Dataset_2/Animal_TestVideo.mp4: 384x640 1 Cheetah, 24.6ms\n",
            "video 1/1 (1025/2628) /content/gdrive/MyDrive/data_sets/Dataset_2/Animal_TestVideo.mp4: 384x640 1 Cheetah, 24.6ms\n",
            "video 1/1 (1026/2628) /content/gdrive/MyDrive/data_sets/Dataset_2/Animal_TestVideo.mp4: 384x640 1 Cheetah, 24.6ms\n",
            "video 1/1 (1027/2628) /content/gdrive/MyDrive/data_sets/Dataset_2/Animal_TestVideo.mp4: 384x640 1 Cheetah, 24.6ms\n",
            "video 1/1 (1028/2628) /content/gdrive/MyDrive/data_sets/Dataset_2/Animal_TestVideo.mp4: 384x640 1 Cheetah, 25.6ms\n",
            "video 1/1 (1029/2628) /content/gdrive/MyDrive/data_sets/Dataset_2/Animal_TestVideo.mp4: 384x640 1 Cheetah, 24.6ms\n",
            "video 1/1 (1030/2628) /content/gdrive/MyDrive/data_sets/Dataset_2/Animal_TestVideo.mp4: 384x640 1 Cheetah, 24.6ms\n",
            "video 1/1 (1031/2628) /content/gdrive/MyDrive/data_sets/Dataset_2/Animal_TestVideo.mp4: 384x640 1 Cheetah, 28.5ms\n",
            "video 1/1 (1032/2628) /content/gdrive/MyDrive/data_sets/Dataset_2/Animal_TestVideo.mp4: 384x640 1 Cheetah, 24.6ms\n",
            "video 1/1 (1033/2628) /content/gdrive/MyDrive/data_sets/Dataset_2/Animal_TestVideo.mp4: 384x640 1 Cheetah, 24.6ms\n",
            "video 1/1 (1034/2628) /content/gdrive/MyDrive/data_sets/Dataset_2/Animal_TestVideo.mp4: 384x640 1 Cheetah, 24.6ms\n",
            "video 1/1 (1035/2628) /content/gdrive/MyDrive/data_sets/Dataset_2/Animal_TestVideo.mp4: 384x640 1 Cheetah, 24.7ms\n",
            "video 1/1 (1036/2628) /content/gdrive/MyDrive/data_sets/Dataset_2/Animal_TestVideo.mp4: 384x640 1 Cheetah, 24.6ms\n",
            "video 1/1 (1037/2628) /content/gdrive/MyDrive/data_sets/Dataset_2/Animal_TestVideo.mp4: 384x640 1 Cheetah, 24.7ms\n",
            "video 1/1 (1038/2628) /content/gdrive/MyDrive/data_sets/Dataset_2/Animal_TestVideo.mp4: 384x640 1 Cheetah, 24.7ms\n",
            "video 1/1 (1039/2628) /content/gdrive/MyDrive/data_sets/Dataset_2/Animal_TestVideo.mp4: 384x640 1 Cheetah, 24.6ms\n",
            "video 1/1 (1040/2628) /content/gdrive/MyDrive/data_sets/Dataset_2/Animal_TestVideo.mp4: 384x640 1 Cheetah, 25.1ms\n",
            "video 1/1 (1041/2628) /content/gdrive/MyDrive/data_sets/Dataset_2/Animal_TestVideo.mp4: 384x640 1 Cheetah, 25.2ms\n",
            "video 1/1 (1042/2628) /content/gdrive/MyDrive/data_sets/Dataset_2/Animal_TestVideo.mp4: 384x640 1 Cheetah, 25.1ms\n",
            "video 1/1 (1043/2628) /content/gdrive/MyDrive/data_sets/Dataset_2/Animal_TestVideo.mp4: 384x640 1 Cheetah, 25.3ms\n",
            "video 1/1 (1044/2628) /content/gdrive/MyDrive/data_sets/Dataset_2/Animal_TestVideo.mp4: 384x640 1 Cheetah, 25.1ms\n",
            "video 1/1 (1045/2628) /content/gdrive/MyDrive/data_sets/Dataset_2/Animal_TestVideo.mp4: 384x640 1 Cheetah, 25.2ms\n",
            "video 1/1 (1046/2628) /content/gdrive/MyDrive/data_sets/Dataset_2/Animal_TestVideo.mp4: 384x640 1 Cheetah, 24.8ms\n",
            "video 1/1 (1047/2628) /content/gdrive/MyDrive/data_sets/Dataset_2/Animal_TestVideo.mp4: 384x640 1 Cheetah, 24.7ms\n",
            "video 1/1 (1048/2628) /content/gdrive/MyDrive/data_sets/Dataset_2/Animal_TestVideo.mp4: 384x640 1 Cheetah, 24.6ms\n",
            "video 1/1 (1049/2628) /content/gdrive/MyDrive/data_sets/Dataset_2/Animal_TestVideo.mp4: 384x640 1 Cheetah, 24.6ms\n",
            "video 1/1 (1050/2628) /content/gdrive/MyDrive/data_sets/Dataset_2/Animal_TestVideo.mp4: 384x640 1 Cheetah, 24.6ms\n",
            "video 1/1 (1051/2628) /content/gdrive/MyDrive/data_sets/Dataset_2/Animal_TestVideo.mp4: 384x640 1 Cheetah, 24.6ms\n",
            "video 1/1 (1052/2628) /content/gdrive/MyDrive/data_sets/Dataset_2/Animal_TestVideo.mp4: 384x640 1 Cheetah, 24.8ms\n",
            "video 1/1 (1053/2628) /content/gdrive/MyDrive/data_sets/Dataset_2/Animal_TestVideo.mp4: 384x640 1 Cheetah, 24.7ms\n",
            "video 1/1 (1054/2628) /content/gdrive/MyDrive/data_sets/Dataset_2/Animal_TestVideo.mp4: 384x640 1 Cheetah, 24.8ms\n",
            "video 1/1 (1055/2628) /content/gdrive/MyDrive/data_sets/Dataset_2/Animal_TestVideo.mp4: 384x640 1 Cheetah, 24.6ms\n",
            "video 1/1 (1056/2628) /content/gdrive/MyDrive/data_sets/Dataset_2/Animal_TestVideo.mp4: 384x640 1 Cheetah, 24.6ms\n",
            "video 1/1 (1057/2628) /content/gdrive/MyDrive/data_sets/Dataset_2/Animal_TestVideo.mp4: 384x640 1 Cheetah, 24.6ms\n",
            "video 1/1 (1058/2628) /content/gdrive/MyDrive/data_sets/Dataset_2/Animal_TestVideo.mp4: 384x640 1 Cheetah, 24.6ms\n",
            "video 1/1 (1059/2628) /content/gdrive/MyDrive/data_sets/Dataset_2/Animal_TestVideo.mp4: 384x640 1 Cheetah, 24.6ms\n",
            "video 1/1 (1060/2628) /content/gdrive/MyDrive/data_sets/Dataset_2/Animal_TestVideo.mp4: 384x640 1 Cheetah, 24.6ms\n",
            "video 1/1 (1061/2628) /content/gdrive/MyDrive/data_sets/Dataset_2/Animal_TestVideo.mp4: 384x640 1 Cheetah, 24.6ms\n",
            "video 1/1 (1062/2628) /content/gdrive/MyDrive/data_sets/Dataset_2/Animal_TestVideo.mp4: 384x640 1 Cheetah, 24.6ms\n",
            "video 1/1 (1063/2628) /content/gdrive/MyDrive/data_sets/Dataset_2/Animal_TestVideo.mp4: 384x640 1 Cheetah, 24.6ms\n",
            "video 1/1 (1064/2628) /content/gdrive/MyDrive/data_sets/Dataset_2/Animal_TestVideo.mp4: 384x640 1 Cheetah, 24.6ms\n",
            "video 1/1 (1065/2628) /content/gdrive/MyDrive/data_sets/Dataset_2/Animal_TestVideo.mp4: 384x640 1 Cheetah, 24.6ms\n",
            "video 1/1 (1066/2628) /content/gdrive/MyDrive/data_sets/Dataset_2/Animal_TestVideo.mp4: 384x640 1 Cheetah, 24.6ms\n",
            "video 1/1 (1067/2628) /content/gdrive/MyDrive/data_sets/Dataset_2/Animal_TestVideo.mp4: 384x640 1 Cheetah, 24.6ms\n",
            "video 1/1 (1068/2628) /content/gdrive/MyDrive/data_sets/Dataset_2/Animal_TestVideo.mp4: 384x640 1 Cheetah, 24.6ms\n",
            "video 1/1 (1069/2628) /content/gdrive/MyDrive/data_sets/Dataset_2/Animal_TestVideo.mp4: 384x640 1 Cheetah, 24.6ms\n",
            "video 1/1 (1070/2628) /content/gdrive/MyDrive/data_sets/Dataset_2/Animal_TestVideo.mp4: 384x640 1 Cheetah, 24.6ms\n",
            "video 1/1 (1071/2628) /content/gdrive/MyDrive/data_sets/Dataset_2/Animal_TestVideo.mp4: 384x640 1 Cheetah, 24.7ms\n",
            "video 1/1 (1072/2628) /content/gdrive/MyDrive/data_sets/Dataset_2/Animal_TestVideo.mp4: 384x640 1 Cheetah, 26.0ms\n",
            "video 1/1 (1073/2628) /content/gdrive/MyDrive/data_sets/Dataset_2/Animal_TestVideo.mp4: 384x640 1 Cheetah, 25.2ms\n",
            "video 1/1 (1074/2628) /content/gdrive/MyDrive/data_sets/Dataset_2/Animal_TestVideo.mp4: 384x640 1 Cheetah, 25.2ms\n",
            "video 1/1 (1075/2628) /content/gdrive/MyDrive/data_sets/Dataset_2/Animal_TestVideo.mp4: 384x640 1 Cheetah, 25.2ms\n",
            "video 1/1 (1076/2628) /content/gdrive/MyDrive/data_sets/Dataset_2/Animal_TestVideo.mp4: 384x640 1 Cheetah, 25.3ms\n",
            "video 1/1 (1077/2628) /content/gdrive/MyDrive/data_sets/Dataset_2/Animal_TestVideo.mp4: 384x640 1 Cheetah, 25.5ms\n",
            "video 1/1 (1078/2628) /content/gdrive/MyDrive/data_sets/Dataset_2/Animal_TestVideo.mp4: 384x640 1 Cheetah, 25.3ms\n",
            "video 1/1 (1079/2628) /content/gdrive/MyDrive/data_sets/Dataset_2/Animal_TestVideo.mp4: 384x640 1 Cheetah, 25.2ms\n",
            "video 1/1 (1080/2628) /content/gdrive/MyDrive/data_sets/Dataset_2/Animal_TestVideo.mp4: 384x640 1 Cheetah, 25.3ms\n",
            "video 1/1 (1081/2628) /content/gdrive/MyDrive/data_sets/Dataset_2/Animal_TestVideo.mp4: 384x640 1 Cheetah, 25.2ms\n",
            "video 1/1 (1082/2628) /content/gdrive/MyDrive/data_sets/Dataset_2/Animal_TestVideo.mp4: 384x640 1 Cheetah, 25.2ms\n",
            "video 1/1 (1083/2628) /content/gdrive/MyDrive/data_sets/Dataset_2/Animal_TestVideo.mp4: 384x640 1 Cheetah, 25.2ms\n",
            "video 1/1 (1084/2628) /content/gdrive/MyDrive/data_sets/Dataset_2/Animal_TestVideo.mp4: 384x640 1 Cheetah, 25.3ms\n",
            "video 1/1 (1085/2628) /content/gdrive/MyDrive/data_sets/Dataset_2/Animal_TestVideo.mp4: 384x640 1 Cheetah, 29.3ms\n",
            "video 1/1 (1086/2628) /content/gdrive/MyDrive/data_sets/Dataset_2/Animal_TestVideo.mp4: 384x640 1 Cheetah, 25.8ms\n",
            "video 1/1 (1087/2628) /content/gdrive/MyDrive/data_sets/Dataset_2/Animal_TestVideo.mp4: 384x640 1 Cheetah, 25.2ms\n",
            "video 1/1 (1088/2628) /content/gdrive/MyDrive/data_sets/Dataset_2/Animal_TestVideo.mp4: 384x640 1 Cheetah, 26.2ms\n",
            "video 1/1 (1089/2628) /content/gdrive/MyDrive/data_sets/Dataset_2/Animal_TestVideo.mp4: 384x640 1 Cheetah, 26.9ms\n",
            "video 1/1 (1090/2628) /content/gdrive/MyDrive/data_sets/Dataset_2/Animal_TestVideo.mp4: 384x640 1 Cheetah, 25.2ms\n",
            "video 1/1 (1091/2628) /content/gdrive/MyDrive/data_sets/Dataset_2/Animal_TestVideo.mp4: 384x640 1 Cheetah, 27.5ms\n",
            "video 1/1 (1092/2628) /content/gdrive/MyDrive/data_sets/Dataset_2/Animal_TestVideo.mp4: 384x640 1 Cheetah, 25.2ms\n",
            "video 1/1 (1093/2628) /content/gdrive/MyDrive/data_sets/Dataset_2/Animal_TestVideo.mp4: 384x640 1 Cheetah, 25.2ms\n",
            "video 1/1 (1094/2628) /content/gdrive/MyDrive/data_sets/Dataset_2/Animal_TestVideo.mp4: 384x640 1 Cheetah, 25.2ms\n",
            "video 1/1 (1095/2628) /content/gdrive/MyDrive/data_sets/Dataset_2/Animal_TestVideo.mp4: 384x640 1 Cheetah, 25.2ms\n",
            "video 1/1 (1096/2628) /content/gdrive/MyDrive/data_sets/Dataset_2/Animal_TestVideo.mp4: 384x640 1 Cheetah, 25.3ms\n",
            "video 1/1 (1097/2628) /content/gdrive/MyDrive/data_sets/Dataset_2/Animal_TestVideo.mp4: 384x640 1 Cheetah, 25.3ms\n",
            "video 1/1 (1098/2628) /content/gdrive/MyDrive/data_sets/Dataset_2/Animal_TestVideo.mp4: 384x640 1 Cheetah, 25.4ms\n",
            "video 1/1 (1099/2628) /content/gdrive/MyDrive/data_sets/Dataset_2/Animal_TestVideo.mp4: 384x640 1 Cheetah, 25.3ms\n",
            "video 1/1 (1100/2628) /content/gdrive/MyDrive/data_sets/Dataset_2/Animal_TestVideo.mp4: 384x640 1 Cheetah, 25.2ms\n",
            "video 1/1 (1101/2628) /content/gdrive/MyDrive/data_sets/Dataset_2/Animal_TestVideo.mp4: 384x640 1 Cheetah, 25.2ms\n",
            "video 1/1 (1102/2628) /content/gdrive/MyDrive/data_sets/Dataset_2/Animal_TestVideo.mp4: 384x640 1 Cheetah, 26.8ms\n",
            "video 1/1 (1103/2628) /content/gdrive/MyDrive/data_sets/Dataset_2/Animal_TestVideo.mp4: 384x640 1 Cheetah, 25.2ms\n",
            "video 1/1 (1104/2628) /content/gdrive/MyDrive/data_sets/Dataset_2/Animal_TestVideo.mp4: 384x640 1 Cheetah, 25.2ms\n",
            "video 1/1 (1105/2628) /content/gdrive/MyDrive/data_sets/Dataset_2/Animal_TestVideo.mp4: 384x640 1 Cheetah, 25.2ms\n",
            "video 1/1 (1106/2628) /content/gdrive/MyDrive/data_sets/Dataset_2/Animal_TestVideo.mp4: 384x640 1 Cheetah, 25.2ms\n",
            "video 1/1 (1107/2628) /content/gdrive/MyDrive/data_sets/Dataset_2/Animal_TestVideo.mp4: 384x640 1 Cheetah, 25.2ms\n",
            "video 1/1 (1108/2628) /content/gdrive/MyDrive/data_sets/Dataset_2/Animal_TestVideo.mp4: 384x640 1 Brown bear, 25.2ms\n",
            "video 1/1 (1109/2628) /content/gdrive/MyDrive/data_sets/Dataset_2/Animal_TestVideo.mp4: 384x640 1 Brown bear, 25.2ms\n",
            "video 1/1 (1110/2628) /content/gdrive/MyDrive/data_sets/Dataset_2/Animal_TestVideo.mp4: 384x640 1 Brown bear, 25.2ms\n",
            "video 1/1 (1111/2628) /content/gdrive/MyDrive/data_sets/Dataset_2/Animal_TestVideo.mp4: 384x640 1 Brown bear, 25.2ms\n",
            "video 1/1 (1112/2628) /content/gdrive/MyDrive/data_sets/Dataset_2/Animal_TestVideo.mp4: 384x640 1 Brown bear, 25.2ms\n",
            "video 1/1 (1113/2628) /content/gdrive/MyDrive/data_sets/Dataset_2/Animal_TestVideo.mp4: 384x640 1 Brown bear, 25.2ms\n",
            "video 1/1 (1114/2628) /content/gdrive/MyDrive/data_sets/Dataset_2/Animal_TestVideo.mp4: 384x640 1 Brown bear, 26.8ms\n",
            "video 1/1 (1115/2628) /content/gdrive/MyDrive/data_sets/Dataset_2/Animal_TestVideo.mp4: 384x640 1 Brown bear, 25.2ms\n",
            "video 1/1 (1116/2628) /content/gdrive/MyDrive/data_sets/Dataset_2/Animal_TestVideo.mp4: 384x640 1 Brown bear, 25.2ms\n",
            "video 1/1 (1117/2628) /content/gdrive/MyDrive/data_sets/Dataset_2/Animal_TestVideo.mp4: 384x640 1 Brown bear, 25.7ms\n",
            "video 1/1 (1118/2628) /content/gdrive/MyDrive/data_sets/Dataset_2/Animal_TestVideo.mp4: 384x640 1 Brown bear, 30.2ms\n",
            "video 1/1 (1119/2628) /content/gdrive/MyDrive/data_sets/Dataset_2/Animal_TestVideo.mp4: 384x640 1 Brown bear, 25.1ms\n",
            "video 1/1 (1120/2628) /content/gdrive/MyDrive/data_sets/Dataset_2/Animal_TestVideo.mp4: 384x640 1 Brown bear, 25.3ms\n",
            "video 1/1 (1121/2628) /content/gdrive/MyDrive/data_sets/Dataset_2/Animal_TestVideo.mp4: 384x640 1 Brown bear, 25.4ms\n",
            "video 1/1 (1122/2628) /content/gdrive/MyDrive/data_sets/Dataset_2/Animal_TestVideo.mp4: 384x640 1 Brown bear, 25.4ms\n",
            "video 1/1 (1123/2628) /content/gdrive/MyDrive/data_sets/Dataset_2/Animal_TestVideo.mp4: 384x640 1 Brown bear, 27.3ms\n",
            "video 1/1 (1124/2628) /content/gdrive/MyDrive/data_sets/Dataset_2/Animal_TestVideo.mp4: 384x640 1 Brown bear, 25.2ms\n",
            "video 1/1 (1125/2628) /content/gdrive/MyDrive/data_sets/Dataset_2/Animal_TestVideo.mp4: 384x640 1 Brown bear, 25.2ms\n",
            "video 1/1 (1126/2628) /content/gdrive/MyDrive/data_sets/Dataset_2/Animal_TestVideo.mp4: 384x640 1 Brown bear, 25.2ms\n",
            "video 1/1 (1127/2628) /content/gdrive/MyDrive/data_sets/Dataset_2/Animal_TestVideo.mp4: 384x640 1 Brown bear, 27.6ms\n",
            "video 1/1 (1128/2628) /content/gdrive/MyDrive/data_sets/Dataset_2/Animal_TestVideo.mp4: 384x640 1 Brown bear, 25.2ms\n",
            "video 1/1 (1129/2628) /content/gdrive/MyDrive/data_sets/Dataset_2/Animal_TestVideo.mp4: 384x640 1 Brown bear, 25.2ms\n",
            "video 1/1 (1130/2628) /content/gdrive/MyDrive/data_sets/Dataset_2/Animal_TestVideo.mp4: 384x640 1 Brown bear, 25.2ms\n",
            "video 1/1 (1131/2628) /content/gdrive/MyDrive/data_sets/Dataset_2/Animal_TestVideo.mp4: 384x640 1 Brown bear, 25.2ms\n",
            "video 1/1 (1132/2628) /content/gdrive/MyDrive/data_sets/Dataset_2/Animal_TestVideo.mp4: 384x640 1 Brown bear, 25.2ms\n",
            "video 1/1 (1133/2628) /content/gdrive/MyDrive/data_sets/Dataset_2/Animal_TestVideo.mp4: 384x640 1 Brown bear, 25.2ms\n",
            "video 1/1 (1134/2628) /content/gdrive/MyDrive/data_sets/Dataset_2/Animal_TestVideo.mp4: 384x640 1 Brown bear, 25.2ms\n",
            "video 1/1 (1135/2628) /content/gdrive/MyDrive/data_sets/Dataset_2/Animal_TestVideo.mp4: 384x640 1 Brown bear, 25.2ms\n",
            "video 1/1 (1136/2628) /content/gdrive/MyDrive/data_sets/Dataset_2/Animal_TestVideo.mp4: 384x640 1 Brown bear, 27.5ms\n",
            "video 1/1 (1137/2628) /content/gdrive/MyDrive/data_sets/Dataset_2/Animal_TestVideo.mp4: 384x640 1 Brown bear, 25.1ms\n",
            "video 1/1 (1138/2628) /content/gdrive/MyDrive/data_sets/Dataset_2/Animal_TestVideo.mp4: 384x640 1 Brown bear, 25.4ms\n",
            "video 1/1 (1139/2628) /content/gdrive/MyDrive/data_sets/Dataset_2/Animal_TestVideo.mp4: 384x640 1 Brown bear, 25.4ms\n",
            "video 1/1 (1140/2628) /content/gdrive/MyDrive/data_sets/Dataset_2/Animal_TestVideo.mp4: 384x640 1 Brown bear, 25.2ms\n",
            "video 1/1 (1141/2628) /content/gdrive/MyDrive/data_sets/Dataset_2/Animal_TestVideo.mp4: 384x640 1 Brown bear, 25.2ms\n",
            "video 1/1 (1142/2628) /content/gdrive/MyDrive/data_sets/Dataset_2/Animal_TestVideo.mp4: 384x640 1 Brown bear, 26.1ms\n",
            "video 1/1 (1143/2628) /content/gdrive/MyDrive/data_sets/Dataset_2/Animal_TestVideo.mp4: 384x640 1 Brown bear, 25.2ms\n",
            "video 1/1 (1144/2628) /content/gdrive/MyDrive/data_sets/Dataset_2/Animal_TestVideo.mp4: 384x640 1 Brown bear, 24.5ms\n",
            "video 1/1 (1145/2628) /content/gdrive/MyDrive/data_sets/Dataset_2/Animal_TestVideo.mp4: 384x640 1 Brown bear, 22.8ms\n",
            "video 1/1 (1146/2628) /content/gdrive/MyDrive/data_sets/Dataset_2/Animal_TestVideo.mp4: 384x640 1 Brown bear, 23.0ms\n",
            "video 1/1 (1147/2628) /content/gdrive/MyDrive/data_sets/Dataset_2/Animal_TestVideo.mp4: 384x640 1 Brown bear, 22.8ms\n",
            "video 1/1 (1148/2628) /content/gdrive/MyDrive/data_sets/Dataset_2/Animal_TestVideo.mp4: 384x640 1 Brown bear, 22.7ms\n",
            "video 1/1 (1149/2628) /content/gdrive/MyDrive/data_sets/Dataset_2/Animal_TestVideo.mp4: 384x640 1 Brown bear, 22.7ms\n",
            "video 1/1 (1150/2628) /content/gdrive/MyDrive/data_sets/Dataset_2/Animal_TestVideo.mp4: 384x640 1 Brown bear, 22.8ms\n",
            "video 1/1 (1151/2628) /content/gdrive/MyDrive/data_sets/Dataset_2/Animal_TestVideo.mp4: 384x640 1 Brown bear, 22.8ms\n",
            "video 1/1 (1152/2628) /content/gdrive/MyDrive/data_sets/Dataset_2/Animal_TestVideo.mp4: 384x640 1 Brown bear, 22.6ms\n",
            "video 1/1 (1153/2628) /content/gdrive/MyDrive/data_sets/Dataset_2/Animal_TestVideo.mp4: 384x640 1 Brown bear, 22.7ms\n",
            "video 1/1 (1154/2628) /content/gdrive/MyDrive/data_sets/Dataset_2/Animal_TestVideo.mp4: 384x640 1 Brown bear, 22.6ms\n",
            "video 1/1 (1155/2628) /content/gdrive/MyDrive/data_sets/Dataset_2/Animal_TestVideo.mp4: 384x640 1 Brown bear, 22.2ms\n",
            "video 1/1 (1156/2628) /content/gdrive/MyDrive/data_sets/Dataset_2/Animal_TestVideo.mp4: 384x640 1 Brown bear, 22.4ms\n",
            "video 1/1 (1157/2628) /content/gdrive/MyDrive/data_sets/Dataset_2/Animal_TestVideo.mp4: 384x640 1 Brown bear, 22.2ms\n",
            "video 1/1 (1158/2628) /content/gdrive/MyDrive/data_sets/Dataset_2/Animal_TestVideo.mp4: 384x640 1 Brown bear, 22.2ms\n",
            "video 1/1 (1159/2628) /content/gdrive/MyDrive/data_sets/Dataset_2/Animal_TestVideo.mp4: 384x640 1 Brown bear, 22.3ms\n",
            "video 1/1 (1160/2628) /content/gdrive/MyDrive/data_sets/Dataset_2/Animal_TestVideo.mp4: 384x640 1 Brown bear, 22.4ms\n",
            "video 1/1 (1161/2628) /content/gdrive/MyDrive/data_sets/Dataset_2/Animal_TestVideo.mp4: 384x640 1 Brown bear, 22.8ms\n",
            "video 1/1 (1162/2628) /content/gdrive/MyDrive/data_sets/Dataset_2/Animal_TestVideo.mp4: 384x640 1 Brown bear, 22.3ms\n",
            "video 1/1 (1163/2628) /content/gdrive/MyDrive/data_sets/Dataset_2/Animal_TestVideo.mp4: 384x640 1 Brown bear, 23.5ms\n",
            "video 1/1 (1164/2628) /content/gdrive/MyDrive/data_sets/Dataset_2/Animal_TestVideo.mp4: 384x640 1 Brown bear, 22.2ms\n",
            "video 1/1 (1165/2628) /content/gdrive/MyDrive/data_sets/Dataset_2/Animal_TestVideo.mp4: 384x640 1 Brown bear, 21.0ms\n",
            "video 1/1 (1166/2628) /content/gdrive/MyDrive/data_sets/Dataset_2/Animal_TestVideo.mp4: 384x640 1 Brown bear, 21.0ms\n",
            "video 1/1 (1167/2628) /content/gdrive/MyDrive/data_sets/Dataset_2/Animal_TestVideo.mp4: 384x640 1 Brown bear, 21.0ms\n",
            "video 1/1 (1168/2628) /content/gdrive/MyDrive/data_sets/Dataset_2/Animal_TestVideo.mp4: 384x640 1 Brown bear, 21.0ms\n",
            "video 1/1 (1169/2628) /content/gdrive/MyDrive/data_sets/Dataset_2/Animal_TestVideo.mp4: 384x640 1 Brown bear, 21.0ms\n",
            "video 1/1 (1170/2628) /content/gdrive/MyDrive/data_sets/Dataset_2/Animal_TestVideo.mp4: 384x640 1 Brown bear, 21.1ms\n",
            "video 1/1 (1171/2628) /content/gdrive/MyDrive/data_sets/Dataset_2/Animal_TestVideo.mp4: 384x640 1 Brown bear, 21.0ms\n",
            "video 1/1 (1172/2628) /content/gdrive/MyDrive/data_sets/Dataset_2/Animal_TestVideo.mp4: 384x640 1 Brown bear, 21.1ms\n",
            "video 1/1 (1173/2628) /content/gdrive/MyDrive/data_sets/Dataset_2/Animal_TestVideo.mp4: 384x640 1 Brown bear, 21.1ms\n",
            "video 1/1 (1174/2628) /content/gdrive/MyDrive/data_sets/Dataset_2/Animal_TestVideo.mp4: 384x640 1 Brown bear, 21.0ms\n",
            "video 1/1 (1175/2628) /content/gdrive/MyDrive/data_sets/Dataset_2/Animal_TestVideo.mp4: 384x640 1 Brown bear, 21.0ms\n",
            "video 1/1 (1176/2628) /content/gdrive/MyDrive/data_sets/Dataset_2/Animal_TestVideo.mp4: 384x640 1 Brown bear, 21.0ms\n",
            "video 1/1 (1177/2628) /content/gdrive/MyDrive/data_sets/Dataset_2/Animal_TestVideo.mp4: 384x640 1 Brown bear, 21.0ms\n",
            "video 1/1 (1178/2628) /content/gdrive/MyDrive/data_sets/Dataset_2/Animal_TestVideo.mp4: 384x640 1 Brown bear, 21.2ms\n",
            "video 1/1 (1179/2628) /content/gdrive/MyDrive/data_sets/Dataset_2/Animal_TestVideo.mp4: 384x640 1 Brown bear, 21.3ms\n",
            "video 1/1 (1180/2628) /content/gdrive/MyDrive/data_sets/Dataset_2/Animal_TestVideo.mp4: 384x640 1 Brown bear, 21.1ms\n",
            "video 1/1 (1181/2628) /content/gdrive/MyDrive/data_sets/Dataset_2/Animal_TestVideo.mp4: 384x640 1 Brown bear, 21.2ms\n",
            "video 1/1 (1182/2628) /content/gdrive/MyDrive/data_sets/Dataset_2/Animal_TestVideo.mp4: 384x640 1 Brown bear, 21.0ms\n",
            "video 1/1 (1183/2628) /content/gdrive/MyDrive/data_sets/Dataset_2/Animal_TestVideo.mp4: 384x640 1 Brown bear, 21.0ms\n",
            "video 1/1 (1184/2628) /content/gdrive/MyDrive/data_sets/Dataset_2/Animal_TestVideo.mp4: 384x640 1 Brown bear, 21.0ms\n",
            "video 1/1 (1185/2628) /content/gdrive/MyDrive/data_sets/Dataset_2/Animal_TestVideo.mp4: 384x640 1 Brown bear, 21.1ms\n",
            "video 1/1 (1186/2628) /content/gdrive/MyDrive/data_sets/Dataset_2/Animal_TestVideo.mp4: 384x640 1 Brown bear, 21.0ms\n",
            "video 1/1 (1187/2628) /content/gdrive/MyDrive/data_sets/Dataset_2/Animal_TestVideo.mp4: 384x640 1 Brown bear, 21.1ms\n",
            "video 1/1 (1188/2628) /content/gdrive/MyDrive/data_sets/Dataset_2/Animal_TestVideo.mp4: 384x640 1 Brown bear, 21.3ms\n",
            "video 1/1 (1189/2628) /content/gdrive/MyDrive/data_sets/Dataset_2/Animal_TestVideo.mp4: 384x640 1 Brown bear, 21.2ms\n",
            "video 1/1 (1190/2628) /content/gdrive/MyDrive/data_sets/Dataset_2/Animal_TestVideo.mp4: 384x640 1 Brown bear, 21.1ms\n",
            "video 1/1 (1191/2628) /content/gdrive/MyDrive/data_sets/Dataset_2/Animal_TestVideo.mp4: 384x640 1 Brown bear, 21.0ms\n",
            "video 1/1 (1192/2628) /content/gdrive/MyDrive/data_sets/Dataset_2/Animal_TestVideo.mp4: 384x640 1 Brown bear, 21.3ms\n",
            "video 1/1 (1193/2628) /content/gdrive/MyDrive/data_sets/Dataset_2/Animal_TestVideo.mp4: 384x640 1 Brown bear, 21.1ms\n",
            "video 1/1 (1194/2628) /content/gdrive/MyDrive/data_sets/Dataset_2/Animal_TestVideo.mp4: 384x640 1 Brown bear, 21.2ms\n",
            "video 1/1 (1195/2628) /content/gdrive/MyDrive/data_sets/Dataset_2/Animal_TestVideo.mp4: 384x640 1 Brown bear, 21.2ms\n",
            "video 1/1 (1196/2628) /content/gdrive/MyDrive/data_sets/Dataset_2/Animal_TestVideo.mp4: 384x640 1 Brown bear, 21.4ms\n",
            "video 1/1 (1197/2628) /content/gdrive/MyDrive/data_sets/Dataset_2/Animal_TestVideo.mp4: 384x640 1 Brown bear, 21.4ms\n",
            "video 1/1 (1198/2628) /content/gdrive/MyDrive/data_sets/Dataset_2/Animal_TestVideo.mp4: 384x640 1 Brown bear, 21.5ms\n",
            "video 1/1 (1199/2628) /content/gdrive/MyDrive/data_sets/Dataset_2/Animal_TestVideo.mp4: 384x640 1 Brown bear, 21.9ms\n",
            "video 1/1 (1200/2628) /content/gdrive/MyDrive/data_sets/Dataset_2/Animal_TestVideo.mp4: 384x640 1 Brown bear, 21.9ms\n",
            "video 1/1 (1201/2628) /content/gdrive/MyDrive/data_sets/Dataset_2/Animal_TestVideo.mp4: 384x640 1 Brown bear, 21.9ms\n",
            "video 1/1 (1202/2628) /content/gdrive/MyDrive/data_sets/Dataset_2/Animal_TestVideo.mp4: 384x640 1 Brown bear, 22.0ms\n",
            "video 1/1 (1203/2628) /content/gdrive/MyDrive/data_sets/Dataset_2/Animal_TestVideo.mp4: 384x640 1 Brown bear, 20.0ms\n",
            "video 1/1 (1204/2628) /content/gdrive/MyDrive/data_sets/Dataset_2/Animal_TestVideo.mp4: 384x640 1 Brown bear, 23.1ms\n",
            "video 1/1 (1205/2628) /content/gdrive/MyDrive/data_sets/Dataset_2/Animal_TestVideo.mp4: 384x640 1 Brown bear, 20.3ms\n",
            "video 1/1 (1206/2628) /content/gdrive/MyDrive/data_sets/Dataset_2/Animal_TestVideo.mp4: 384x640 1 Brown bear, 20.0ms\n",
            "video 1/1 (1207/2628) /content/gdrive/MyDrive/data_sets/Dataset_2/Animal_TestVideo.mp4: 384x640 1 Brown bear, 19.9ms\n",
            "video 1/1 (1208/2628) /content/gdrive/MyDrive/data_sets/Dataset_2/Animal_TestVideo.mp4: 384x640 1 Brown bear, 19.9ms\n",
            "video 1/1 (1209/2628) /content/gdrive/MyDrive/data_sets/Dataset_2/Animal_TestVideo.mp4: 384x640 1 Brown bear, 20.0ms\n",
            "video 1/1 (1210/2628) /content/gdrive/MyDrive/data_sets/Dataset_2/Animal_TestVideo.mp4: 384x640 1 Brown bear, 19.8ms\n",
            "video 1/1 (1211/2628) /content/gdrive/MyDrive/data_sets/Dataset_2/Animal_TestVideo.mp4: 384x640 1 Brown bear, 19.8ms\n",
            "video 1/1 (1212/2628) /content/gdrive/MyDrive/data_sets/Dataset_2/Animal_TestVideo.mp4: 384x640 1 Brown bear, 19.8ms\n",
            "video 1/1 (1213/2628) /content/gdrive/MyDrive/data_sets/Dataset_2/Animal_TestVideo.mp4: 384x640 1 Brown bear, 19.8ms\n",
            "video 1/1 (1214/2628) /content/gdrive/MyDrive/data_sets/Dataset_2/Animal_TestVideo.mp4: 384x640 1 Brown bear, 19.8ms\n",
            "video 1/1 (1215/2628) /content/gdrive/MyDrive/data_sets/Dataset_2/Animal_TestVideo.mp4: 384x640 1 Brown bear, 19.6ms\n",
            "video 1/1 (1216/2628) /content/gdrive/MyDrive/data_sets/Dataset_2/Animal_TestVideo.mp4: 384x640 1 Brown bear, 20.1ms\n",
            "video 1/1 (1217/2628) /content/gdrive/MyDrive/data_sets/Dataset_2/Animal_TestVideo.mp4: 384x640 1 Brown bear, 20.0ms\n",
            "video 1/1 (1218/2628) /content/gdrive/MyDrive/data_sets/Dataset_2/Animal_TestVideo.mp4: 384x640 1 Brown bear, 19.7ms\n",
            "video 1/1 (1219/2628) /content/gdrive/MyDrive/data_sets/Dataset_2/Animal_TestVideo.mp4: 384x640 1 Brown bear, 19.6ms\n",
            "video 1/1 (1220/2628) /content/gdrive/MyDrive/data_sets/Dataset_2/Animal_TestVideo.mp4: 384x640 1 Brown bear, 19.7ms\n",
            "video 1/1 (1221/2628) /content/gdrive/MyDrive/data_sets/Dataset_2/Animal_TestVideo.mp4: 384x640 1 Brown bear, 22.0ms\n",
            "video 1/1 (1222/2628) /content/gdrive/MyDrive/data_sets/Dataset_2/Animal_TestVideo.mp4: 384x640 1 Brown bear, 19.7ms\n",
            "video 1/1 (1223/2628) /content/gdrive/MyDrive/data_sets/Dataset_2/Animal_TestVideo.mp4: 384x640 1 Brown bear, 19.7ms\n",
            "video 1/1 (1224/2628) /content/gdrive/MyDrive/data_sets/Dataset_2/Animal_TestVideo.mp4: 384x640 1 Brown bear, 19.6ms\n",
            "video 1/1 (1225/2628) /content/gdrive/MyDrive/data_sets/Dataset_2/Animal_TestVideo.mp4: 384x640 1 Brown bear, 19.7ms\n",
            "video 1/1 (1226/2628) /content/gdrive/MyDrive/data_sets/Dataset_2/Animal_TestVideo.mp4: 384x640 1 Brown bear, 19.7ms\n",
            "video 1/1 (1227/2628) /content/gdrive/MyDrive/data_sets/Dataset_2/Animal_TestVideo.mp4: 384x640 1 Brown bear, 19.7ms\n",
            "video 1/1 (1228/2628) /content/gdrive/MyDrive/data_sets/Dataset_2/Animal_TestVideo.mp4: 384x640 1 Brown bear, 19.7ms\n",
            "video 1/1 (1229/2628) /content/gdrive/MyDrive/data_sets/Dataset_2/Animal_TestVideo.mp4: 384x640 1 Brown bear, 19.7ms\n",
            "video 1/1 (1230/2628) /content/gdrive/MyDrive/data_sets/Dataset_2/Animal_TestVideo.mp4: 384x640 1 Brown bear, 19.7ms\n",
            "video 1/1 (1231/2628) /content/gdrive/MyDrive/data_sets/Dataset_2/Animal_TestVideo.mp4: 384x640 1 Brown bear, 19.7ms\n",
            "video 1/1 (1232/2628) /content/gdrive/MyDrive/data_sets/Dataset_2/Animal_TestVideo.mp4: 384x640 1 Brown bear, 19.7ms\n",
            "video 1/1 (1233/2628) /content/gdrive/MyDrive/data_sets/Dataset_2/Animal_TestVideo.mp4: 384x640 1 Brown bear, 19.6ms\n",
            "video 1/1 (1234/2628) /content/gdrive/MyDrive/data_sets/Dataset_2/Animal_TestVideo.mp4: 384x640 1 Brown bear, 19.6ms\n",
            "video 1/1 (1235/2628) /content/gdrive/MyDrive/data_sets/Dataset_2/Animal_TestVideo.mp4: 384x640 1 Brown bear, 19.7ms\n",
            "video 1/1 (1236/2628) /content/gdrive/MyDrive/data_sets/Dataset_2/Animal_TestVideo.mp4: 384x640 1 Brown bear, 19.7ms\n",
            "video 1/1 (1237/2628) /content/gdrive/MyDrive/data_sets/Dataset_2/Animal_TestVideo.mp4: 384x640 1 Brown bear, 19.6ms\n",
            "video 1/1 (1238/2628) /content/gdrive/MyDrive/data_sets/Dataset_2/Animal_TestVideo.mp4: 384x640 1 Brown bear, 19.7ms\n",
            "video 1/1 (1239/2628) /content/gdrive/MyDrive/data_sets/Dataset_2/Animal_TestVideo.mp4: 384x640 1 Brown bear, 19.7ms\n",
            "video 1/1 (1240/2628) /content/gdrive/MyDrive/data_sets/Dataset_2/Animal_TestVideo.mp4: 384x640 1 Brown bear, 19.7ms\n",
            "video 1/1 (1241/2628) /content/gdrive/MyDrive/data_sets/Dataset_2/Animal_TestVideo.mp4: 384x640 1 Brown bear, 19.7ms\n",
            "video 1/1 (1242/2628) /content/gdrive/MyDrive/data_sets/Dataset_2/Animal_TestVideo.mp4: 384x640 1 Brown bear, 19.7ms\n",
            "video 1/1 (1243/2628) /content/gdrive/MyDrive/data_sets/Dataset_2/Animal_TestVideo.mp4: 384x640 1 Brown bear, 19.9ms\n",
            "video 1/1 (1244/2628) /content/gdrive/MyDrive/data_sets/Dataset_2/Animal_TestVideo.mp4: 384x640 1 Brown bear, 20.1ms\n",
            "video 1/1 (1245/2628) /content/gdrive/MyDrive/data_sets/Dataset_2/Animal_TestVideo.mp4: 384x640 1 Brown bear, 20.1ms\n",
            "video 1/1 (1246/2628) /content/gdrive/MyDrive/data_sets/Dataset_2/Animal_TestVideo.mp4: 384x640 1 Brown bear, 20.3ms\n",
            "video 1/1 (1247/2628) /content/gdrive/MyDrive/data_sets/Dataset_2/Animal_TestVideo.mp4: 384x640 1 Brown bear, 22.8ms\n",
            "video 1/1 (1248/2628) /content/gdrive/MyDrive/data_sets/Dataset_2/Animal_TestVideo.mp4: 384x640 1 Brown bear, 20.4ms\n",
            "video 1/1 (1249/2628) /content/gdrive/MyDrive/data_sets/Dataset_2/Animal_TestVideo.mp4: 384x640 1 Brown bear, 20.5ms\n",
            "video 1/1 (1250/2628) /content/gdrive/MyDrive/data_sets/Dataset_2/Animal_TestVideo.mp4: 384x640 1 Brown bear, 20.3ms\n",
            "video 1/1 (1251/2628) /content/gdrive/MyDrive/data_sets/Dataset_2/Animal_TestVideo.mp4: 384x640 1 Brown bear, 20.3ms\n",
            "video 1/1 (1252/2628) /content/gdrive/MyDrive/data_sets/Dataset_2/Animal_TestVideo.mp4: 384x640 1 Brown bear, 22.1ms\n",
            "video 1/1 (1253/2628) /content/gdrive/MyDrive/data_sets/Dataset_2/Animal_TestVideo.mp4: 384x640 1 Brown bear, 20.8ms\n",
            "video 1/1 (1254/2628) /content/gdrive/MyDrive/data_sets/Dataset_2/Animal_TestVideo.mp4: 384x640 1 Brown bear, 20.7ms\n",
            "video 1/1 (1255/2628) /content/gdrive/MyDrive/data_sets/Dataset_2/Animal_TestVideo.mp4: 384x640 1 Brown bear, 20.6ms\n",
            "video 1/1 (1256/2628) /content/gdrive/MyDrive/data_sets/Dataset_2/Animal_TestVideo.mp4: 384x640 1 Brown bear, 20.8ms\n",
            "video 1/1 (1257/2628) /content/gdrive/MyDrive/data_sets/Dataset_2/Animal_TestVideo.mp4: 384x640 1 Brown bear, 20.1ms\n",
            "video 1/1 (1258/2628) /content/gdrive/MyDrive/data_sets/Dataset_2/Animal_TestVideo.mp4: 384x640 1 Brown bear, 20.4ms\n",
            "video 1/1 (1259/2628) /content/gdrive/MyDrive/data_sets/Dataset_2/Animal_TestVideo.mp4: 384x640 1 Brown bear, 24.4ms\n",
            "video 1/1 (1260/2628) /content/gdrive/MyDrive/data_sets/Dataset_2/Animal_TestVideo.mp4: 384x640 1 Brown bear, 20.0ms\n",
            "video 1/1 (1261/2628) /content/gdrive/MyDrive/data_sets/Dataset_2/Animal_TestVideo.mp4: 384x640 1 Brown bear, 20.0ms\n",
            "video 1/1 (1262/2628) /content/gdrive/MyDrive/data_sets/Dataset_2/Animal_TestVideo.mp4: 384x640 1 Brown bear, 19.9ms\n",
            "video 1/1 (1263/2628) /content/gdrive/MyDrive/data_sets/Dataset_2/Animal_TestVideo.mp4: 384x640 1 Brown bear, 20.0ms\n",
            "video 1/1 (1264/2628) /content/gdrive/MyDrive/data_sets/Dataset_2/Animal_TestVideo.mp4: 384x640 1 Brown bear, 20.3ms\n",
            "video 1/1 (1265/2628) /content/gdrive/MyDrive/data_sets/Dataset_2/Animal_TestVideo.mp4: 384x640 1 Brown bear, 20.1ms\n",
            "video 1/1 (1266/2628) /content/gdrive/MyDrive/data_sets/Dataset_2/Animal_TestVideo.mp4: 384x640 1 Brown bear, 20.1ms\n",
            "video 1/1 (1267/2628) /content/gdrive/MyDrive/data_sets/Dataset_2/Animal_TestVideo.mp4: 384x640 1 Brown bear, 20.0ms\n",
            "video 1/1 (1268/2628) /content/gdrive/MyDrive/data_sets/Dataset_2/Animal_TestVideo.mp4: 384x640 1 Brown bear, 20.1ms\n",
            "video 1/1 (1269/2628) /content/gdrive/MyDrive/data_sets/Dataset_2/Animal_TestVideo.mp4: 384x640 1 Brown bear, 20.0ms\n",
            "video 1/1 (1270/2628) /content/gdrive/MyDrive/data_sets/Dataset_2/Animal_TestVideo.mp4: 384x640 1 Brown bear, 20.0ms\n",
            "video 1/1 (1271/2628) /content/gdrive/MyDrive/data_sets/Dataset_2/Animal_TestVideo.mp4: 384x640 1 Brown bear, 20.0ms\n",
            "video 1/1 (1272/2628) /content/gdrive/MyDrive/data_sets/Dataset_2/Animal_TestVideo.mp4: 384x640 1 Brown bear, 19.9ms\n",
            "video 1/1 (1273/2628) /content/gdrive/MyDrive/data_sets/Dataset_2/Animal_TestVideo.mp4: 384x640 1 Brown bear, 20.0ms\n",
            "video 1/1 (1274/2628) /content/gdrive/MyDrive/data_sets/Dataset_2/Animal_TestVideo.mp4: 384x640 1 Brown bear, 19.8ms\n",
            "video 1/1 (1275/2628) /content/gdrive/MyDrive/data_sets/Dataset_2/Animal_TestVideo.mp4: 384x640 1 Brown bear, 19.8ms\n",
            "video 1/1 (1276/2628) /content/gdrive/MyDrive/data_sets/Dataset_2/Animal_TestVideo.mp4: 384x640 1 Brown bear, 19.8ms\n",
            "video 1/1 (1277/2628) /content/gdrive/MyDrive/data_sets/Dataset_2/Animal_TestVideo.mp4: 384x640 1 Brown bear, 22.2ms\n",
            "video 1/1 (1278/2628) /content/gdrive/MyDrive/data_sets/Dataset_2/Animal_TestVideo.mp4: 384x640 1 Brown bear, 21.9ms\n",
            "video 1/1 (1279/2628) /content/gdrive/MyDrive/data_sets/Dataset_2/Animal_TestVideo.mp4: 384x640 1 Brown bear, 20.0ms\n",
            "video 1/1 (1280/2628) /content/gdrive/MyDrive/data_sets/Dataset_2/Animal_TestVideo.mp4: 384x640 1 Brown bear, 19.7ms\n",
            "video 1/1 (1281/2628) /content/gdrive/MyDrive/data_sets/Dataset_2/Animal_TestVideo.mp4: 384x640 1 Brown bear, 20.8ms\n",
            "video 1/1 (1282/2628) /content/gdrive/MyDrive/data_sets/Dataset_2/Animal_TestVideo.mp4: 384x640 1 Brown bear, 19.6ms\n",
            "video 1/1 (1283/2628) /content/gdrive/MyDrive/data_sets/Dataset_2/Animal_TestVideo.mp4: 384x640 1 Brown bear, 19.7ms\n",
            "video 1/1 (1284/2628) /content/gdrive/MyDrive/data_sets/Dataset_2/Animal_TestVideo.mp4: 384x640 1 Brown bear, 19.8ms\n",
            "video 1/1 (1285/2628) /content/gdrive/MyDrive/data_sets/Dataset_2/Animal_TestVideo.mp4: 384x640 1 Brown bear, 19.6ms\n",
            "video 1/1 (1286/2628) /content/gdrive/MyDrive/data_sets/Dataset_2/Animal_TestVideo.mp4: 384x640 1 Brown bear, 20.3ms\n",
            "video 1/1 (1287/2628) /content/gdrive/MyDrive/data_sets/Dataset_2/Animal_TestVideo.mp4: 384x640 1 Brown bear, 19.8ms\n",
            "video 1/1 (1288/2628) /content/gdrive/MyDrive/data_sets/Dataset_2/Animal_TestVideo.mp4: 384x640 1 Brown bear, 19.8ms\n",
            "video 1/1 (1289/2628) /content/gdrive/MyDrive/data_sets/Dataset_2/Animal_TestVideo.mp4: 384x640 1 Brown bear, 19.6ms\n",
            "video 1/1 (1290/2628) /content/gdrive/MyDrive/data_sets/Dataset_2/Animal_TestVideo.mp4: 384x640 1 Brown bear, 19.7ms\n",
            "video 1/1 (1291/2628) /content/gdrive/MyDrive/data_sets/Dataset_2/Animal_TestVideo.mp4: 384x640 1 Brown bear, 21.7ms\n",
            "video 1/1 (1292/2628) /content/gdrive/MyDrive/data_sets/Dataset_2/Animal_TestVideo.mp4: 384x640 1 Brown bear, 19.7ms\n",
            "video 1/1 (1293/2628) /content/gdrive/MyDrive/data_sets/Dataset_2/Animal_TestVideo.mp4: 384x640 1 Brown bear, 19.7ms\n",
            "video 1/1 (1294/2628) /content/gdrive/MyDrive/data_sets/Dataset_2/Animal_TestVideo.mp4: 384x640 1 Brown bear, 19.7ms\n",
            "video 1/1 (1295/2628) /content/gdrive/MyDrive/data_sets/Dataset_2/Animal_TestVideo.mp4: 384x640 1 Brown bear, 19.8ms\n",
            "video 1/1 (1296/2628) /content/gdrive/MyDrive/data_sets/Dataset_2/Animal_TestVideo.mp4: 384x640 1 Brown bear, 20.7ms\n",
            "video 1/1 (1297/2628) /content/gdrive/MyDrive/data_sets/Dataset_2/Animal_TestVideo.mp4: 384x640 1 Brown bear, 19.7ms\n",
            "video 1/1 (1298/2628) /content/gdrive/MyDrive/data_sets/Dataset_2/Animal_TestVideo.mp4: 384x640 1 Brown bear, 19.8ms\n",
            "video 1/1 (1299/2628) /content/gdrive/MyDrive/data_sets/Dataset_2/Animal_TestVideo.mp4: 384x640 1 Brown bear, 19.7ms\n",
            "video 1/1 (1300/2628) /content/gdrive/MyDrive/data_sets/Dataset_2/Animal_TestVideo.mp4: 384x640 1 Brown bear, 19.6ms\n",
            "video 1/1 (1301/2628) /content/gdrive/MyDrive/data_sets/Dataset_2/Animal_TestVideo.mp4: 384x640 1 Brown bear, 19.7ms\n",
            "video 1/1 (1302/2628) /content/gdrive/MyDrive/data_sets/Dataset_2/Animal_TestVideo.mp4: 384x640 1 Brown bear, 19.7ms\n",
            "video 1/1 (1303/2628) /content/gdrive/MyDrive/data_sets/Dataset_2/Animal_TestVideo.mp4: 384x640 1 Brown bear, 19.7ms\n",
            "video 1/1 (1304/2628) /content/gdrive/MyDrive/data_sets/Dataset_2/Animal_TestVideo.mp4: 384x640 1 Brown bear, 19.6ms\n",
            "video 1/1 (1305/2628) /content/gdrive/MyDrive/data_sets/Dataset_2/Animal_TestVideo.mp4: 384x640 1 Brown bear, 19.7ms\n",
            "video 1/1 (1306/2628) /content/gdrive/MyDrive/data_sets/Dataset_2/Animal_TestVideo.mp4: 384x640 1 Brown bear, 19.7ms\n",
            "video 1/1 (1307/2628) /content/gdrive/MyDrive/data_sets/Dataset_2/Animal_TestVideo.mp4: 384x640 1 Brown bear, 19.7ms\n",
            "video 1/1 (1308/2628) /content/gdrive/MyDrive/data_sets/Dataset_2/Animal_TestVideo.mp4: 384x640 1 Brown bear, 19.6ms\n",
            "video 1/1 (1309/2628) /content/gdrive/MyDrive/data_sets/Dataset_2/Animal_TestVideo.mp4: 384x640 1 Brown bear, 20.0ms\n",
            "video 1/1 (1310/2628) /content/gdrive/MyDrive/data_sets/Dataset_2/Animal_TestVideo.mp4: 384x640 1 Brown bear, 20.0ms\n",
            "video 1/1 (1311/2628) /content/gdrive/MyDrive/data_sets/Dataset_2/Animal_TestVideo.mp4: 384x640 1 Brown bear, 21.9ms\n",
            "video 1/1 (1312/2628) /content/gdrive/MyDrive/data_sets/Dataset_2/Animal_TestVideo.mp4: 384x640 1 Brown bear, 20.4ms\n",
            "video 1/1 (1313/2628) /content/gdrive/MyDrive/data_sets/Dataset_2/Animal_TestVideo.mp4: 384x640 1 Brown bear, 20.3ms\n",
            "video 1/1 (1314/2628) /content/gdrive/MyDrive/data_sets/Dataset_2/Animal_TestVideo.mp4: 384x640 1 Brown bear, 21.9ms\n",
            "video 1/1 (1315/2628) /content/gdrive/MyDrive/data_sets/Dataset_2/Animal_TestVideo.mp4: 384x640 1 Brown bear, 24.7ms\n",
            "video 1/1 (1316/2628) /content/gdrive/MyDrive/data_sets/Dataset_2/Animal_TestVideo.mp4: 384x640 1 Brown bear, 21.1ms\n",
            "video 1/1 (1317/2628) /content/gdrive/MyDrive/data_sets/Dataset_2/Animal_TestVideo.mp4: 384x640 1 Brown bear, 21.4ms\n",
            "video 1/1 (1318/2628) /content/gdrive/MyDrive/data_sets/Dataset_2/Animal_TestVideo.mp4: 384x640 1 Brown bear, 21.4ms\n",
            "video 1/1 (1319/2628) /content/gdrive/MyDrive/data_sets/Dataset_2/Animal_TestVideo.mp4: 384x640 1 Brown bear, 22.4ms\n",
            "video 1/1 (1320/2628) /content/gdrive/MyDrive/data_sets/Dataset_2/Animal_TestVideo.mp4: 384x640 1 Brown bear, 22.2ms\n",
            "video 1/1 (1321/2628) /content/gdrive/MyDrive/data_sets/Dataset_2/Animal_TestVideo.mp4: 384x640 1 Brown bear, 22.3ms\n",
            "video 1/1 (1322/2628) /content/gdrive/MyDrive/data_sets/Dataset_2/Animal_TestVideo.mp4: 384x640 1 Brown bear, 22.4ms\n",
            "video 1/1 (1323/2628) /content/gdrive/MyDrive/data_sets/Dataset_2/Animal_TestVideo.mp4: 384x640 1 Brown bear, 22.4ms\n",
            "video 1/1 (1324/2628) /content/gdrive/MyDrive/data_sets/Dataset_2/Animal_TestVideo.mp4: 384x640 1 Brown bear, 24.5ms\n",
            "video 1/1 (1325/2628) /content/gdrive/MyDrive/data_sets/Dataset_2/Animal_TestVideo.mp4: 384x640 1 Brown bear, 23.1ms\n",
            "video 1/1 (1326/2628) /content/gdrive/MyDrive/data_sets/Dataset_2/Animal_TestVideo.mp4: 384x640 1 Brown bear, 24.1ms\n",
            "video 1/1 (1327/2628) /content/gdrive/MyDrive/data_sets/Dataset_2/Animal_TestVideo.mp4: 384x640 1 Brown bear, 23.6ms\n",
            "video 1/1 (1328/2628) /content/gdrive/MyDrive/data_sets/Dataset_2/Animal_TestVideo.mp4: 384x640 1 Brown bear, 23.6ms\n",
            "video 1/1 (1329/2628) /content/gdrive/MyDrive/data_sets/Dataset_2/Animal_TestVideo.mp4: 384x640 1 Brown bear, 24.2ms\n",
            "video 1/1 (1330/2628) /content/gdrive/MyDrive/data_sets/Dataset_2/Animal_TestVideo.mp4: 384x640 1 Brown bear, 24.1ms\n",
            "video 1/1 (1331/2628) /content/gdrive/MyDrive/data_sets/Dataset_2/Animal_TestVideo.mp4: 384x640 1 Brown bear, 24.6ms\n",
            "video 1/1 (1332/2628) /content/gdrive/MyDrive/data_sets/Dataset_2/Animal_TestVideo.mp4: 384x640 1 Brown bear, 24.6ms\n",
            "video 1/1 (1333/2628) /content/gdrive/MyDrive/data_sets/Dataset_2/Animal_TestVideo.mp4: 384x640 1 Brown bear, 24.6ms\n",
            "video 1/1 (1334/2628) /content/gdrive/MyDrive/data_sets/Dataset_2/Animal_TestVideo.mp4: 384x640 1 Brown bear, 25.2ms\n",
            "video 1/1 (1335/2628) /content/gdrive/MyDrive/data_sets/Dataset_2/Animal_TestVideo.mp4: 384x640 1 Brown bear, 25.2ms\n",
            "video 1/1 (1336/2628) /content/gdrive/MyDrive/data_sets/Dataset_2/Animal_TestVideo.mp4: 384x640 1 Brown bear, 25.2ms\n",
            "video 1/1 (1337/2628) /content/gdrive/MyDrive/data_sets/Dataset_2/Animal_TestVideo.mp4: 384x640 1 Brown bear, 26.9ms\n",
            "video 1/1 (1338/2628) /content/gdrive/MyDrive/data_sets/Dataset_2/Animal_TestVideo.mp4: 384x640 1 Brown bear, 26.6ms\n",
            "video 1/1 (1339/2628) /content/gdrive/MyDrive/data_sets/Dataset_2/Animal_TestVideo.mp4: 384x640 1 Brown bear, 25.2ms\n",
            "video 1/1 (1340/2628) /content/gdrive/MyDrive/data_sets/Dataset_2/Animal_TestVideo.mp4: 384x640 1 Brown bear, 26.6ms\n",
            "video 1/1 (1341/2628) /content/gdrive/MyDrive/data_sets/Dataset_2/Animal_TestVideo.mp4: 384x640 1 Brown bear, 25.3ms\n",
            "video 1/1 (1342/2628) /content/gdrive/MyDrive/data_sets/Dataset_2/Animal_TestVideo.mp4: 384x640 1 Brown bear, 25.2ms\n",
            "video 1/1 (1343/2628) /content/gdrive/MyDrive/data_sets/Dataset_2/Animal_TestVideo.mp4: 384x640 1 Brown bear, 25.2ms\n",
            "video 1/1 (1344/2628) /content/gdrive/MyDrive/data_sets/Dataset_2/Animal_TestVideo.mp4: 384x640 1 Brown bear, 25.2ms\n",
            "video 1/1 (1345/2628) /content/gdrive/MyDrive/data_sets/Dataset_2/Animal_TestVideo.mp4: 384x640 1 Brown bear, 25.8ms\n",
            "video 1/1 (1346/2628) /content/gdrive/MyDrive/data_sets/Dataset_2/Animal_TestVideo.mp4: 384x640 1 Brown bear, 25.2ms\n",
            "video 1/1 (1347/2628) /content/gdrive/MyDrive/data_sets/Dataset_2/Animal_TestVideo.mp4: 384x640 1 Brown bear, 28.1ms\n",
            "video 1/1 (1348/2628) /content/gdrive/MyDrive/data_sets/Dataset_2/Animal_TestVideo.mp4: 384x640 1 Brown bear, 25.2ms\n",
            "video 1/1 (1349/2628) /content/gdrive/MyDrive/data_sets/Dataset_2/Animal_TestVideo.mp4: 384x640 1 Brown bear, 25.2ms\n",
            "video 1/1 (1350/2628) /content/gdrive/MyDrive/data_sets/Dataset_2/Animal_TestVideo.mp4: 384x640 1 Brown bear, 25.2ms\n",
            "video 1/1 (1351/2628) /content/gdrive/MyDrive/data_sets/Dataset_2/Animal_TestVideo.mp4: 384x640 1 Brown bear, 25.2ms\n",
            "video 1/1 (1352/2628) /content/gdrive/MyDrive/data_sets/Dataset_2/Animal_TestVideo.mp4: 384x640 1 Brown bear, 27.5ms\n",
            "video 1/1 (1353/2628) /content/gdrive/MyDrive/data_sets/Dataset_2/Animal_TestVideo.mp4: 384x640 1 Brown bear, 25.3ms\n",
            "video 1/1 (1354/2628) /content/gdrive/MyDrive/data_sets/Dataset_2/Animal_TestVideo.mp4: 384x640 1 Brown bear, 25.4ms\n",
            "video 1/1 (1355/2628) /content/gdrive/MyDrive/data_sets/Dataset_2/Animal_TestVideo.mp4: 384x640 1 Brown bear, 25.2ms\n",
            "video 1/1 (1356/2628) /content/gdrive/MyDrive/data_sets/Dataset_2/Animal_TestVideo.mp4: 384x640 1 Brown bear, 25.2ms\n",
            "video 1/1 (1357/2628) /content/gdrive/MyDrive/data_sets/Dataset_2/Animal_TestVideo.mp4: 384x640 1 Brown bear, 25.2ms\n",
            "video 1/1 (1358/2628) /content/gdrive/MyDrive/data_sets/Dataset_2/Animal_TestVideo.mp4: 384x640 1 Brown bear, 25.2ms\n",
            "video 1/1 (1359/2628) /content/gdrive/MyDrive/data_sets/Dataset_2/Animal_TestVideo.mp4: 384x640 1 Brown bear, 25.2ms\n",
            "video 1/1 (1360/2628) /content/gdrive/MyDrive/data_sets/Dataset_2/Animal_TestVideo.mp4: 384x640 1 Brown bear, 25.2ms\n",
            "video 1/1 (1361/2628) /content/gdrive/MyDrive/data_sets/Dataset_2/Animal_TestVideo.mp4: 384x640 1 Brown bear, 25.2ms\n",
            "video 1/1 (1362/2628) /content/gdrive/MyDrive/data_sets/Dataset_2/Animal_TestVideo.mp4: 384x640 1 Brown bear, 25.2ms\n",
            "video 1/1 (1363/2628) /content/gdrive/MyDrive/data_sets/Dataset_2/Animal_TestVideo.mp4: 384x640 1 Brown bear, 25.2ms\n",
            "video 1/1 (1364/2628) /content/gdrive/MyDrive/data_sets/Dataset_2/Animal_TestVideo.mp4: 384x640 1 Brown bear, 25.2ms\n",
            "video 1/1 (1365/2628) /content/gdrive/MyDrive/data_sets/Dataset_2/Animal_TestVideo.mp4: 384x640 1 Brown bear, 25.2ms\n",
            "video 1/1 (1366/2628) /content/gdrive/MyDrive/data_sets/Dataset_2/Animal_TestVideo.mp4: 384x640 1 Brown bear, 25.6ms\n",
            "video 1/1 (1367/2628) /content/gdrive/MyDrive/data_sets/Dataset_2/Animal_TestVideo.mp4: 384x640 1 Brown bear, 25.2ms\n",
            "video 1/1 (1368/2628) /content/gdrive/MyDrive/data_sets/Dataset_2/Animal_TestVideo.mp4: 384x640 1 Brown bear, 27.0ms\n",
            "video 1/1 (1369/2628) /content/gdrive/MyDrive/data_sets/Dataset_2/Animal_TestVideo.mp4: 384x640 1 Brown bear, 25.3ms\n",
            "video 1/1 (1370/2628) /content/gdrive/MyDrive/data_sets/Dataset_2/Animal_TestVideo.mp4: 384x640 1 Brown bear, 25.2ms\n",
            "video 1/1 (1371/2628) /content/gdrive/MyDrive/data_sets/Dataset_2/Animal_TestVideo.mp4: 384x640 1 Brown bear, 25.7ms\n",
            "video 1/1 (1372/2628) /content/gdrive/MyDrive/data_sets/Dataset_2/Animal_TestVideo.mp4: 384x640 1 Brown bear, 25.2ms\n",
            "video 1/1 (1373/2628) /content/gdrive/MyDrive/data_sets/Dataset_2/Animal_TestVideo.mp4: 384x640 1 Brown bear, 25.3ms\n",
            "video 1/1 (1374/2628) /content/gdrive/MyDrive/data_sets/Dataset_2/Animal_TestVideo.mp4: 384x640 1 Brown bear, 29.2ms\n",
            "video 1/1 (1375/2628) /content/gdrive/MyDrive/data_sets/Dataset_2/Animal_TestVideo.mp4: 384x640 1 Brown bear, 25.2ms\n",
            "video 1/1 (1376/2628) /content/gdrive/MyDrive/data_sets/Dataset_2/Animal_TestVideo.mp4: 384x640 1 Brown bear, 25.1ms\n",
            "video 1/1 (1377/2628) /content/gdrive/MyDrive/data_sets/Dataset_2/Animal_TestVideo.mp4: 384x640 1 Brown bear, 25.2ms\n",
            "video 1/1 (1378/2628) /content/gdrive/MyDrive/data_sets/Dataset_2/Animal_TestVideo.mp4: 384x640 1 Brown bear, 25.1ms\n",
            "video 1/1 (1379/2628) /content/gdrive/MyDrive/data_sets/Dataset_2/Animal_TestVideo.mp4: 384x640 1 Brown bear, 25.2ms\n",
            "video 1/1 (1380/2628) /content/gdrive/MyDrive/data_sets/Dataset_2/Animal_TestVideo.mp4: 384x640 1 Brown bear, 25.3ms\n",
            "video 1/1 (1381/2628) /content/gdrive/MyDrive/data_sets/Dataset_2/Animal_TestVideo.mp4: 384x640 1 Brown bear, 25.0ms\n",
            "video 1/1 (1382/2628) /content/gdrive/MyDrive/data_sets/Dataset_2/Animal_TestVideo.mp4: 384x640 1 Brown bear, 23.1ms\n",
            "video 1/1 (1383/2628) /content/gdrive/MyDrive/data_sets/Dataset_2/Animal_TestVideo.mp4: 384x640 1 Brown bear, 23.1ms\n",
            "video 1/1 (1384/2628) /content/gdrive/MyDrive/data_sets/Dataset_2/Animal_TestVideo.mp4: 384x640 1 Brown bear, 23.1ms\n",
            "video 1/1 (1385/2628) /content/gdrive/MyDrive/data_sets/Dataset_2/Animal_TestVideo.mp4: 384x640 1 Brown bear, 25.4ms\n",
            "video 1/1 (1386/2628) /content/gdrive/MyDrive/data_sets/Dataset_2/Animal_TestVideo.mp4: 384x640 1 Brown bear, 23.4ms\n",
            "video 1/1 (1387/2628) /content/gdrive/MyDrive/data_sets/Dataset_2/Animal_TestVideo.mp4: 384x640 1 Brown bear, 23.1ms\n",
            "video 1/1 (1388/2628) /content/gdrive/MyDrive/data_sets/Dataset_2/Animal_TestVideo.mp4: 384x640 1 Brown bear, 23.1ms\n",
            "video 1/1 (1389/2628) /content/gdrive/MyDrive/data_sets/Dataset_2/Animal_TestVideo.mp4: 384x640 1 Brown bear, 23.2ms\n",
            "video 1/1 (1390/2628) /content/gdrive/MyDrive/data_sets/Dataset_2/Animal_TestVideo.mp4: 384x640 1 Brown bear, 23.3ms\n",
            "video 1/1 (1391/2628) /content/gdrive/MyDrive/data_sets/Dataset_2/Animal_TestVideo.mp4: 384x640 1 Bear, 1 Brown bear, 23.1ms\n",
            "video 1/1 (1392/2628) /content/gdrive/MyDrive/data_sets/Dataset_2/Animal_TestVideo.mp4: 384x640 1 Brown bear, 21.8ms\n",
            "video 1/1 (1393/2628) /content/gdrive/MyDrive/data_sets/Dataset_2/Animal_TestVideo.mp4: 384x640 1 Brown bear, 21.8ms\n",
            "video 1/1 (1394/2628) /content/gdrive/MyDrive/data_sets/Dataset_2/Animal_TestVideo.mp4: 384x640 1 Brown bear, 21.8ms\n",
            "video 1/1 (1395/2628) /content/gdrive/MyDrive/data_sets/Dataset_2/Animal_TestVideo.mp4: 384x640 1 Brown bear, 22.0ms\n",
            "video 1/1 (1396/2628) /content/gdrive/MyDrive/data_sets/Dataset_2/Animal_TestVideo.mp4: 384x640 1 Brown bear, 21.8ms\n",
            "video 1/1 (1397/2628) /content/gdrive/MyDrive/data_sets/Dataset_2/Animal_TestVideo.mp4: 384x640 1 Brown bear, 21.9ms\n",
            "video 1/1 (1398/2628) /content/gdrive/MyDrive/data_sets/Dataset_2/Animal_TestVideo.mp4: 384x640 1 Brown bear, 21.8ms\n",
            "video 1/1 (1399/2628) /content/gdrive/MyDrive/data_sets/Dataset_2/Animal_TestVideo.mp4: 384x640 1 Brown bear, 21.8ms\n",
            "video 1/1 (1400/2628) /content/gdrive/MyDrive/data_sets/Dataset_2/Animal_TestVideo.mp4: 384x640 1 Brown bear, 22.9ms\n",
            "video 1/1 (1401/2628) /content/gdrive/MyDrive/data_sets/Dataset_2/Animal_TestVideo.mp4: 384x640 1 Brown bear, 21.8ms\n",
            "video 1/1 (1402/2628) /content/gdrive/MyDrive/data_sets/Dataset_2/Animal_TestVideo.mp4: 384x640 1 Brown bear, 21.8ms\n",
            "video 1/1 (1403/2628) /content/gdrive/MyDrive/data_sets/Dataset_2/Animal_TestVideo.mp4: 384x640 1 Brown bear, 21.9ms\n",
            "video 1/1 (1404/2628) /content/gdrive/MyDrive/data_sets/Dataset_2/Animal_TestVideo.mp4: 384x640 1 Brown bear, 21.7ms\n",
            "video 1/1 (1405/2628) /content/gdrive/MyDrive/data_sets/Dataset_2/Animal_TestVideo.mp4: 384x640 1 Brown bear, 21.8ms\n",
            "video 1/1 (1406/2628) /content/gdrive/MyDrive/data_sets/Dataset_2/Animal_TestVideo.mp4: 384x640 1 Brown bear, 21.9ms\n",
            "video 1/1 (1407/2628) /content/gdrive/MyDrive/data_sets/Dataset_2/Animal_TestVideo.mp4: 384x640 1 Brown bear, 21.8ms\n",
            "video 1/1 (1408/2628) /content/gdrive/MyDrive/data_sets/Dataset_2/Animal_TestVideo.mp4: 384x640 1 Bear, 1 Brown bear, 22.0ms\n",
            "video 1/1 (1409/2628) /content/gdrive/MyDrive/data_sets/Dataset_2/Animal_TestVideo.mp4: 384x640 1 Brown bear, 21.8ms\n",
            "video 1/1 (1410/2628) /content/gdrive/MyDrive/data_sets/Dataset_2/Animal_TestVideo.mp4: 384x640 1 Brown bear, 22.0ms\n",
            "video 1/1 (1411/2628) /content/gdrive/MyDrive/data_sets/Dataset_2/Animal_TestVideo.mp4: 384x640 1 Brown bear, 21.8ms\n",
            "video 1/1 (1412/2628) /content/gdrive/MyDrive/data_sets/Dataset_2/Animal_TestVideo.mp4: 384x640 1 Brown bear, 20.7ms\n",
            "video 1/1 (1413/2628) /content/gdrive/MyDrive/data_sets/Dataset_2/Animal_TestVideo.mp4: 384x640 1 Brown bear, 20.6ms\n",
            "video 1/1 (1414/2628) /content/gdrive/MyDrive/data_sets/Dataset_2/Animal_TestVideo.mp4: 384x640 1 Brown bear, 20.8ms\n",
            "video 1/1 (1415/2628) /content/gdrive/MyDrive/data_sets/Dataset_2/Animal_TestVideo.mp4: 384x640 1 Brown bear, 20.7ms\n",
            "video 1/1 (1416/2628) /content/gdrive/MyDrive/data_sets/Dataset_2/Animal_TestVideo.mp4: 384x640 1 Brown bear, 20.7ms\n",
            "video 1/1 (1417/2628) /content/gdrive/MyDrive/data_sets/Dataset_2/Animal_TestVideo.mp4: 384x640 1 Brown bear, 20.6ms\n",
            "video 1/1 (1418/2628) /content/gdrive/MyDrive/data_sets/Dataset_2/Animal_TestVideo.mp4: 384x640 1 Brown bear, 20.7ms\n",
            "video 1/1 (1419/2628) /content/gdrive/MyDrive/data_sets/Dataset_2/Animal_TestVideo.mp4: 384x640 1 Brown bear, 20.8ms\n",
            "video 1/1 (1420/2628) /content/gdrive/MyDrive/data_sets/Dataset_2/Animal_TestVideo.mp4: 384x640 1 Brown bear, 20.6ms\n",
            "video 1/1 (1421/2628) /content/gdrive/MyDrive/data_sets/Dataset_2/Animal_TestVideo.mp4: 384x640 1 Brown bear, 20.7ms\n",
            "video 1/1 (1422/2628) /content/gdrive/MyDrive/data_sets/Dataset_2/Animal_TestVideo.mp4: 384x640 1 Brown bear, 21.6ms\n",
            "video 1/1 (1423/2628) /content/gdrive/MyDrive/data_sets/Dataset_2/Animal_TestVideo.mp4: 384x640 1 Brown bear, 20.8ms\n",
            "video 1/1 (1424/2628) /content/gdrive/MyDrive/data_sets/Dataset_2/Animal_TestVideo.mp4: 384x640 1 Brown bear, 20.6ms\n",
            "video 1/1 (1425/2628) /content/gdrive/MyDrive/data_sets/Dataset_2/Animal_TestVideo.mp4: 384x640 1 Brown bear, 20.6ms\n",
            "video 1/1 (1426/2628) /content/gdrive/MyDrive/data_sets/Dataset_2/Animal_TestVideo.mp4: 384x640 1 Brown bear, 20.1ms\n",
            "video 1/1 (1427/2628) /content/gdrive/MyDrive/data_sets/Dataset_2/Animal_TestVideo.mp4: 384x640 1 Brown bear, 20.0ms\n",
            "video 1/1 (1428/2628) /content/gdrive/MyDrive/data_sets/Dataset_2/Animal_TestVideo.mp4: 384x640 1 Brown bear, 19.9ms\n",
            "video 1/1 (1429/2628) /content/gdrive/MyDrive/data_sets/Dataset_2/Animal_TestVideo.mp4: 384x640 1 Brown bear, 20.0ms\n",
            "video 1/1 (1430/2628) /content/gdrive/MyDrive/data_sets/Dataset_2/Animal_TestVideo.mp4: 384x640 1 Brown bear, 19.9ms\n",
            "video 1/1 (1431/2628) /content/gdrive/MyDrive/data_sets/Dataset_2/Animal_TestVideo.mp4: 384x640 1 Brown bear, 24.2ms\n",
            "video 1/1 (1432/2628) /content/gdrive/MyDrive/data_sets/Dataset_2/Animal_TestVideo.mp4: 384x640 1 Brown bear, 20.0ms\n",
            "video 1/1 (1433/2628) /content/gdrive/MyDrive/data_sets/Dataset_2/Animal_TestVideo.mp4: 384x640 1 Brown bear, 19.6ms\n",
            "video 1/1 (1434/2628) /content/gdrive/MyDrive/data_sets/Dataset_2/Animal_TestVideo.mp4: 384x640 1 Brown bear, 19.6ms\n",
            "video 1/1 (1435/2628) /content/gdrive/MyDrive/data_sets/Dataset_2/Animal_TestVideo.mp4: 384x640 1 Brown bear, 22.3ms\n",
            "video 1/1 (1436/2628) /content/gdrive/MyDrive/data_sets/Dataset_2/Animal_TestVideo.mp4: 384x640 1 Brown bear, 19.7ms\n",
            "video 1/1 (1437/2628) /content/gdrive/MyDrive/data_sets/Dataset_2/Animal_TestVideo.mp4: 384x640 1 Brown bear, 19.6ms\n",
            "video 1/1 (1438/2628) /content/gdrive/MyDrive/data_sets/Dataset_2/Animal_TestVideo.mp4: 384x640 1 Brown bear, 19.8ms\n",
            "video 1/1 (1439/2628) /content/gdrive/MyDrive/data_sets/Dataset_2/Animal_TestVideo.mp4: 384x640 1 Brown bear, 19.7ms\n",
            "video 1/1 (1440/2628) /content/gdrive/MyDrive/data_sets/Dataset_2/Animal_TestVideo.mp4: 384x640 1 Brown bear, 19.8ms\n",
            "video 1/1 (1441/2628) /content/gdrive/MyDrive/data_sets/Dataset_2/Animal_TestVideo.mp4: 384x640 1 Brown bear, 19.7ms\n",
            "video 1/1 (1442/2628) /content/gdrive/MyDrive/data_sets/Dataset_2/Animal_TestVideo.mp4: 384x640 1 Brown bear, 19.7ms\n",
            "video 1/1 (1443/2628) /content/gdrive/MyDrive/data_sets/Dataset_2/Animal_TestVideo.mp4: 384x640 1 Brown bear, 19.6ms\n",
            "video 1/1 (1444/2628) /content/gdrive/MyDrive/data_sets/Dataset_2/Animal_TestVideo.mp4: 384x640 1 Brown bear, 19.6ms\n",
            "video 1/1 (1445/2628) /content/gdrive/MyDrive/data_sets/Dataset_2/Animal_TestVideo.mp4: 384x640 1 Brown bear, 19.7ms\n",
            "video 1/1 (1446/2628) /content/gdrive/MyDrive/data_sets/Dataset_2/Animal_TestVideo.mp4: 384x640 1 Brown bear, 19.6ms\n",
            "video 1/1 (1447/2628) /content/gdrive/MyDrive/data_sets/Dataset_2/Animal_TestVideo.mp4: 384x640 1 Brown bear, 19.7ms\n",
            "video 1/1 (1448/2628) /content/gdrive/MyDrive/data_sets/Dataset_2/Animal_TestVideo.mp4: 384x640 1 Brown bear, 19.6ms\n",
            "video 1/1 (1449/2628) /content/gdrive/MyDrive/data_sets/Dataset_2/Animal_TestVideo.mp4: 384x640 (no detections), 19.8ms\n",
            "video 1/1 (1450/2628) /content/gdrive/MyDrive/data_sets/Dataset_2/Animal_TestVideo.mp4: 384x640 (no detections), 19.8ms\n",
            "video 1/1 (1451/2628) /content/gdrive/MyDrive/data_sets/Dataset_2/Animal_TestVideo.mp4: 384x640 (no detections), 19.8ms\n",
            "video 1/1 (1452/2628) /content/gdrive/MyDrive/data_sets/Dataset_2/Animal_TestVideo.mp4: 384x640 1 Camel, 19.8ms\n",
            "video 1/1 (1453/2628) /content/gdrive/MyDrive/data_sets/Dataset_2/Animal_TestVideo.mp4: 384x640 1 Camel, 19.6ms\n",
            "video 1/1 (1454/2628) /content/gdrive/MyDrive/data_sets/Dataset_2/Animal_TestVideo.mp4: 384x640 1 Camel, 19.7ms\n",
            "video 1/1 (1455/2628) /content/gdrive/MyDrive/data_sets/Dataset_2/Animal_TestVideo.mp4: 384x640 1 Camel, 19.6ms\n",
            "video 1/1 (1456/2628) /content/gdrive/MyDrive/data_sets/Dataset_2/Animal_TestVideo.mp4: 384x640 1 Camel, 19.6ms\n",
            "video 1/1 (1457/2628) /content/gdrive/MyDrive/data_sets/Dataset_2/Animal_TestVideo.mp4: 384x640 2 Camels, 19.9ms\n",
            "video 1/1 (1458/2628) /content/gdrive/MyDrive/data_sets/Dataset_2/Animal_TestVideo.mp4: 384x640 2 Camels, 19.9ms\n",
            "video 1/1 (1459/2628) /content/gdrive/MyDrive/data_sets/Dataset_2/Animal_TestVideo.mp4: 384x640 2 Camels, 19.9ms\n",
            "video 1/1 (1460/2628) /content/gdrive/MyDrive/data_sets/Dataset_2/Animal_TestVideo.mp4: 384x640 2 Camels, 22.5ms\n",
            "video 1/1 (1461/2628) /content/gdrive/MyDrive/data_sets/Dataset_2/Animal_TestVideo.mp4: 384x640 2 Camels, 20.5ms\n",
            "video 1/1 (1462/2628) /content/gdrive/MyDrive/data_sets/Dataset_2/Animal_TestVideo.mp4: 384x640 2 Camels, 19.6ms\n",
            "video 1/1 (1463/2628) /content/gdrive/MyDrive/data_sets/Dataset_2/Animal_TestVideo.mp4: 384x640 2 Camels, 19.8ms\n",
            "video 1/1 (1464/2628) /content/gdrive/MyDrive/data_sets/Dataset_2/Animal_TestVideo.mp4: 384x640 2 Camels, 19.6ms\n",
            "video 1/1 (1465/2628) /content/gdrive/MyDrive/data_sets/Dataset_2/Animal_TestVideo.mp4: 384x640 2 Camels, 19.8ms\n",
            "video 1/1 (1466/2628) /content/gdrive/MyDrive/data_sets/Dataset_2/Animal_TestVideo.mp4: 384x640 2 Camels, 19.7ms\n",
            "video 1/1 (1467/2628) /content/gdrive/MyDrive/data_sets/Dataset_2/Animal_TestVideo.mp4: 384x640 2 Camels, 19.6ms\n",
            "video 1/1 (1468/2628) /content/gdrive/MyDrive/data_sets/Dataset_2/Animal_TestVideo.mp4: 384x640 2 Camels, 20.3ms\n",
            "video 1/1 (1469/2628) /content/gdrive/MyDrive/data_sets/Dataset_2/Animal_TestVideo.mp4: 384x640 2 Camels, 20.0ms\n",
            "video 1/1 (1470/2628) /content/gdrive/MyDrive/data_sets/Dataset_2/Animal_TestVideo.mp4: 384x640 2 Camels, 20.0ms\n",
            "video 1/1 (1471/2628) /content/gdrive/MyDrive/data_sets/Dataset_2/Animal_TestVideo.mp4: 384x640 2 Camels, 20.2ms\n",
            "video 1/1 (1472/2628) /content/gdrive/MyDrive/data_sets/Dataset_2/Animal_TestVideo.mp4: 384x640 2 Camels, 20.3ms\n",
            "video 1/1 (1473/2628) /content/gdrive/MyDrive/data_sets/Dataset_2/Animal_TestVideo.mp4: 384x640 2 Camels, 20.4ms\n",
            "video 1/1 (1474/2628) /content/gdrive/MyDrive/data_sets/Dataset_2/Animal_TestVideo.mp4: 384x640 2 Camels, 20.3ms\n",
            "video 1/1 (1475/2628) /content/gdrive/MyDrive/data_sets/Dataset_2/Animal_TestVideo.mp4: 384x640 2 Camels, 21.2ms\n",
            "video 1/1 (1476/2628) /content/gdrive/MyDrive/data_sets/Dataset_2/Animal_TestVideo.mp4: 384x640 2 Camels, 23.4ms\n",
            "video 1/1 (1477/2628) /content/gdrive/MyDrive/data_sets/Dataset_2/Animal_TestVideo.mp4: 384x640 2 Camels, 19.7ms\n",
            "video 1/1 (1478/2628) /content/gdrive/MyDrive/data_sets/Dataset_2/Animal_TestVideo.mp4: 384x640 1 Camel, 19.8ms\n",
            "video 1/1 (1479/2628) /content/gdrive/MyDrive/data_sets/Dataset_2/Animal_TestVideo.mp4: 384x640 2 Camels, 19.8ms\n",
            "video 1/1 (1480/2628) /content/gdrive/MyDrive/data_sets/Dataset_2/Animal_TestVideo.mp4: 384x640 2 Camels, 19.7ms\n",
            "video 1/1 (1481/2628) /content/gdrive/MyDrive/data_sets/Dataset_2/Animal_TestVideo.mp4: 384x640 2 Camels, 19.6ms\n",
            "video 1/1 (1482/2628) /content/gdrive/MyDrive/data_sets/Dataset_2/Animal_TestVideo.mp4: 384x640 1 Camel, 19.7ms\n",
            "video 1/1 (1483/2628) /content/gdrive/MyDrive/data_sets/Dataset_2/Animal_TestVideo.mp4: 384x640 2 Camels, 19.6ms\n",
            "video 1/1 (1484/2628) /content/gdrive/MyDrive/data_sets/Dataset_2/Animal_TestVideo.mp4: 384x640 2 Camels, 19.7ms\n",
            "video 1/1 (1485/2628) /content/gdrive/MyDrive/data_sets/Dataset_2/Animal_TestVideo.mp4: 384x640 2 Camels, 19.8ms\n",
            "video 1/1 (1486/2628) /content/gdrive/MyDrive/data_sets/Dataset_2/Animal_TestVideo.mp4: 384x640 2 Camels, 21.2ms\n",
            "video 1/1 (1487/2628) /content/gdrive/MyDrive/data_sets/Dataset_2/Animal_TestVideo.mp4: 384x640 2 Camels, 19.6ms\n",
            "video 1/1 (1488/2628) /content/gdrive/MyDrive/data_sets/Dataset_2/Animal_TestVideo.mp4: 384x640 2 Camels, 19.7ms\n",
            "video 1/1 (1489/2628) /content/gdrive/MyDrive/data_sets/Dataset_2/Animal_TestVideo.mp4: 384x640 2 Camels, 19.8ms\n",
            "video 1/1 (1490/2628) /content/gdrive/MyDrive/data_sets/Dataset_2/Animal_TestVideo.mp4: 384x640 2 Camels, 21.0ms\n",
            "video 1/1 (1491/2628) /content/gdrive/MyDrive/data_sets/Dataset_2/Animal_TestVideo.mp4: 384x640 2 Camels, 19.7ms\n",
            "video 1/1 (1492/2628) /content/gdrive/MyDrive/data_sets/Dataset_2/Animal_TestVideo.mp4: 384x640 2 Camels, 19.6ms\n",
            "video 1/1 (1493/2628) /content/gdrive/MyDrive/data_sets/Dataset_2/Animal_TestVideo.mp4: 384x640 2 Camels, 19.6ms\n",
            "video 1/1 (1494/2628) /content/gdrive/MyDrive/data_sets/Dataset_2/Animal_TestVideo.mp4: 384x640 2 Camels, 19.9ms\n",
            "video 1/1 (1495/2628) /content/gdrive/MyDrive/data_sets/Dataset_2/Animal_TestVideo.mp4: 384x640 2 Camels, 19.8ms\n",
            "video 1/1 (1496/2628) /content/gdrive/MyDrive/data_sets/Dataset_2/Animal_TestVideo.mp4: 384x640 2 Camels, 19.6ms\n",
            "video 1/1 (1497/2628) /content/gdrive/MyDrive/data_sets/Dataset_2/Animal_TestVideo.mp4: 384x640 2 Camels, 19.7ms\n",
            "video 1/1 (1498/2628) /content/gdrive/MyDrive/data_sets/Dataset_2/Animal_TestVideo.mp4: 384x640 2 Camels, 19.7ms\n",
            "video 1/1 (1499/2628) /content/gdrive/MyDrive/data_sets/Dataset_2/Animal_TestVideo.mp4: 384x640 2 Camels, 19.8ms\n",
            "video 1/1 (1500/2628) /content/gdrive/MyDrive/data_sets/Dataset_2/Animal_TestVideo.mp4: 384x640 2 Camels, 19.9ms\n",
            "video 1/1 (1501/2628) /content/gdrive/MyDrive/data_sets/Dataset_2/Animal_TestVideo.mp4: 384x640 2 Camels, 19.7ms\n",
            "video 1/1 (1502/2628) /content/gdrive/MyDrive/data_sets/Dataset_2/Animal_TestVideo.mp4: 384x640 2 Camels, 19.8ms\n",
            "video 1/1 (1503/2628) /content/gdrive/MyDrive/data_sets/Dataset_2/Animal_TestVideo.mp4: 384x640 2 Camels, 19.8ms\n",
            "video 1/1 (1504/2628) /content/gdrive/MyDrive/data_sets/Dataset_2/Animal_TestVideo.mp4: 384x640 2 Camels, 19.6ms\n",
            "video 1/1 (1505/2628) /content/gdrive/MyDrive/data_sets/Dataset_2/Animal_TestVideo.mp4: 384x640 2 Camels, 20.2ms\n",
            "video 1/1 (1506/2628) /content/gdrive/MyDrive/data_sets/Dataset_2/Animal_TestVideo.mp4: 384x640 2 Camels, 20.3ms\n",
            "video 1/1 (1507/2628) /content/gdrive/MyDrive/data_sets/Dataset_2/Animal_TestVideo.mp4: 384x640 2 Camels, 20.3ms\n",
            "video 1/1 (1508/2628) /content/gdrive/MyDrive/data_sets/Dataset_2/Animal_TestVideo.mp4: 384x640 2 Camels, 20.3ms\n",
            "video 1/1 (1509/2628) /content/gdrive/MyDrive/data_sets/Dataset_2/Animal_TestVideo.mp4: 384x640 2 Camels, 20.1ms\n",
            "video 1/1 (1510/2628) /content/gdrive/MyDrive/data_sets/Dataset_2/Animal_TestVideo.mp4: 384x640 2 Camels, 19.9ms\n",
            "video 1/1 (1511/2628) /content/gdrive/MyDrive/data_sets/Dataset_2/Animal_TestVideo.mp4: 384x640 2 Camels, 20.0ms\n",
            "video 1/1 (1512/2628) /content/gdrive/MyDrive/data_sets/Dataset_2/Animal_TestVideo.mp4: 384x640 2 Camels, 20.0ms\n",
            "video 1/1 (1513/2628) /content/gdrive/MyDrive/data_sets/Dataset_2/Animal_TestVideo.mp4: 384x640 2 Camels, 20.0ms\n",
            "video 1/1 (1514/2628) /content/gdrive/MyDrive/data_sets/Dataset_2/Animal_TestVideo.mp4: 384x640 2 Camels, 20.0ms\n",
            "video 1/1 (1515/2628) /content/gdrive/MyDrive/data_sets/Dataset_2/Animal_TestVideo.mp4: 384x640 2 Camels, 20.0ms\n",
            "video 1/1 (1516/2628) /content/gdrive/MyDrive/data_sets/Dataset_2/Animal_TestVideo.mp4: 384x640 2 Camels, 20.3ms\n",
            "video 1/1 (1517/2628) /content/gdrive/MyDrive/data_sets/Dataset_2/Animal_TestVideo.mp4: 384x640 2 Camels, 20.1ms\n",
            "video 1/1 (1518/2628) /content/gdrive/MyDrive/data_sets/Dataset_2/Animal_TestVideo.mp4: 384x640 2 Camels, 20.1ms\n",
            "video 1/1 (1519/2628) /content/gdrive/MyDrive/data_sets/Dataset_2/Animal_TestVideo.mp4: 384x640 2 Camels, 19.7ms\n",
            "video 1/1 (1520/2628) /content/gdrive/MyDrive/data_sets/Dataset_2/Animal_TestVideo.mp4: 384x640 2 Camels, 19.7ms\n",
            "video 1/1 (1521/2628) /content/gdrive/MyDrive/data_sets/Dataset_2/Animal_TestVideo.mp4: 384x640 2 Camels, 19.7ms\n",
            "video 1/1 (1522/2628) /content/gdrive/MyDrive/data_sets/Dataset_2/Animal_TestVideo.mp4: 384x640 2 Camels, 19.8ms\n",
            "video 1/1 (1523/2628) /content/gdrive/MyDrive/data_sets/Dataset_2/Animal_TestVideo.mp4: 384x640 2 Camels, 22.0ms\n",
            "video 1/1 (1524/2628) /content/gdrive/MyDrive/data_sets/Dataset_2/Animal_TestVideo.mp4: 384x640 2 Camels, 19.7ms\n",
            "video 1/1 (1525/2628) /content/gdrive/MyDrive/data_sets/Dataset_2/Animal_TestVideo.mp4: 384x640 2 Camels, 19.6ms\n",
            "video 1/1 (1526/2628) /content/gdrive/MyDrive/data_sets/Dataset_2/Animal_TestVideo.mp4: 384x640 2 Camels, 19.6ms\n",
            "video 1/1 (1527/2628) /content/gdrive/MyDrive/data_sets/Dataset_2/Animal_TestVideo.mp4: 384x640 2 Camels, 19.8ms\n",
            "video 1/1 (1528/2628) /content/gdrive/MyDrive/data_sets/Dataset_2/Animal_TestVideo.mp4: 384x640 2 Camels, 19.7ms\n",
            "video 1/1 (1529/2628) /content/gdrive/MyDrive/data_sets/Dataset_2/Animal_TestVideo.mp4: 384x640 2 Camels, 19.6ms\n",
            "video 1/1 (1530/2628) /content/gdrive/MyDrive/data_sets/Dataset_2/Animal_TestVideo.mp4: 384x640 2 Camels, 19.7ms\n",
            "video 1/1 (1531/2628) /content/gdrive/MyDrive/data_sets/Dataset_2/Animal_TestVideo.mp4: 384x640 2 Camels, 19.7ms\n",
            "video 1/1 (1532/2628) /content/gdrive/MyDrive/data_sets/Dataset_2/Animal_TestVideo.mp4: 384x640 2 Camels, 19.8ms\n",
            "video 1/1 (1533/2628) /content/gdrive/MyDrive/data_sets/Dataset_2/Animal_TestVideo.mp4: 384x640 2 Camels, 19.8ms\n",
            "video 1/1 (1534/2628) /content/gdrive/MyDrive/data_sets/Dataset_2/Animal_TestVideo.mp4: 384x640 2 Camels, 19.7ms\n",
            "video 1/1 (1535/2628) /content/gdrive/MyDrive/data_sets/Dataset_2/Animal_TestVideo.mp4: 384x640 2 Camels, 19.6ms\n",
            "video 1/1 (1536/2628) /content/gdrive/MyDrive/data_sets/Dataset_2/Animal_TestVideo.mp4: 384x640 2 Camels, 19.6ms\n",
            "video 1/1 (1537/2628) /content/gdrive/MyDrive/data_sets/Dataset_2/Animal_TestVideo.mp4: 384x640 2 Camels, 20.1ms\n",
            "video 1/1 (1538/2628) /content/gdrive/MyDrive/data_sets/Dataset_2/Animal_TestVideo.mp4: 384x640 2 Camels, 19.7ms\n",
            "video 1/1 (1539/2628) /content/gdrive/MyDrive/data_sets/Dataset_2/Animal_TestVideo.mp4: 384x640 2 Camels, 19.6ms\n",
            "video 1/1 (1540/2628) /content/gdrive/MyDrive/data_sets/Dataset_2/Animal_TestVideo.mp4: 384x640 2 Camels, 19.8ms\n",
            "video 1/1 (1541/2628) /content/gdrive/MyDrive/data_sets/Dataset_2/Animal_TestVideo.mp4: 384x640 2 Camels, 19.6ms\n",
            "video 1/1 (1542/2628) /content/gdrive/MyDrive/data_sets/Dataset_2/Animal_TestVideo.mp4: 384x640 2 Camels, 19.7ms\n",
            "video 1/1 (1543/2628) /content/gdrive/MyDrive/data_sets/Dataset_2/Animal_TestVideo.mp4: 384x640 2 Camels, 19.6ms\n",
            "video 1/1 (1544/2628) /content/gdrive/MyDrive/data_sets/Dataset_2/Animal_TestVideo.mp4: 384x640 2 Camels, 19.6ms\n",
            "video 1/1 (1545/2628) /content/gdrive/MyDrive/data_sets/Dataset_2/Animal_TestVideo.mp4: 384x640 2 Camels, 22.1ms\n",
            "video 1/1 (1546/2628) /content/gdrive/MyDrive/data_sets/Dataset_2/Animal_TestVideo.mp4: 384x640 2 Camels, 19.7ms\n",
            "video 1/1 (1547/2628) /content/gdrive/MyDrive/data_sets/Dataset_2/Animal_TestVideo.mp4: 384x640 2 Camels, 19.7ms\n",
            "video 1/1 (1548/2628) /content/gdrive/MyDrive/data_sets/Dataset_2/Animal_TestVideo.mp4: 384x640 2 Camels, 21.8ms\n",
            "video 1/1 (1549/2628) /content/gdrive/MyDrive/data_sets/Dataset_2/Animal_TestVideo.mp4: 384x640 2 Camels, 21.9ms\n",
            "video 1/1 (1550/2628) /content/gdrive/MyDrive/data_sets/Dataset_2/Animal_TestVideo.mp4: 384x640 2 Camels, 21.8ms\n",
            "video 1/1 (1551/2628) /content/gdrive/MyDrive/data_sets/Dataset_2/Animal_TestVideo.mp4: 384x640 2 Camels, 22.2ms\n",
            "video 1/1 (1552/2628) /content/gdrive/MyDrive/data_sets/Dataset_2/Animal_TestVideo.mp4: 384x640 2 Camels, 22.2ms\n",
            "video 1/1 (1553/2628) /content/gdrive/MyDrive/data_sets/Dataset_2/Animal_TestVideo.mp4: 384x640 2 Camels, 26.0ms\n",
            "video 1/1 (1554/2628) /content/gdrive/MyDrive/data_sets/Dataset_2/Animal_TestVideo.mp4: 384x640 2 Camels, 23.1ms\n",
            "video 1/1 (1555/2628) /content/gdrive/MyDrive/data_sets/Dataset_2/Animal_TestVideo.mp4: 384x640 2 Camels, 25.0ms\n",
            "video 1/1 (1556/2628) /content/gdrive/MyDrive/data_sets/Dataset_2/Animal_TestVideo.mp4: 384x640 2 Camels, 23.9ms\n",
            "video 1/1 (1557/2628) /content/gdrive/MyDrive/data_sets/Dataset_2/Animal_TestVideo.mp4: 384x640 2 Camels, 23.1ms\n",
            "video 1/1 (1558/2628) /content/gdrive/MyDrive/data_sets/Dataset_2/Animal_TestVideo.mp4: 384x640 2 Camels, 23.3ms\n",
            "video 1/1 (1559/2628) /content/gdrive/MyDrive/data_sets/Dataset_2/Animal_TestVideo.mp4: 384x640 2 Camels, 23.6ms\n",
            "video 1/1 (1560/2628) /content/gdrive/MyDrive/data_sets/Dataset_2/Animal_TestVideo.mp4: 384x640 2 Camels, 23.8ms\n",
            "video 1/1 (1561/2628) /content/gdrive/MyDrive/data_sets/Dataset_2/Animal_TestVideo.mp4: 384x640 2 Camels, 24.1ms\n",
            "video 1/1 (1562/2628) /content/gdrive/MyDrive/data_sets/Dataset_2/Animal_TestVideo.mp4: 384x640 2 Camels, 24.1ms\n",
            "video 1/1 (1563/2628) /content/gdrive/MyDrive/data_sets/Dataset_2/Animal_TestVideo.mp4: 384x640 2 Camels, 24.1ms\n",
            "video 1/1 (1564/2628) /content/gdrive/MyDrive/data_sets/Dataset_2/Animal_TestVideo.mp4: 384x640 2 Camels, 24.6ms\n",
            "video 1/1 (1565/2628) /content/gdrive/MyDrive/data_sets/Dataset_2/Animal_TestVideo.mp4: 384x640 2 Camels, 24.6ms\n",
            "video 1/1 (1566/2628) /content/gdrive/MyDrive/data_sets/Dataset_2/Animal_TestVideo.mp4: 384x640 2 Camels, 25.1ms\n",
            "video 1/1 (1567/2628) /content/gdrive/MyDrive/data_sets/Dataset_2/Animal_TestVideo.mp4: 384x640 2 Camels, 25.2ms\n",
            "video 1/1 (1568/2628) /content/gdrive/MyDrive/data_sets/Dataset_2/Animal_TestVideo.mp4: 384x640 2 Camels, 25.2ms\n",
            "video 1/1 (1569/2628) /content/gdrive/MyDrive/data_sets/Dataset_2/Animal_TestVideo.mp4: 384x640 2 Camels, 25.2ms\n",
            "video 1/1 (1570/2628) /content/gdrive/MyDrive/data_sets/Dataset_2/Animal_TestVideo.mp4: 384x640 2 Camels, 25.2ms\n",
            "video 1/1 (1571/2628) /content/gdrive/MyDrive/data_sets/Dataset_2/Animal_TestVideo.mp4: 384x640 2 Camels, 25.2ms\n",
            "video 1/1 (1572/2628) /content/gdrive/MyDrive/data_sets/Dataset_2/Animal_TestVideo.mp4: 384x640 2 Camels, 26.8ms\n",
            "video 1/1 (1573/2628) /content/gdrive/MyDrive/data_sets/Dataset_2/Animal_TestVideo.mp4: 384x640 2 Camels, 27.8ms\n",
            "video 1/1 (1574/2628) /content/gdrive/MyDrive/data_sets/Dataset_2/Animal_TestVideo.mp4: 384x640 3 Camels, 25.3ms\n",
            "video 1/1 (1575/2628) /content/gdrive/MyDrive/data_sets/Dataset_2/Animal_TestVideo.mp4: 384x640 3 Camels, 25.3ms\n",
            "video 1/1 (1576/2628) /content/gdrive/MyDrive/data_sets/Dataset_2/Animal_TestVideo.mp4: 384x640 2 Camels, 26.7ms\n",
            "video 1/1 (1577/2628) /content/gdrive/MyDrive/data_sets/Dataset_2/Animal_TestVideo.mp4: 384x640 2 Camels, 25.2ms\n",
            "video 1/1 (1578/2628) /content/gdrive/MyDrive/data_sets/Dataset_2/Animal_TestVideo.mp4: 384x640 2 Camels, 25.2ms\n",
            "video 1/1 (1579/2628) /content/gdrive/MyDrive/data_sets/Dataset_2/Animal_TestVideo.mp4: 384x640 2 Camels, 25.3ms\n",
            "video 1/1 (1580/2628) /content/gdrive/MyDrive/data_sets/Dataset_2/Animal_TestVideo.mp4: 384x640 2 Camels, 25.2ms\n",
            "video 1/1 (1581/2628) /content/gdrive/MyDrive/data_sets/Dataset_2/Animal_TestVideo.mp4: 384x640 2 Camels, 25.2ms\n",
            "video 1/1 (1582/2628) /content/gdrive/MyDrive/data_sets/Dataset_2/Animal_TestVideo.mp4: 384x640 2 Camels, 25.3ms\n",
            "video 1/1 (1583/2628) /content/gdrive/MyDrive/data_sets/Dataset_2/Animal_TestVideo.mp4: 384x640 2 Camels, 25.2ms\n",
            "video 1/1 (1584/2628) /content/gdrive/MyDrive/data_sets/Dataset_2/Animal_TestVideo.mp4: 384x640 2 Camels, 25.3ms\n",
            "video 1/1 (1585/2628) /content/gdrive/MyDrive/data_sets/Dataset_2/Animal_TestVideo.mp4: 384x640 2 Camels, 25.2ms\n",
            "video 1/1 (1586/2628) /content/gdrive/MyDrive/data_sets/Dataset_2/Animal_TestVideo.mp4: 384x640 2 Camels, 25.2ms\n",
            "video 1/1 (1587/2628) /content/gdrive/MyDrive/data_sets/Dataset_2/Animal_TestVideo.mp4: 384x640 2 Camels, 25.3ms\n",
            "video 1/1 (1588/2628) /content/gdrive/MyDrive/data_sets/Dataset_2/Animal_TestVideo.mp4: 384x640 2 Camels, 25.2ms\n",
            "video 1/1 (1589/2628) /content/gdrive/MyDrive/data_sets/Dataset_2/Animal_TestVideo.mp4: 384x640 2 Camels, 25.2ms\n",
            "video 1/1 (1590/2628) /content/gdrive/MyDrive/data_sets/Dataset_2/Animal_TestVideo.mp4: 384x640 2 Camels, 25.2ms\n",
            "video 1/1 (1591/2628) /content/gdrive/MyDrive/data_sets/Dataset_2/Animal_TestVideo.mp4: 384x640 2 Camels, 25.2ms\n",
            "video 1/1 (1592/2628) /content/gdrive/MyDrive/data_sets/Dataset_2/Animal_TestVideo.mp4: 384x640 2 Camels, 26.5ms\n",
            "video 1/1 (1593/2628) /content/gdrive/MyDrive/data_sets/Dataset_2/Animal_TestVideo.mp4: 384x640 2 Camels, 26.1ms\n",
            "video 1/1 (1594/2628) /content/gdrive/MyDrive/data_sets/Dataset_2/Animal_TestVideo.mp4: 384x640 2 Camels, 27.2ms\n",
            "video 1/1 (1595/2628) /content/gdrive/MyDrive/data_sets/Dataset_2/Animal_TestVideo.mp4: 384x640 2 Camels, 25.9ms\n",
            "video 1/1 (1596/2628) /content/gdrive/MyDrive/data_sets/Dataset_2/Animal_TestVideo.mp4: 384x640 2 Camels, 25.2ms\n",
            "video 1/1 (1597/2628) /content/gdrive/MyDrive/data_sets/Dataset_2/Animal_TestVideo.mp4: 384x640 2 Camels, 25.2ms\n",
            "video 1/1 (1598/2628) /content/gdrive/MyDrive/data_sets/Dataset_2/Animal_TestVideo.mp4: 384x640 2 Camels, 25.2ms\n",
            "video 1/1 (1599/2628) /content/gdrive/MyDrive/data_sets/Dataset_2/Animal_TestVideo.mp4: 384x640 2 Camels, 25.2ms\n",
            "video 1/1 (1600/2628) /content/gdrive/MyDrive/data_sets/Dataset_2/Animal_TestVideo.mp4: 384x640 2 Camels, 25.3ms\n",
            "video 1/1 (1601/2628) /content/gdrive/MyDrive/data_sets/Dataset_2/Animal_TestVideo.mp4: 384x640 2 Camels, 25.2ms\n",
            "video 1/1 (1602/2628) /content/gdrive/MyDrive/data_sets/Dataset_2/Animal_TestVideo.mp4: 384x640 2 Camels, 25.3ms\n",
            "video 1/1 (1603/2628) /content/gdrive/MyDrive/data_sets/Dataset_2/Animal_TestVideo.mp4: 384x640 2 Camels, 25.2ms\n",
            "video 1/1 (1604/2628) /content/gdrive/MyDrive/data_sets/Dataset_2/Animal_TestVideo.mp4: 384x640 2 Camels, 26.1ms\n",
            "video 1/1 (1605/2628) /content/gdrive/MyDrive/data_sets/Dataset_2/Animal_TestVideo.mp4: 384x640 2 Camels, 25.2ms\n",
            "video 1/1 (1606/2628) /content/gdrive/MyDrive/data_sets/Dataset_2/Animal_TestVideo.mp4: 384x640 2 Camels, 25.3ms\n",
            "video 1/1 (1607/2628) /content/gdrive/MyDrive/data_sets/Dataset_2/Animal_TestVideo.mp4: 384x640 2 Camels, 25.4ms\n",
            "video 1/1 (1608/2628) /content/gdrive/MyDrive/data_sets/Dataset_2/Animal_TestVideo.mp4: 384x640 2 Camels, 25.2ms\n",
            "video 1/1 (1609/2628) /content/gdrive/MyDrive/data_sets/Dataset_2/Animal_TestVideo.mp4: 384x640 2 Camels, 25.8ms\n",
            "video 1/1 (1610/2628) /content/gdrive/MyDrive/data_sets/Dataset_2/Animal_TestVideo.mp4: 384x640 1 Camel, 26.8ms\n",
            "video 1/1 (1611/2628) /content/gdrive/MyDrive/data_sets/Dataset_2/Animal_TestVideo.mp4: 384x640 1 Camel, 25.2ms\n",
            "video 1/1 (1612/2628) /content/gdrive/MyDrive/data_sets/Dataset_2/Animal_TestVideo.mp4: 384x640 1 Camel, 25.1ms\n",
            "video 1/1 (1613/2628) /content/gdrive/MyDrive/data_sets/Dataset_2/Animal_TestVideo.mp4: 384x640 1 Camel, 25.1ms\n",
            "video 1/1 (1614/2628) /content/gdrive/MyDrive/data_sets/Dataset_2/Animal_TestVideo.mp4: 384x640 2 Camels, 25.2ms\n",
            "video 1/1 (1615/2628) /content/gdrive/MyDrive/data_sets/Dataset_2/Animal_TestVideo.mp4: 384x640 2 Camels, 24.6ms\n",
            "video 1/1 (1616/2628) /content/gdrive/MyDrive/data_sets/Dataset_2/Animal_TestVideo.mp4: 384x640 1 Camel, 24.7ms\n",
            "video 1/1 (1617/2628) /content/gdrive/MyDrive/data_sets/Dataset_2/Animal_TestVideo.mp4: 384x640 1 Camel, 24.7ms\n",
            "video 1/1 (1618/2628) /content/gdrive/MyDrive/data_sets/Dataset_2/Animal_TestVideo.mp4: 384x640 1 Camel, 24.6ms\n",
            "video 1/1 (1619/2628) /content/gdrive/MyDrive/data_sets/Dataset_2/Animal_TestVideo.mp4: 384x640 1 Camel, 24.6ms\n",
            "video 1/1 (1620/2628) /content/gdrive/MyDrive/data_sets/Dataset_2/Animal_TestVideo.mp4: 384x640 1 Camel, 24.6ms\n",
            "video 1/1 (1621/2628) /content/gdrive/MyDrive/data_sets/Dataset_2/Animal_TestVideo.mp4: 384x640 1 Camel, 24.6ms\n",
            "video 1/1 (1622/2628) /content/gdrive/MyDrive/data_sets/Dataset_2/Animal_TestVideo.mp4: 384x640 2 Camels, 24.6ms\n",
            "video 1/1 (1623/2628) /content/gdrive/MyDrive/data_sets/Dataset_2/Animal_TestVideo.mp4: 384x640 1 Camel, 24.6ms\n",
            "video 1/1 (1624/2628) /content/gdrive/MyDrive/data_sets/Dataset_2/Animal_TestVideo.mp4: 384x640 1 Camel, 24.8ms\n",
            "video 1/1 (1625/2628) /content/gdrive/MyDrive/data_sets/Dataset_2/Animal_TestVideo.mp4: 384x640 1 Camel, 24.6ms\n",
            "video 1/1 (1626/2628) /content/gdrive/MyDrive/data_sets/Dataset_2/Animal_TestVideo.mp4: 384x640 1 Camel, 24.6ms\n",
            "video 1/1 (1627/2628) /content/gdrive/MyDrive/data_sets/Dataset_2/Animal_TestVideo.mp4: 384x640 1 Camel, 24.6ms\n",
            "video 1/1 (1628/2628) /content/gdrive/MyDrive/data_sets/Dataset_2/Animal_TestVideo.mp4: 384x640 1 Camel, 24.6ms\n",
            "video 1/1 (1629/2628) /content/gdrive/MyDrive/data_sets/Dataset_2/Animal_TestVideo.mp4: 384x640 1 Camel, 24.8ms\n",
            "video 1/1 (1630/2628) /content/gdrive/MyDrive/data_sets/Dataset_2/Animal_TestVideo.mp4: 384x640 1 Camel, 24.6ms\n",
            "video 1/1 (1631/2628) /content/gdrive/MyDrive/data_sets/Dataset_2/Animal_TestVideo.mp4: 384x640 1 Camel, 24.6ms\n",
            "video 1/1 (1632/2628) /content/gdrive/MyDrive/data_sets/Dataset_2/Animal_TestVideo.mp4: 384x640 1 Camel, 24.6ms\n",
            "video 1/1 (1633/2628) /content/gdrive/MyDrive/data_sets/Dataset_2/Animal_TestVideo.mp4: 384x640 1 Camel, 24.1ms\n",
            "video 1/1 (1634/2628) /content/gdrive/MyDrive/data_sets/Dataset_2/Animal_TestVideo.mp4: 384x640 1 Camel, 23.1ms\n",
            "video 1/1 (1635/2628) /content/gdrive/MyDrive/data_sets/Dataset_2/Animal_TestVideo.mp4: 384x640 1 Camel, 23.1ms\n",
            "video 1/1 (1636/2628) /content/gdrive/MyDrive/data_sets/Dataset_2/Animal_TestVideo.mp4: 384x640 1 Camel, 23.2ms\n",
            "video 1/1 (1637/2628) /content/gdrive/MyDrive/data_sets/Dataset_2/Animal_TestVideo.mp4: 384x640 1 Camel, 22.7ms\n",
            "video 1/1 (1638/2628) /content/gdrive/MyDrive/data_sets/Dataset_2/Animal_TestVideo.mp4: 384x640 1 Camel, 22.6ms\n",
            "video 1/1 (1639/2628) /content/gdrive/MyDrive/data_sets/Dataset_2/Animal_TestVideo.mp4: 384x640 1 Camel, 22.7ms\n",
            "video 1/1 (1640/2628) /content/gdrive/MyDrive/data_sets/Dataset_2/Animal_TestVideo.mp4: 384x640 1 Camel, 22.7ms\n",
            "video 1/1 (1641/2628) /content/gdrive/MyDrive/data_sets/Dataset_2/Animal_TestVideo.mp4: 384x640 1 Camel, 22.7ms\n",
            "video 1/1 (1642/2628) /content/gdrive/MyDrive/data_sets/Dataset_2/Animal_TestVideo.mp4: 384x640 1 Camel, 22.6ms\n",
            "video 1/1 (1643/2628) /content/gdrive/MyDrive/data_sets/Dataset_2/Animal_TestVideo.mp4: 384x640 1 Camel, 22.6ms\n",
            "video 1/1 (1644/2628) /content/gdrive/MyDrive/data_sets/Dataset_2/Animal_TestVideo.mp4: 384x640 1 Camel, 22.6ms\n",
            "video 1/1 (1645/2628) /content/gdrive/MyDrive/data_sets/Dataset_2/Animal_TestVideo.mp4: 384x640 1 Camel, 22.9ms\n",
            "video 1/1 (1646/2628) /content/gdrive/MyDrive/data_sets/Dataset_2/Animal_TestVideo.mp4: 384x640 1 Camel, 25.0ms\n",
            "video 1/1 (1647/2628) /content/gdrive/MyDrive/data_sets/Dataset_2/Animal_TestVideo.mp4: 384x640 1 Camel, 22.6ms\n",
            "video 1/1 (1648/2628) /content/gdrive/MyDrive/data_sets/Dataset_2/Animal_TestVideo.mp4: 384x640 1 Camel, 22.6ms\n",
            "video 1/1 (1649/2628) /content/gdrive/MyDrive/data_sets/Dataset_2/Animal_TestVideo.mp4: 384x640 1 Camel, 22.7ms\n",
            "video 1/1 (1650/2628) /content/gdrive/MyDrive/data_sets/Dataset_2/Animal_TestVideo.mp4: 384x640 1 Camel, 22.6ms\n",
            "video 1/1 (1651/2628) /content/gdrive/MyDrive/data_sets/Dataset_2/Animal_TestVideo.mp4: 384x640 1 Camel, 22.6ms\n",
            "video 1/1 (1652/2628) /content/gdrive/MyDrive/data_sets/Dataset_2/Animal_TestVideo.mp4: 384x640 1 Camel, 22.6ms\n",
            "video 1/1 (1653/2628) /content/gdrive/MyDrive/data_sets/Dataset_2/Animal_TestVideo.mp4: 384x640 1 Camel, 21.6ms\n",
            "video 1/1 (1654/2628) /content/gdrive/MyDrive/data_sets/Dataset_2/Animal_TestVideo.mp4: 384x640 1 Camel, 21.4ms\n",
            "video 1/1 (1655/2628) /content/gdrive/MyDrive/data_sets/Dataset_2/Animal_TestVideo.mp4: 384x640 1 Camel, 21.5ms\n",
            "video 1/1 (1656/2628) /content/gdrive/MyDrive/data_sets/Dataset_2/Animal_TestVideo.mp4: 384x640 1 Camel, 21.4ms\n",
            "video 1/1 (1657/2628) /content/gdrive/MyDrive/data_sets/Dataset_2/Animal_TestVideo.mp4: 384x640 1 Camel, 21.5ms\n",
            "video 1/1 (1658/2628) /content/gdrive/MyDrive/data_sets/Dataset_2/Animal_TestVideo.mp4: 384x640 1 Camel, 21.8ms\n",
            "video 1/1 (1659/2628) /content/gdrive/MyDrive/data_sets/Dataset_2/Animal_TestVideo.mp4: 384x640 1 Camel, 21.4ms\n",
            "video 1/1 (1660/2628) /content/gdrive/MyDrive/data_sets/Dataset_2/Animal_TestVideo.mp4: 384x640 1 Camel, 21.4ms\n",
            "video 1/1 (1661/2628) /content/gdrive/MyDrive/data_sets/Dataset_2/Animal_TestVideo.mp4: 384x640 1 Camel, 21.4ms\n",
            "video 1/1 (1662/2628) /content/gdrive/MyDrive/data_sets/Dataset_2/Animal_TestVideo.mp4: 384x640 1 Camel, 21.4ms\n",
            "video 1/1 (1663/2628) /content/gdrive/MyDrive/data_sets/Dataset_2/Animal_TestVideo.mp4: 384x640 1 Camel, 22.1ms\n",
            "video 1/1 (1664/2628) /content/gdrive/MyDrive/data_sets/Dataset_2/Animal_TestVideo.mp4: 384x640 1 Camel, 21.6ms\n",
            "video 1/1 (1665/2628) /content/gdrive/MyDrive/data_sets/Dataset_2/Animal_TestVideo.mp4: 384x640 1 Camel, 21.5ms\n",
            "video 1/1 (1666/2628) /content/gdrive/MyDrive/data_sets/Dataset_2/Animal_TestVideo.mp4: 384x640 1 Camel, 21.4ms\n",
            "video 1/1 (1667/2628) /content/gdrive/MyDrive/data_sets/Dataset_2/Animal_TestVideo.mp4: 384x640 1 Camel, 21.0ms\n",
            "video 1/1 (1668/2628) /content/gdrive/MyDrive/data_sets/Dataset_2/Animal_TestVideo.mp4: 384x640 1 Camel, 21.1ms\n",
            "video 1/1 (1669/2628) /content/gdrive/MyDrive/data_sets/Dataset_2/Animal_TestVideo.mp4: 384x640 1 Camel, 21.0ms\n",
            "video 1/1 (1670/2628) /content/gdrive/MyDrive/data_sets/Dataset_2/Animal_TestVideo.mp4: 384x640 1 Camel, 21.0ms\n",
            "video 1/1 (1671/2628) /content/gdrive/MyDrive/data_sets/Dataset_2/Animal_TestVideo.mp4: 384x640 1 Camel, 21.0ms\n",
            "video 1/1 (1672/2628) /content/gdrive/MyDrive/data_sets/Dataset_2/Animal_TestVideo.mp4: 384x640 1 Camel, 21.5ms\n",
            "video 1/1 (1673/2628) /content/gdrive/MyDrive/data_sets/Dataset_2/Animal_TestVideo.mp4: 384x640 1 Camel, 21.4ms\n",
            "video 1/1 (1674/2628) /content/gdrive/MyDrive/data_sets/Dataset_2/Animal_TestVideo.mp4: 384x640 1 Camel, 21.2ms\n",
            "video 1/1 (1675/2628) /content/gdrive/MyDrive/data_sets/Dataset_2/Animal_TestVideo.mp4: 384x640 1 Camel, 21.1ms\n",
            "video 1/1 (1676/2628) /content/gdrive/MyDrive/data_sets/Dataset_2/Animal_TestVideo.mp4: 384x640 1 Camel, 20.7ms\n",
            "video 1/1 (1677/2628) /content/gdrive/MyDrive/data_sets/Dataset_2/Animal_TestVideo.mp4: 384x640 1 Camel, 20.7ms\n",
            "video 1/1 (1678/2628) /content/gdrive/MyDrive/data_sets/Dataset_2/Animal_TestVideo.mp4: 384x640 1 Camel, 20.8ms\n",
            "video 1/1 (1679/2628) /content/gdrive/MyDrive/data_sets/Dataset_2/Animal_TestVideo.mp4: 384x640 1 Camel, 20.8ms\n",
            "video 1/1 (1680/2628) /content/gdrive/MyDrive/data_sets/Dataset_2/Animal_TestVideo.mp4: 384x640 1 Camel, 20.7ms\n",
            "video 1/1 (1681/2628) /content/gdrive/MyDrive/data_sets/Dataset_2/Animal_TestVideo.mp4: 384x640 1 Camel, 20.7ms\n",
            "video 1/1 (1682/2628) /content/gdrive/MyDrive/data_sets/Dataset_2/Animal_TestVideo.mp4: 384x640 1 Camel, 20.6ms\n",
            "video 1/1 (1683/2628) /content/gdrive/MyDrive/data_sets/Dataset_2/Animal_TestVideo.mp4: 384x640 1 Camel, 20.0ms\n",
            "video 1/1 (1684/2628) /content/gdrive/MyDrive/data_sets/Dataset_2/Animal_TestVideo.mp4: 384x640 1 Camel, 19.9ms\n",
            "video 1/1 (1685/2628) /content/gdrive/MyDrive/data_sets/Dataset_2/Animal_TestVideo.mp4: 384x640 1 Camel, 20.0ms\n",
            "video 1/1 (1686/2628) /content/gdrive/MyDrive/data_sets/Dataset_2/Animal_TestVideo.mp4: 384x640 1 Camel, 20.1ms\n",
            "video 1/1 (1687/2628) /content/gdrive/MyDrive/data_sets/Dataset_2/Animal_TestVideo.mp4: 384x640 1 Camel, 20.0ms\n",
            "video 1/1 (1688/2628) /content/gdrive/MyDrive/data_sets/Dataset_2/Animal_TestVideo.mp4: 384x640 1 Camel, 20.2ms\n",
            "video 1/1 (1689/2628) /content/gdrive/MyDrive/data_sets/Dataset_2/Animal_TestVideo.mp4: 384x640 1 Camel, 20.0ms\n",
            "video 1/1 (1690/2628) /content/gdrive/MyDrive/data_sets/Dataset_2/Animal_TestVideo.mp4: 384x640 1 Camel, 20.2ms\n",
            "video 1/1 (1691/2628) /content/gdrive/MyDrive/data_sets/Dataset_2/Animal_TestVideo.mp4: 384x640 1 Camel, 20.0ms\n",
            "video 1/1 (1692/2628) /content/gdrive/MyDrive/data_sets/Dataset_2/Animal_TestVideo.mp4: 384x640 1 Camel, 20.2ms\n",
            "video 1/1 (1693/2628) /content/gdrive/MyDrive/data_sets/Dataset_2/Animal_TestVideo.mp4: 384x640 1 Camel, 20.0ms\n",
            "video 1/1 (1694/2628) /content/gdrive/MyDrive/data_sets/Dataset_2/Animal_TestVideo.mp4: 384x640 1 Camel, 19.9ms\n",
            "video 1/1 (1695/2628) /content/gdrive/MyDrive/data_sets/Dataset_2/Animal_TestVideo.mp4: 384x640 1 Camel, 20.0ms\n",
            "video 1/1 (1696/2628) /content/gdrive/MyDrive/data_sets/Dataset_2/Animal_TestVideo.mp4: 384x640 1 Camel, 20.0ms\n",
            "video 1/1 (1697/2628) /content/gdrive/MyDrive/data_sets/Dataset_2/Animal_TestVideo.mp4: 384x640 1 Camel, 20.4ms\n",
            "video 1/1 (1698/2628) /content/gdrive/MyDrive/data_sets/Dataset_2/Animal_TestVideo.mp4: 384x640 2 Camels, 20.2ms\n",
            "video 1/1 (1699/2628) /content/gdrive/MyDrive/data_sets/Dataset_2/Animal_TestVideo.mp4: 384x640 2 Camels, 20.9ms\n",
            "video 1/1 (1700/2628) /content/gdrive/MyDrive/data_sets/Dataset_2/Animal_TestVideo.mp4: 384x640 1 Camel, 20.0ms\n",
            "video 1/1 (1701/2628) /content/gdrive/MyDrive/data_sets/Dataset_2/Animal_TestVideo.mp4: 384x640 1 Camel, 20.0ms\n",
            "video 1/1 (1702/2628) /content/gdrive/MyDrive/data_sets/Dataset_2/Animal_TestVideo.mp4: 384x640 1 Camel, 20.9ms\n",
            "video 1/1 (1703/2628) /content/gdrive/MyDrive/data_sets/Dataset_2/Animal_TestVideo.mp4: 384x640 1 Camel, 20.1ms\n",
            "video 1/1 (1704/2628) /content/gdrive/MyDrive/data_sets/Dataset_2/Animal_TestVideo.mp4: 384x640 1 Camel, 20.2ms\n",
            "video 1/1 (1705/2628) /content/gdrive/MyDrive/data_sets/Dataset_2/Animal_TestVideo.mp4: 384x640 1 Camel, 20.0ms\n",
            "video 1/1 (1706/2628) /content/gdrive/MyDrive/data_sets/Dataset_2/Animal_TestVideo.mp4: 384x640 1 Camel, 19.9ms\n",
            "video 1/1 (1707/2628) /content/gdrive/MyDrive/data_sets/Dataset_2/Animal_TestVideo.mp4: 384x640 1 Camel, 20.0ms\n",
            "video 1/1 (1708/2628) /content/gdrive/MyDrive/data_sets/Dataset_2/Animal_TestVideo.mp4: 384x640 1 Camel, 20.0ms\n",
            "video 1/1 (1709/2628) /content/gdrive/MyDrive/data_sets/Dataset_2/Animal_TestVideo.mp4: 384x640 1 Camel, 20.1ms\n",
            "video 1/1 (1710/2628) /content/gdrive/MyDrive/data_sets/Dataset_2/Animal_TestVideo.mp4: 384x640 (no detections), 22.8ms\n",
            "video 1/1 (1711/2628) /content/gdrive/MyDrive/data_sets/Dataset_2/Animal_TestVideo.mp4: 384x640 (no detections), 20.0ms\n",
            "video 1/1 (1712/2628) /content/gdrive/MyDrive/data_sets/Dataset_2/Animal_TestVideo.mp4: 384x640 (no detections), 20.0ms\n",
            "video 1/1 (1713/2628) /content/gdrive/MyDrive/data_sets/Dataset_2/Animal_TestVideo.mp4: 384x640 3 Tigers, 21.0ms\n",
            "video 1/1 (1714/2628) /content/gdrive/MyDrive/data_sets/Dataset_2/Animal_TestVideo.mp4: 384x640 3 Tigers, 21.0ms\n",
            "video 1/1 (1715/2628) /content/gdrive/MyDrive/data_sets/Dataset_2/Animal_TestVideo.mp4: 384x640 2 Tigers, 21.4ms\n",
            "video 1/1 (1716/2628) /content/gdrive/MyDrive/data_sets/Dataset_2/Animal_TestVideo.mp4: 384x640 1 Tiger, 21.5ms\n",
            "video 1/1 (1717/2628) /content/gdrive/MyDrive/data_sets/Dataset_2/Animal_TestVideo.mp4: 384x640 1 Tiger, 21.4ms\n",
            "video 1/1 (1718/2628) /content/gdrive/MyDrive/data_sets/Dataset_2/Animal_TestVideo.mp4: 384x640 1 Tiger, 21.4ms\n",
            "video 1/1 (1719/2628) /content/gdrive/MyDrive/data_sets/Dataset_2/Animal_TestVideo.mp4: 384x640 1 Tiger, 21.7ms\n",
            "video 1/1 (1720/2628) /content/gdrive/MyDrive/data_sets/Dataset_2/Animal_TestVideo.mp4: 384x640 1 Tiger, 21.8ms\n",
            "video 1/1 (1721/2628) /content/gdrive/MyDrive/data_sets/Dataset_2/Animal_TestVideo.mp4: 384x640 1 Tiger, 21.8ms\n",
            "video 1/1 (1722/2628) /content/gdrive/MyDrive/data_sets/Dataset_2/Animal_TestVideo.mp4: 384x640 1 Tiger, 22.2ms\n",
            "video 1/1 (1723/2628) /content/gdrive/MyDrive/data_sets/Dataset_2/Animal_TestVideo.mp4: 384x640 1 Tiger, 22.2ms\n",
            "video 1/1 (1724/2628) /content/gdrive/MyDrive/data_sets/Dataset_2/Animal_TestVideo.mp4: 384x640 1 Tiger, 22.6ms\n",
            "video 1/1 (1725/2628) /content/gdrive/MyDrive/data_sets/Dataset_2/Animal_TestVideo.mp4: 384x640 1 Tiger, 22.2ms\n",
            "video 1/1 (1726/2628) /content/gdrive/MyDrive/data_sets/Dataset_2/Animal_TestVideo.mp4: 384x640 1 Tiger, 22.4ms\n",
            "video 1/1 (1727/2628) /content/gdrive/MyDrive/data_sets/Dataset_2/Animal_TestVideo.mp4: 384x640 1 Tiger, 22.3ms\n",
            "video 1/1 (1728/2628) /content/gdrive/MyDrive/data_sets/Dataset_2/Animal_TestVideo.mp4: 384x640 1 Tiger, 22.2ms\n",
            "video 1/1 (1729/2628) /content/gdrive/MyDrive/data_sets/Dataset_2/Animal_TestVideo.mp4: 384x640 1 Tiger, 22.2ms\n",
            "video 1/1 (1730/2628) /content/gdrive/MyDrive/data_sets/Dataset_2/Animal_TestVideo.mp4: 384x640 1 Tiger, 22.3ms\n",
            "video 1/1 (1731/2628) /content/gdrive/MyDrive/data_sets/Dataset_2/Animal_TestVideo.mp4: 384x640 1 Tiger, 27.4ms\n",
            "video 1/1 (1732/2628) /content/gdrive/MyDrive/data_sets/Dataset_2/Animal_TestVideo.mp4: 384x640 1 Tiger, 22.1ms\n",
            "video 1/1 (1733/2628) /content/gdrive/MyDrive/data_sets/Dataset_2/Animal_TestVideo.mp4: 384x640 1 Tiger, 22.2ms\n",
            "video 1/1 (1734/2628) /content/gdrive/MyDrive/data_sets/Dataset_2/Animal_TestVideo.mp4: 384x640 1 Tiger, 22.2ms\n",
            "video 1/1 (1735/2628) /content/gdrive/MyDrive/data_sets/Dataset_2/Animal_TestVideo.mp4: 384x640 1 Tiger, 22.7ms\n",
            "video 1/1 (1736/2628) /content/gdrive/MyDrive/data_sets/Dataset_2/Animal_TestVideo.mp4: 384x640 1 Tiger, 22.6ms\n",
            "video 1/1 (1737/2628) /content/gdrive/MyDrive/data_sets/Dataset_2/Animal_TestVideo.mp4: 384x640 1 Tiger, 22.7ms\n",
            "video 1/1 (1738/2628) /content/gdrive/MyDrive/data_sets/Dataset_2/Animal_TestVideo.mp4: 384x640 1 Tiger, 22.7ms\n",
            "video 1/1 (1739/2628) /content/gdrive/MyDrive/data_sets/Dataset_2/Animal_TestVideo.mp4: 384x640 1 Tiger, 22.7ms\n",
            "video 1/1 (1740/2628) /content/gdrive/MyDrive/data_sets/Dataset_2/Animal_TestVideo.mp4: 384x640 1 Tiger, 25.7ms\n",
            "video 1/1 (1741/2628) /content/gdrive/MyDrive/data_sets/Dataset_2/Animal_TestVideo.mp4: 384x640 1 Tiger, 23.1ms\n",
            "video 1/1 (1742/2628) /content/gdrive/MyDrive/data_sets/Dataset_2/Animal_TestVideo.mp4: 384x640 1 Tiger, 23.1ms\n",
            "video 1/1 (1743/2628) /content/gdrive/MyDrive/data_sets/Dataset_2/Animal_TestVideo.mp4: 384x640 1 Tiger, 27.6ms\n",
            "video 1/1 (1744/2628) /content/gdrive/MyDrive/data_sets/Dataset_2/Animal_TestVideo.mp4: 384x640 1 Tiger, 23.5ms\n",
            "video 1/1 (1745/2628) /content/gdrive/MyDrive/data_sets/Dataset_2/Animal_TestVideo.mp4: 384x640 1 Tiger, 23.1ms\n",
            "video 1/1 (1746/2628) /content/gdrive/MyDrive/data_sets/Dataset_2/Animal_TestVideo.mp4: 384x640 1 Tiger, 23.1ms\n",
            "video 1/1 (1747/2628) /content/gdrive/MyDrive/data_sets/Dataset_2/Animal_TestVideo.mp4: 384x640 1 Tiger, 23.6ms\n",
            "video 1/1 (1748/2628) /content/gdrive/MyDrive/data_sets/Dataset_2/Animal_TestVideo.mp4: 384x640 1 Tiger, 23.6ms\n",
            "video 1/1 (1749/2628) /content/gdrive/MyDrive/data_sets/Dataset_2/Animal_TestVideo.mp4: 384x640 1 Tiger, 23.5ms\n",
            "video 1/1 (1750/2628) /content/gdrive/MyDrive/data_sets/Dataset_2/Animal_TestVideo.mp4: 384x640 1 Tiger, 23.6ms\n",
            "video 1/1 (1751/2628) /content/gdrive/MyDrive/data_sets/Dataset_2/Animal_TestVideo.mp4: 384x640 1 Tiger, 23.5ms\n",
            "video 1/1 (1752/2628) /content/gdrive/MyDrive/data_sets/Dataset_2/Animal_TestVideo.mp4: 384x640 1 Tiger, 23.7ms\n",
            "video 1/1 (1753/2628) /content/gdrive/MyDrive/data_sets/Dataset_2/Animal_TestVideo.mp4: 384x640 1 Tiger, 24.2ms\n",
            "video 1/1 (1754/2628) /content/gdrive/MyDrive/data_sets/Dataset_2/Animal_TestVideo.mp4: 384x640 1 Tiger, 24.2ms\n",
            "video 1/1 (1755/2628) /content/gdrive/MyDrive/data_sets/Dataset_2/Animal_TestVideo.mp4: 384x640 1 Tiger, 24.1ms\n",
            "video 1/1 (1756/2628) /content/gdrive/MyDrive/data_sets/Dataset_2/Animal_TestVideo.mp4: 384x640 1 Tiger, 24.1ms\n",
            "video 1/1 (1757/2628) /content/gdrive/MyDrive/data_sets/Dataset_2/Animal_TestVideo.mp4: 384x640 1 Tiger, 24.1ms\n",
            "video 1/1 (1758/2628) /content/gdrive/MyDrive/data_sets/Dataset_2/Animal_TestVideo.mp4: 384x640 1 Tiger, 24.5ms\n",
            "video 1/1 (1759/2628) /content/gdrive/MyDrive/data_sets/Dataset_2/Animal_TestVideo.mp4: 384x640 1 Tiger, 24.6ms\n",
            "video 1/1 (1760/2628) /content/gdrive/MyDrive/data_sets/Dataset_2/Animal_TestVideo.mp4: 384x640 1 Tiger, 26.4ms\n",
            "video 1/1 (1761/2628) /content/gdrive/MyDrive/data_sets/Dataset_2/Animal_TestVideo.mp4: 384x640 1 Tiger, 24.5ms\n",
            "video 1/1 (1762/2628) /content/gdrive/MyDrive/data_sets/Dataset_2/Animal_TestVideo.mp4: 384x640 1 Tiger, 24.7ms\n",
            "video 1/1 (1763/2628) /content/gdrive/MyDrive/data_sets/Dataset_2/Animal_TestVideo.mp4: 384x640 1 Tiger, 24.7ms\n",
            "video 1/1 (1764/2628) /content/gdrive/MyDrive/data_sets/Dataset_2/Animal_TestVideo.mp4: 384x640 1 Tiger, 24.6ms\n",
            "video 1/1 (1765/2628) /content/gdrive/MyDrive/data_sets/Dataset_2/Animal_TestVideo.mp4: 384x640 1 Tiger, 24.6ms\n",
            "video 1/1 (1766/2628) /content/gdrive/MyDrive/data_sets/Dataset_2/Animal_TestVideo.mp4: 384x640 1 Tiger, 24.9ms\n",
            "video 1/1 (1767/2628) /content/gdrive/MyDrive/data_sets/Dataset_2/Animal_TestVideo.mp4: 384x640 1 Tiger, 25.2ms\n",
            "video 1/1 (1768/2628) /content/gdrive/MyDrive/data_sets/Dataset_2/Animal_TestVideo.mp4: 384x640 1 Tiger, 25.2ms\n",
            "video 1/1 (1769/2628) /content/gdrive/MyDrive/data_sets/Dataset_2/Animal_TestVideo.mp4: 384x640 1 Tiger, 25.4ms\n",
            "video 1/1 (1770/2628) /content/gdrive/MyDrive/data_sets/Dataset_2/Animal_TestVideo.mp4: 384x640 1 Tiger, 25.5ms\n",
            "video 1/1 (1771/2628) /content/gdrive/MyDrive/data_sets/Dataset_2/Animal_TestVideo.mp4: 384x640 1 Tiger, 25.2ms\n",
            "video 1/1 (1772/2628) /content/gdrive/MyDrive/data_sets/Dataset_2/Animal_TestVideo.mp4: 384x640 1 Tiger, 25.2ms\n",
            "video 1/1 (1773/2628) /content/gdrive/MyDrive/data_sets/Dataset_2/Animal_TestVideo.mp4: 384x640 1 Tiger, 25.3ms\n",
            "video 1/1 (1774/2628) /content/gdrive/MyDrive/data_sets/Dataset_2/Animal_TestVideo.mp4: 384x640 1 Tiger, 25.2ms\n",
            "video 1/1 (1775/2628) /content/gdrive/MyDrive/data_sets/Dataset_2/Animal_TestVideo.mp4: 384x640 1 Tiger, 25.3ms\n",
            "video 1/1 (1776/2628) /content/gdrive/MyDrive/data_sets/Dataset_2/Animal_TestVideo.mp4: 384x640 1 Tiger, 25.2ms\n",
            "video 1/1 (1777/2628) /content/gdrive/MyDrive/data_sets/Dataset_2/Animal_TestVideo.mp4: 384x640 1 Tiger, 25.2ms\n",
            "video 1/1 (1778/2628) /content/gdrive/MyDrive/data_sets/Dataset_2/Animal_TestVideo.mp4: 384x640 1 Tiger, 25.2ms\n",
            "video 1/1 (1779/2628) /content/gdrive/MyDrive/data_sets/Dataset_2/Animal_TestVideo.mp4: 384x640 1 Tiger, 30.8ms\n",
            "video 1/1 (1780/2628) /content/gdrive/MyDrive/data_sets/Dataset_2/Animal_TestVideo.mp4: 384x640 1 Tiger, 25.2ms\n",
            "video 1/1 (1781/2628) /content/gdrive/MyDrive/data_sets/Dataset_2/Animal_TestVideo.mp4: 384x640 1 Tiger, 25.2ms\n",
            "video 1/1 (1782/2628) /content/gdrive/MyDrive/data_sets/Dataset_2/Animal_TestVideo.mp4: 384x640 1 Tiger, 26.2ms\n",
            "video 1/1 (1783/2628) /content/gdrive/MyDrive/data_sets/Dataset_2/Animal_TestVideo.mp4: 384x640 1 Tiger, 25.8ms\n",
            "video 1/1 (1784/2628) /content/gdrive/MyDrive/data_sets/Dataset_2/Animal_TestVideo.mp4: 384x640 1 Tiger, 25.2ms\n",
            "video 1/1 (1785/2628) /content/gdrive/MyDrive/data_sets/Dataset_2/Animal_TestVideo.mp4: 384x640 1 Tiger, 25.4ms\n",
            "video 1/1 (1786/2628) /content/gdrive/MyDrive/data_sets/Dataset_2/Animal_TestVideo.mp4: 384x640 1 Tiger, 25.2ms\n",
            "video 1/1 (1787/2628) /content/gdrive/MyDrive/data_sets/Dataset_2/Animal_TestVideo.mp4: 384x640 1 Tiger, 25.2ms\n",
            "video 1/1 (1788/2628) /content/gdrive/MyDrive/data_sets/Dataset_2/Animal_TestVideo.mp4: 384x640 1 Tiger, 27.0ms\n",
            "video 1/1 (1789/2628) /content/gdrive/MyDrive/data_sets/Dataset_2/Animal_TestVideo.mp4: 384x640 1 Tiger, 25.3ms\n",
            "video 1/1 (1790/2628) /content/gdrive/MyDrive/data_sets/Dataset_2/Animal_TestVideo.mp4: 384x640 1 Tiger, 25.2ms\n",
            "video 1/1 (1791/2628) /content/gdrive/MyDrive/data_sets/Dataset_2/Animal_TestVideo.mp4: 384x640 1 Tiger, 25.2ms\n",
            "video 1/1 (1792/2628) /content/gdrive/MyDrive/data_sets/Dataset_2/Animal_TestVideo.mp4: 384x640 1 Tiger, 25.3ms\n",
            "video 1/1 (1793/2628) /content/gdrive/MyDrive/data_sets/Dataset_2/Animal_TestVideo.mp4: 384x640 1 Tiger, 25.2ms\n",
            "video 1/1 (1794/2628) /content/gdrive/MyDrive/data_sets/Dataset_2/Animal_TestVideo.mp4: 384x640 1 Tiger, 25.2ms\n",
            "video 1/1 (1795/2628) /content/gdrive/MyDrive/data_sets/Dataset_2/Animal_TestVideo.mp4: 384x640 1 Tiger, 25.4ms\n",
            "video 1/1 (1796/2628) /content/gdrive/MyDrive/data_sets/Dataset_2/Animal_TestVideo.mp4: 384x640 1 Tiger, 25.4ms\n",
            "video 1/1 (1797/2628) /content/gdrive/MyDrive/data_sets/Dataset_2/Animal_TestVideo.mp4: 384x640 1 Tiger, 25.2ms\n",
            "video 1/1 (1798/2628) /content/gdrive/MyDrive/data_sets/Dataset_2/Animal_TestVideo.mp4: 384x640 1 Tiger, 25.2ms\n",
            "video 1/1 (1799/2628) /content/gdrive/MyDrive/data_sets/Dataset_2/Animal_TestVideo.mp4: 384x640 1 Tiger, 26.4ms\n",
            "video 1/1 (1800/2628) /content/gdrive/MyDrive/data_sets/Dataset_2/Animal_TestVideo.mp4: 384x640 1 Tiger, 26.2ms\n",
            "video 1/1 (1801/2628) /content/gdrive/MyDrive/data_sets/Dataset_2/Animal_TestVideo.mp4: 384x640 1 Tiger, 27.6ms\n",
            "video 1/1 (1802/2628) /content/gdrive/MyDrive/data_sets/Dataset_2/Animal_TestVideo.mp4: 384x640 1 Tiger, 25.2ms\n",
            "video 1/1 (1803/2628) /content/gdrive/MyDrive/data_sets/Dataset_2/Animal_TestVideo.mp4: 384x640 1 Tiger, 25.2ms\n",
            "video 1/1 (1804/2628) /content/gdrive/MyDrive/data_sets/Dataset_2/Animal_TestVideo.mp4: 384x640 1 Tiger, 25.2ms\n",
            "video 1/1 (1805/2628) /content/gdrive/MyDrive/data_sets/Dataset_2/Animal_TestVideo.mp4: 384x640 1 Tiger, 25.2ms\n",
            "video 1/1 (1806/2628) /content/gdrive/MyDrive/data_sets/Dataset_2/Animal_TestVideo.mp4: 384x640 1 Tiger, 26.7ms\n",
            "video 1/1 (1807/2628) /content/gdrive/MyDrive/data_sets/Dataset_2/Animal_TestVideo.mp4: 384x640 1 Tiger, 25.2ms\n",
            "video 1/1 (1808/2628) /content/gdrive/MyDrive/data_sets/Dataset_2/Animal_TestVideo.mp4: 384x640 1 Tiger, 25.2ms\n",
            "video 1/1 (1809/2628) /content/gdrive/MyDrive/data_sets/Dataset_2/Animal_TestVideo.mp4: 384x640 1 Tiger, 29.8ms\n",
            "video 1/1 (1810/2628) /content/gdrive/MyDrive/data_sets/Dataset_2/Animal_TestVideo.mp4: 384x640 1 Tiger, 25.2ms\n",
            "video 1/1 (1811/2628) /content/gdrive/MyDrive/data_sets/Dataset_2/Animal_TestVideo.mp4: 384x640 1 Tiger, 26.1ms\n",
            "video 1/1 (1812/2628) /content/gdrive/MyDrive/data_sets/Dataset_2/Animal_TestVideo.mp4: 384x640 1 Tiger, 25.2ms\n",
            "video 1/1 (1813/2628) /content/gdrive/MyDrive/data_sets/Dataset_2/Animal_TestVideo.mp4: 384x640 1 Tiger, 25.2ms\n",
            "video 1/1 (1814/2628) /content/gdrive/MyDrive/data_sets/Dataset_2/Animal_TestVideo.mp4: 384x640 1 Tiger, 25.2ms\n",
            "video 1/1 (1815/2628) /content/gdrive/MyDrive/data_sets/Dataset_2/Animal_TestVideo.mp4: 384x640 1 Tiger, 30.5ms\n",
            "video 1/1 (1816/2628) /content/gdrive/MyDrive/data_sets/Dataset_2/Animal_TestVideo.mp4: 384x640 1 Tiger, 25.2ms\n",
            "video 1/1 (1817/2628) /content/gdrive/MyDrive/data_sets/Dataset_2/Animal_TestVideo.mp4: 384x640 1 Tiger, 28.0ms\n",
            "video 1/1 (1818/2628) /content/gdrive/MyDrive/data_sets/Dataset_2/Animal_TestVideo.mp4: 384x640 1 Tiger, 25.2ms\n",
            "video 1/1 (1819/2628) /content/gdrive/MyDrive/data_sets/Dataset_2/Animal_TestVideo.mp4: 384x640 1 Tiger, 25.2ms\n",
            "video 1/1 (1820/2628) /content/gdrive/MyDrive/data_sets/Dataset_2/Animal_TestVideo.mp4: 384x640 1 Tiger, 25.2ms\n",
            "video 1/1 (1821/2628) /content/gdrive/MyDrive/data_sets/Dataset_2/Animal_TestVideo.mp4: 384x640 1 Tiger, 25.2ms\n",
            "video 1/1 (1822/2628) /content/gdrive/MyDrive/data_sets/Dataset_2/Animal_TestVideo.mp4: 384x640 1 Tiger, 26.9ms\n",
            "video 1/1 (1823/2628) /content/gdrive/MyDrive/data_sets/Dataset_2/Animal_TestVideo.mp4: 384x640 1 Tiger, 26.8ms\n",
            "video 1/1 (1824/2628) /content/gdrive/MyDrive/data_sets/Dataset_2/Animal_TestVideo.mp4: 384x640 1 Tiger, 25.4ms\n",
            "video 1/1 (1825/2628) /content/gdrive/MyDrive/data_sets/Dataset_2/Animal_TestVideo.mp4: 384x640 1 Tiger, 25.2ms\n",
            "video 1/1 (1826/2628) /content/gdrive/MyDrive/data_sets/Dataset_2/Animal_TestVideo.mp4: 384x640 1 Tiger, 25.2ms\n",
            "video 1/1 (1827/2628) /content/gdrive/MyDrive/data_sets/Dataset_2/Animal_TestVideo.mp4: 384x640 1 Tiger, 25.3ms\n",
            "video 1/1 (1828/2628) /content/gdrive/MyDrive/data_sets/Dataset_2/Animal_TestVideo.mp4: 384x640 1 Tiger, 25.2ms\n",
            "video 1/1 (1829/2628) /content/gdrive/MyDrive/data_sets/Dataset_2/Animal_TestVideo.mp4: 384x640 1 Tiger, 25.2ms\n",
            "video 1/1 (1830/2628) /content/gdrive/MyDrive/data_sets/Dataset_2/Animal_TestVideo.mp4: 384x640 1 Tiger, 25.2ms\n",
            "video 1/1 (1831/2628) /content/gdrive/MyDrive/data_sets/Dataset_2/Animal_TestVideo.mp4: 384x640 1 Tiger, 25.1ms\n",
            "video 1/1 (1832/2628) /content/gdrive/MyDrive/data_sets/Dataset_2/Animal_TestVideo.mp4: 384x640 1 Tiger, 25.2ms\n",
            "video 1/1 (1833/2628) /content/gdrive/MyDrive/data_sets/Dataset_2/Animal_TestVideo.mp4: 384x640 1 Tiger, 25.3ms\n",
            "video 1/1 (1834/2628) /content/gdrive/MyDrive/data_sets/Dataset_2/Animal_TestVideo.mp4: 384x640 1 Tiger, 25.2ms\n",
            "video 1/1 (1835/2628) /content/gdrive/MyDrive/data_sets/Dataset_2/Animal_TestVideo.mp4: 384x640 1 Tiger, 25.2ms\n",
            "video 1/1 (1836/2628) /content/gdrive/MyDrive/data_sets/Dataset_2/Animal_TestVideo.mp4: 384x640 1 Tiger, 25.2ms\n",
            "video 1/1 (1837/2628) /content/gdrive/MyDrive/data_sets/Dataset_2/Animal_TestVideo.mp4: 384x640 1 Tiger, 25.2ms\n",
            "video 1/1 (1838/2628) /content/gdrive/MyDrive/data_sets/Dataset_2/Animal_TestVideo.mp4: 384x640 1 Tiger, 25.9ms\n",
            "video 1/1 (1839/2628) /content/gdrive/MyDrive/data_sets/Dataset_2/Animal_TestVideo.mp4: 384x640 1 Tiger, 28.3ms\n",
            "video 1/1 (1840/2628) /content/gdrive/MyDrive/data_sets/Dataset_2/Animal_TestVideo.mp4: 384x640 1 Tiger, 25.2ms\n",
            "video 1/1 (1841/2628) /content/gdrive/MyDrive/data_sets/Dataset_2/Animal_TestVideo.mp4: 384x640 1 Tiger, 25.2ms\n",
            "video 1/1 (1842/2628) /content/gdrive/MyDrive/data_sets/Dataset_2/Animal_TestVideo.mp4: 384x640 1 Tiger, 25.3ms\n",
            "video 1/1 (1843/2628) /content/gdrive/MyDrive/data_sets/Dataset_2/Animal_TestVideo.mp4: 384x640 1 Tiger, 25.2ms\n",
            "video 1/1 (1844/2628) /content/gdrive/MyDrive/data_sets/Dataset_2/Animal_TestVideo.mp4: 384x640 1 Tiger, 25.2ms\n",
            "video 1/1 (1845/2628) /content/gdrive/MyDrive/data_sets/Dataset_2/Animal_TestVideo.mp4: 384x640 1 Tiger, 25.4ms\n",
            "video 1/1 (1846/2628) /content/gdrive/MyDrive/data_sets/Dataset_2/Animal_TestVideo.mp4: 384x640 1 Tiger, 25.3ms\n",
            "video 1/1 (1847/2628) /content/gdrive/MyDrive/data_sets/Dataset_2/Animal_TestVideo.mp4: 384x640 1 Tiger, 25.2ms\n",
            "video 1/1 (1848/2628) /content/gdrive/MyDrive/data_sets/Dataset_2/Animal_TestVideo.mp4: 384x640 1 Tiger, 25.2ms\n",
            "video 1/1 (1849/2628) /content/gdrive/MyDrive/data_sets/Dataset_2/Animal_TestVideo.mp4: 384x640 1 Tiger, 25.2ms\n",
            "video 1/1 (1850/2628) /content/gdrive/MyDrive/data_sets/Dataset_2/Animal_TestVideo.mp4: 384x640 1 Tiger, 25.3ms\n",
            "video 1/1 (1851/2628) /content/gdrive/MyDrive/data_sets/Dataset_2/Animal_TestVideo.mp4: 384x640 1 Tiger, 25.2ms\n",
            "video 1/1 (1852/2628) /content/gdrive/MyDrive/data_sets/Dataset_2/Animal_TestVideo.mp4: 384x640 1 Tiger, 25.2ms\n",
            "video 1/1 (1853/2628) /content/gdrive/MyDrive/data_sets/Dataset_2/Animal_TestVideo.mp4: 384x640 1 Tiger, 25.5ms\n",
            "video 1/1 (1854/2628) /content/gdrive/MyDrive/data_sets/Dataset_2/Animal_TestVideo.mp4: 384x640 1 Tiger, 25.4ms\n",
            "video 1/1 (1855/2628) /content/gdrive/MyDrive/data_sets/Dataset_2/Animal_TestVideo.mp4: 384x640 1 Tiger, 25.2ms\n",
            "video 1/1 (1856/2628) /content/gdrive/MyDrive/data_sets/Dataset_2/Animal_TestVideo.mp4: 384x640 1 Tiger, 28.9ms\n",
            "video 1/1 (1857/2628) /content/gdrive/MyDrive/data_sets/Dataset_2/Animal_TestVideo.mp4: 384x640 1 Tiger, 25.2ms\n",
            "video 1/1 (1858/2628) /content/gdrive/MyDrive/data_sets/Dataset_2/Animal_TestVideo.mp4: 384x640 1 Tiger, 28.3ms\n",
            "video 1/1 (1859/2628) /content/gdrive/MyDrive/data_sets/Dataset_2/Animal_TestVideo.mp4: 384x640 1 Tiger, 25.2ms\n",
            "video 1/1 (1860/2628) /content/gdrive/MyDrive/data_sets/Dataset_2/Animal_TestVideo.mp4: 384x640 1 Tiger, 25.3ms\n",
            "video 1/1 (1861/2628) /content/gdrive/MyDrive/data_sets/Dataset_2/Animal_TestVideo.mp4: 384x640 1 Tiger, 25.2ms\n",
            "video 1/1 (1862/2628) /content/gdrive/MyDrive/data_sets/Dataset_2/Animal_TestVideo.mp4: 384x640 1 Tiger, 26.0ms\n",
            "video 1/1 (1863/2628) /content/gdrive/MyDrive/data_sets/Dataset_2/Animal_TestVideo.mp4: 384x640 1 Tiger, 25.2ms\n",
            "video 1/1 (1864/2628) /content/gdrive/MyDrive/data_sets/Dataset_2/Animal_TestVideo.mp4: 384x640 1 Tiger, 25.2ms\n",
            "video 1/1 (1865/2628) /content/gdrive/MyDrive/data_sets/Dataset_2/Animal_TestVideo.mp4: 384x640 1 Tiger, 25.2ms\n",
            "video 1/1 (1866/2628) /content/gdrive/MyDrive/data_sets/Dataset_2/Animal_TestVideo.mp4: 384x640 1 Tiger, 25.1ms\n",
            "video 1/1 (1867/2628) /content/gdrive/MyDrive/data_sets/Dataset_2/Animal_TestVideo.mp4: 384x640 1 Tiger, 25.2ms\n",
            "video 1/1 (1868/2628) /content/gdrive/MyDrive/data_sets/Dataset_2/Animal_TestVideo.mp4: 384x640 1 Tiger, 25.2ms\n",
            "video 1/1 (1869/2628) /content/gdrive/MyDrive/data_sets/Dataset_2/Animal_TestVideo.mp4: 384x640 1 Tiger, 25.2ms\n",
            "video 1/1 (1870/2628) /content/gdrive/MyDrive/data_sets/Dataset_2/Animal_TestVideo.mp4: 384x640 1 Tiger, 25.2ms\n",
            "video 1/1 (1871/2628) /content/gdrive/MyDrive/data_sets/Dataset_2/Animal_TestVideo.mp4: 384x640 1 Tiger, 25.3ms\n",
            "video 1/1 (1872/2628) /content/gdrive/MyDrive/data_sets/Dataset_2/Animal_TestVideo.mp4: 384x640 1 Tiger, 25.2ms\n",
            "video 1/1 (1873/2628) /content/gdrive/MyDrive/data_sets/Dataset_2/Animal_TestVideo.mp4: 384x640 1 Tiger, 25.2ms\n",
            "video 1/1 (1874/2628) /content/gdrive/MyDrive/data_sets/Dataset_2/Animal_TestVideo.mp4: 384x640 1 Tiger, 25.3ms\n",
            "video 1/1 (1875/2628) /content/gdrive/MyDrive/data_sets/Dataset_2/Animal_TestVideo.mp4: 384x640 1 Tiger, 25.2ms\n",
            "video 1/1 (1876/2628) /content/gdrive/MyDrive/data_sets/Dataset_2/Animal_TestVideo.mp4: 384x640 1 Tiger, 25.2ms\n",
            "video 1/1 (1877/2628) /content/gdrive/MyDrive/data_sets/Dataset_2/Animal_TestVideo.mp4: 384x640 1 Tiger, 29.6ms\n",
            "video 1/1 (1878/2628) /content/gdrive/MyDrive/data_sets/Dataset_2/Animal_TestVideo.mp4: 384x640 1 Tiger, 25.2ms\n",
            "video 1/1 (1879/2628) /content/gdrive/MyDrive/data_sets/Dataset_2/Animal_TestVideo.mp4: 384x640 1 Tiger, 25.2ms\n",
            "video 1/1 (1880/2628) /content/gdrive/MyDrive/data_sets/Dataset_2/Animal_TestVideo.mp4: 384x640 1 Tiger, 25.2ms\n",
            "video 1/1 (1881/2628) /content/gdrive/MyDrive/data_sets/Dataset_2/Animal_TestVideo.mp4: 384x640 1 Tiger, 25.2ms\n",
            "video 1/1 (1882/2628) /content/gdrive/MyDrive/data_sets/Dataset_2/Animal_TestVideo.mp4: 384x640 1 Tiger, 25.3ms\n",
            "video 1/1 (1883/2628) /content/gdrive/MyDrive/data_sets/Dataset_2/Animal_TestVideo.mp4: 384x640 1 Tiger, 25.2ms\n",
            "video 1/1 (1884/2628) /content/gdrive/MyDrive/data_sets/Dataset_2/Animal_TestVideo.mp4: 384x640 1 Tiger, 25.1ms\n",
            "video 1/1 (1885/2628) /content/gdrive/MyDrive/data_sets/Dataset_2/Animal_TestVideo.mp4: 384x640 1 Tiger, 25.6ms\n",
            "video 1/1 (1886/2628) /content/gdrive/MyDrive/data_sets/Dataset_2/Animal_TestVideo.mp4: 384x640 1 Tiger, 25.2ms\n",
            "video 1/1 (1887/2628) /content/gdrive/MyDrive/data_sets/Dataset_2/Animal_TestVideo.mp4: 384x640 1 Tiger, 25.2ms\n",
            "video 1/1 (1888/2628) /content/gdrive/MyDrive/data_sets/Dataset_2/Animal_TestVideo.mp4: 384x640 1 Tiger, 25.2ms\n",
            "video 1/1 (1889/2628) /content/gdrive/MyDrive/data_sets/Dataset_2/Animal_TestVideo.mp4: 384x640 1 Tiger, 29.6ms\n",
            "video 1/1 (1890/2628) /content/gdrive/MyDrive/data_sets/Dataset_2/Animal_TestVideo.mp4: 384x640 1 Tiger, 25.2ms\n",
            "video 1/1 (1891/2628) /content/gdrive/MyDrive/data_sets/Dataset_2/Animal_TestVideo.mp4: 384x640 1 Tiger, 25.2ms\n",
            "video 1/1 (1892/2628) /content/gdrive/MyDrive/data_sets/Dataset_2/Animal_TestVideo.mp4: 384x640 1 Tiger, 25.2ms\n",
            "video 1/1 (1893/2628) /content/gdrive/MyDrive/data_sets/Dataset_2/Animal_TestVideo.mp4: 384x640 1 Tiger, 25.1ms\n",
            "video 1/1 (1894/2628) /content/gdrive/MyDrive/data_sets/Dataset_2/Animal_TestVideo.mp4: 384x640 1 Tiger, 25.1ms\n",
            "video 1/1 (1895/2628) /content/gdrive/MyDrive/data_sets/Dataset_2/Animal_TestVideo.mp4: 384x640 1 Tiger, 25.2ms\n",
            "video 1/1 (1896/2628) /content/gdrive/MyDrive/data_sets/Dataset_2/Animal_TestVideo.mp4: 384x640 1 Tiger, 25.2ms\n",
            "video 1/1 (1897/2628) /content/gdrive/MyDrive/data_sets/Dataset_2/Animal_TestVideo.mp4: 384x640 1 Tiger, 25.2ms\n",
            "video 1/1 (1898/2628) /content/gdrive/MyDrive/data_sets/Dataset_2/Animal_TestVideo.mp4: 384x640 1 Tiger, 25.1ms\n",
            "video 1/1 (1899/2628) /content/gdrive/MyDrive/data_sets/Dataset_2/Animal_TestVideo.mp4: 384x640 1 Tiger, 25.2ms\n",
            "video 1/1 (1900/2628) /content/gdrive/MyDrive/data_sets/Dataset_2/Animal_TestVideo.mp4: 384x640 1 Tiger, 25.1ms\n",
            "video 1/1 (1901/2628) /content/gdrive/MyDrive/data_sets/Dataset_2/Animal_TestVideo.mp4: 384x640 1 Tiger, 25.2ms\n",
            "video 1/1 (1902/2628) /content/gdrive/MyDrive/data_sets/Dataset_2/Animal_TestVideo.mp4: 384x640 1 Tiger, 25.2ms\n",
            "video 1/1 (1903/2628) /content/gdrive/MyDrive/data_sets/Dataset_2/Animal_TestVideo.mp4: 384x640 1 Tiger, 25.3ms\n",
            "video 1/1 (1904/2628) /content/gdrive/MyDrive/data_sets/Dataset_2/Animal_TestVideo.mp4: 384x640 1 Tiger, 25.2ms\n",
            "video 1/1 (1905/2628) /content/gdrive/MyDrive/data_sets/Dataset_2/Animal_TestVideo.mp4: 384x640 1 Tiger, 25.4ms\n",
            "video 1/1 (1906/2628) /content/gdrive/MyDrive/data_sets/Dataset_2/Animal_TestVideo.mp4: 384x640 1 Tiger, 27.1ms\n",
            "video 1/1 (1907/2628) /content/gdrive/MyDrive/data_sets/Dataset_2/Animal_TestVideo.mp4: 384x640 1 Tiger, 25.3ms\n",
            "video 1/1 (1908/2628) /content/gdrive/MyDrive/data_sets/Dataset_2/Animal_TestVideo.mp4: 384x640 1 Tiger, 25.1ms\n",
            "video 1/1 (1909/2628) /content/gdrive/MyDrive/data_sets/Dataset_2/Animal_TestVideo.mp4: 384x640 1 Tiger, 26.7ms\n",
            "video 1/1 (1910/2628) /content/gdrive/MyDrive/data_sets/Dataset_2/Animal_TestVideo.mp4: 384x640 1 Tiger, 25.2ms\n",
            "video 1/1 (1911/2628) /content/gdrive/MyDrive/data_sets/Dataset_2/Animal_TestVideo.mp4: 384x640 1 Tiger, 25.1ms\n",
            "video 1/1 (1912/2628) /content/gdrive/MyDrive/data_sets/Dataset_2/Animal_TestVideo.mp4: 384x640 1 Tiger, 25.2ms\n",
            "video 1/1 (1913/2628) /content/gdrive/MyDrive/data_sets/Dataset_2/Animal_TestVideo.mp4: 384x640 1 Tiger, 25.2ms\n",
            "video 1/1 (1914/2628) /content/gdrive/MyDrive/data_sets/Dataset_2/Animal_TestVideo.mp4: 384x640 1 Tiger, 25.1ms\n",
            "video 1/1 (1915/2628) /content/gdrive/MyDrive/data_sets/Dataset_2/Animal_TestVideo.mp4: 384x640 1 Tiger, 25.1ms\n",
            "video 1/1 (1916/2628) /content/gdrive/MyDrive/data_sets/Dataset_2/Animal_TestVideo.mp4: 384x640 1 Tiger, 25.1ms\n",
            "video 1/1 (1917/2628) /content/gdrive/MyDrive/data_sets/Dataset_2/Animal_TestVideo.mp4: 384x640 1 Tiger, 25.2ms\n",
            "video 1/1 (1918/2628) /content/gdrive/MyDrive/data_sets/Dataset_2/Animal_TestVideo.mp4: 384x640 1 Tiger, 26.0ms\n",
            "video 1/1 (1919/2628) /content/gdrive/MyDrive/data_sets/Dataset_2/Animal_TestVideo.mp4: 384x640 1 Tiger, 25.1ms\n",
            "video 1/1 (1920/2628) /content/gdrive/MyDrive/data_sets/Dataset_2/Animal_TestVideo.mp4: 384x640 1 Tiger, 25.4ms\n",
            "video 1/1 (1921/2628) /content/gdrive/MyDrive/data_sets/Dataset_2/Animal_TestVideo.mp4: 384x640 1 Tiger, 25.2ms\n",
            "video 1/1 (1922/2628) /content/gdrive/MyDrive/data_sets/Dataset_2/Animal_TestVideo.mp4: 384x640 1 Tiger, 25.3ms\n",
            "video 1/1 (1923/2628) /content/gdrive/MyDrive/data_sets/Dataset_2/Animal_TestVideo.mp4: 384x640 1 Tiger, 25.1ms\n",
            "video 1/1 (1924/2628) /content/gdrive/MyDrive/data_sets/Dataset_2/Animal_TestVideo.mp4: 384x640 1 Tiger, 25.1ms\n",
            "video 1/1 (1925/2628) /content/gdrive/MyDrive/data_sets/Dataset_2/Animal_TestVideo.mp4: 384x640 1 Tiger, 25.2ms\n",
            "video 1/1 (1926/2628) /content/gdrive/MyDrive/data_sets/Dataset_2/Animal_TestVideo.mp4: 384x640 1 Tiger, 25.2ms\n",
            "video 1/1 (1927/2628) /content/gdrive/MyDrive/data_sets/Dataset_2/Animal_TestVideo.mp4: 384x640 1 Tiger, 25.2ms\n",
            "video 1/1 (1928/2628) /content/gdrive/MyDrive/data_sets/Dataset_2/Animal_TestVideo.mp4: 384x640 1 Tiger, 25.2ms\n",
            "video 1/1 (1929/2628) /content/gdrive/MyDrive/data_sets/Dataset_2/Animal_TestVideo.mp4: 384x640 1 Tiger, 25.3ms\n",
            "video 1/1 (1930/2628) /content/gdrive/MyDrive/data_sets/Dataset_2/Animal_TestVideo.mp4: 384x640 1 Tiger, 25.5ms\n",
            "video 1/1 (1931/2628) /content/gdrive/MyDrive/data_sets/Dataset_2/Animal_TestVideo.mp4: 384x640 1 Tiger, 25.2ms\n",
            "video 1/1 (1932/2628) /content/gdrive/MyDrive/data_sets/Dataset_2/Animal_TestVideo.mp4: 384x640 1 Tiger, 25.2ms\n",
            "video 1/1 (1933/2628) /content/gdrive/MyDrive/data_sets/Dataset_2/Animal_TestVideo.mp4: 384x640 1 Tiger, 25.2ms\n",
            "video 1/1 (1934/2628) /content/gdrive/MyDrive/data_sets/Dataset_2/Animal_TestVideo.mp4: 384x640 1 Tiger, 25.3ms\n",
            "video 1/1 (1935/2628) /content/gdrive/MyDrive/data_sets/Dataset_2/Animal_TestVideo.mp4: 384x640 1 Tiger, 30.2ms\n",
            "video 1/1 (1936/2628) /content/gdrive/MyDrive/data_sets/Dataset_2/Animal_TestVideo.mp4: 384x640 1 Tiger, 25.2ms\n",
            "video 1/1 (1937/2628) /content/gdrive/MyDrive/data_sets/Dataset_2/Animal_TestVideo.mp4: 384x640 1 Tiger, 25.8ms\n",
            "video 1/1 (1938/2628) /content/gdrive/MyDrive/data_sets/Dataset_2/Animal_TestVideo.mp4: 384x640 1 Tiger, 25.2ms\n",
            "video 1/1 (1939/2628) /content/gdrive/MyDrive/data_sets/Dataset_2/Animal_TestVideo.mp4: 384x640 1 Tiger, 25.2ms\n",
            "video 1/1 (1940/2628) /content/gdrive/MyDrive/data_sets/Dataset_2/Animal_TestVideo.mp4: 384x640 1 Tiger, 25.2ms\n",
            "video 1/1 (1941/2628) /content/gdrive/MyDrive/data_sets/Dataset_2/Animal_TestVideo.mp4: 384x640 1 Tiger, 25.2ms\n",
            "video 1/1 (1942/2628) /content/gdrive/MyDrive/data_sets/Dataset_2/Animal_TestVideo.mp4: 384x640 1 Tiger, 25.2ms\n",
            "video 1/1 (1943/2628) /content/gdrive/MyDrive/data_sets/Dataset_2/Animal_TestVideo.mp4: 384x640 1 Tiger, 25.2ms\n",
            "video 1/1 (1944/2628) /content/gdrive/MyDrive/data_sets/Dataset_2/Animal_TestVideo.mp4: 384x640 1 Tiger, 25.3ms\n",
            "video 1/1 (1945/2628) /content/gdrive/MyDrive/data_sets/Dataset_2/Animal_TestVideo.mp4: 384x640 1 Tiger, 25.2ms\n",
            "video 1/1 (1946/2628) /content/gdrive/MyDrive/data_sets/Dataset_2/Animal_TestVideo.mp4: 384x640 1 Tiger, 25.2ms\n",
            "video 1/1 (1947/2628) /content/gdrive/MyDrive/data_sets/Dataset_2/Animal_TestVideo.mp4: 384x640 1 Tiger, 26.1ms\n",
            "video 1/1 (1948/2628) /content/gdrive/MyDrive/data_sets/Dataset_2/Animal_TestVideo.mp4: 384x640 1 Tiger, 25.2ms\n",
            "video 1/1 (1949/2628) /content/gdrive/MyDrive/data_sets/Dataset_2/Animal_TestVideo.mp4: 384x640 1 Tiger, 25.2ms\n",
            "video 1/1 (1950/2628) /content/gdrive/MyDrive/data_sets/Dataset_2/Animal_TestVideo.mp4: 384x640 1 Tiger, 26.3ms\n",
            "video 1/1 (1951/2628) /content/gdrive/MyDrive/data_sets/Dataset_2/Animal_TestVideo.mp4: 384x640 1 Tiger, 25.3ms\n",
            "video 1/1 (1952/2628) /content/gdrive/MyDrive/data_sets/Dataset_2/Animal_TestVideo.mp4: 384x640 1 Tiger, 25.2ms\n",
            "video 1/1 (1953/2628) /content/gdrive/MyDrive/data_sets/Dataset_2/Animal_TestVideo.mp4: 384x640 1 Tiger, 25.2ms\n",
            "video 1/1 (1954/2628) /content/gdrive/MyDrive/data_sets/Dataset_2/Animal_TestVideo.mp4: 384x640 1 Tiger, 25.2ms\n",
            "video 1/1 (1955/2628) /content/gdrive/MyDrive/data_sets/Dataset_2/Animal_TestVideo.mp4: 384x640 1 Tiger, 27.8ms\n",
            "video 1/1 (1956/2628) /content/gdrive/MyDrive/data_sets/Dataset_2/Animal_TestVideo.mp4: 384x640 1 Tiger, 25.3ms\n",
            "video 1/1 (1957/2628) /content/gdrive/MyDrive/data_sets/Dataset_2/Animal_TestVideo.mp4: 384x640 1 Tiger, 25.1ms\n",
            "video 1/1 (1958/2628) /content/gdrive/MyDrive/data_sets/Dataset_2/Animal_TestVideo.mp4: 384x640 1 Tiger, 25.2ms\n",
            "video 1/1 (1959/2628) /content/gdrive/MyDrive/data_sets/Dataset_2/Animal_TestVideo.mp4: 384x640 1 Tiger, 25.3ms\n",
            "video 1/1 (1960/2628) /content/gdrive/MyDrive/data_sets/Dataset_2/Animal_TestVideo.mp4: 384x640 1 Tiger, 25.3ms\n",
            "video 1/1 (1961/2628) /content/gdrive/MyDrive/data_sets/Dataset_2/Animal_TestVideo.mp4: 384x640 1 Tiger, 25.2ms\n",
            "video 1/1 (1962/2628) /content/gdrive/MyDrive/data_sets/Dataset_2/Animal_TestVideo.mp4: 384x640 1 Tiger, 25.1ms\n",
            "video 1/1 (1963/2628) /content/gdrive/MyDrive/data_sets/Dataset_2/Animal_TestVideo.mp4: 384x640 1 Tiger, 25.7ms\n",
            "video 1/1 (1964/2628) /content/gdrive/MyDrive/data_sets/Dataset_2/Animal_TestVideo.mp4: 384x640 1 Tiger, 25.6ms\n",
            "video 1/1 (1965/2628) /content/gdrive/MyDrive/data_sets/Dataset_2/Animal_TestVideo.mp4: 384x640 1 Tiger, 25.3ms\n",
            "video 1/1 (1966/2628) /content/gdrive/MyDrive/data_sets/Dataset_2/Animal_TestVideo.mp4: 384x640 1 Tiger, 25.2ms\n",
            "video 1/1 (1967/2628) /content/gdrive/MyDrive/data_sets/Dataset_2/Animal_TestVideo.mp4: 384x640 1 Tiger, 25.3ms\n",
            "video 1/1 (1968/2628) /content/gdrive/MyDrive/data_sets/Dataset_2/Animal_TestVideo.mp4: 384x640 1 Tiger, 25.3ms\n",
            "video 1/1 (1969/2628) /content/gdrive/MyDrive/data_sets/Dataset_2/Animal_TestVideo.mp4: 384x640 1 Tiger, 25.2ms\n",
            "video 1/1 (1970/2628) /content/gdrive/MyDrive/data_sets/Dataset_2/Animal_TestVideo.mp4: 384x640 1 Tiger, 25.2ms\n",
            "video 1/1 (1971/2628) /content/gdrive/MyDrive/data_sets/Dataset_2/Animal_TestVideo.mp4: 384x640 1 Tiger, 27.1ms\n",
            "video 1/1 (1972/2628) /content/gdrive/MyDrive/data_sets/Dataset_2/Animal_TestVideo.mp4: 384x640 1 Tiger, 26.7ms\n",
            "video 1/1 (1973/2628) /content/gdrive/MyDrive/data_sets/Dataset_2/Animal_TestVideo.mp4: 384x640 1 Tiger, 25.2ms\n",
            "video 1/1 (1974/2628) /content/gdrive/MyDrive/data_sets/Dataset_2/Animal_TestVideo.mp4: 384x640 1 Tiger, 29.9ms\n",
            "video 1/1 (1975/2628) /content/gdrive/MyDrive/data_sets/Dataset_2/Animal_TestVideo.mp4: 384x640 1 Tiger, 25.2ms\n",
            "video 1/1 (1976/2628) /content/gdrive/MyDrive/data_sets/Dataset_2/Animal_TestVideo.mp4: 384x640 1 Tiger, 25.2ms\n",
            "video 1/1 (1977/2628) /content/gdrive/MyDrive/data_sets/Dataset_2/Animal_TestVideo.mp4: 384x640 1 Tiger, 25.2ms\n",
            "video 1/1 (1978/2628) /content/gdrive/MyDrive/data_sets/Dataset_2/Animal_TestVideo.mp4: 384x640 1 Tiger, 25.2ms\n",
            "video 1/1 (1979/2628) /content/gdrive/MyDrive/data_sets/Dataset_2/Animal_TestVideo.mp4: 384x640 1 Tiger, 25.2ms\n",
            "video 1/1 (1980/2628) /content/gdrive/MyDrive/data_sets/Dataset_2/Animal_TestVideo.mp4: 384x640 1 Tiger, 25.2ms\n",
            "video 1/1 (1981/2628) /content/gdrive/MyDrive/data_sets/Dataset_2/Animal_TestVideo.mp4: 384x640 1 Tiger, 25.2ms\n",
            "video 1/1 (1982/2628) /content/gdrive/MyDrive/data_sets/Dataset_2/Animal_TestVideo.mp4: 384x640 1 Tiger, 25.2ms\n",
            "video 1/1 (1983/2628) /content/gdrive/MyDrive/data_sets/Dataset_2/Animal_TestVideo.mp4: 384x640 1 Tiger, 25.2ms\n",
            "video 1/1 (1984/2628) /content/gdrive/MyDrive/data_sets/Dataset_2/Animal_TestVideo.mp4: 384x640 1 Tiger, 25.2ms\n",
            "video 1/1 (1985/2628) /content/gdrive/MyDrive/data_sets/Dataset_2/Animal_TestVideo.mp4: 384x640 1 Tiger, 25.2ms\n",
            "video 1/1 (1986/2628) /content/gdrive/MyDrive/data_sets/Dataset_2/Animal_TestVideo.mp4: 384x640 1 Tiger, 25.2ms\n",
            "video 1/1 (1987/2628) /content/gdrive/MyDrive/data_sets/Dataset_2/Animal_TestVideo.mp4: 384x640 1 Tiger, 25.2ms\n",
            "video 1/1 (1988/2628) /content/gdrive/MyDrive/data_sets/Dataset_2/Animal_TestVideo.mp4: 384x640 1 Tiger, 25.3ms\n",
            "video 1/1 (1989/2628) /content/gdrive/MyDrive/data_sets/Dataset_2/Animal_TestVideo.mp4: 384x640 1 Tiger, 28.7ms\n",
            "video 1/1 (1990/2628) /content/gdrive/MyDrive/data_sets/Dataset_2/Animal_TestVideo.mp4: 384x640 1 Tiger, 25.2ms\n",
            "video 1/1 (1991/2628) /content/gdrive/MyDrive/data_sets/Dataset_2/Animal_TestVideo.mp4: 384x640 1 Tiger, 25.2ms\n",
            "video 1/1 (1992/2628) /content/gdrive/MyDrive/data_sets/Dataset_2/Animal_TestVideo.mp4: 384x640 1 Tiger, 25.2ms\n",
            "video 1/1 (1993/2628) /content/gdrive/MyDrive/data_sets/Dataset_2/Animal_TestVideo.mp4: 384x640 1 Tiger, 25.2ms\n",
            "video 1/1 (1994/2628) /content/gdrive/MyDrive/data_sets/Dataset_2/Animal_TestVideo.mp4: 384x640 1 Tiger, 25.2ms\n",
            "video 1/1 (1995/2628) /content/gdrive/MyDrive/data_sets/Dataset_2/Animal_TestVideo.mp4: 384x640 1 Tiger, 25.2ms\n",
            "video 1/1 (1996/2628) /content/gdrive/MyDrive/data_sets/Dataset_2/Animal_TestVideo.mp4: 384x640 1 Tiger, 25.2ms\n",
            "video 1/1 (1997/2628) /content/gdrive/MyDrive/data_sets/Dataset_2/Animal_TestVideo.mp4: 384x640 1 Tiger, 25.2ms\n",
            "video 1/1 (1998/2628) /content/gdrive/MyDrive/data_sets/Dataset_2/Animal_TestVideo.mp4: 384x640 1 Tiger, 26.1ms\n",
            "video 1/1 (1999/2628) /content/gdrive/MyDrive/data_sets/Dataset_2/Animal_TestVideo.mp4: 384x640 1 Tiger, 25.3ms\n",
            "video 1/1 (2000/2628) /content/gdrive/MyDrive/data_sets/Dataset_2/Animal_TestVideo.mp4: 384x640 1 Tiger, 26.1ms\n",
            "video 1/1 (2001/2628) /content/gdrive/MyDrive/data_sets/Dataset_2/Animal_TestVideo.mp4: 384x640 1 Tiger, 25.2ms\n",
            "video 1/1 (2002/2628) /content/gdrive/MyDrive/data_sets/Dataset_2/Animal_TestVideo.mp4: 384x640 1 Tiger, 25.2ms\n",
            "video 1/1 (2003/2628) /content/gdrive/MyDrive/data_sets/Dataset_2/Animal_TestVideo.mp4: 384x640 1 Tiger, 28.0ms\n",
            "video 1/1 (2004/2628) /content/gdrive/MyDrive/data_sets/Dataset_2/Animal_TestVideo.mp4: 384x640 1 Tiger, 25.2ms\n",
            "video 1/1 (2005/2628) /content/gdrive/MyDrive/data_sets/Dataset_2/Animal_TestVideo.mp4: 384x640 1 Tiger, 25.2ms\n",
            "video 1/1 (2006/2628) /content/gdrive/MyDrive/data_sets/Dataset_2/Animal_TestVideo.mp4: 384x640 1 Tiger, 25.2ms\n",
            "video 1/1 (2007/2628) /content/gdrive/MyDrive/data_sets/Dataset_2/Animal_TestVideo.mp4: 384x640 1 Tiger, 30.7ms\n",
            "video 1/1 (2008/2628) /content/gdrive/MyDrive/data_sets/Dataset_2/Animal_TestVideo.mp4: 384x640 1 Tiger, 28.4ms\n",
            "video 1/1 (2009/2628) /content/gdrive/MyDrive/data_sets/Dataset_2/Animal_TestVideo.mp4: 384x640 1 Tiger, 25.2ms\n",
            "video 1/1 (2010/2628) /content/gdrive/MyDrive/data_sets/Dataset_2/Animal_TestVideo.mp4: 384x640 1 Tiger, 25.2ms\n",
            "video 1/1 (2011/2628) /content/gdrive/MyDrive/data_sets/Dataset_2/Animal_TestVideo.mp4: 384x640 1 Tiger, 25.2ms\n",
            "video 1/1 (2012/2628) /content/gdrive/MyDrive/data_sets/Dataset_2/Animal_TestVideo.mp4: 384x640 1 Tiger, 25.2ms\n",
            "video 1/1 (2013/2628) /content/gdrive/MyDrive/data_sets/Dataset_2/Animal_TestVideo.mp4: 384x640 1 Tiger, 25.5ms\n",
            "video 1/1 (2014/2628) /content/gdrive/MyDrive/data_sets/Dataset_2/Animal_TestVideo.mp4: 384x640 1 Tiger, 27.3ms\n",
            "video 1/1 (2015/2628) /content/gdrive/MyDrive/data_sets/Dataset_2/Animal_TestVideo.mp4: 384x640 1 Tiger, 25.2ms\n",
            "video 1/1 (2016/2628) /content/gdrive/MyDrive/data_sets/Dataset_2/Animal_TestVideo.mp4: 384x640 1 Tiger, 27.7ms\n",
            "video 1/1 (2017/2628) /content/gdrive/MyDrive/data_sets/Dataset_2/Animal_TestVideo.mp4: 384x640 1 Tiger, 25.2ms\n",
            "video 1/1 (2018/2628) /content/gdrive/MyDrive/data_sets/Dataset_2/Animal_TestVideo.mp4: 384x640 1 Tiger, 25.2ms\n",
            "video 1/1 (2019/2628) /content/gdrive/MyDrive/data_sets/Dataset_2/Animal_TestVideo.mp4: 384x640 1 Tiger, 25.2ms\n",
            "video 1/1 (2020/2628) /content/gdrive/MyDrive/data_sets/Dataset_2/Animal_TestVideo.mp4: 384x640 1 Tiger, 30.5ms\n",
            "video 1/1 (2021/2628) /content/gdrive/MyDrive/data_sets/Dataset_2/Animal_TestVideo.mp4: 384x640 1 Tiger, 25.3ms\n",
            "video 1/1 (2022/2628) /content/gdrive/MyDrive/data_sets/Dataset_2/Animal_TestVideo.mp4: 384x640 1 Tiger, 25.2ms\n",
            "video 1/1 (2023/2628) /content/gdrive/MyDrive/data_sets/Dataset_2/Animal_TestVideo.mp4: 384x640 1 Tiger, 25.2ms\n",
            "video 1/1 (2024/2628) /content/gdrive/MyDrive/data_sets/Dataset_2/Animal_TestVideo.mp4: 384x640 1 Tiger, 25.2ms\n",
            "video 1/1 (2025/2628) /content/gdrive/MyDrive/data_sets/Dataset_2/Animal_TestVideo.mp4: 384x640 1 Tiger, 25.2ms\n",
            "video 1/1 (2026/2628) /content/gdrive/MyDrive/data_sets/Dataset_2/Animal_TestVideo.mp4: 384x640 1 Tiger, 25.3ms\n",
            "video 1/1 (2027/2628) /content/gdrive/MyDrive/data_sets/Dataset_2/Animal_TestVideo.mp4: 384x640 1 Tiger, 25.2ms\n",
            "video 1/1 (2028/2628) /content/gdrive/MyDrive/data_sets/Dataset_2/Animal_TestVideo.mp4: 384x640 1 Tiger, 25.1ms\n",
            "video 1/1 (2029/2628) /content/gdrive/MyDrive/data_sets/Dataset_2/Animal_TestVideo.mp4: 384x640 1 Tiger, 25.2ms\n",
            "video 1/1 (2030/2628) /content/gdrive/MyDrive/data_sets/Dataset_2/Animal_TestVideo.mp4: 384x640 1 Tiger, 25.2ms\n",
            "video 1/1 (2031/2628) /content/gdrive/MyDrive/data_sets/Dataset_2/Animal_TestVideo.mp4: 384x640 1 Tiger, 25.2ms\n",
            "video 1/1 (2032/2628) /content/gdrive/MyDrive/data_sets/Dataset_2/Animal_TestVideo.mp4: 384x640 1 Tiger, 25.2ms\n",
            "video 1/1 (2033/2628) /content/gdrive/MyDrive/data_sets/Dataset_2/Animal_TestVideo.mp4: 384x640 1 Tiger, 25.1ms\n",
            "video 1/1 (2034/2628) /content/gdrive/MyDrive/data_sets/Dataset_2/Animal_TestVideo.mp4: 384x640 1 Tiger, 25.2ms\n",
            "video 1/1 (2035/2628) /content/gdrive/MyDrive/data_sets/Dataset_2/Animal_TestVideo.mp4: 384x640 1 Tiger, 25.4ms\n",
            "video 1/1 (2036/2628) /content/gdrive/MyDrive/data_sets/Dataset_2/Animal_TestVideo.mp4: 384x640 1 Tiger, 25.3ms\n",
            "video 1/1 (2037/2628) /content/gdrive/MyDrive/data_sets/Dataset_2/Animal_TestVideo.mp4: 384x640 1 Tiger, 27.5ms\n",
            "video 1/1 (2038/2628) /content/gdrive/MyDrive/data_sets/Dataset_2/Animal_TestVideo.mp4: 384x640 1 Tiger, 24.7ms\n",
            "video 1/1 (2039/2628) /content/gdrive/MyDrive/data_sets/Dataset_2/Animal_TestVideo.mp4: 384x640 1 Tiger, 25.0ms\n",
            "video 1/1 (2040/2628) /content/gdrive/MyDrive/data_sets/Dataset_2/Animal_TestVideo.mp4: 384x640 1 Tiger, 24.7ms\n",
            "video 1/1 (2041/2628) /content/gdrive/MyDrive/data_sets/Dataset_2/Animal_TestVideo.mp4: 384x640 1 Tiger, 24.7ms\n",
            "video 1/1 (2042/2628) /content/gdrive/MyDrive/data_sets/Dataset_2/Animal_TestVideo.mp4: 384x640 1 Tiger, 24.6ms\n",
            "video 1/1 (2043/2628) /content/gdrive/MyDrive/data_sets/Dataset_2/Animal_TestVideo.mp4: 384x640 1 Tiger, 24.6ms\n",
            "video 1/1 (2044/2628) /content/gdrive/MyDrive/data_sets/Dataset_2/Animal_TestVideo.mp4: 384x640 1 Tiger, 24.8ms\n",
            "video 1/1 (2045/2628) /content/gdrive/MyDrive/data_sets/Dataset_2/Animal_TestVideo.mp4: 384x640 1 Tiger, 25.9ms\n",
            "video 1/1 (2046/2628) /content/gdrive/MyDrive/data_sets/Dataset_2/Animal_TestVideo.mp4: 384x640 1 Tiger, 24.6ms\n",
            "video 1/1 (2047/2628) /content/gdrive/MyDrive/data_sets/Dataset_2/Animal_TestVideo.mp4: 384x640 1 Tiger, 24.6ms\n",
            "video 1/1 (2048/2628) /content/gdrive/MyDrive/data_sets/Dataset_2/Animal_TestVideo.mp4: 384x640 1 Tiger, 25.0ms\n",
            "video 1/1 (2049/2628) /content/gdrive/MyDrive/data_sets/Dataset_2/Animal_TestVideo.mp4: 384x640 1 Tiger, 26.7ms\n",
            "video 1/1 (2050/2628) /content/gdrive/MyDrive/data_sets/Dataset_2/Animal_TestVideo.mp4: 384x640 1 Tiger, 24.6ms\n",
            "video 1/1 (2051/2628) /content/gdrive/MyDrive/data_sets/Dataset_2/Animal_TestVideo.mp4: 384x640 1 Tiger, 25.9ms\n",
            "video 1/1 (2052/2628) /content/gdrive/MyDrive/data_sets/Dataset_2/Animal_TestVideo.mp4: 384x640 1 Tiger, 24.6ms\n",
            "video 1/1 (2053/2628) /content/gdrive/MyDrive/data_sets/Dataset_2/Animal_TestVideo.mp4: 384x640 1 Tiger, 28.7ms\n",
            "video 1/1 (2054/2628) /content/gdrive/MyDrive/data_sets/Dataset_2/Animal_TestVideo.mp4: 384x640 1 Tiger, 26.4ms\n",
            "video 1/1 (2055/2628) /content/gdrive/MyDrive/data_sets/Dataset_2/Animal_TestVideo.mp4: 384x640 1 Tiger, 24.7ms\n",
            "video 1/1 (2056/2628) /content/gdrive/MyDrive/data_sets/Dataset_2/Animal_TestVideo.mp4: 384x640 1 Tiger, 24.6ms\n",
            "video 1/1 (2057/2628) /content/gdrive/MyDrive/data_sets/Dataset_2/Animal_TestVideo.mp4: 384x640 1 Tiger, 27.5ms\n",
            "video 1/1 (2058/2628) /content/gdrive/MyDrive/data_sets/Dataset_2/Animal_TestVideo.mp4: 384x640 1 Tiger, 24.9ms\n",
            "video 1/1 (2059/2628) /content/gdrive/MyDrive/data_sets/Dataset_2/Animal_TestVideo.mp4: 384x640 1 Tiger, 24.6ms\n",
            "video 1/1 (2060/2628) /content/gdrive/MyDrive/data_sets/Dataset_2/Animal_TestVideo.mp4: 384x640 1 Tiger, 24.6ms\n",
            "video 1/1 (2061/2628) /content/gdrive/MyDrive/data_sets/Dataset_2/Animal_TestVideo.mp4: 384x640 1 Tiger, 24.6ms\n",
            "video 1/1 (2062/2628) /content/gdrive/MyDrive/data_sets/Dataset_2/Animal_TestVideo.mp4: 384x640 1 Tiger, 25.2ms\n",
            "video 1/1 (2063/2628) /content/gdrive/MyDrive/data_sets/Dataset_2/Animal_TestVideo.mp4: 384x640 1 Tiger, 25.3ms\n",
            "video 1/1 (2064/2628) /content/gdrive/MyDrive/data_sets/Dataset_2/Animal_TestVideo.mp4: 384x640 1 Tiger, 25.2ms\n",
            "video 1/1 (2065/2628) /content/gdrive/MyDrive/data_sets/Dataset_2/Animal_TestVideo.mp4: 384x640 1 Tiger, 25.9ms\n",
            "video 1/1 (2066/2628) /content/gdrive/MyDrive/data_sets/Dataset_2/Animal_TestVideo.mp4: 384x640 1 Tiger, 25.2ms\n",
            "video 1/1 (2067/2628) /content/gdrive/MyDrive/data_sets/Dataset_2/Animal_TestVideo.mp4: 384x640 1 Tiger, 25.2ms\n",
            "video 1/1 (2068/2628) /content/gdrive/MyDrive/data_sets/Dataset_2/Animal_TestVideo.mp4: 384x640 1 Tiger, 25.3ms\n",
            "video 1/1 (2069/2628) /content/gdrive/MyDrive/data_sets/Dataset_2/Animal_TestVideo.mp4: 384x640 1 Tiger, 25.2ms\n",
            "video 1/1 (2070/2628) /content/gdrive/MyDrive/data_sets/Dataset_2/Animal_TestVideo.mp4: 384x640 (no detections), 25.2ms\n",
            "video 1/1 (2071/2628) /content/gdrive/MyDrive/data_sets/Dataset_2/Animal_TestVideo.mp4: 384x640 (no detections), 26.0ms\n",
            "video 1/1 (2072/2628) /content/gdrive/MyDrive/data_sets/Dataset_2/Animal_TestVideo.mp4: 384x640 (no detections), 25.6ms\n",
            "video 1/1 (2073/2628) /content/gdrive/MyDrive/data_sets/Dataset_2/Animal_TestVideo.mp4: 384x640 (no detections), 25.2ms\n",
            "video 1/1 (2074/2628) /content/gdrive/MyDrive/data_sets/Dataset_2/Animal_TestVideo.mp4: 384x640 (no detections), 25.1ms\n",
            "video 1/1 (2075/2628) /content/gdrive/MyDrive/data_sets/Dataset_2/Animal_TestVideo.mp4: 384x640 1 Crocodile, 25.2ms\n",
            "video 1/1 (2076/2628) /content/gdrive/MyDrive/data_sets/Dataset_2/Animal_TestVideo.mp4: 384x640 1 Crocodile, 25.3ms\n",
            "video 1/1 (2077/2628) /content/gdrive/MyDrive/data_sets/Dataset_2/Animal_TestVideo.mp4: 384x640 2 Crocodiles, 25.2ms\n",
            "video 1/1 (2078/2628) /content/gdrive/MyDrive/data_sets/Dataset_2/Animal_TestVideo.mp4: 384x640 1 Crocodile, 25.2ms\n",
            "video 1/1 (2079/2628) /content/gdrive/MyDrive/data_sets/Dataset_2/Animal_TestVideo.mp4: 384x640 1 Crocodile, 25.2ms\n",
            "video 1/1 (2080/2628) /content/gdrive/MyDrive/data_sets/Dataset_2/Animal_TestVideo.mp4: 384x640 1 Crocodile, 25.1ms\n",
            "video 1/1 (2081/2628) /content/gdrive/MyDrive/data_sets/Dataset_2/Animal_TestVideo.mp4: 384x640 1 Crocodile, 25.1ms\n",
            "video 1/1 (2082/2628) /content/gdrive/MyDrive/data_sets/Dataset_2/Animal_TestVideo.mp4: 384x640 1 Crocodile, 25.7ms\n",
            "video 1/1 (2083/2628) /content/gdrive/MyDrive/data_sets/Dataset_2/Animal_TestVideo.mp4: 384x640 1 Crocodile, 25.2ms\n",
            "video 1/1 (2084/2628) /content/gdrive/MyDrive/data_sets/Dataset_2/Animal_TestVideo.mp4: 384x640 1 Crocodile, 27.0ms\n",
            "video 1/1 (2085/2628) /content/gdrive/MyDrive/data_sets/Dataset_2/Animal_TestVideo.mp4: 384x640 1 Crocodile, 25.3ms\n",
            "video 1/1 (2086/2628) /content/gdrive/MyDrive/data_sets/Dataset_2/Animal_TestVideo.mp4: 384x640 1 Crocodile, 25.5ms\n",
            "video 1/1 (2087/2628) /content/gdrive/MyDrive/data_sets/Dataset_2/Animal_TestVideo.mp4: 384x640 1 Crocodile, 25.1ms\n",
            "video 1/1 (2088/2628) /content/gdrive/MyDrive/data_sets/Dataset_2/Animal_TestVideo.mp4: 384x640 1 Crocodile, 25.3ms\n",
            "video 1/1 (2089/2628) /content/gdrive/MyDrive/data_sets/Dataset_2/Animal_TestVideo.mp4: 384x640 1 Crocodile, 25.2ms\n",
            "video 1/1 (2090/2628) /content/gdrive/MyDrive/data_sets/Dataset_2/Animal_TestVideo.mp4: 384x640 1 Crocodile, 26.0ms\n",
            "video 1/1 (2091/2628) /content/gdrive/MyDrive/data_sets/Dataset_2/Animal_TestVideo.mp4: 384x640 1 Crocodile, 25.2ms\n",
            "video 1/1 (2092/2628) /content/gdrive/MyDrive/data_sets/Dataset_2/Animal_TestVideo.mp4: 384x640 1 Crocodile, 25.2ms\n",
            "video 1/1 (2093/2628) /content/gdrive/MyDrive/data_sets/Dataset_2/Animal_TestVideo.mp4: 384x640 1 Crocodile, 25.2ms\n",
            "video 1/1 (2094/2628) /content/gdrive/MyDrive/data_sets/Dataset_2/Animal_TestVideo.mp4: 384x640 1 Crocodile, 25.2ms\n",
            "video 1/1 (2095/2628) /content/gdrive/MyDrive/data_sets/Dataset_2/Animal_TestVideo.mp4: 384x640 1 Crocodile, 27.9ms\n",
            "video 1/1 (2096/2628) /content/gdrive/MyDrive/data_sets/Dataset_2/Animal_TestVideo.mp4: 384x640 1 Crocodile, 25.2ms\n",
            "video 1/1 (2097/2628) /content/gdrive/MyDrive/data_sets/Dataset_2/Animal_TestVideo.mp4: 384x640 1 Crocodile, 25.1ms\n",
            "video 1/1 (2098/2628) /content/gdrive/MyDrive/data_sets/Dataset_2/Animal_TestVideo.mp4: 384x640 1 Crocodile, 25.2ms\n",
            "video 1/1 (2099/2628) /content/gdrive/MyDrive/data_sets/Dataset_2/Animal_TestVideo.mp4: 384x640 1 Crocodile, 29.1ms\n",
            "video 1/1 (2100/2628) /content/gdrive/MyDrive/data_sets/Dataset_2/Animal_TestVideo.mp4: 384x640 1 Crocodile, 28.4ms\n",
            "video 1/1 (2101/2628) /content/gdrive/MyDrive/data_sets/Dataset_2/Animal_TestVideo.mp4: 384x640 1 Crocodile, 25.2ms\n",
            "video 1/1 (2102/2628) /content/gdrive/MyDrive/data_sets/Dataset_2/Animal_TestVideo.mp4: 384x640 1 Crocodile, 25.3ms\n",
            "video 1/1 (2103/2628) /content/gdrive/MyDrive/data_sets/Dataset_2/Animal_TestVideo.mp4: 384x640 1 Crocodile, 25.3ms\n",
            "video 1/1 (2104/2628) /content/gdrive/MyDrive/data_sets/Dataset_2/Animal_TestVideo.mp4: 384x640 1 Crocodile, 25.2ms\n",
            "video 1/1 (2105/2628) /content/gdrive/MyDrive/data_sets/Dataset_2/Animal_TestVideo.mp4: 384x640 1 Crocodile, 25.2ms\n",
            "video 1/1 (2106/2628) /content/gdrive/MyDrive/data_sets/Dataset_2/Animal_TestVideo.mp4: 384x640 1 Crocodile, 25.4ms\n",
            "video 1/1 (2107/2628) /content/gdrive/MyDrive/data_sets/Dataset_2/Animal_TestVideo.mp4: 384x640 1 Crocodile, 25.1ms\n",
            "video 1/1 (2108/2628) /content/gdrive/MyDrive/data_sets/Dataset_2/Animal_TestVideo.mp4: 384x640 1 Crocodile, 25.1ms\n",
            "video 1/1 (2109/2628) /content/gdrive/MyDrive/data_sets/Dataset_2/Animal_TestVideo.mp4: 384x640 1 Crocodile, 25.3ms\n",
            "video 1/1 (2110/2628) /content/gdrive/MyDrive/data_sets/Dataset_2/Animal_TestVideo.mp4: 384x640 1 Crocodile, 30.1ms\n",
            "video 1/1 (2111/2628) /content/gdrive/MyDrive/data_sets/Dataset_2/Animal_TestVideo.mp4: 384x640 1 Crocodile, 25.4ms\n",
            "video 1/1 (2112/2628) /content/gdrive/MyDrive/data_sets/Dataset_2/Animal_TestVideo.mp4: 384x640 1 Crocodile, 25.2ms\n",
            "video 1/1 (2113/2628) /content/gdrive/MyDrive/data_sets/Dataset_2/Animal_TestVideo.mp4: 384x640 1 Crocodile, 25.1ms\n",
            "video 1/1 (2114/2628) /content/gdrive/MyDrive/data_sets/Dataset_2/Animal_TestVideo.mp4: 384x640 1 Crocodile, 25.2ms\n",
            "video 1/1 (2115/2628) /content/gdrive/MyDrive/data_sets/Dataset_2/Animal_TestVideo.mp4: 384x640 1 Crocodile, 25.5ms\n",
            "video 1/1 (2116/2628) /content/gdrive/MyDrive/data_sets/Dataset_2/Animal_TestVideo.mp4: 384x640 1 Crocodile, 25.1ms\n",
            "video 1/1 (2117/2628) /content/gdrive/MyDrive/data_sets/Dataset_2/Animal_TestVideo.mp4: 384x640 1 Crocodile, 25.2ms\n",
            "video 1/1 (2118/2628) /content/gdrive/MyDrive/data_sets/Dataset_2/Animal_TestVideo.mp4: 384x640 1 Crocodile, 25.2ms\n",
            "video 1/1 (2119/2628) /content/gdrive/MyDrive/data_sets/Dataset_2/Animal_TestVideo.mp4: 384x640 1 Crocodile, 25.2ms\n",
            "video 1/1 (2120/2628) /content/gdrive/MyDrive/data_sets/Dataset_2/Animal_TestVideo.mp4: 384x640 1 Crocodile, 25.2ms\n",
            "video 1/1 (2121/2628) /content/gdrive/MyDrive/data_sets/Dataset_2/Animal_TestVideo.mp4: 384x640 1 Crocodile, 25.4ms\n",
            "video 1/1 (2122/2628) /content/gdrive/MyDrive/data_sets/Dataset_2/Animal_TestVideo.mp4: 384x640 1 Crocodile, 25.1ms\n",
            "video 1/1 (2123/2628) /content/gdrive/MyDrive/data_sets/Dataset_2/Animal_TestVideo.mp4: 384x640 1 Crocodile, 25.2ms\n",
            "video 1/1 (2124/2628) /content/gdrive/MyDrive/data_sets/Dataset_2/Animal_TestVideo.mp4: 384x640 1 Crocodile, 25.2ms\n",
            "video 1/1 (2125/2628) /content/gdrive/MyDrive/data_sets/Dataset_2/Animal_TestVideo.mp4: 384x640 1 Crocodile, 25.2ms\n",
            "video 1/1 (2126/2628) /content/gdrive/MyDrive/data_sets/Dataset_2/Animal_TestVideo.mp4: 384x640 1 Crocodile, 25.4ms\n",
            "video 1/1 (2127/2628) /content/gdrive/MyDrive/data_sets/Dataset_2/Animal_TestVideo.mp4: 384x640 1 Crocodile, 25.2ms\n",
            "video 1/1 (2128/2628) /content/gdrive/MyDrive/data_sets/Dataset_2/Animal_TestVideo.mp4: 384x640 1 Crocodile, 25.5ms\n",
            "video 1/1 (2129/2628) /content/gdrive/MyDrive/data_sets/Dataset_2/Animal_TestVideo.mp4: 384x640 1 Crocodile, 25.2ms\n",
            "video 1/1 (2130/2628) /content/gdrive/MyDrive/data_sets/Dataset_2/Animal_TestVideo.mp4: 384x640 1 Crocodile, 25.2ms\n",
            "video 1/1 (2131/2628) /content/gdrive/MyDrive/data_sets/Dataset_2/Animal_TestVideo.mp4: 384x640 1 Crocodile, 25.3ms\n",
            "video 1/1 (2132/2628) /content/gdrive/MyDrive/data_sets/Dataset_2/Animal_TestVideo.mp4: 384x640 1 Crocodile, 25.1ms\n",
            "video 1/1 (2133/2628) /content/gdrive/MyDrive/data_sets/Dataset_2/Animal_TestVideo.mp4: 384x640 1 Crocodile, 25.1ms\n",
            "video 1/1 (2134/2628) /content/gdrive/MyDrive/data_sets/Dataset_2/Animal_TestVideo.mp4: 384x640 1 Crocodile, 25.3ms\n",
            "video 1/1 (2135/2628) /content/gdrive/MyDrive/data_sets/Dataset_2/Animal_TestVideo.mp4: 384x640 1 Crocodile, 25.2ms\n",
            "video 1/1 (2136/2628) /content/gdrive/MyDrive/data_sets/Dataset_2/Animal_TestVideo.mp4: 384x640 1 Crocodile, 25.3ms\n",
            "video 1/1 (2137/2628) /content/gdrive/MyDrive/data_sets/Dataset_2/Animal_TestVideo.mp4: 384x640 1 Crocodile, 25.2ms\n",
            "video 1/1 (2138/2628) /content/gdrive/MyDrive/data_sets/Dataset_2/Animal_TestVideo.mp4: 384x640 1 Crocodile, 25.1ms\n",
            "video 1/1 (2139/2628) /content/gdrive/MyDrive/data_sets/Dataset_2/Animal_TestVideo.mp4: 384x640 1 Crocodile, 25.2ms\n",
            "video 1/1 (2140/2628) /content/gdrive/MyDrive/data_sets/Dataset_2/Animal_TestVideo.mp4: 384x640 1 Crocodile, 25.1ms\n",
            "video 1/1 (2141/2628) /content/gdrive/MyDrive/data_sets/Dataset_2/Animal_TestVideo.mp4: 384x640 1 Crocodile, 25.2ms\n",
            "video 1/1 (2142/2628) /content/gdrive/MyDrive/data_sets/Dataset_2/Animal_TestVideo.mp4: 384x640 1 Crocodile, 25.1ms\n",
            "video 1/1 (2143/2628) /content/gdrive/MyDrive/data_sets/Dataset_2/Animal_TestVideo.mp4: 384x640 1 Crocodile, 25.2ms\n",
            "video 1/1 (2144/2628) /content/gdrive/MyDrive/data_sets/Dataset_2/Animal_TestVideo.mp4: 384x640 1 Crocodile, 25.2ms\n",
            "video 1/1 (2145/2628) /content/gdrive/MyDrive/data_sets/Dataset_2/Animal_TestVideo.mp4: 384x640 1 Crocodile, 25.2ms\n",
            "video 1/1 (2146/2628) /content/gdrive/MyDrive/data_sets/Dataset_2/Animal_TestVideo.mp4: 384x640 1 Crocodile, 25.2ms\n",
            "video 1/1 (2147/2628) /content/gdrive/MyDrive/data_sets/Dataset_2/Animal_TestVideo.mp4: 384x640 1 Crocodile, 24.6ms\n",
            "video 1/1 (2148/2628) /content/gdrive/MyDrive/data_sets/Dataset_2/Animal_TestVideo.mp4: 384x640 1 Crocodile, 24.7ms\n",
            "video 1/1 (2149/2628) /content/gdrive/MyDrive/data_sets/Dataset_2/Animal_TestVideo.mp4: 384x640 2 Crocodiles, 24.7ms\n",
            "video 1/1 (2150/2628) /content/gdrive/MyDrive/data_sets/Dataset_2/Animal_TestVideo.mp4: 384x640 2 Crocodiles, 24.6ms\n",
            "video 1/1 (2151/2628) /content/gdrive/MyDrive/data_sets/Dataset_2/Animal_TestVideo.mp4: 384x640 1 Crocodile, 26.1ms\n",
            "video 1/1 (2152/2628) /content/gdrive/MyDrive/data_sets/Dataset_2/Animal_TestVideo.mp4: 384x640 1 Crocodile, 24.6ms\n",
            "video 1/1 (2153/2628) /content/gdrive/MyDrive/data_sets/Dataset_2/Animal_TestVideo.mp4: 384x640 1 Crocodile, 24.8ms\n",
            "video 1/1 (2154/2628) /content/gdrive/MyDrive/data_sets/Dataset_2/Animal_TestVideo.mp4: 384x640 1 Crocodile, 24.7ms\n",
            "video 1/1 (2155/2628) /content/gdrive/MyDrive/data_sets/Dataset_2/Animal_TestVideo.mp4: 384x640 1 Crocodile, 24.7ms\n",
            "video 1/1 (2156/2628) /content/gdrive/MyDrive/data_sets/Dataset_2/Animal_TestVideo.mp4: 384x640 1 Crocodile, 24.7ms\n",
            "video 1/1 (2157/2628) /content/gdrive/MyDrive/data_sets/Dataset_2/Animal_TestVideo.mp4: 384x640 1 Crocodile, 24.6ms\n",
            "video 1/1 (2158/2628) /content/gdrive/MyDrive/data_sets/Dataset_2/Animal_TestVideo.mp4: 384x640 1 Crocodile, 24.7ms\n",
            "video 1/1 (2159/2628) /content/gdrive/MyDrive/data_sets/Dataset_2/Animal_TestVideo.mp4: 384x640 1 Crocodile, 24.9ms\n",
            "video 1/1 (2160/2628) /content/gdrive/MyDrive/data_sets/Dataset_2/Animal_TestVideo.mp4: 384x640 1 Crocodile, 24.7ms\n",
            "video 1/1 (2161/2628) /content/gdrive/MyDrive/data_sets/Dataset_2/Animal_TestVideo.mp4: 384x640 1 Crocodile, 24.7ms\n",
            "video 1/1 (2162/2628) /content/gdrive/MyDrive/data_sets/Dataset_2/Animal_TestVideo.mp4: 384x640 1 Crocodile, 24.7ms\n",
            "video 1/1 (2163/2628) /content/gdrive/MyDrive/data_sets/Dataset_2/Animal_TestVideo.mp4: 384x640 1 Crocodile, 24.7ms\n",
            "video 1/1 (2164/2628) /content/gdrive/MyDrive/data_sets/Dataset_2/Animal_TestVideo.mp4: 384x640 1 Crocodile, 26.6ms\n",
            "video 1/1 (2165/2628) /content/gdrive/MyDrive/data_sets/Dataset_2/Animal_TestVideo.mp4: 384x640 1 Crocodile, 25.9ms\n",
            "video 1/1 (2166/2628) /content/gdrive/MyDrive/data_sets/Dataset_2/Animal_TestVideo.mp4: 384x640 1 Crocodile, 24.6ms\n",
            "video 1/1 (2167/2628) /content/gdrive/MyDrive/data_sets/Dataset_2/Animal_TestVideo.mp4: 384x640 1 Crocodile, 24.7ms\n",
            "video 1/1 (2168/2628) /content/gdrive/MyDrive/data_sets/Dataset_2/Animal_TestVideo.mp4: 384x640 1 Crocodile, 24.6ms\n",
            "video 1/1 (2169/2628) /content/gdrive/MyDrive/data_sets/Dataset_2/Animal_TestVideo.mp4: 384x640 1 Crocodile, 25.8ms\n",
            "video 1/1 (2170/2628) /content/gdrive/MyDrive/data_sets/Dataset_2/Animal_TestVideo.mp4: 384x640 1 Crocodile, 25.2ms\n",
            "video 1/1 (2171/2628) /content/gdrive/MyDrive/data_sets/Dataset_2/Animal_TestVideo.mp4: 384x640 1 Crocodile, 25.7ms\n",
            "video 1/1 (2172/2628) /content/gdrive/MyDrive/data_sets/Dataset_2/Animal_TestVideo.mp4: 384x640 1 Crocodile, 25.2ms\n",
            "video 1/1 (2173/2628) /content/gdrive/MyDrive/data_sets/Dataset_2/Animal_TestVideo.mp4: 384x640 1 Crocodile, 25.3ms\n",
            "video 1/1 (2174/2628) /content/gdrive/MyDrive/data_sets/Dataset_2/Animal_TestVideo.mp4: 384x640 1 Crocodile, 25.2ms\n",
            "video 1/1 (2175/2628) /content/gdrive/MyDrive/data_sets/Dataset_2/Animal_TestVideo.mp4: 384x640 1 Crocodile, 25.5ms\n",
            "video 1/1 (2176/2628) /content/gdrive/MyDrive/data_sets/Dataset_2/Animal_TestVideo.mp4: 384x640 1 Crocodile, 27.0ms\n",
            "video 1/1 (2177/2628) /content/gdrive/MyDrive/data_sets/Dataset_2/Animal_TestVideo.mp4: 384x640 1 Crocodile, 25.2ms\n",
            "video 1/1 (2178/2628) /content/gdrive/MyDrive/data_sets/Dataset_2/Animal_TestVideo.mp4: 384x640 1 Crocodile, 25.6ms\n",
            "video 1/1 (2179/2628) /content/gdrive/MyDrive/data_sets/Dataset_2/Animal_TestVideo.mp4: 384x640 1 Crocodile, 25.2ms\n",
            "video 1/1 (2180/2628) /content/gdrive/MyDrive/data_sets/Dataset_2/Animal_TestVideo.mp4: 384x640 1 Crocodile, 25.2ms\n",
            "video 1/1 (2181/2628) /content/gdrive/MyDrive/data_sets/Dataset_2/Animal_TestVideo.mp4: 384x640 1 Crocodile, 27.3ms\n",
            "video 1/1 (2182/2628) /content/gdrive/MyDrive/data_sets/Dataset_2/Animal_TestVideo.mp4: 384x640 1 Crocodile, 25.3ms\n",
            "video 1/1 (2183/2628) /content/gdrive/MyDrive/data_sets/Dataset_2/Animal_TestVideo.mp4: 384x640 1 Crocodile, 25.3ms\n",
            "video 1/1 (2184/2628) /content/gdrive/MyDrive/data_sets/Dataset_2/Animal_TestVideo.mp4: 384x640 1 Crocodile, 25.3ms\n",
            "video 1/1 (2185/2628) /content/gdrive/MyDrive/data_sets/Dataset_2/Animal_TestVideo.mp4: 384x640 1 Crocodile, 25.3ms\n",
            "video 1/1 (2186/2628) /content/gdrive/MyDrive/data_sets/Dataset_2/Animal_TestVideo.mp4: 384x640 1 Crocodile, 25.3ms\n",
            "video 1/1 (2187/2628) /content/gdrive/MyDrive/data_sets/Dataset_2/Animal_TestVideo.mp4: 384x640 1 Crocodile, 25.2ms\n",
            "video 1/1 (2188/2628) /content/gdrive/MyDrive/data_sets/Dataset_2/Animal_TestVideo.mp4: 384x640 1 Crocodile, 25.5ms\n",
            "video 1/1 (2189/2628) /content/gdrive/MyDrive/data_sets/Dataset_2/Animal_TestVideo.mp4: 384x640 1 Crocodile, 29.2ms\n",
            "video 1/1 (2190/2628) /content/gdrive/MyDrive/data_sets/Dataset_2/Animal_TestVideo.mp4: 384x640 1 Crocodile, 25.2ms\n",
            "video 1/1 (2191/2628) /content/gdrive/MyDrive/data_sets/Dataset_2/Animal_TestVideo.mp4: 384x640 1 Crocodile, 25.2ms\n",
            "video 1/1 (2192/2628) /content/gdrive/MyDrive/data_sets/Dataset_2/Animal_TestVideo.mp4: 384x640 1 Crocodile, 26.1ms\n",
            "video 1/1 (2193/2628) /content/gdrive/MyDrive/data_sets/Dataset_2/Animal_TestVideo.mp4: 384x640 1 Crocodile, 25.2ms\n",
            "video 1/1 (2194/2628) /content/gdrive/MyDrive/data_sets/Dataset_2/Animal_TestVideo.mp4: 384x640 1 Crocodile, 25.2ms\n",
            "video 1/1 (2195/2628) /content/gdrive/MyDrive/data_sets/Dataset_2/Animal_TestVideo.mp4: 384x640 1 Crocodile, 25.2ms\n",
            "video 1/1 (2196/2628) /content/gdrive/MyDrive/data_sets/Dataset_2/Animal_TestVideo.mp4: 384x640 1 Crocodile, 26.2ms\n",
            "video 1/1 (2197/2628) /content/gdrive/MyDrive/data_sets/Dataset_2/Animal_TestVideo.mp4: 384x640 1 Crocodile, 25.2ms\n",
            "video 1/1 (2198/2628) /content/gdrive/MyDrive/data_sets/Dataset_2/Animal_TestVideo.mp4: 384x640 1 Crocodile, 25.2ms\n",
            "video 1/1 (2199/2628) /content/gdrive/MyDrive/data_sets/Dataset_2/Animal_TestVideo.mp4: 384x640 1 Crocodile, 25.2ms\n",
            "video 1/1 (2200/2628) /content/gdrive/MyDrive/data_sets/Dataset_2/Animal_TestVideo.mp4: 384x640 1 Crocodile, 25.2ms\n",
            "video 1/1 (2201/2628) /content/gdrive/MyDrive/data_sets/Dataset_2/Animal_TestVideo.mp4: 384x640 1 Crocodile, 25.2ms\n",
            "video 1/1 (2202/2628) /content/gdrive/MyDrive/data_sets/Dataset_2/Animal_TestVideo.mp4: 384x640 1 Crocodile, 25.3ms\n",
            "video 1/1 (2203/2628) /content/gdrive/MyDrive/data_sets/Dataset_2/Animal_TestVideo.mp4: 384x640 1 Crocodile, 25.3ms\n",
            "video 1/1 (2204/2628) /content/gdrive/MyDrive/data_sets/Dataset_2/Animal_TestVideo.mp4: 384x640 1 Crocodile, 25.2ms\n",
            "video 1/1 (2205/2628) /content/gdrive/MyDrive/data_sets/Dataset_2/Animal_TestVideo.mp4: 384x640 1 Crocodile, 25.5ms\n",
            "video 1/1 (2206/2628) /content/gdrive/MyDrive/data_sets/Dataset_2/Animal_TestVideo.mp4: 384x640 1 Crocodile, 25.6ms\n",
            "video 1/1 (2207/2628) /content/gdrive/MyDrive/data_sets/Dataset_2/Animal_TestVideo.mp4: 384x640 1 Crocodile, 25.3ms\n",
            "video 1/1 (2208/2628) /content/gdrive/MyDrive/data_sets/Dataset_2/Animal_TestVideo.mp4: 384x640 1 Crocodile, 25.3ms\n",
            "video 1/1 (2209/2628) /content/gdrive/MyDrive/data_sets/Dataset_2/Animal_TestVideo.mp4: 384x640 1 Crocodile, 25.2ms\n",
            "video 1/1 (2210/2628) /content/gdrive/MyDrive/data_sets/Dataset_2/Animal_TestVideo.mp4: 384x640 1 Crocodile, 25.2ms\n",
            "video 1/1 (2211/2628) /content/gdrive/MyDrive/data_sets/Dataset_2/Animal_TestVideo.mp4: 384x640 1 Crocodile, 25.2ms\n",
            "video 1/1 (2212/2628) /content/gdrive/MyDrive/data_sets/Dataset_2/Animal_TestVideo.mp4: 384x640 1 Crocodile, 25.8ms\n",
            "video 1/1 (2213/2628) /content/gdrive/MyDrive/data_sets/Dataset_2/Animal_TestVideo.mp4: 384x640 1 Crocodile, 25.3ms\n",
            "video 1/1 (2214/2628) /content/gdrive/MyDrive/data_sets/Dataset_2/Animal_TestVideo.mp4: 384x640 1 Crocodile, 27.4ms\n",
            "video 1/1 (2215/2628) /content/gdrive/MyDrive/data_sets/Dataset_2/Animal_TestVideo.mp4: 384x640 1 Crocodile, 25.2ms\n",
            "video 1/1 (2216/2628) /content/gdrive/MyDrive/data_sets/Dataset_2/Animal_TestVideo.mp4: 384x640 1 Crocodile, 25.2ms\n",
            "video 1/1 (2217/2628) /content/gdrive/MyDrive/data_sets/Dataset_2/Animal_TestVideo.mp4: 384x640 1 Crocodile, 30.2ms\n",
            "video 1/1 (2218/2628) /content/gdrive/MyDrive/data_sets/Dataset_2/Animal_TestVideo.mp4: 384x640 1 Crocodile, 25.2ms\n",
            "video 1/1 (2219/2628) /content/gdrive/MyDrive/data_sets/Dataset_2/Animal_TestVideo.mp4: 384x640 1 Crocodile, 25.2ms\n",
            "video 1/1 (2220/2628) /content/gdrive/MyDrive/data_sets/Dataset_2/Animal_TestVideo.mp4: 384x640 1 Crocodile, 25.8ms\n",
            "video 1/1 (2221/2628) /content/gdrive/MyDrive/data_sets/Dataset_2/Animal_TestVideo.mp4: 384x640 1 Crocodile, 25.2ms\n",
            "video 1/1 (2222/2628) /content/gdrive/MyDrive/data_sets/Dataset_2/Animal_TestVideo.mp4: 384x640 1 Crocodile, 25.2ms\n",
            "video 1/1 (2223/2628) /content/gdrive/MyDrive/data_sets/Dataset_2/Animal_TestVideo.mp4: 384x640 1 Crocodile, 25.2ms\n",
            "video 1/1 (2224/2628) /content/gdrive/MyDrive/data_sets/Dataset_2/Animal_TestVideo.mp4: 384x640 1 Crocodile, 25.2ms\n",
            "video 1/1 (2225/2628) /content/gdrive/MyDrive/data_sets/Dataset_2/Animal_TestVideo.mp4: 384x640 1 Crocodile, 25.2ms\n",
            "video 1/1 (2226/2628) /content/gdrive/MyDrive/data_sets/Dataset_2/Animal_TestVideo.mp4: 384x640 1 Crocodile, 25.1ms\n",
            "video 1/1 (2227/2628) /content/gdrive/MyDrive/data_sets/Dataset_2/Animal_TestVideo.mp4: 384x640 1 Crocodile, 25.1ms\n",
            "video 1/1 (2228/2628) /content/gdrive/MyDrive/data_sets/Dataset_2/Animal_TestVideo.mp4: 384x640 1 Crocodile, 25.2ms\n",
            "video 1/1 (2229/2628) /content/gdrive/MyDrive/data_sets/Dataset_2/Animal_TestVideo.mp4: 384x640 1 Crocodile, 25.3ms\n",
            "video 1/1 (2230/2628) /content/gdrive/MyDrive/data_sets/Dataset_2/Animal_TestVideo.mp4: 384x640 1 Crocodile, 25.2ms\n",
            "video 1/1 (2231/2628) /content/gdrive/MyDrive/data_sets/Dataset_2/Animal_TestVideo.mp4: 384x640 2 Crocodiles, 25.1ms\n",
            "video 1/1 (2232/2628) /content/gdrive/MyDrive/data_sets/Dataset_2/Animal_TestVideo.mp4: 384x640 3 Crocodiles, 25.4ms\n",
            "video 1/1 (2233/2628) /content/gdrive/MyDrive/data_sets/Dataset_2/Animal_TestVideo.mp4: 384x640 3 Crocodiles, 25.2ms\n",
            "video 1/1 (2234/2628) /content/gdrive/MyDrive/data_sets/Dataset_2/Animal_TestVideo.mp4: 384x640 3 Crocodiles, 25.2ms\n",
            "video 1/1 (2235/2628) /content/gdrive/MyDrive/data_sets/Dataset_2/Animal_TestVideo.mp4: 384x640 2 Crocodiles, 25.3ms\n",
            "video 1/1 (2236/2628) /content/gdrive/MyDrive/data_sets/Dataset_2/Animal_TestVideo.mp4: 384x640 2 Crocodiles, 28.0ms\n",
            "video 1/1 (2237/2628) /content/gdrive/MyDrive/data_sets/Dataset_2/Animal_TestVideo.mp4: 384x640 2 Crocodiles, 25.2ms\n",
            "video 1/1 (2238/2628) /content/gdrive/MyDrive/data_sets/Dataset_2/Animal_TestVideo.mp4: 384x640 2 Crocodiles, 28.0ms\n",
            "video 1/1 (2239/2628) /content/gdrive/MyDrive/data_sets/Dataset_2/Animal_TestVideo.mp4: 384x640 1 Crocodile, 25.4ms\n",
            "video 1/1 (2240/2628) /content/gdrive/MyDrive/data_sets/Dataset_2/Animal_TestVideo.mp4: 384x640 1 Crocodile, 1 Deer, 25.3ms\n",
            "video 1/1 (2241/2628) /content/gdrive/MyDrive/data_sets/Dataset_2/Animal_TestVideo.mp4: 384x640 1 Crocodile, 1 Deer, 26.1ms\n",
            "video 1/1 (2242/2628) /content/gdrive/MyDrive/data_sets/Dataset_2/Animal_TestVideo.mp4: 384x640 1 Deer, 26.1ms\n",
            "video 1/1 (2243/2628) /content/gdrive/MyDrive/data_sets/Dataset_2/Animal_TestVideo.mp4: 384x640 1 Deer, 25.1ms\n",
            "video 1/1 (2244/2628) /content/gdrive/MyDrive/data_sets/Dataset_2/Animal_TestVideo.mp4: 384x640 2 Deers, 25.2ms\n",
            "video 1/1 (2245/2628) /content/gdrive/MyDrive/data_sets/Dataset_2/Animal_TestVideo.mp4: 384x640 3 Deers, 25.2ms\n",
            "video 1/1 (2246/2628) /content/gdrive/MyDrive/data_sets/Dataset_2/Animal_TestVideo.mp4: 384x640 1 Deer, 25.3ms\n",
            "video 1/1 (2247/2628) /content/gdrive/MyDrive/data_sets/Dataset_2/Animal_TestVideo.mp4: 384x640 1 Deer, 25.2ms\n",
            "video 1/1 (2248/2628) /content/gdrive/MyDrive/data_sets/Dataset_2/Animal_TestVideo.mp4: 384x640 1 Deer, 28.0ms\n",
            "video 1/1 (2249/2628) /content/gdrive/MyDrive/data_sets/Dataset_2/Animal_TestVideo.mp4: 384x640 1 Deer, 25.2ms\n",
            "video 1/1 (2250/2628) /content/gdrive/MyDrive/data_sets/Dataset_2/Animal_TestVideo.mp4: 384x640 1 Deer, 30.8ms\n",
            "video 1/1 (2251/2628) /content/gdrive/MyDrive/data_sets/Dataset_2/Animal_TestVideo.mp4: 384x640 1 Deer, 25.2ms\n",
            "video 1/1 (2252/2628) /content/gdrive/MyDrive/data_sets/Dataset_2/Animal_TestVideo.mp4: 384x640 1 Deer, 25.4ms\n",
            "video 1/1 (2253/2628) /content/gdrive/MyDrive/data_sets/Dataset_2/Animal_TestVideo.mp4: 384x640 1 Deer, 25.2ms\n",
            "video 1/1 (2254/2628) /content/gdrive/MyDrive/data_sets/Dataset_2/Animal_TestVideo.mp4: 384x640 1 Deer, 25.2ms\n",
            "video 1/1 (2255/2628) /content/gdrive/MyDrive/data_sets/Dataset_2/Animal_TestVideo.mp4: 384x640 1 Deer, 25.2ms\n",
            "video 1/1 (2256/2628) /content/gdrive/MyDrive/data_sets/Dataset_2/Animal_TestVideo.mp4: 384x640 1 Deer, 25.8ms\n",
            "video 1/1 (2257/2628) /content/gdrive/MyDrive/data_sets/Dataset_2/Animal_TestVideo.mp4: 384x640 1 Deer, 25.1ms\n",
            "video 1/1 (2258/2628) /content/gdrive/MyDrive/data_sets/Dataset_2/Animal_TestVideo.mp4: 384x640 1 Deer, 25.1ms\n",
            "video 1/1 (2259/2628) /content/gdrive/MyDrive/data_sets/Dataset_2/Animal_TestVideo.mp4: 384x640 1 Deer, 25.2ms\n",
            "video 1/1 (2260/2628) /content/gdrive/MyDrive/data_sets/Dataset_2/Animal_TestVideo.mp4: 384x640 1 Deer, 25.2ms\n",
            "video 1/1 (2261/2628) /content/gdrive/MyDrive/data_sets/Dataset_2/Animal_TestVideo.mp4: 384x640 1 Deer, 25.7ms\n",
            "video 1/1 (2262/2628) /content/gdrive/MyDrive/data_sets/Dataset_2/Animal_TestVideo.mp4: 384x640 1 Deer, 25.2ms\n",
            "video 1/1 (2263/2628) /content/gdrive/MyDrive/data_sets/Dataset_2/Animal_TestVideo.mp4: 384x640 1 Deer, 23.1ms\n",
            "video 1/1 (2264/2628) /content/gdrive/MyDrive/data_sets/Dataset_2/Animal_TestVideo.mp4: 384x640 1 Deer, 23.2ms\n",
            "video 1/1 (2265/2628) /content/gdrive/MyDrive/data_sets/Dataset_2/Animal_TestVideo.mp4: 384x640 1 Deer, 23.1ms\n",
            "video 1/1 (2266/2628) /content/gdrive/MyDrive/data_sets/Dataset_2/Animal_TestVideo.mp4: 384x640 1 Deer, 23.1ms\n",
            "video 1/1 (2267/2628) /content/gdrive/MyDrive/data_sets/Dataset_2/Animal_TestVideo.mp4: 384x640 1 Deer, 23.4ms\n",
            "video 1/1 (2268/2628) /content/gdrive/MyDrive/data_sets/Dataset_2/Animal_TestVideo.mp4: 384x640 1 Deer, 23.1ms\n",
            "video 1/1 (2269/2628) /content/gdrive/MyDrive/data_sets/Dataset_2/Animal_TestVideo.mp4: 384x640 1 Deer, 23.1ms\n",
            "video 1/1 (2270/2628) /content/gdrive/MyDrive/data_sets/Dataset_2/Animal_TestVideo.mp4: 384x640 1 Deer, 23.1ms\n",
            "video 1/1 (2271/2628) /content/gdrive/MyDrive/data_sets/Dataset_2/Animal_TestVideo.mp4: 384x640 1 Deer, 23.1ms\n",
            "video 1/1 (2272/2628) /content/gdrive/MyDrive/data_sets/Dataset_2/Animal_TestVideo.mp4: 384x640 1 Deer, 23.1ms\n",
            "video 1/1 (2273/2628) /content/gdrive/MyDrive/data_sets/Dataset_2/Animal_TestVideo.mp4: 384x640 1 Deer, 23.2ms\n",
            "video 1/1 (2274/2628) /content/gdrive/MyDrive/data_sets/Dataset_2/Animal_TestVideo.mp4: 384x640 1 Deer, 23.1ms\n",
            "video 1/1 (2275/2628) /content/gdrive/MyDrive/data_sets/Dataset_2/Animal_TestVideo.mp4: 384x640 1 Deer, 23.1ms\n",
            "video 1/1 (2276/2628) /content/gdrive/MyDrive/data_sets/Dataset_2/Animal_TestVideo.mp4: 384x640 1 Deer, 23.1ms\n",
            "video 1/1 (2277/2628) /content/gdrive/MyDrive/data_sets/Dataset_2/Animal_TestVideo.mp4: 384x640 1 Deer, 23.1ms\n",
            "video 1/1 (2278/2628) /content/gdrive/MyDrive/data_sets/Dataset_2/Animal_TestVideo.mp4: 384x640 1 Deer, 23.1ms\n",
            "video 1/1 (2279/2628) /content/gdrive/MyDrive/data_sets/Dataset_2/Animal_TestVideo.mp4: 384x640 1 Deer, 23.5ms\n",
            "video 1/1 (2280/2628) /content/gdrive/MyDrive/data_sets/Dataset_2/Animal_TestVideo.mp4: 384x640 1 Deer, 23.1ms\n",
            "video 1/1 (2281/2628) /content/gdrive/MyDrive/data_sets/Dataset_2/Animal_TestVideo.mp4: 384x640 1 Deer, 23.1ms\n",
            "video 1/1 (2282/2628) /content/gdrive/MyDrive/data_sets/Dataset_2/Animal_TestVideo.mp4: 384x640 1 Deer, 23.1ms\n",
            "video 1/1 (2283/2628) /content/gdrive/MyDrive/data_sets/Dataset_2/Animal_TestVideo.mp4: 384x640 1 Deer, 23.1ms\n",
            "video 1/1 (2284/2628) /content/gdrive/MyDrive/data_sets/Dataset_2/Animal_TestVideo.mp4: 384x640 1 Deer, 23.1ms\n",
            "video 1/1 (2285/2628) /content/gdrive/MyDrive/data_sets/Dataset_2/Animal_TestVideo.mp4: 384x640 1 Deer, 23.1ms\n",
            "video 1/1 (2286/2628) /content/gdrive/MyDrive/data_sets/Dataset_2/Animal_TestVideo.mp4: 384x640 1 Deer, 23.1ms\n",
            "video 1/1 (2287/2628) /content/gdrive/MyDrive/data_sets/Dataset_2/Animal_TestVideo.mp4: 384x640 1 Deer, 23.1ms\n",
            "video 1/1 (2288/2628) /content/gdrive/MyDrive/data_sets/Dataset_2/Animal_TestVideo.mp4: 384x640 1 Deer, 23.1ms\n",
            "video 1/1 (2289/2628) /content/gdrive/MyDrive/data_sets/Dataset_2/Animal_TestVideo.mp4: 384x640 1 Deer, 23.5ms\n",
            "video 1/1 (2290/2628) /content/gdrive/MyDrive/data_sets/Dataset_2/Animal_TestVideo.mp4: 384x640 1 Deer, 25.1ms\n",
            "video 1/1 (2291/2628) /content/gdrive/MyDrive/data_sets/Dataset_2/Animal_TestVideo.mp4: 384x640 1 Deer, 25.3ms\n",
            "video 1/1 (2292/2628) /content/gdrive/MyDrive/data_sets/Dataset_2/Animal_TestVideo.mp4: 384x640 1 Deer, 25.3ms\n",
            "video 1/1 (2293/2628) /content/gdrive/MyDrive/data_sets/Dataset_2/Animal_TestVideo.mp4: 384x640 1 Deer, 25.2ms\n",
            "video 1/1 (2294/2628) /content/gdrive/MyDrive/data_sets/Dataset_2/Animal_TestVideo.mp4: 384x640 1 Deer, 25.2ms\n",
            "video 1/1 (2295/2628) /content/gdrive/MyDrive/data_sets/Dataset_2/Animal_TestVideo.mp4: 384x640 1 Deer, 25.0ms\n",
            "video 1/1 (2296/2628) /content/gdrive/MyDrive/data_sets/Dataset_2/Animal_TestVideo.mp4: 384x640 1 Deer, 26.3ms\n",
            "video 1/1 (2297/2628) /content/gdrive/MyDrive/data_sets/Dataset_2/Animal_TestVideo.mp4: 384x640 1 Deer, 24.6ms\n",
            "video 1/1 (2298/2628) /content/gdrive/MyDrive/data_sets/Dataset_2/Animal_TestVideo.mp4: 384x640 1 Deer, 24.6ms\n",
            "video 1/1 (2299/2628) /content/gdrive/MyDrive/data_sets/Dataset_2/Animal_TestVideo.mp4: 384x640 1 Deer, 24.6ms\n",
            "video 1/1 (2300/2628) /content/gdrive/MyDrive/data_sets/Dataset_2/Animal_TestVideo.mp4: 384x640 1 Deer, 24.6ms\n",
            "video 1/1 (2301/2628) /content/gdrive/MyDrive/data_sets/Dataset_2/Animal_TestVideo.mp4: 384x640 1 Deer, 24.6ms\n",
            "video 1/1 (2302/2628) /content/gdrive/MyDrive/data_sets/Dataset_2/Animal_TestVideo.mp4: 384x640 1 Deer, 24.6ms\n",
            "video 1/1 (2303/2628) /content/gdrive/MyDrive/data_sets/Dataset_2/Animal_TestVideo.mp4: 384x640 1 Deer, 24.6ms\n",
            "video 1/1 (2304/2628) /content/gdrive/MyDrive/data_sets/Dataset_2/Animal_TestVideo.mp4: 384x640 1 Deer, 24.6ms\n",
            "video 1/1 (2305/2628) /content/gdrive/MyDrive/data_sets/Dataset_2/Animal_TestVideo.mp4: 384x640 1 Deer, 24.6ms\n",
            "video 1/1 (2306/2628) /content/gdrive/MyDrive/data_sets/Dataset_2/Animal_TestVideo.mp4: 384x640 1 Deer, 24.8ms\n",
            "video 1/1 (2307/2628) /content/gdrive/MyDrive/data_sets/Dataset_2/Animal_TestVideo.mp4: 384x640 1 Deer, 24.8ms\n",
            "video 1/1 (2308/2628) /content/gdrive/MyDrive/data_sets/Dataset_2/Animal_TestVideo.mp4: 384x640 1 Deer, 24.5ms\n",
            "video 1/1 (2309/2628) /content/gdrive/MyDrive/data_sets/Dataset_2/Animal_TestVideo.mp4: 384x640 1 Deer, 24.7ms\n",
            "video 1/1 (2310/2628) /content/gdrive/MyDrive/data_sets/Dataset_2/Animal_TestVideo.mp4: 384x640 1 Deer, 24.6ms\n",
            "video 1/1 (2311/2628) /content/gdrive/MyDrive/data_sets/Dataset_2/Animal_TestVideo.mp4: 384x640 1 Deer, 26.3ms\n",
            "video 1/1 (2312/2628) /content/gdrive/MyDrive/data_sets/Dataset_2/Animal_TestVideo.mp4: 384x640 1 Deer, 24.6ms\n",
            "video 1/1 (2313/2628) /content/gdrive/MyDrive/data_sets/Dataset_2/Animal_TestVideo.mp4: 384x640 1 Deer, 24.6ms\n",
            "video 1/1 (2314/2628) /content/gdrive/MyDrive/data_sets/Dataset_2/Animal_TestVideo.mp4: 384x640 1 Deer, 24.6ms\n",
            "video 1/1 (2315/2628) /content/gdrive/MyDrive/data_sets/Dataset_2/Animal_TestVideo.mp4: 384x640 1 Deer, 24.6ms\n",
            "video 1/1 (2316/2628) /content/gdrive/MyDrive/data_sets/Dataset_2/Animal_TestVideo.mp4: 384x640 1 Deer, 28.0ms\n",
            "video 1/1 (2317/2628) /content/gdrive/MyDrive/data_sets/Dataset_2/Animal_TestVideo.mp4: 384x640 1 Deer, 25.3ms\n",
            "video 1/1 (2318/2628) /content/gdrive/MyDrive/data_sets/Dataset_2/Animal_TestVideo.mp4: 384x640 1 Deer, 24.6ms\n",
            "video 1/1 (2319/2628) /content/gdrive/MyDrive/data_sets/Dataset_2/Animal_TestVideo.mp4: 384x640 1 Deer, 24.6ms\n",
            "video 1/1 (2320/2628) /content/gdrive/MyDrive/data_sets/Dataset_2/Animal_TestVideo.mp4: 384x640 1 Deer, 22.8ms\n",
            "video 1/1 (2321/2628) /content/gdrive/MyDrive/data_sets/Dataset_2/Animal_TestVideo.mp4: 384x640 1 Deer, 22.7ms\n",
            "video 1/1 (2322/2628) /content/gdrive/MyDrive/data_sets/Dataset_2/Animal_TestVideo.mp4: 384x640 1 Deer, 22.7ms\n",
            "video 1/1 (2323/2628) /content/gdrive/MyDrive/data_sets/Dataset_2/Animal_TestVideo.mp4: 384x640 1 Deer, 22.6ms\n",
            "video 1/1 (2324/2628) /content/gdrive/MyDrive/data_sets/Dataset_2/Animal_TestVideo.mp4: 384x640 1 Deer, 22.7ms\n",
            "video 1/1 (2325/2628) /content/gdrive/MyDrive/data_sets/Dataset_2/Animal_TestVideo.mp4: 384x640 1 Deer, 22.6ms\n",
            "video 1/1 (2326/2628) /content/gdrive/MyDrive/data_sets/Dataset_2/Animal_TestVideo.mp4: 384x640 1 Deer, 22.6ms\n",
            "video 1/1 (2327/2628) /content/gdrive/MyDrive/data_sets/Dataset_2/Animal_TestVideo.mp4: 384x640 1 Deer, 22.7ms\n",
            "video 1/1 (2328/2628) /content/gdrive/MyDrive/data_sets/Dataset_2/Animal_TestVideo.mp4: 384x640 1 Deer, 22.6ms\n",
            "video 1/1 (2329/2628) /content/gdrive/MyDrive/data_sets/Dataset_2/Animal_TestVideo.mp4: 384x640 1 Deer, 22.6ms\n",
            "video 1/1 (2330/2628) /content/gdrive/MyDrive/data_sets/Dataset_2/Animal_TestVideo.mp4: 384x640 1 Deer, 22.6ms\n",
            "video 1/1 (2331/2628) /content/gdrive/MyDrive/data_sets/Dataset_2/Animal_TestVideo.mp4: 384x640 2 Deers, 22.6ms\n",
            "video 1/1 (2332/2628) /content/gdrive/MyDrive/data_sets/Dataset_2/Animal_TestVideo.mp4: 384x640 2 Deers, 22.6ms\n",
            "video 1/1 (2333/2628) /content/gdrive/MyDrive/data_sets/Dataset_2/Animal_TestVideo.mp4: 384x640 2 Deers, 22.6ms\n",
            "video 1/1 (2334/2628) /content/gdrive/MyDrive/data_sets/Dataset_2/Animal_TestVideo.mp4: 384x640 1 Deer, 22.7ms\n",
            "video 1/1 (2335/2628) /content/gdrive/MyDrive/data_sets/Dataset_2/Animal_TestVideo.mp4: 384x640 1 Deer, 22.6ms\n",
            "video 1/1 (2336/2628) /content/gdrive/MyDrive/data_sets/Dataset_2/Animal_TestVideo.mp4: 384x640 1 Deer, 22.7ms\n",
            "video 1/1 (2337/2628) /content/gdrive/MyDrive/data_sets/Dataset_2/Animal_TestVideo.mp4: 384x640 1 Deer, 22.7ms\n",
            "video 1/1 (2338/2628) /content/gdrive/MyDrive/data_sets/Dataset_2/Animal_TestVideo.mp4: 384x640 1 Deer, 22.6ms\n",
            "video 1/1 (2339/2628) /content/gdrive/MyDrive/data_sets/Dataset_2/Animal_TestVideo.mp4: 384x640 1 Deer, 22.7ms\n",
            "video 1/1 (2340/2628) /content/gdrive/MyDrive/data_sets/Dataset_2/Animal_TestVideo.mp4: 384x640 1 Deer, 22.6ms\n",
            "video 1/1 (2341/2628) /content/gdrive/MyDrive/data_sets/Dataset_2/Animal_TestVideo.mp4: 384x640 1 Deer, 22.7ms\n",
            "video 1/1 (2342/2628) /content/gdrive/MyDrive/data_sets/Dataset_2/Animal_TestVideo.mp4: 384x640 1 Deer, 22.6ms\n",
            "video 1/1 (2343/2628) /content/gdrive/MyDrive/data_sets/Dataset_2/Animal_TestVideo.mp4: 384x640 1 Deer, 22.7ms\n",
            "video 1/1 (2344/2628) /content/gdrive/MyDrive/data_sets/Dataset_2/Animal_TestVideo.mp4: 384x640 1 Deer, 22.6ms\n",
            "video 1/1 (2345/2628) /content/gdrive/MyDrive/data_sets/Dataset_2/Animal_TestVideo.mp4: 384x640 1 Deer, 23.2ms\n",
            "video 1/1 (2346/2628) /content/gdrive/MyDrive/data_sets/Dataset_2/Animal_TestVideo.mp4: 384x640 1 Deer, 22.7ms\n",
            "video 1/1 (2347/2628) /content/gdrive/MyDrive/data_sets/Dataset_2/Animal_TestVideo.mp4: 384x640 1 Deer, 22.7ms\n",
            "video 1/1 (2348/2628) /content/gdrive/MyDrive/data_sets/Dataset_2/Animal_TestVideo.mp4: 384x640 1 Deer, 28.6ms\n",
            "video 1/1 (2349/2628) /content/gdrive/MyDrive/data_sets/Dataset_2/Animal_TestVideo.mp4: 384x640 1 Deer, 22.6ms\n",
            "video 1/1 (2350/2628) /content/gdrive/MyDrive/data_sets/Dataset_2/Animal_TestVideo.mp4: 384x640 1 Deer, 22.7ms\n",
            "video 1/1 (2351/2628) /content/gdrive/MyDrive/data_sets/Dataset_2/Animal_TestVideo.mp4: 384x640 1 Deer, 26.0ms\n",
            "video 1/1 (2352/2628) /content/gdrive/MyDrive/data_sets/Dataset_2/Animal_TestVideo.mp4: 384x640 1 Deer, 22.7ms\n",
            "video 1/1 (2353/2628) /content/gdrive/MyDrive/data_sets/Dataset_2/Animal_TestVideo.mp4: 384x640 1 Deer, 22.9ms\n",
            "video 1/1 (2354/2628) /content/gdrive/MyDrive/data_sets/Dataset_2/Animal_TestVideo.mp4: 384x640 1 Deer, 23.1ms\n",
            "video 1/1 (2355/2628) /content/gdrive/MyDrive/data_sets/Dataset_2/Animal_TestVideo.mp4: 384x640 1 Deer, 23.3ms\n",
            "video 1/1 (2356/2628) /content/gdrive/MyDrive/data_sets/Dataset_2/Animal_TestVideo.mp4: 384x640 1 Deer, 1 Tiger, 27.4ms\n",
            "video 1/1 (2357/2628) /content/gdrive/MyDrive/data_sets/Dataset_2/Animal_TestVideo.mp4: 384x640 1 Tiger, 23.1ms\n",
            "video 1/1 (2358/2628) /content/gdrive/MyDrive/data_sets/Dataset_2/Animal_TestVideo.mp4: 384x640 1 Deer, 1 Tiger, 25.6ms\n",
            "video 1/1 (2359/2628) /content/gdrive/MyDrive/data_sets/Dataset_2/Animal_TestVideo.mp4: 384x640 1 Deer, 23.1ms\n",
            "video 1/1 (2360/2628) /content/gdrive/MyDrive/data_sets/Dataset_2/Animal_TestVideo.mp4: 384x640 1 Deer, 23.2ms\n",
            "video 1/1 (2361/2628) /content/gdrive/MyDrive/data_sets/Dataset_2/Animal_TestVideo.mp4: 384x640 1 Deer, 23.1ms\n",
            "video 1/1 (2362/2628) /content/gdrive/MyDrive/data_sets/Dataset_2/Animal_TestVideo.mp4: 384x640 1 Deer, 23.1ms\n",
            "video 1/1 (2363/2628) /content/gdrive/MyDrive/data_sets/Dataset_2/Animal_TestVideo.mp4: 384x640 1 Deer, 23.1ms\n",
            "video 1/1 (2364/2628) /content/gdrive/MyDrive/data_sets/Dataset_2/Animal_TestVideo.mp4: 384x640 1 Deer, 23.1ms\n",
            "video 1/1 (2365/2628) /content/gdrive/MyDrive/data_sets/Dataset_2/Animal_TestVideo.mp4: 384x640 1 Deer, 23.1ms\n",
            "video 1/1 (2366/2628) /content/gdrive/MyDrive/data_sets/Dataset_2/Animal_TestVideo.mp4: 384x640 1 Deer, 23.1ms\n",
            "video 1/1 (2367/2628) /content/gdrive/MyDrive/data_sets/Dataset_2/Animal_TestVideo.mp4: 384x640 1 Deer, 23.2ms\n",
            "video 1/1 (2368/2628) /content/gdrive/MyDrive/data_sets/Dataset_2/Animal_TestVideo.mp4: 384x640 1 Deer, 23.1ms\n",
            "video 1/1 (2369/2628) /content/gdrive/MyDrive/data_sets/Dataset_2/Animal_TestVideo.mp4: 384x640 1 Deer, 23.1ms\n",
            "video 1/1 (2370/2628) /content/gdrive/MyDrive/data_sets/Dataset_2/Animal_TestVideo.mp4: 384x640 1 Deer, 23.5ms\n",
            "video 1/1 (2371/2628) /content/gdrive/MyDrive/data_sets/Dataset_2/Animal_TestVideo.mp4: 384x640 1 Deer, 23.6ms\n",
            "video 1/1 (2372/2628) /content/gdrive/MyDrive/data_sets/Dataset_2/Animal_TestVideo.mp4: 384x640 1 Deer, 23.6ms\n",
            "video 1/1 (2373/2628) /content/gdrive/MyDrive/data_sets/Dataset_2/Animal_TestVideo.mp4: 384x640 1 Deer, 24.2ms\n",
            "video 1/1 (2374/2628) /content/gdrive/MyDrive/data_sets/Dataset_2/Animal_TestVideo.mp4: 384x640 1 Deer, 23.6ms\n",
            "video 1/1 (2375/2628) /content/gdrive/MyDrive/data_sets/Dataset_2/Animal_TestVideo.mp4: 384x640 1 Deer, 1 Tiger, 24.0ms\n",
            "video 1/1 (2376/2628) /content/gdrive/MyDrive/data_sets/Dataset_2/Animal_TestVideo.mp4: 384x640 1 Deer, 24.1ms\n",
            "video 1/1 (2377/2628) /content/gdrive/MyDrive/data_sets/Dataset_2/Animal_TestVideo.mp4: 384x640 1 Deer, 25.4ms\n",
            "video 1/1 (2378/2628) /content/gdrive/MyDrive/data_sets/Dataset_2/Animal_TestVideo.mp4: 384x640 1 Deer, 24.8ms\n",
            "video 1/1 (2379/2628) /content/gdrive/MyDrive/data_sets/Dataset_2/Animal_TestVideo.mp4: 384x640 1 Deer, 24.7ms\n",
            "video 1/1 (2380/2628) /content/gdrive/MyDrive/data_sets/Dataset_2/Animal_TestVideo.mp4: 384x640 1 Deer, 25.0ms\n",
            "video 1/1 (2381/2628) /content/gdrive/MyDrive/data_sets/Dataset_2/Animal_TestVideo.mp4: 384x640 1 Deer, 26.6ms\n",
            "video 1/1 (2382/2628) /content/gdrive/MyDrive/data_sets/Dataset_2/Animal_TestVideo.mp4: 384x640 1 Deer, 25.2ms\n",
            "video 1/1 (2383/2628) /content/gdrive/MyDrive/data_sets/Dataset_2/Animal_TestVideo.mp4: 384x640 1 Deer, 25.2ms\n",
            "video 1/1 (2384/2628) /content/gdrive/MyDrive/data_sets/Dataset_2/Animal_TestVideo.mp4: 384x640 1 Deer, 25.7ms\n",
            "video 1/1 (2385/2628) /content/gdrive/MyDrive/data_sets/Dataset_2/Animal_TestVideo.mp4: 384x640 1 Deer, 27.8ms\n",
            "video 1/1 (2386/2628) /content/gdrive/MyDrive/data_sets/Dataset_2/Animal_TestVideo.mp4: 384x640 1 Deer, 25.2ms\n",
            "video 1/1 (2387/2628) /content/gdrive/MyDrive/data_sets/Dataset_2/Animal_TestVideo.mp4: 384x640 1 Deer, 26.4ms\n",
            "video 1/1 (2388/2628) /content/gdrive/MyDrive/data_sets/Dataset_2/Animal_TestVideo.mp4: 384x640 1 Deer, 25.3ms\n",
            "video 1/1 (2389/2628) /content/gdrive/MyDrive/data_sets/Dataset_2/Animal_TestVideo.mp4: 384x640 1 Deer, 30.6ms\n",
            "video 1/1 (2390/2628) /content/gdrive/MyDrive/data_sets/Dataset_2/Animal_TestVideo.mp4: 384x640 1 Deer, 25.2ms\n",
            "video 1/1 (2391/2628) /content/gdrive/MyDrive/data_sets/Dataset_2/Animal_TestVideo.mp4: 384x640 1 Deer, 25.3ms\n",
            "video 1/1 (2392/2628) /content/gdrive/MyDrive/data_sets/Dataset_2/Animal_TestVideo.mp4: 384x640 1 Deer, 29.8ms\n",
            "video 1/1 (2393/2628) /content/gdrive/MyDrive/data_sets/Dataset_2/Animal_TestVideo.mp4: 384x640 1 Deer, 26.5ms\n",
            "video 1/1 (2394/2628) /content/gdrive/MyDrive/data_sets/Dataset_2/Animal_TestVideo.mp4: 384x640 (no detections), 25.2ms\n",
            "video 1/1 (2395/2628) /content/gdrive/MyDrive/data_sets/Dataset_2/Animal_TestVideo.mp4: 384x640 1 Deer, 25.3ms\n",
            "video 1/1 (2396/2628) /content/gdrive/MyDrive/data_sets/Dataset_2/Animal_TestVideo.mp4: 384x640 1 Deer, 26.6ms\n",
            "video 1/1 (2397/2628) /content/gdrive/MyDrive/data_sets/Dataset_2/Animal_TestVideo.mp4: 384x640 (no detections), 25.2ms\n",
            "video 1/1 (2398/2628) /content/gdrive/MyDrive/data_sets/Dataset_2/Animal_TestVideo.mp4: 384x640 (no detections), 26.0ms\n",
            "video 1/1 (2399/2628) /content/gdrive/MyDrive/data_sets/Dataset_2/Animal_TestVideo.mp4: 384x640 (no detections), 25.2ms\n",
            "video 1/1 (2400/2628) /content/gdrive/MyDrive/data_sets/Dataset_2/Animal_TestVideo.mp4: 384x640 1 Bear, 25.2ms\n",
            "video 1/1 (2401/2628) /content/gdrive/MyDrive/data_sets/Dataset_2/Animal_TestVideo.mp4: 384x640 1 Bear, 25.2ms\n",
            "video 1/1 (2402/2628) /content/gdrive/MyDrive/data_sets/Dataset_2/Animal_TestVideo.mp4: 384x640 1 Bear, 25.2ms\n",
            "video 1/1 (2403/2628) /content/gdrive/MyDrive/data_sets/Dataset_2/Animal_TestVideo.mp4: 384x640 1 Bear, 25.2ms\n",
            "video 1/1 (2404/2628) /content/gdrive/MyDrive/data_sets/Dataset_2/Animal_TestVideo.mp4: 384x640 1 Bear, 28.0ms\n",
            "video 1/1 (2405/2628) /content/gdrive/MyDrive/data_sets/Dataset_2/Animal_TestVideo.mp4: 384x640 1 Bear, 30.2ms\n",
            "video 1/1 (2406/2628) /content/gdrive/MyDrive/data_sets/Dataset_2/Animal_TestVideo.mp4: 384x640 1 Bear, 25.2ms\n",
            "video 1/1 (2407/2628) /content/gdrive/MyDrive/data_sets/Dataset_2/Animal_TestVideo.mp4: 384x640 (no detections), 36.2ms\n",
            "video 1/1 (2408/2628) /content/gdrive/MyDrive/data_sets/Dataset_2/Animal_TestVideo.mp4: 384x640 1 Bear, 25.2ms\n",
            "video 1/1 (2409/2628) /content/gdrive/MyDrive/data_sets/Dataset_2/Animal_TestVideo.mp4: 384x640 (no detections), 26.3ms\n",
            "video 1/1 (2410/2628) /content/gdrive/MyDrive/data_sets/Dataset_2/Animal_TestVideo.mp4: 384x640 1 Bear, 25.9ms\n",
            "video 1/1 (2411/2628) /content/gdrive/MyDrive/data_sets/Dataset_2/Animal_TestVideo.mp4: 384x640 1 Bear, 25.4ms\n",
            "video 1/1 (2412/2628) /content/gdrive/MyDrive/data_sets/Dataset_2/Animal_TestVideo.mp4: 384x640 1 Bear, 25.2ms\n",
            "video 1/1 (2413/2628) /content/gdrive/MyDrive/data_sets/Dataset_2/Animal_TestVideo.mp4: 384x640 1 Bear, 25.2ms\n",
            "video 1/1 (2414/2628) /content/gdrive/MyDrive/data_sets/Dataset_2/Animal_TestVideo.mp4: 384x640 1 Bear, 27.1ms\n",
            "video 1/1 (2415/2628) /content/gdrive/MyDrive/data_sets/Dataset_2/Animal_TestVideo.mp4: 384x640 1 Bear, 25.2ms\n",
            "video 1/1 (2416/2628) /content/gdrive/MyDrive/data_sets/Dataset_2/Animal_TestVideo.mp4: 384x640 1 Bear, 25.2ms\n",
            "video 1/1 (2417/2628) /content/gdrive/MyDrive/data_sets/Dataset_2/Animal_TestVideo.mp4: 384x640 1 Bear, 25.9ms\n",
            "video 1/1 (2418/2628) /content/gdrive/MyDrive/data_sets/Dataset_2/Animal_TestVideo.mp4: 384x640 (no detections), 25.2ms\n",
            "video 1/1 (2419/2628) /content/gdrive/MyDrive/data_sets/Dataset_2/Animal_TestVideo.mp4: 384x640 (no detections), 25.2ms\n",
            "video 1/1 (2420/2628) /content/gdrive/MyDrive/data_sets/Dataset_2/Animal_TestVideo.mp4: 384x640 (no detections), 25.2ms\n",
            "video 1/1 (2421/2628) /content/gdrive/MyDrive/data_sets/Dataset_2/Animal_TestVideo.mp4: 384x640 (no detections), 28.2ms\n",
            "video 1/1 (2422/2628) /content/gdrive/MyDrive/data_sets/Dataset_2/Animal_TestVideo.mp4: 384x640 (no detections), 25.4ms\n",
            "video 1/1 (2423/2628) /content/gdrive/MyDrive/data_sets/Dataset_2/Animal_TestVideo.mp4: 384x640 (no detections), 25.3ms\n",
            "video 1/1 (2424/2628) /content/gdrive/MyDrive/data_sets/Dataset_2/Animal_TestVideo.mp4: 384x640 1 Bear, 25.3ms\n",
            "video 1/1 (2425/2628) /content/gdrive/MyDrive/data_sets/Dataset_2/Animal_TestVideo.mp4: 384x640 (no detections), 25.2ms\n",
            "video 1/1 (2426/2628) /content/gdrive/MyDrive/data_sets/Dataset_2/Animal_TestVideo.mp4: 384x640 (no detections), 28.2ms\n",
            "video 1/1 (2427/2628) /content/gdrive/MyDrive/data_sets/Dataset_2/Animal_TestVideo.mp4: 384x640 1 Bear, 26.5ms\n",
            "video 1/1 (2428/2628) /content/gdrive/MyDrive/data_sets/Dataset_2/Animal_TestVideo.mp4: 384x640 1 Bear, 28.6ms\n",
            "video 1/1 (2429/2628) /content/gdrive/MyDrive/data_sets/Dataset_2/Animal_TestVideo.mp4: 384x640 1 Bear, 25.2ms\n",
            "video 1/1 (2430/2628) /content/gdrive/MyDrive/data_sets/Dataset_2/Animal_TestVideo.mp4: 384x640 1 Bear, 27.6ms\n",
            "video 1/1 (2431/2628) /content/gdrive/MyDrive/data_sets/Dataset_2/Animal_TestVideo.mp4: 384x640 1 Bear, 26.6ms\n",
            "video 1/1 (2432/2628) /content/gdrive/MyDrive/data_sets/Dataset_2/Animal_TestVideo.mp4: 384x640 1 Bear, 25.3ms\n",
            "video 1/1 (2433/2628) /content/gdrive/MyDrive/data_sets/Dataset_2/Animal_TestVideo.mp4: 384x640 1 Bear, 25.3ms\n",
            "video 1/1 (2434/2628) /content/gdrive/MyDrive/data_sets/Dataset_2/Animal_TestVideo.mp4: 384x640 1 Bear, 25.2ms\n",
            "video 1/1 (2435/2628) /content/gdrive/MyDrive/data_sets/Dataset_2/Animal_TestVideo.mp4: 384x640 1 Bear, 25.3ms\n",
            "video 1/1 (2436/2628) /content/gdrive/MyDrive/data_sets/Dataset_2/Animal_TestVideo.mp4: 384x640 1 Bear, 25.2ms\n",
            "video 1/1 (2437/2628) /content/gdrive/MyDrive/data_sets/Dataset_2/Animal_TestVideo.mp4: 384x640 1 Bear, 27.6ms\n",
            "video 1/1 (2438/2628) /content/gdrive/MyDrive/data_sets/Dataset_2/Animal_TestVideo.mp4: 384x640 1 Bear, 28.2ms\n",
            "video 1/1 (2439/2628) /content/gdrive/MyDrive/data_sets/Dataset_2/Animal_TestVideo.mp4: 384x640 1 Bear, 25.2ms\n",
            "video 1/1 (2440/2628) /content/gdrive/MyDrive/data_sets/Dataset_2/Animal_TestVideo.mp4: 384x640 1 Bear, 25.2ms\n",
            "video 1/1 (2441/2628) /content/gdrive/MyDrive/data_sets/Dataset_2/Animal_TestVideo.mp4: 384x640 1 Bear, 25.6ms\n",
            "video 1/1 (2442/2628) /content/gdrive/MyDrive/data_sets/Dataset_2/Animal_TestVideo.mp4: 384x640 1 Bear, 25.2ms\n",
            "video 1/1 (2443/2628) /content/gdrive/MyDrive/data_sets/Dataset_2/Animal_TestVideo.mp4: 384x640 1 Bear, 25.2ms\n",
            "video 1/1 (2444/2628) /content/gdrive/MyDrive/data_sets/Dataset_2/Animal_TestVideo.mp4: 384x640 1 Bear, 25.2ms\n",
            "video 1/1 (2445/2628) /content/gdrive/MyDrive/data_sets/Dataset_2/Animal_TestVideo.mp4: 384x640 1 Bear, 25.2ms\n",
            "video 1/1 (2446/2628) /content/gdrive/MyDrive/data_sets/Dataset_2/Animal_TestVideo.mp4: 384x640 1 Bear, 29.6ms\n",
            "video 1/1 (2447/2628) /content/gdrive/MyDrive/data_sets/Dataset_2/Animal_TestVideo.mp4: 384x640 1 Bear, 25.2ms\n",
            "video 1/1 (2448/2628) /content/gdrive/MyDrive/data_sets/Dataset_2/Animal_TestVideo.mp4: 384x640 1 Bear, 24.2ms\n",
            "video 1/1 (2449/2628) /content/gdrive/MyDrive/data_sets/Dataset_2/Animal_TestVideo.mp4: 384x640 1 Bear, 23.5ms\n",
            "video 1/1 (2450/2628) /content/gdrive/MyDrive/data_sets/Dataset_2/Animal_TestVideo.mp4: 384x640 1 Bear, 26.6ms\n",
            "video 1/1 (2451/2628) /content/gdrive/MyDrive/data_sets/Dataset_2/Animal_TestVideo.mp4: 384x640 1 Bear, 23.1ms\n",
            "video 1/1 (2452/2628) /content/gdrive/MyDrive/data_sets/Dataset_2/Animal_TestVideo.mp4: 384x640 1 Bear, 23.5ms\n",
            "video 1/1 (2453/2628) /content/gdrive/MyDrive/data_sets/Dataset_2/Animal_TestVideo.mp4: 384x640 1 Bear, 23.2ms\n",
            "video 1/1 (2454/2628) /content/gdrive/MyDrive/data_sets/Dataset_2/Animal_TestVideo.mp4: 384x640 1 Bear, 23.3ms\n",
            "video 1/1 (2455/2628) /content/gdrive/MyDrive/data_sets/Dataset_2/Animal_TestVideo.mp4: 384x640 1 Bear, 23.3ms\n",
            "video 1/1 (2456/2628) /content/gdrive/MyDrive/data_sets/Dataset_2/Animal_TestVideo.mp4: 384x640 1 Bear, 23.1ms\n",
            "video 1/1 (2457/2628) /content/gdrive/MyDrive/data_sets/Dataset_2/Animal_TestVideo.mp4: 384x640 1 Bear, 25.3ms\n",
            "video 1/1 (2458/2628) /content/gdrive/MyDrive/data_sets/Dataset_2/Animal_TestVideo.mp4: 384x640 1 Bear, 23.2ms\n",
            "video 1/1 (2459/2628) /content/gdrive/MyDrive/data_sets/Dataset_2/Animal_TestVideo.mp4: 384x640 1 Bear, 23.1ms\n",
            "video 1/1 (2460/2628) /content/gdrive/MyDrive/data_sets/Dataset_2/Animal_TestVideo.mp4: 384x640 1 Bear, 23.2ms\n",
            "video 1/1 (2461/2628) /content/gdrive/MyDrive/data_sets/Dataset_2/Animal_TestVideo.mp4: 384x640 1 Bear, 23.1ms\n",
            "video 1/1 (2462/2628) /content/gdrive/MyDrive/data_sets/Dataset_2/Animal_TestVideo.mp4: 384x640 1 Bear, 23.1ms\n",
            "video 1/1 (2463/2628) /content/gdrive/MyDrive/data_sets/Dataset_2/Animal_TestVideo.mp4: 384x640 1 Bear, 23.2ms\n",
            "video 1/1 (2464/2628) /content/gdrive/MyDrive/data_sets/Dataset_2/Animal_TestVideo.mp4: 384x640 1 Bear, 23.1ms\n",
            "video 1/1 (2465/2628) /content/gdrive/MyDrive/data_sets/Dataset_2/Animal_TestVideo.mp4: 384x640 1 Bear, 31.3ms\n",
            "video 1/1 (2466/2628) /content/gdrive/MyDrive/data_sets/Dataset_2/Animal_TestVideo.mp4: 384x640 1 Bear, 23.1ms\n",
            "video 1/1 (2467/2628) /content/gdrive/MyDrive/data_sets/Dataset_2/Animal_TestVideo.mp4: 384x640 1 Bear, 23.0ms\n",
            "video 1/1 (2468/2628) /content/gdrive/MyDrive/data_sets/Dataset_2/Animal_TestVideo.mp4: 384x640 1 Bear, 23.0ms\n",
            "video 1/1 (2469/2628) /content/gdrive/MyDrive/data_sets/Dataset_2/Animal_TestVideo.mp4: 384x640 1 Bear, 22.6ms\n",
            "video 1/1 (2470/2628) /content/gdrive/MyDrive/data_sets/Dataset_2/Animal_TestVideo.mp4: 384x640 1 Bear, 22.7ms\n",
            "video 1/1 (2471/2628) /content/gdrive/MyDrive/data_sets/Dataset_2/Animal_TestVideo.mp4: 384x640 1 Bear, 22.7ms\n",
            "video 1/1 (2472/2628) /content/gdrive/MyDrive/data_sets/Dataset_2/Animal_TestVideo.mp4: 384x640 1 Bear, 23.3ms\n",
            "video 1/1 (2473/2628) /content/gdrive/MyDrive/data_sets/Dataset_2/Animal_TestVideo.mp4: 384x640 1 Bear, 22.7ms\n",
            "video 1/1 (2474/2628) /content/gdrive/MyDrive/data_sets/Dataset_2/Animal_TestVideo.mp4: 384x640 1 Bear, 22.7ms\n",
            "video 1/1 (2475/2628) /content/gdrive/MyDrive/data_sets/Dataset_2/Animal_TestVideo.mp4: 384x640 1 Bear, 22.6ms\n",
            "video 1/1 (2476/2628) /content/gdrive/MyDrive/data_sets/Dataset_2/Animal_TestVideo.mp4: 384x640 1 Bear, 24.1ms\n",
            "video 1/1 (2477/2628) /content/gdrive/MyDrive/data_sets/Dataset_2/Animal_TestVideo.mp4: 384x640 1 Bear, 25.1ms\n",
            "video 1/1 (2478/2628) /content/gdrive/MyDrive/data_sets/Dataset_2/Animal_TestVideo.mp4: 384x640 1 Bear, 22.7ms\n",
            "video 1/1 (2479/2628) /content/gdrive/MyDrive/data_sets/Dataset_2/Animal_TestVideo.mp4: 384x640 1 Bear, 22.6ms\n",
            "video 1/1 (2480/2628) /content/gdrive/MyDrive/data_sets/Dataset_2/Animal_TestVideo.mp4: 384x640 1 Bear, 23.0ms\n",
            "video 1/1 (2481/2628) /content/gdrive/MyDrive/data_sets/Dataset_2/Animal_TestVideo.mp4: 384x640 1 Bear, 22.6ms\n",
            "video 1/1 (2482/2628) /content/gdrive/MyDrive/data_sets/Dataset_2/Animal_TestVideo.mp4: 384x640 1 Bear, 29.7ms\n",
            "video 1/1 (2483/2628) /content/gdrive/MyDrive/data_sets/Dataset_2/Animal_TestVideo.mp4: 384x640 1 Bear, 22.8ms\n",
            "video 1/1 (2484/2628) /content/gdrive/MyDrive/data_sets/Dataset_2/Animal_TestVideo.mp4: 384x640 1 Bear, 22.7ms\n",
            "video 1/1 (2485/2628) /content/gdrive/MyDrive/data_sets/Dataset_2/Animal_TestVideo.mp4: 384x640 1 Bear, 22.7ms\n",
            "video 1/1 (2486/2628) /content/gdrive/MyDrive/data_sets/Dataset_2/Animal_TestVideo.mp4: 384x640 1 Bear, 22.6ms\n",
            "video 1/1 (2487/2628) /content/gdrive/MyDrive/data_sets/Dataset_2/Animal_TestVideo.mp4: 384x640 1 Bear, 22.7ms\n",
            "video 1/1 (2488/2628) /content/gdrive/MyDrive/data_sets/Dataset_2/Animal_TestVideo.mp4: 384x640 1 Bear, 22.7ms\n",
            "video 1/1 (2489/2628) /content/gdrive/MyDrive/data_sets/Dataset_2/Animal_TestVideo.mp4: 384x640 1 Bear, 22.6ms\n",
            "video 1/1 (2490/2628) /content/gdrive/MyDrive/data_sets/Dataset_2/Animal_TestVideo.mp4: 384x640 1 Bear, 22.6ms\n",
            "video 1/1 (2491/2628) /content/gdrive/MyDrive/data_sets/Dataset_2/Animal_TestVideo.mp4: 384x640 1 Bear, 24.7ms\n",
            "video 1/1 (2492/2628) /content/gdrive/MyDrive/data_sets/Dataset_2/Animal_TestVideo.mp4: 384x640 1 Bear, 22.7ms\n",
            "video 1/1 (2493/2628) /content/gdrive/MyDrive/data_sets/Dataset_2/Animal_TestVideo.mp4: 384x640 1 Bear, 22.8ms\n",
            "video 1/1 (2494/2628) /content/gdrive/MyDrive/data_sets/Dataset_2/Animal_TestVideo.mp4: 384x640 1 Bear, 22.6ms\n",
            "video 1/1 (2495/2628) /content/gdrive/MyDrive/data_sets/Dataset_2/Animal_TestVideo.mp4: 384x640 1 Bear, 24.3ms\n",
            "video 1/1 (2496/2628) /content/gdrive/MyDrive/data_sets/Dataset_2/Animal_TestVideo.mp4: 384x640 1 Bear, 24.1ms\n",
            "video 1/1 (2497/2628) /content/gdrive/MyDrive/data_sets/Dataset_2/Animal_TestVideo.mp4: 384x640 1 Bear, 24.3ms\n",
            "video 1/1 (2498/2628) /content/gdrive/MyDrive/data_sets/Dataset_2/Animal_TestVideo.mp4: 384x640 1 Bear, 24.2ms\n",
            "video 1/1 (2499/2628) /content/gdrive/MyDrive/data_sets/Dataset_2/Animal_TestVideo.mp4: 384x640 1 Bear, 21.5ms\n",
            "video 1/1 (2500/2628) /content/gdrive/MyDrive/data_sets/Dataset_2/Animal_TestVideo.mp4: 384x640 1 Bear, 21.4ms\n",
            "video 1/1 (2501/2628) /content/gdrive/MyDrive/data_sets/Dataset_2/Animal_TestVideo.mp4: 384x640 1 Bear, 21.4ms\n",
            "video 1/1 (2502/2628) /content/gdrive/MyDrive/data_sets/Dataset_2/Animal_TestVideo.mp4: 384x640 1 Bear, 21.6ms\n",
            "video 1/1 (2503/2628) /content/gdrive/MyDrive/data_sets/Dataset_2/Animal_TestVideo.mp4: 384x640 1 Bear, 21.4ms\n",
            "video 1/1 (2504/2628) /content/gdrive/MyDrive/data_sets/Dataset_2/Animal_TestVideo.mp4: 384x640 1 Bear, 21.5ms\n",
            "video 1/1 (2505/2628) /content/gdrive/MyDrive/data_sets/Dataset_2/Animal_TestVideo.mp4: 384x640 1 Bear, 21.6ms\n",
            "video 1/1 (2506/2628) /content/gdrive/MyDrive/data_sets/Dataset_2/Animal_TestVideo.mp4: 384x640 1 Bear, 21.4ms\n",
            "video 1/1 (2507/2628) /content/gdrive/MyDrive/data_sets/Dataset_2/Animal_TestVideo.mp4: 384x640 1 Bear, 21.5ms\n",
            "video 1/1 (2508/2628) /content/gdrive/MyDrive/data_sets/Dataset_2/Animal_TestVideo.mp4: 384x640 1 Bear, 21.4ms\n",
            "video 1/1 (2509/2628) /content/gdrive/MyDrive/data_sets/Dataset_2/Animal_TestVideo.mp4: 384x640 1 Bear, 21.8ms\n",
            "video 1/1 (2510/2628) /content/gdrive/MyDrive/data_sets/Dataset_2/Animal_TestVideo.mp4: 384x640 1 Bear, 21.4ms\n",
            "video 1/1 (2511/2628) /content/gdrive/MyDrive/data_sets/Dataset_2/Animal_TestVideo.mp4: 384x640 1 Bear, 21.4ms\n",
            "video 1/1 (2512/2628) /content/gdrive/MyDrive/data_sets/Dataset_2/Animal_TestVideo.mp4: 384x640 1 Bear, 21.4ms\n",
            "video 1/1 (2513/2628) /content/gdrive/MyDrive/data_sets/Dataset_2/Animal_TestVideo.mp4: 384x640 1 Bear, 21.4ms\n",
            "video 1/1 (2514/2628) /content/gdrive/MyDrive/data_sets/Dataset_2/Animal_TestVideo.mp4: 384x640 1 Bear, 21.4ms\n",
            "video 1/1 (2515/2628) /content/gdrive/MyDrive/data_sets/Dataset_2/Animal_TestVideo.mp4: 384x640 1 Bear, 22.3ms\n",
            "video 1/1 (2516/2628) /content/gdrive/MyDrive/data_sets/Dataset_2/Animal_TestVideo.mp4: 384x640 1 Bear, 21.4ms\n",
            "video 1/1 (2517/2628) /content/gdrive/MyDrive/data_sets/Dataset_2/Animal_TestVideo.mp4: 384x640 1 Bear, 21.6ms\n",
            "video 1/1 (2518/2628) /content/gdrive/MyDrive/data_sets/Dataset_2/Animal_TestVideo.mp4: 384x640 1 Bear, 25.8ms\n",
            "video 1/1 (2519/2628) /content/gdrive/MyDrive/data_sets/Dataset_2/Animal_TestVideo.mp4: 384x640 1 Bear, 22.4ms\n",
            "video 1/1 (2520/2628) /content/gdrive/MyDrive/data_sets/Dataset_2/Animal_TestVideo.mp4: 384x640 1 Bear, 24.6ms\n",
            "video 1/1 (2521/2628) /content/gdrive/MyDrive/data_sets/Dataset_2/Animal_TestVideo.mp4: 384x640 1 Bear, 21.4ms\n",
            "video 1/1 (2522/2628) /content/gdrive/MyDrive/data_sets/Dataset_2/Animal_TestVideo.mp4: 384x640 1 Bear, 21.5ms\n",
            "video 1/1 (2523/2628) /content/gdrive/MyDrive/data_sets/Dataset_2/Animal_TestVideo.mp4: 384x640 1 Bear, 21.4ms\n",
            "video 1/1 (2524/2628) /content/gdrive/MyDrive/data_sets/Dataset_2/Animal_TestVideo.mp4: 384x640 1 Bear, 21.4ms\n",
            "video 1/1 (2525/2628) /content/gdrive/MyDrive/data_sets/Dataset_2/Animal_TestVideo.mp4: 384x640 1 Bear, 21.5ms\n",
            "video 1/1 (2526/2628) /content/gdrive/MyDrive/data_sets/Dataset_2/Animal_TestVideo.mp4: 384x640 1 Bear, 21.4ms\n",
            "video 1/1 (2527/2628) /content/gdrive/MyDrive/data_sets/Dataset_2/Animal_TestVideo.mp4: 384x640 1 Bear, 21.4ms\n",
            "video 1/1 (2528/2628) /content/gdrive/MyDrive/data_sets/Dataset_2/Animal_TestVideo.mp4: 384x640 1 Bear, 22.3ms\n",
            "video 1/1 (2529/2628) /content/gdrive/MyDrive/data_sets/Dataset_2/Animal_TestVideo.mp4: 384x640 1 Bear, 22.3ms\n",
            "video 1/1 (2530/2628) /content/gdrive/MyDrive/data_sets/Dataset_2/Animal_TestVideo.mp4: 384x640 1 Bear, 22.2ms\n",
            "video 1/1 (2531/2628) /content/gdrive/MyDrive/data_sets/Dataset_2/Animal_TestVideo.mp4: 384x640 1 Bear, 22.3ms\n",
            "video 1/1 (2532/2628) /content/gdrive/MyDrive/data_sets/Dataset_2/Animal_TestVideo.mp4: 384x640 1 Bear, 22.3ms\n",
            "video 1/1 (2533/2628) /content/gdrive/MyDrive/data_sets/Dataset_2/Animal_TestVideo.mp4: 384x640 1 Bear, 22.3ms\n",
            "video 1/1 (2534/2628) /content/gdrive/MyDrive/data_sets/Dataset_2/Animal_TestVideo.mp4: 384x640 1 Bear, 22.6ms\n",
            "video 1/1 (2535/2628) /content/gdrive/MyDrive/data_sets/Dataset_2/Animal_TestVideo.mp4: 384x640 1 Bear, 23.4ms\n",
            "video 1/1 (2536/2628) /content/gdrive/MyDrive/data_sets/Dataset_2/Animal_TestVideo.mp4: 384x640 1 Bear, 24.4ms\n",
            "video 1/1 (2537/2628) /content/gdrive/MyDrive/data_sets/Dataset_2/Animal_TestVideo.mp4: 384x640 1 Bear, 22.7ms\n",
            "video 1/1 (2538/2628) /content/gdrive/MyDrive/data_sets/Dataset_2/Animal_TestVideo.mp4: 384x640 1 Bear, 22.7ms\n",
            "video 1/1 (2539/2628) /content/gdrive/MyDrive/data_sets/Dataset_2/Animal_TestVideo.mp4: 384x640 1 Bear, 22.7ms\n",
            "video 1/1 (2540/2628) /content/gdrive/MyDrive/data_sets/Dataset_2/Animal_TestVideo.mp4: 384x640 1 Bear, 23.1ms\n",
            "video 1/1 (2541/2628) /content/gdrive/MyDrive/data_sets/Dataset_2/Animal_TestVideo.mp4: 384x640 1 Bear, 23.3ms\n",
            "video 1/1 (2542/2628) /content/gdrive/MyDrive/data_sets/Dataset_2/Animal_TestVideo.mp4: 384x640 1 Bear, 23.1ms\n",
            "video 1/1 (2543/2628) /content/gdrive/MyDrive/data_sets/Dataset_2/Animal_TestVideo.mp4: 384x640 1 Bear, 23.1ms\n",
            "video 1/1 (2544/2628) /content/gdrive/MyDrive/data_sets/Dataset_2/Animal_TestVideo.mp4: 384x640 1 Bear, 20.5ms\n",
            "video 1/1 (2545/2628) /content/gdrive/MyDrive/data_sets/Dataset_2/Animal_TestVideo.mp4: 384x640 1 Bear, 20.3ms\n",
            "video 1/1 (2546/2628) /content/gdrive/MyDrive/data_sets/Dataset_2/Animal_TestVideo.mp4: 384x640 1 Bear, 20.3ms\n",
            "video 1/1 (2547/2628) /content/gdrive/MyDrive/data_sets/Dataset_2/Animal_TestVideo.mp4: 384x640 1 Bear, 20.5ms\n",
            "video 1/1 (2548/2628) /content/gdrive/MyDrive/data_sets/Dataset_2/Animal_TestVideo.mp4: 384x640 1 Bear, 20.3ms\n",
            "video 1/1 (2549/2628) /content/gdrive/MyDrive/data_sets/Dataset_2/Animal_TestVideo.mp4: 384x640 1 Bear, 23.0ms\n",
            "video 1/1 (2550/2628) /content/gdrive/MyDrive/data_sets/Dataset_2/Animal_TestVideo.mp4: 384x640 1 Bear, 20.3ms\n",
            "video 1/1 (2551/2628) /content/gdrive/MyDrive/data_sets/Dataset_2/Animal_TestVideo.mp4: 384x640 1 Bear, 20.6ms\n",
            "video 1/1 (2552/2628) /content/gdrive/MyDrive/data_sets/Dataset_2/Animal_TestVideo.mp4: 384x640 1 Bear, 20.5ms\n",
            "video 1/1 (2553/2628) /content/gdrive/MyDrive/data_sets/Dataset_2/Animal_TestVideo.mp4: 384x640 1 Bear, 20.3ms\n",
            "video 1/1 (2554/2628) /content/gdrive/MyDrive/data_sets/Dataset_2/Animal_TestVideo.mp4: 384x640 1 Bear, 21.1ms\n",
            "video 1/1 (2555/2628) /content/gdrive/MyDrive/data_sets/Dataset_2/Animal_TestVideo.mp4: 384x640 1 Bear, 20.4ms\n",
            "video 1/1 (2556/2628) /content/gdrive/MyDrive/data_sets/Dataset_2/Animal_TestVideo.mp4: 384x640 1 Bear, 20.5ms\n",
            "video 1/1 (2557/2628) /content/gdrive/MyDrive/data_sets/Dataset_2/Animal_TestVideo.mp4: 384x640 1 Bear, 20.4ms\n",
            "video 1/1 (2558/2628) /content/gdrive/MyDrive/data_sets/Dataset_2/Animal_TestVideo.mp4: 384x640 1 Bear, 23.1ms\n",
            "video 1/1 (2559/2628) /content/gdrive/MyDrive/data_sets/Dataset_2/Animal_TestVideo.mp4: 384x640 1 Bear, 20.6ms\n",
            "video 1/1 (2560/2628) /content/gdrive/MyDrive/data_sets/Dataset_2/Animal_TestVideo.mp4: 384x640 1 Bear, 20.4ms\n",
            "video 1/1 (2561/2628) /content/gdrive/MyDrive/data_sets/Dataset_2/Animal_TestVideo.mp4: 384x640 1 Bear, 20.4ms\n",
            "video 1/1 (2562/2628) /content/gdrive/MyDrive/data_sets/Dataset_2/Animal_TestVideo.mp4: 384x640 1 Bear, 20.3ms\n",
            "video 1/1 (2563/2628) /content/gdrive/MyDrive/data_sets/Dataset_2/Animal_TestVideo.mp4: 384x640 1 Bear, 20.4ms\n",
            "video 1/1 (2564/2628) /content/gdrive/MyDrive/data_sets/Dataset_2/Animal_TestVideo.mp4: 384x640 1 Bear, 20.5ms\n",
            "video 1/1 (2565/2628) /content/gdrive/MyDrive/data_sets/Dataset_2/Animal_TestVideo.mp4: 384x640 1 Bear, 20.4ms\n",
            "video 1/1 (2566/2628) /content/gdrive/MyDrive/data_sets/Dataset_2/Animal_TestVideo.mp4: 384x640 1 Bear, 20.3ms\n",
            "video 1/1 (2567/2628) /content/gdrive/MyDrive/data_sets/Dataset_2/Animal_TestVideo.mp4: 384x640 1 Bear, 20.3ms\n",
            "video 1/1 (2568/2628) /content/gdrive/MyDrive/data_sets/Dataset_2/Animal_TestVideo.mp4: 384x640 1 Bear, 20.3ms\n",
            "video 1/1 (2569/2628) /content/gdrive/MyDrive/data_sets/Dataset_2/Animal_TestVideo.mp4: 384x640 1 Bear, 20.3ms\n",
            "video 1/1 (2570/2628) /content/gdrive/MyDrive/data_sets/Dataset_2/Animal_TestVideo.mp4: 384x640 1 Bear, 20.3ms\n",
            "video 1/1 (2571/2628) /content/gdrive/MyDrive/data_sets/Dataset_2/Animal_TestVideo.mp4: 384x640 1 Bear, 20.3ms\n",
            "video 1/1 (2572/2628) /content/gdrive/MyDrive/data_sets/Dataset_2/Animal_TestVideo.mp4: 384x640 1 Bear, 20.3ms\n",
            "video 1/1 (2573/2628) /content/gdrive/MyDrive/data_sets/Dataset_2/Animal_TestVideo.mp4: 384x640 1 Bear, 20.4ms\n",
            "video 1/1 (2574/2628) /content/gdrive/MyDrive/data_sets/Dataset_2/Animal_TestVideo.mp4: 384x640 1 Bear, 27.1ms\n",
            "video 1/1 (2575/2628) /content/gdrive/MyDrive/data_sets/Dataset_2/Animal_TestVideo.mp4: 384x640 1 Bear, 21.5ms\n",
            "video 1/1 (2576/2628) /content/gdrive/MyDrive/data_sets/Dataset_2/Animal_TestVideo.mp4: 384x640 1 Bear, 21.4ms\n",
            "video 1/1 (2577/2628) /content/gdrive/MyDrive/data_sets/Dataset_2/Animal_TestVideo.mp4: 384x640 1 Bear, 22.1ms\n",
            "video 1/1 (2578/2628) /content/gdrive/MyDrive/data_sets/Dataset_2/Animal_TestVideo.mp4: 384x640 1 Bear, 21.8ms\n",
            "video 1/1 (2579/2628) /content/gdrive/MyDrive/data_sets/Dataset_2/Animal_TestVideo.mp4: 384x640 1 Bear, 21.8ms\n",
            "video 1/1 (2580/2628) /content/gdrive/MyDrive/data_sets/Dataset_2/Animal_TestVideo.mp4: 384x640 1 Bear, 21.8ms\n",
            "video 1/1 (2581/2628) /content/gdrive/MyDrive/data_sets/Dataset_2/Animal_TestVideo.mp4: 384x640 1 Bear, 20.2ms\n",
            "video 1/1 (2582/2628) /content/gdrive/MyDrive/data_sets/Dataset_2/Animal_TestVideo.mp4: 384x640 1 Bear, 20.0ms\n",
            "video 1/1 (2583/2628) /content/gdrive/MyDrive/data_sets/Dataset_2/Animal_TestVideo.mp4: 384x640 1 Bear, 20.0ms\n",
            "video 1/1 (2584/2628) /content/gdrive/MyDrive/data_sets/Dataset_2/Animal_TestVideo.mp4: 384x640 1 Bear, 20.1ms\n",
            "video 1/1 (2585/2628) /content/gdrive/MyDrive/data_sets/Dataset_2/Animal_TestVideo.mp4: 384x640 1 Bear, 20.2ms\n",
            "video 1/1 (2586/2628) /content/gdrive/MyDrive/data_sets/Dataset_2/Animal_TestVideo.mp4: 384x640 1 Bear, 20.0ms\n",
            "video 1/1 (2587/2628) /content/gdrive/MyDrive/data_sets/Dataset_2/Animal_TestVideo.mp4: 384x640 1 Bear, 20.0ms\n",
            "video 1/1 (2588/2628) /content/gdrive/MyDrive/data_sets/Dataset_2/Animal_TestVideo.mp4: 384x640 1 Bear, 20.0ms\n",
            "video 1/1 (2589/2628) /content/gdrive/MyDrive/data_sets/Dataset_2/Animal_TestVideo.mp4: 384x640 1 Bear, 20.0ms\n",
            "video 1/1 (2590/2628) /content/gdrive/MyDrive/data_sets/Dataset_2/Animal_TestVideo.mp4: 384x640 1 Bear, 20.0ms\n",
            "video 1/1 (2591/2628) /content/gdrive/MyDrive/data_sets/Dataset_2/Animal_TestVideo.mp4: 384x640 1 Bear, 20.0ms\n",
            "video 1/1 (2592/2628) /content/gdrive/MyDrive/data_sets/Dataset_2/Animal_TestVideo.mp4: 384x640 1 Bear, 19.9ms\n",
            "video 1/1 (2593/2628) /content/gdrive/MyDrive/data_sets/Dataset_2/Animal_TestVideo.mp4: 384x640 1 Bear, 20.0ms\n",
            "video 1/1 (2594/2628) /content/gdrive/MyDrive/data_sets/Dataset_2/Animal_TestVideo.mp4: 384x640 1 Bear, 20.4ms\n",
            "video 1/1 (2595/2628) /content/gdrive/MyDrive/data_sets/Dataset_2/Animal_TestVideo.mp4: 384x640 1 Bear, 20.1ms\n",
            "video 1/1 (2596/2628) /content/gdrive/MyDrive/data_sets/Dataset_2/Animal_TestVideo.mp4: 384x640 1 Bear, 23.1ms\n",
            "video 1/1 (2597/2628) /content/gdrive/MyDrive/data_sets/Dataset_2/Animal_TestVideo.mp4: 384x640 1 Bear, 20.0ms\n",
            "video 1/1 (2598/2628) /content/gdrive/MyDrive/data_sets/Dataset_2/Animal_TestVideo.mp4: 384x640 1 Bear, 20.0ms\n",
            "video 1/1 (2599/2628) /content/gdrive/MyDrive/data_sets/Dataset_2/Animal_TestVideo.mp4: 384x640 1 Bear, 24.6ms\n",
            "video 1/1 (2600/2628) /content/gdrive/MyDrive/data_sets/Dataset_2/Animal_TestVideo.mp4: 384x640 1 Bear, 22.4ms\n",
            "video 1/1 (2601/2628) /content/gdrive/MyDrive/data_sets/Dataset_2/Animal_TestVideo.mp4: 384x640 1 Bear, 20.3ms\n",
            "video 1/1 (2602/2628) /content/gdrive/MyDrive/data_sets/Dataset_2/Animal_TestVideo.mp4: 384x640 1 Bear, 20.0ms\n",
            "video 1/1 (2603/2628) /content/gdrive/MyDrive/data_sets/Dataset_2/Animal_TestVideo.mp4: 384x640 1 Bear, 22.5ms\n",
            "video 1/1 (2604/2628) /content/gdrive/MyDrive/data_sets/Dataset_2/Animal_TestVideo.mp4: 384x640 1 Bear, 20.0ms\n",
            "video 1/1 (2605/2628) /content/gdrive/MyDrive/data_sets/Dataset_2/Animal_TestVideo.mp4: 384x640 1 Bear, 21.2ms\n",
            "video 1/1 (2606/2628) /content/gdrive/MyDrive/data_sets/Dataset_2/Animal_TestVideo.mp4: 384x640 1 Bear, 20.0ms\n",
            "video 1/1 (2607/2628) /content/gdrive/MyDrive/data_sets/Dataset_2/Animal_TestVideo.mp4: 384x640 1 Bear, 27.0ms\n",
            "video 1/1 (2608/2628) /content/gdrive/MyDrive/data_sets/Dataset_2/Animal_TestVideo.mp4: 384x640 1 Bear, 25.5ms\n",
            "video 1/1 (2609/2628) /content/gdrive/MyDrive/data_sets/Dataset_2/Animal_TestVideo.mp4: 384x640 1 Bear, 24.1ms\n",
            "video 1/1 (2610/2628) /content/gdrive/MyDrive/data_sets/Dataset_2/Animal_TestVideo.mp4: 384x640 1 Bear, 24.1ms\n",
            "video 1/1 (2611/2628) /content/gdrive/MyDrive/data_sets/Dataset_2/Animal_TestVideo.mp4: 384x640 1 Bear, 24.1ms\n",
            "video 1/1 (2612/2628) /content/gdrive/MyDrive/data_sets/Dataset_2/Animal_TestVideo.mp4: 384x640 1 Bear, 24.3ms\n",
            "video 1/1 (2613/2628) /content/gdrive/MyDrive/data_sets/Dataset_2/Animal_TestVideo.mp4: 384x640 1 Bear, 24.6ms\n",
            "video 1/1 (2614/2628) /content/gdrive/MyDrive/data_sets/Dataset_2/Animal_TestVideo.mp4: 384x640 1 Bear, 24.9ms\n",
            "video 1/1 (2615/2628) /content/gdrive/MyDrive/data_sets/Dataset_2/Animal_TestVideo.mp4: 384x640 1 Bear, 28.4ms\n",
            "video 1/1 (2616/2628) /content/gdrive/MyDrive/data_sets/Dataset_2/Animal_TestVideo.mp4: 384x640 1 Bear, 25.4ms\n",
            "video 1/1 (2617/2628) /content/gdrive/MyDrive/data_sets/Dataset_2/Animal_TestVideo.mp4: 384x640 1 Bear, 25.8ms\n",
            "video 1/1 (2618/2628) /content/gdrive/MyDrive/data_sets/Dataset_2/Animal_TestVideo.mp4: 384x640 1 Bear, 26.3ms\n",
            "video 1/1 (2619/2628) /content/gdrive/MyDrive/data_sets/Dataset_2/Animal_TestVideo.mp4: 384x640 1 Bear, 25.3ms\n",
            "video 1/1 (2620/2628) /content/gdrive/MyDrive/data_sets/Dataset_2/Animal_TestVideo.mp4: 384x640 1 Bear, 25.2ms\n",
            "video 1/1 (2621/2628) /content/gdrive/MyDrive/data_sets/Dataset_2/Animal_TestVideo.mp4: 384x640 1 Bear, 25.3ms\n",
            "video 1/1 (2622/2628) /content/gdrive/MyDrive/data_sets/Dataset_2/Animal_TestVideo.mp4: 384x640 1 Bear, 25.3ms\n",
            "video 1/1 (2623/2628) /content/gdrive/MyDrive/data_sets/Dataset_2/Animal_TestVideo.mp4: 384x640 1 Bear, 25.4ms\n",
            "video 1/1 (2624/2628) /content/gdrive/MyDrive/data_sets/Dataset_2/Animal_TestVideo.mp4: 384x640 1 Bear, 25.2ms\n",
            "video 1/1 (2625/2628) /content/gdrive/MyDrive/data_sets/Dataset_2/Animal_TestVideo.mp4: 384x640 1 Bear, 25.2ms\n",
            "video 1/1 (2626/2628) /content/gdrive/MyDrive/data_sets/Dataset_2/Animal_TestVideo.mp4: 384x640 1 Bear, 26.8ms\n",
            "video 1/1 (2627/2628) /content/gdrive/MyDrive/data_sets/Dataset_2/Animal_TestVideo.mp4: 384x640 1 Bear, 25.2ms\n",
            "video 1/1 (2628/2628) /content/gdrive/MyDrive/data_sets/Dataset_2/Animal_TestVideo.mp4: 384x640 1 Bear, 27.1ms\n",
            "Speed: 3.3ms preprocess, 23.6ms inference, 2.0ms postprocess per image at shape (1, 3, 384, 640)\n",
            "Results saved to \u001b[1mruns/detect/predict\u001b[0m\n",
            "['Brown bears', ' Brown bears', 'Camels', 'Tigers', ' Deers', ' Lions', 'Bears', ' Giraffes', ' Tigers', 'Giraffes', 'Lions', ' Elephants', 'Crocodiles', '(no detections)s', 'Cheetahs', 'Elephants', ' Camels', 'Deers']\n"
          ]
        }
      ]
    },
    {
      "cell_type": "code",
      "source": [
        "endanger=[\"Tigers\",\"Elephants\",\"Wolfs\",\"Pandas\",\"Blue Whale\",\"Rhinoceros\",\"Crocodiles\",\"Camels\"]\n",
        "vulnerable=[\"Giraffes\",\"Snow Lepord\",\"Hippopotamus\",\"Cheetah\",\"Polar Bear\",\"Koalas \"]\n",
        "near_threatened=[\"Lions\",\"Leopards\",\"Jaguars\",\"Red Pandas\"]\n",
        "least_concern=[\"Deers\",\"Bears\",\"Brown bears\"]\n",
        "\n",
        "#  dictionary to store classifications\n",
        "classifications = {\n",
        "    \"endanger\": [],\n",
        "    \"vulnerable\": [],\n",
        "    \"near_threatened\": [],\n",
        "    \"least_concern\": []\n",
        "}\n",
        "\n",
        "for animal in animals:\n",
        "    if animal in endanger:\n",
        "        classifications[\"endanger\"].append(animal)\n",
        "    elif animal in vulnerable:\n",
        "        classifications[\"vulnerable\"].append(animal)\n",
        "    elif animal in near_threatened:\n",
        "        classifications[\"near_threatened\"].append(animal)\n",
        "    elif animal in least_concern:\n",
        "        classifications[\"least_concern\"].append(animal)\n",
        "\n",
        "# Write the classifications to a text file\n",
        "with open(\"animal_classifications.txt\", \"w\") as file:\n",
        "    for category, animals in classifications.items():\n",
        "        file.write(f\"{category.capitalize()}: {', '.join(animals)}\\n\")\n"
      ],
      "metadata": {
        "id": "ptPjsqBGSUNf"
      },
      "execution_count": null,
      "outputs": []
    },
    {
      "cell_type": "code",
      "source": [
        "#Compressing the output_video\n",
        "from moviepy.editor import VideoFileClip\n",
        "\n",
        "def compress_video(input_path, output_path, codec=\"libx264\"):\n",
        "    video_clip = VideoFileClip(input_path)\n",
        "\n",
        "    # Write the compressed video to the output file\n",
        "    video_clip.write_videofile(output_path, codec=codec, audio_codec=\"aac\")\n",
        "\n",
        "input_video_path = \"/content/runs/detect/predict/Animal_TestVideo.avi\"\n",
        "output_video_path = \"compressed_animal_video_test_output.mp4\"\n",
        "compress_video(input_video_path, output_video_path)"
      ],
      "metadata": {
        "id": "zukQhEbbHeWC",
        "colab": {
          "base_uri": "https://localhost:8080/"
        },
        "outputId": "10eac514-1915-4e66-e468-9ead0943bffd"
      },
      "execution_count": null,
      "outputs": [
        {
          "output_type": "stream",
          "name": "stdout",
          "text": [
            "Moviepy - Building video compressed_animal_video_test_output.mp4.\n",
            "Moviepy - Writing video compressed_animal_video_test_output.mp4\n",
            "\n"
          ]
        },
        {
          "output_type": "stream",
          "name": "stderr",
          "text": [
            "t:  35%|███▍      | 918/2628 [02:14<03:56,  7.23it/s, now=None]"
          ]
        }
      ]
    },
    {
      "cell_type": "code",
      "source": [
        "#Saving the data and the trained model\n",
        "import shutil\n",
        "import os\n",
        "shutil.copytree('/content/runs','/content/gdrive/MyDrive/data_sets/Dataset_2/runs')\n",
        "shutil.copy(\"/content/animal_classificatiion.txt\",'/content/gdrive/MyDrive/data_sets/Dataset_2/runs')"
      ],
      "metadata": {
        "colab": {
          "base_uri": "https://localhost:8080/",
          "height": 36
        },
        "id": "9ZGqT8Eix5Dz",
        "outputId": "9ef3f21f-1ab3-4a4e-cad8-69f0a6bde091"
      },
      "execution_count": null,
      "outputs": [
        {
          "output_type": "execute_result",
          "data": {
            "text/plain": [
              "'/content/gdrive/MyDrive/data_sets/Dataset_2/animal_classifications.txt'"
            ],
            "application/vnd.google.colaboratory.intrinsic+json": {
              "type": "string"
            }
          },
          "metadata": {},
          "execution_count": 13
        }
      ]
    }
  ]
}